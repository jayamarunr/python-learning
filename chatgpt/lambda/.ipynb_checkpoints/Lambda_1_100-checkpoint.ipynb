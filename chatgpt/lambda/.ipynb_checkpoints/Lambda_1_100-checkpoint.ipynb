{
 "cells": [
  {
   "cell_type": "markdown",
   "id": "b5f884da",
   "metadata": {},
   "source": [
    "#### Example 1: Add two numbers using a lambda function"
   ]
  },
  {
   "cell_type": "code",
   "execution_count": null,
   "id": "6ccbabe6",
   "metadata": {},
   "outputs": [],
   "source": [
    "add = lambda x, y: x + y\n",
    "result = add(3, 5)\n",
    "print(\"The sum is:\", result)\n"
   ]
  },
  {
   "cell_type": "markdown",
   "id": "41056c03",
   "metadata": {},
   "source": [
    "#### Example 2: Multiply two numbers using a lambda function"
   ]
  },
  {
   "cell_type": "code",
   "execution_count": null,
   "id": "3eb352e5",
   "metadata": {},
   "outputs": [],
   "source": [
    "multiply = lambda x, y: x * y\n",
    "result = multiply(4, 6)\n",
    "print(\"The product is:\", result)\n"
   ]
  },
  {
   "cell_type": "markdown",
   "id": "7507b3cb",
   "metadata": {},
   "source": [
    "#### Example 3: Check if a number is even using a lambda function"
   ]
  },
  {
   "cell_type": "code",
   "execution_count": null,
   "id": "d8b0e840",
   "metadata": {},
   "outputs": [],
   "source": [
    "is_even = lambda x: x % 2 == 0\n",
    "number = 7\n",
    "if is_even(number):\n",
    "    print(\"The number is even.\")\n",
    "else:\n",
    "    print(\"The number is odd.\")\n"
   ]
  },
  {
   "cell_type": "markdown",
   "id": "4b616eec",
   "metadata": {},
   "source": [
    "#### Example 4: Square a list of numbers using a lambda function and map()"
   ]
  },
  {
   "cell_type": "code",
   "execution_count": null,
   "id": "a4b603b1",
   "metadata": {},
   "outputs": [],
   "source": [
    "numbers = [1, 2, 3, 4, 5]\n",
    "squared_numbers = list(map(lambda x: x ** 2, numbers))\n",
    "print(\"Squared numbers:\", squared_numbers)\n"
   ]
  },
  {
   "cell_type": "markdown",
   "id": "8dfd8132",
   "metadata": {},
   "source": [
    "#### Example 5: Sort a list of strings based on their lengths using a lambda function and sorted()"
   ]
  },
  {
   "cell_type": "code",
   "execution_count": null,
   "id": "d564dc79",
   "metadata": {},
   "outputs": [],
   "source": [
    "words = ['apple', 'banana', 'cherry', 'date', 'elderberry']\n",
    "sorted_words = sorted(words, key=lambda x: len(x))\n",
    "print(\"Sorted words:\", sorted_words)\n"
   ]
  },
  {
   "cell_type": "code",
   "execution_count": null,
   "id": "2b2fe97f",
   "metadata": {},
   "outputs": [],
   "source": []
  },
  {
   "cell_type": "code",
   "execution_count": null,
   "id": "f0c230ce",
   "metadata": {},
   "outputs": [],
   "source": []
  },
  {
   "cell_type": "code",
   "execution_count": null,
   "id": "25e0edea",
   "metadata": {},
   "outputs": [],
   "source": []
  },
  {
   "cell_type": "code",
   "execution_count": null,
   "id": "162d49bf",
   "metadata": {},
   "outputs": [],
   "source": []
  },
  {
   "cell_type": "code",
   "execution_count": null,
   "id": "84f0f922",
   "metadata": {},
   "outputs": [],
   "source": []
  },
  {
   "cell_type": "code",
   "execution_count": null,
   "id": "3097ea46",
   "metadata": {},
   "outputs": [],
   "source": []
  }
 ],
 "metadata": {
  "kernelspec": {
   "display_name": "Python 3 (ipykernel)",
   "language": "python",
   "name": "python3"
  },
  "language_info": {
   "codemirror_mode": {
    "name": "ipython",
    "version": 3
   },
   "file_extension": ".py",
   "mimetype": "text/x-python",
   "name": "python",
   "nbconvert_exporter": "python",
   "pygments_lexer": "ipython3",
   "version": "3.10.9"
  }
 },
 "nbformat": 4,
 "nbformat_minor": 5
}
