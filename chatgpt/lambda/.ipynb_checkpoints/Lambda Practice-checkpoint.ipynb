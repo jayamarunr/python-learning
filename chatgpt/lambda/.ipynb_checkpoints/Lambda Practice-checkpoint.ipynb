{
 "cells": [
  {
   "cell_type": "markdown",
   "id": "bcbc932e",
   "metadata": {},
   "source": [
    "#### Example 1: Add two numbers using a lambda function"
   ]
  },
  {
   "cell_type": "code",
   "execution_count": 2,
   "id": "c9a7145a",
   "metadata": {},
   "outputs": [
    {
     "name": "stdout",
     "output_type": "stream",
     "text": [
      "The sum is 8\n"
     ]
    }
   ],
   "source": [
    "add =  lambda x, y: x+y\n",
    "result = add(3, 5)\n",
    "print(\"The sum is\", result)"
   ]
  },
  {
   "cell_type": "markdown",
   "id": "7dc2372e",
   "metadata": {},
   "source": [
    "#### Example 2: Multiply two numbers using a lambda function"
   ]
  },
  {
   "cell_type": "code",
   "execution_count": 4,
   "id": "ff831c0e",
   "metadata": {},
   "outputs": [
    {
     "name": "stdout",
     "output_type": "stream",
     "text": [
      "the multiplication is 35\n"
     ]
    }
   ],
   "source": [
    "mul = lambda x, y: x*y\n",
    "result = mul(5,7)\n",
    "print(\"the multiplication is\", result)"
   ]
  },
  {
   "cell_type": "markdown",
   "id": "fd97c4fa",
   "metadata": {},
   "source": [
    "#### Example 3: Check if a number is even using a lambda function"
   ]
  },
  {
   "cell_type": "code",
   "execution_count": 9,
   "id": "312cf1c0",
   "metadata": {},
   "outputs": [
    {
     "name": "stdout",
     "output_type": "stream",
     "text": [
      "Odd\n"
     ]
    }
   ],
   "source": [
    "is_even = lambda x: x % 2 == 0\n",
    "number = 7\n",
    "if is_even(number):\n",
    "    print(\"Is even\")\n",
    "else:\n",
    "    print(\"Odd\")"
   ]
  },
  {
   "cell_type": "markdown",
   "id": "e461b47a",
   "metadata": {},
   "source": [
    "#### Example 4: Square a list of numbers using a lambda function and map()"
   ]
  },
  {
   "cell_type": "code",
   "execution_count": 12,
   "id": "aa8c3159",
   "metadata": {},
   "outputs": [
    {
     "name": "stdout",
     "output_type": "stream",
     "text": [
      "Squared numbers [1, 4, 9, 16, 25]\n"
     ]
    }
   ],
   "source": [
    "number = [1,2,3,4,5]\n",
    "squared_numbers = list(map(lambda x: x**2, number))\n",
    "print(\"Squared numbers\", squared_numbers)"
   ]
  },
  {
   "cell_type": "markdown",
   "id": "ba41f158",
   "metadata": {},
   "source": [
    "#### Example 5: Sort a list of strings based on their lengths using a lambda function and sorted()"
   ]
  },
  {
   "cell_type": "code",
   "execution_count": 13,
   "id": "71dd4431",
   "metadata": {},
   "outputs": [
    {
     "name": "stdout",
     "output_type": "stream",
     "text": [
      "sorted woods ['date', 'apple', 'banana', 'cherry', 'elderberry']\n"
     ]
    }
   ],
   "source": [
    "words = ['apple', 'banana', 'cherry', 'date', 'elderberry']\n",
    "sorted_woods = sorted(words, key=lambda x: len(x))\n",
    "print(\"sorted woods\", sorted_woods)"
   ]
  },
  {
   "cell_type": "code",
   "execution_count": null,
   "id": "58e31778",
   "metadata": {},
   "outputs": [],
   "source": []
  },
  {
   "cell_type": "code",
   "execution_count": null,
   "id": "57091fa4",
   "metadata": {},
   "outputs": [],
   "source": []
  },
  {
   "cell_type": "code",
   "execution_count": null,
   "id": "697ee4f1",
   "metadata": {},
   "outputs": [],
   "source": []
  }
 ],
 "metadata": {
  "kernelspec": {
   "display_name": "Python 3 (ipykernel)",
   "language": "python",
   "name": "python3"
  },
  "language_info": {
   "codemirror_mode": {
    "name": "ipython",
    "version": 3
   },
   "file_extension": ".py",
   "mimetype": "text/x-python",
   "name": "python",
   "nbconvert_exporter": "python",
   "pygments_lexer": "ipython3",
   "version": "3.10.9"
  }
 },
 "nbformat": 4,
 "nbformat_minor": 5
}
