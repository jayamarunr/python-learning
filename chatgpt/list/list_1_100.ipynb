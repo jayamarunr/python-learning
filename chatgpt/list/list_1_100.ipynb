{
 "cells": [
  {
   "cell_type": "markdown",
   "id": "6ddca8dc",
   "metadata": {},
   "source": [
    "#### Exercise 1: Find the maximum and minimum values in a list"
   ]
  },
  {
   "cell_type": "code",
   "execution_count": null,
   "id": "8e6a1a22",
   "metadata": {},
   "outputs": [],
   "source": [
    "def find_max_min(numbers):\n",
    "    max_value = max(numbers)\n",
    "    min_value = min(numbers)\n",
    "    return max_value, min_value\n",
    "\n",
    "numbers = [5, 8, 2, 10, 3]\n",
    "max_num, min_num = find_max_min(numbers)\n",
    "print(\"Maximum value:\", max_num)\n",
    "print(\"Minimum value:\", min_num)\n"
   ]
  },
  {
   "cell_type": "markdown",
   "id": "06231cf2",
   "metadata": {},
   "source": [
    "#### Exercise 2: Remove duplicates from a list"
   ]
  },
  {
   "cell_type": "code",
   "execution_count": null,
   "id": "20a92ec2",
   "metadata": {},
   "outputs": [],
   "source": [
    "def remove_duplicates(lst):\n",
    "    return list(set(lst))\n",
    "\n",
    "numbers = [1, 2, 2, 3, 4, 4, 5]\n",
    "unique_numbers = remove_duplicates(numbers)\n",
    "print(\"List without duplicates:\", unique_numbers)\n"
   ]
  },
  {
   "cell_type": "markdown",
   "id": "76889138",
   "metadata": {},
   "source": [
    "#### Exercise 3: Merge two lists and sort them"
   ]
  },
  {
   "cell_type": "code",
   "execution_count": null,
   "id": "bfbea8d2",
   "metadata": {},
   "outputs": [],
   "source": [
    "def merge_and_sort(list1, list2):\n",
    "    merged_list = list1 + list2\n",
    "    merged_list.sort()\n",
    "    return merged_list\n",
    "\n",
    "list1 = [3, 7, 1]\n",
    "list2 = [5, 2, 4]\n",
    "sorted_list = merge_and_sort(list1, list2)\n",
    "print(\"Merged and sorted list:\", sorted_list)\n"
   ]
  },
  {
   "cell_type": "markdown",
   "id": "86e66c3e",
   "metadata": {},
   "source": [
    "#### Exercise 4: Count the frequency of elements in a list"
   ]
  },
  {
   "cell_type": "code",
   "execution_count": null,
   "id": "8db0c90f",
   "metadata": {},
   "outputs": [],
   "source": [
    "def count_frequency(lst):\n",
    "    frequency = {}\n",
    "    for item in lst:\n",
    "        if item in frequency:\n",
    "            frequency[item] += 1\n",
    "        else:\n",
    "            frequency[item] = 1\n",
    "    return frequency\n",
    "\n",
    "numbers = [1, 2, 2, 3, 4, 4, 5]\n",
    "frequency_dict = count_frequency(numbers)\n",
    "print(\"Frequency of elements:\", frequency_dict)\n"
   ]
  },
  {
   "cell_type": "markdown",
   "id": "ded41934",
   "metadata": {},
   "source": [
    "#### Exercise 5: Check if a list is palindrome"
   ]
  },
  {
   "cell_type": "code",
   "execution_count": null,
   "id": "c98b783a",
   "metadata": {},
   "outputs": [],
   "source": [
    "def is_palindrome(lst):\n",
    "    reversed_list = lst[::-1]\n",
    "    return lst == reversed_list\n",
    "\n",
    "numbers = [1, 2, 3, 2, 1]\n",
    "if is_palindrome(numbers):\n",
    "    print(\"The list is a palindrome.\")\n",
    "else:\n",
    "    print(\"The list is not a palindrome.\")\n"
   ]
  },
  {
   "cell_type": "code",
   "execution_count": null,
   "id": "c2b91433",
   "metadata": {},
   "outputs": [],
   "source": []
  }
 ],
 "metadata": {
  "kernelspec": {
   "display_name": "Python 3 (ipykernel)",
   "language": "python",
   "name": "python3"
  },
  "language_info": {
   "codemirror_mode": {
    "name": "ipython",
    "version": 3
   },
   "file_extension": ".py",
   "mimetype": "text/x-python",
   "name": "python",
   "nbconvert_exporter": "python",
   "pygments_lexer": "ipython3",
   "version": "3.10.9"
  }
 },
 "nbformat": 4,
 "nbformat_minor": 5
}
