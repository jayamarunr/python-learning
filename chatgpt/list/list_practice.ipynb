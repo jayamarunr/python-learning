{
 "cells": [
  {
   "cell_type": "markdown",
   "id": "c48b9c5f",
   "metadata": {},
   "source": [
    "#### Exercise 1: Find the maximum and minimum values in a list"
   ]
  },
  {
   "cell_type": "code",
   "execution_count": 1,
   "id": "723e781f",
   "metadata": {},
   "outputs": [
    {
     "name": "stdout",
     "output_type": "stream",
     "text": [
      "maximum value: 10\n",
      "min value: 2\n"
     ]
    }
   ],
   "source": [
    "def fin_max_min(numbers):\n",
    "    max_value = max(numbers)\n",
    "    min_value = min(numbers)\n",
    "    return max_value, min_value\n",
    "\n",
    "numbers = [5,8,2,10,3]\n",
    "max_num, min_num = fin_max_min(numbers)\n",
    "print(\"maximum value:\", max_num)\n",
    "print(\"min value:\", min_num)"
   ]
  },
  {
   "cell_type": "markdown",
   "id": "20d782ff",
   "metadata": {},
   "source": [
    "#### Exercise 2: Remove duplicates from a list"
   ]
  },
  {
   "cell_type": "code",
   "execution_count": 2,
   "id": "d37d41ea",
   "metadata": {},
   "outputs": [
    {
     "name": "stdout",
     "output_type": "stream",
     "text": [
      "The unique numbers are: [1, 2, 3, 4, 5]\n"
     ]
    }
   ],
   "source": [
    "def remove_dup(lst):\n",
    "    return list(set(lst))\n",
    "\n",
    "numbers = [1,2,2,3,3,4,4,5]\n",
    "unique_numbers = remove_dup(numbers)\n",
    "print(\"The unique numbers are:\", unique_numbers)"
   ]
  },
  {
   "cell_type": "markdown",
   "id": "7a703a6a",
   "metadata": {},
   "source": [
    "#### Exercise 3: Merge two lists and sort them"
   ]
  },
  {
   "cell_type": "code",
   "execution_count": 3,
   "id": "deb762d2",
   "metadata": {},
   "outputs": [
    {
     "name": "stdout",
     "output_type": "stream",
     "text": [
      "The merged list is [1, 2, 3, 4, 5, 7]\n"
     ]
    }
   ],
   "source": [
    "def merge_and_sort(list1, list2):\n",
    "    merged_list =  list1 + list2\n",
    "    merged_list.sort()\n",
    "    return merged_list\n",
    "list1 = [3,7,1]\n",
    "list2 = [5,2,4]\n",
    "sorted_list = merge_and_sort(list1, list2)\n",
    "print(\"The merged list is\", sorted_list)"
   ]
  },
  {
   "cell_type": "markdown",
   "id": "8e2c96aa",
   "metadata": {},
   "source": [
    "#### Exercise 4: Count the frequency of elements in a list"
   ]
  },
  {
   "cell_type": "code",
   "execution_count": 4,
   "id": "3e21b56a",
   "metadata": {},
   "outputs": [
    {
     "name": "stdout",
     "output_type": "stream",
     "text": [
      "Frequency of elements {1: 1, 2: 2, 3: 2, 4: 2, 5: 2}\n"
     ]
    }
   ],
   "source": [
    "def count_freq(lst):\n",
    "    frequency={}\n",
    "    for item in lst:\n",
    "        if item in frequency:\n",
    "            frequency[item] += 1\n",
    "        else:\n",
    "            frequency[item] = 1\n",
    "    return frequency\n",
    "\n",
    "numbers = [1,2,2,3,3,4,4,5,5]\n",
    "frequency_dict = count_freq(numbers)\n",
    "print(\"Frequency of elements\", frequency_dict)"
   ]
  },
  {
   "cell_type": "markdown",
   "id": "44f7a47f",
   "metadata": {},
   "source": [
    "#### Exercise 5: Check if a list is palindrome"
   ]
  },
  {
   "cell_type": "code",
   "execution_count": 6,
   "id": "520df9e6",
   "metadata": {},
   "outputs": [
    {
     "name": "stdout",
     "output_type": "stream",
     "text": [
      "Yes palindrome\n"
     ]
    }
   ],
   "source": [
    "def is_palindrome(lst):\n",
    "    reversed_list = lst[::-1]\n",
    "    return lst == reversed_list\n",
    "\n",
    "numbers = [1,2,3,2,1]\n",
    "if is_palindrome(numbers):\n",
    "    print(\"Yes palindrome\")\n",
    "else:\n",
    "    print(\"Nope its not a palindrome\")"
   ]
  },
  {
   "cell_type": "code",
   "execution_count": null,
   "id": "ca493cca",
   "metadata": {},
   "outputs": [],
   "source": []
  },
  {
   "cell_type": "code",
   "execution_count": null,
   "id": "69402e86",
   "metadata": {},
   "outputs": [],
   "source": []
  },
  {
   "cell_type": "code",
   "execution_count": null,
   "id": "bcf2c795",
   "metadata": {},
   "outputs": [],
   "source": []
  }
 ],
 "metadata": {
  "kernelspec": {
   "display_name": "Python 3 (ipykernel)",
   "language": "python",
   "name": "python3"
  },
  "language_info": {
   "codemirror_mode": {
    "name": "ipython",
    "version": 3
   },
   "file_extension": ".py",
   "mimetype": "text/x-python",
   "name": "python",
   "nbconvert_exporter": "python",
   "pygments_lexer": "ipython3",
   "version": "3.10.9"
  }
 },
 "nbformat": 4,
 "nbformat_minor": 5
}
