{
 "cells": [
  {
   "cell_type": "markdown",
   "id": "baee76a9",
   "metadata": {},
   "source": [
    "#### Exercise 1: Find the maximum and minimum values in a list"
   ]
  },
  {
   "cell_type": "code",
   "execution_count": null,
   "id": "23956512",
   "metadata": {},
   "outputs": [],
   "source": [
    "def find_max_min(numbers):\n",
    "    max_value = max(numbers)\n",
    "    min_value = min(numbers)\n",
    "    return max_value, min_value\n",
    "\n",
    "numbers = [5, 8, 2, 10, 3]\n",
    "max_num, min_num = find_max_min(numbers)\n",
    "print(\"Maximum value:\", max_num)\n",
    "print(\"Minimum value:\", min_num)\n"
   ]
  },
  {
   "cell_type": "markdown",
   "id": "ec851d73",
   "metadata": {},
   "source": [
    "#### Exercise 2: Remove duplicates from a list"
   ]
  },
  {
   "cell_type": "code",
   "execution_count": null,
   "id": "dea88237",
   "metadata": {},
   "outputs": [],
   "source": [
    "def remove_duplicates(lst):\n",
    "    return list(set(lst))\n",
    "\n",
    "numbers = [1, 2, 2, 3, 4, 4, 5]\n",
    "unique_numbers = remove_duplicates(numbers)\n",
    "print(\"List without duplicates:\", unique_numbers)\n"
   ]
  },
  {
   "cell_type": "markdown",
   "id": "2bfad8fc",
   "metadata": {},
   "source": [
    "#### Exercise 3: Merge two lists and sort them"
   ]
  },
  {
   "cell_type": "code",
   "execution_count": null,
   "id": "5768daf6",
   "metadata": {},
   "outputs": [],
   "source": [
    "def merge_and_sort(list1, list2):\n",
    "    merged_list = list1 + list2\n",
    "    merged_list.sort()\n",
    "    return merged_list\n",
    "\n",
    "list1 = [3, 7, 1]\n",
    "list2 = [5, 2, 4]\n",
    "sorted_list = merge_and_sort(list1, list2)\n",
    "print(\"Merged and sorted list:\", sorted_list)\n"
   ]
  },
  {
   "cell_type": "markdown",
   "id": "83cbfaa2",
   "metadata": {},
   "source": [
    "#### Exercise 4: Count the frequency of elements in a list"
   ]
  },
  {
   "cell_type": "code",
   "execution_count": null,
   "id": "f9549304",
   "metadata": {},
   "outputs": [],
   "source": [
    "def count_frequency(lst):\n",
    "    frequency = {}\n",
    "    for item in lst:\n",
    "        if item in frequency:\n",
    "            frequency[item] += 1\n",
    "        else:\n",
    "            frequency[item] = 1\n",
    "    return frequency\n",
    "\n",
    "numbers = [1, 2, 2, 3, 4, 4, 5]\n",
    "frequency_dict = count_frequency(numbers)\n",
    "print(\"Frequency of elements:\", frequency_dict)\n"
   ]
  },
  {
   "cell_type": "markdown",
   "id": "c97a286c",
   "metadata": {},
   "source": [
    "#### Exercise 5: Check if a list is palindrome"
   ]
  },
  {
   "cell_type": "code",
   "execution_count": null,
   "id": "7a3ef42b",
   "metadata": {},
   "outputs": [],
   "source": [
    "def is_palindrome(lst):\n",
    "    reversed_list = lst[::-1]\n",
    "    return lst == reversed_list\n",
    "\n",
    "numbers = [1, 2, 3, 2, 1]\n",
    "if is_palindrome(numbers):\n",
    "    print(\"The list is a palindrome.\")\n",
    "else:\n",
    "    print(\"The list is not a palindrome.\")\n"
   ]
  },
  {
   "cell_type": "code",
   "execution_count": null,
   "id": "c5510636",
   "metadata": {},
   "outputs": [],
   "source": []
  }
 ],
 "metadata": {
  "kernelspec": {
   "display_name": "Python 3 (ipykernel)",
   "language": "python",
   "name": "python3"
  },
  "language_info": {
   "codemirror_mode": {
    "name": "ipython",
    "version": 3
   },
   "file_extension": ".py",
   "mimetype": "text/x-python",
   "name": "python",
   "nbconvert_exporter": "python",
   "pygments_lexer": "ipython3",
   "version": "3.10.9"
  }
 },
 "nbformat": 4,
 "nbformat_minor": 5
}
