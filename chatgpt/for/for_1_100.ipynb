{
 "cells": [
  {
   "cell_type": "markdown",
   "id": "10b3ed7d",
   "metadata": {},
   "source": [
    "#### Example 1: Print numbers from 1 to 5"
   ]
  },
  {
   "cell_type": "code",
   "execution_count": null,
   "id": "739b3505",
   "metadata": {},
   "outputs": [],
   "source": [
    "for num in range(1, 6):\n",
    "    print(num)\n"
   ]
  },
  {
   "cell_type": "markdown",
   "id": "eb5d0d48",
   "metadata": {},
   "source": [
    "#### Example 2: Calculate the sum of all elements in a list"
   ]
  },
  {
   "cell_type": "code",
   "execution_count": null,
   "id": "18742528",
   "metadata": {},
   "outputs": [],
   "source": [
    "numbers = [1, 2, 3, 4, 5]\n",
    "sum = 0\n",
    "for num in numbers:\n",
    "    sum += num\n",
    "print(\"The sum is:\", sum)\n"
   ]
  },
  {
   "cell_type": "markdown",
   "id": "a83fcfd7",
   "metadata": {},
   "source": [
    "#### Example 3: Print each character in a string"
   ]
  },
  {
   "cell_type": "code",
   "execution_count": null,
   "id": "6f065c9a",
   "metadata": {},
   "outputs": [],
   "source": [
    "message = \"Hello, World!\"\n",
    "for char in message:\n",
    "    print(char)\n"
   ]
  },
  {
   "cell_type": "markdown",
   "id": "0fba92e8",
   "metadata": {},
   "source": [
    "#### Example 4: Find the factorial of a number"
   ]
  },
  {
   "cell_type": "code",
   "execution_count": null,
   "id": "54d1984e",
   "metadata": {},
   "outputs": [],
   "source": [
    "num = int(input(\"Enter a number: \"))\n",
    "factorial = 1\n",
    "for i in range(1, num + 1):\n",
    "    factorial *= i\n",
    "print(\"The factorial is:\", factorial)\n"
   ]
  },
  {
   "cell_type": "markdown",
   "id": "1218885a",
   "metadata": {},
   "source": [
    "#### Example 5: Print a triangle pattern"
   ]
  },
  {
   "cell_type": "code",
   "execution_count": null,
   "id": "861accc5",
   "metadata": {},
   "outputs": [],
   "source": [
    "rows = 5\n",
    "for i in range(1, rows + 1):\n",
    "    print(\"*\" * i)\n"
   ]
  },
  {
   "cell_type": "code",
   "execution_count": null,
   "id": "502b4d9b",
   "metadata": {},
   "outputs": [],
   "source": []
  },
  {
   "cell_type": "code",
   "execution_count": null,
   "id": "0351ed12",
   "metadata": {},
   "outputs": [],
   "source": []
  }
 ],
 "metadata": {
  "kernelspec": {
   "display_name": "Python 3 (ipykernel)",
   "language": "python",
   "name": "python3"
  },
  "language_info": {
   "codemirror_mode": {
    "name": "ipython",
    "version": 3
   },
   "file_extension": ".py",
   "mimetype": "text/x-python",
   "name": "python",
   "nbconvert_exporter": "python",
   "pygments_lexer": "ipython3",
   "version": "3.10.9"
  }
 },
 "nbformat": 4,
 "nbformat_minor": 5
}
