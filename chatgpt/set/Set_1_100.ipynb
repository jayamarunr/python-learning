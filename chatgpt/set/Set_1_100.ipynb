{
 "cells": [
  {
   "cell_type": "markdown",
   "id": "2a651495",
   "metadata": {},
   "source": [
    "#### Certainly! Here are five exercises focused on set methods in Python, along with their solutions:\n",
    "\n",
    "##### Exercise 1:\n",
    "###### Write a Python program to create a set and perform the following operations:\n",
    "a) Add an element to the set\n",
    "b) Remove an element from the set\n",
    "c) Check if an element exists in the set"
   ]
  },
  {
   "cell_type": "code",
   "execution_count": null,
   "id": "a16ceda6",
   "metadata": {},
   "outputs": [],
   "source": [
    "my_set = set()\n",
    "\n",
    "# Add an element to the set\n",
    "my_set.add(5)\n",
    "\n",
    "# Remove an element from the set\n",
    "my_set.remove(5)\n",
    "\n",
    "# Check if an element exists in the set\n",
    "if 5 in my_set:\n",
    "    print(\"Element exists in the set\")\n",
    "else:\n",
    "    print(\"Element does not exist in the set\")\n"
   ]
  },
  {
   "cell_type": "markdown",
   "id": "a677d0cb",
   "metadata": {},
   "source": [
    "#### Exercise 2:\n",
    "#### Write a Python program to find the union of two sets."
   ]
  },
  {
   "cell_type": "code",
   "execution_count": null,
   "id": "fef2bfda",
   "metadata": {},
   "outputs": [],
   "source": [
    "set1 = {1, 2, 3}\n",
    "set2 = {3, 4, 5}\n",
    "union_set = set1.union(set2)\n",
    "print(\"Union of set1 and set2:\", union_set)"
   ]
  },
  {
   "cell_type": "markdown",
   "id": "695b2bab",
   "metadata": {},
   "source": [
    "#### Exercise 3:\n",
    "#### Write a Python program to find the intersection of two sets."
   ]
  },
  {
   "cell_type": "code",
   "execution_count": null,
   "id": "42a09b01",
   "metadata": {},
   "outputs": [],
   "source": [
    "set1 = {1, 2, 3}\n",
    "set2 = {3, 4, 5}\n",
    "intersection_set = set1.intersection(set2)\n",
    "print(\"Intersection of set1 and set2:\", intersection_set)"
   ]
  },
  {
   "cell_type": "markdown",
   "id": "6ebf1575",
   "metadata": {},
   "source": [
    "#### Exercise 4:\n",
    "#### Write a Python program to find the difference between two sets."
   ]
  },
  {
   "cell_type": "code",
   "execution_count": null,
   "id": "94de452d",
   "metadata": {},
   "outputs": [],
   "source": [
    "set1 = {1, 2, 3}\n",
    "set2 = {3, 4, 5}\n",
    "difference_set = set1.difference(set2)\n",
    "print(\"Difference between set1 and set2:\", difference_set)"
   ]
  },
  {
   "cell_type": "markdown",
   "id": "ee47a5cd",
   "metadata": {},
   "source": [
    "#### Exercise 5:\n",
    "#### Write a Python program to check if a set is a subset or superset of another set."
   ]
  },
  {
   "cell_type": "code",
   "execution_count": null,
   "id": "361d7d45",
   "metadata": {},
   "outputs": [],
   "source": [
    "set1 = {1, 2, 3, 4, 5}\n",
    "set2 = {1, 2, 3}\n",
    "set3 = {6, 7}\n",
    "\n",
    "# Check if set2 is a subset of set1\n",
    "if set2.issubset(set1):\n",
    "    print(\"set2 is a subset of set1\")\n",
    "else:\n",
    "    print(\"set2 is not a subset of set1\")\n",
    "\n",
    "# Check if set1 is a superset of set2\n",
    "if set1.issuperset(set2):\n",
    "    print(\"set1 is a superset of set2\")\n",
    "else:\n",
    "    print(\"set1 is not a superset of set2\")\n",
    "\n",
    "# Check if set3 is a subset of set1\n",
    "if set3.issubset(set1):\n",
    "    print(\"set3 is a subset of set1\")\n",
    "else:\n",
    "    print(\"set3 is not a subset of set1\")"
   ]
  },
  {
   "cell_type": "code",
   "execution_count": null,
   "id": "215a2095",
   "metadata": {},
   "outputs": [],
   "source": []
  },
  {
   "cell_type": "code",
   "execution_count": null,
   "id": "f84c41c9",
   "metadata": {},
   "outputs": [],
   "source": []
  }
 ],
 "metadata": {
  "kernelspec": {
   "display_name": "Python 3 (ipykernel)",
   "language": "python",
   "name": "python3"
  },
  "language_info": {
   "codemirror_mode": {
    "name": "ipython",
    "version": 3
   },
   "file_extension": ".py",
   "mimetype": "text/x-python",
   "name": "python",
   "nbconvert_exporter": "python",
   "pygments_lexer": "ipython3",
   "version": "3.10.9"
  }
 },
 "nbformat": 4,
 "nbformat_minor": 5
}
