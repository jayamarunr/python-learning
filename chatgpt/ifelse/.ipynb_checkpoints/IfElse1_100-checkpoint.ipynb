{
 "cells": [
  {
   "cell_type": "markdown",
   "id": "e6752bef",
   "metadata": {},
   "source": [
    "#### Example 1: Check if a number is positive or negative"
   ]
  },
  {
   "cell_type": "code",
   "execution_count": null,
   "id": "6f19cb1e",
   "metadata": {},
   "outputs": [],
   "source": [
    "num = int(input(\"Enter a number: \"))\n",
    "if num >= 0:\n",
    "    print(\"The number is positive.\")\n",
    "else:\n",
    "    print(\"The number is negative.\")"
   ]
  },
  {
   "cell_type": "markdown",
   "id": "013ffa19",
   "metadata": {},
   "source": [
    "#### Example 2: Check if a number is even or odd"
   ]
  },
  {
   "cell_type": "code",
   "execution_count": null,
   "id": "b2297789",
   "metadata": {},
   "outputs": [],
   "source": [
    "num = int(input(\"Enter a number: \"))\n",
    "if num % 2 == 0:\n",
    "    print(\"The number is even.\")\n",
    "else:\n",
    "    print(\"The number is odd.\")\n"
   ]
  },
  {
   "cell_type": "markdown",
   "id": "abf54919",
   "metadata": {},
   "source": [
    "#### Example 3: Check if a year is a leap year or not"
   ]
  },
  {
   "cell_type": "code",
   "execution_count": null,
   "id": "ffb55f5d",
   "metadata": {},
   "outputs": [],
   "source": [
    "year = int(input(\"Enter a year: \"))\n",
    "if year % 4 == 0 and (year % 100 != 0 or year % 400 == 0):\n",
    "    print(\"It's a leap year.\")\n",
    "else:\n",
    "    print(\"It's not a leap year.\")"
   ]
  },
  {
   "cell_type": "markdown",
   "id": "200a9fe9",
   "metadata": {},
   "source": [
    "#### Example 4: Determine the highest of three numbers"
   ]
  },
  {
   "cell_type": "code",
   "execution_count": null,
   "id": "17b3116d",
   "metadata": {},
   "outputs": [],
   "source": [
    "num1 = int(input(\"Enter the first number: \"))\n",
    "num2 = int(input(\"Enter the second number: \"))\n",
    "num3 = int(input(\"Enter the third number: \"))\n",
    "\n",
    "if num1 >= num2 and num1 >= num3:\n",
    "    print(\"The first number is the highest.\")\n",
    "elif num2 >= num1 and num2 >= num3:\n",
    "    print(\"The second number is the highest.\")\n",
    "else:\n",
    "    print(\"The third number is the highest.\")\n"
   ]
  },
  {
   "cell_type": "markdown",
   "id": "34654f41",
   "metadata": {},
   "source": [
    "#### Example 5: Check if a person is eligible to vote"
   ]
  },
  {
   "cell_type": "code",
   "execution_count": null,
   "id": "bd60ad20",
   "metadata": {},
   "outputs": [],
   "source": [
    "age = int(input(\"Enter your age: \"))\n",
    "if age >= 18:\n",
    "    print(\"You are eligible to vote.\")\n",
    "else:\n",
    "    print(\"You are not eligible to vote yet.\")\n"
   ]
  }
 ],
 "metadata": {
  "kernelspec": {
   "display_name": "Python 3 (ipykernel)",
   "language": "python",
   "name": "python3"
  },
  "language_info": {
   "codemirror_mode": {
    "name": "ipython",
    "version": 3
   },
   "file_extension": ".py",
   "mimetype": "text/x-python",
   "name": "python",
   "nbconvert_exporter": "python",
   "pygments_lexer": "ipython3",
   "version": "3.10.9"
  }
 },
 "nbformat": 4,
 "nbformat_minor": 5
}
