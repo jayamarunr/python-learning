{
 "cells": [
  {
   "cell_type": "markdown",
   "id": "1aa15be0",
   "metadata": {},
   "source": [
    "#### Example 1: Check if a number is positive or negative"
   ]
  },
  {
   "cell_type": "code",
   "execution_count": 4,
   "id": "e5d6d6b8",
   "metadata": {},
   "outputs": [
    {
     "name": "stdout",
     "output_type": "stream",
     "text": [
      "Enter the number: -4\n",
      "The number is negative\n"
     ]
    }
   ],
   "source": [
    "num = int(input(\"Enter the number: \"))\n",
    "if num >= 0:\n",
    "    print(\"The number is positive\")\n",
    "else:\n",
    "    print(\"The number is negative\")"
   ]
  },
  {
   "cell_type": "markdown",
   "id": "8c89e014",
   "metadata": {},
   "source": [
    "#### Example 2: Check if a number is even or odd"
   ]
  },
  {
   "cell_type": "code",
   "execution_count": 7,
   "id": "3b3ec4ea",
   "metadata": {},
   "outputs": [
    {
     "name": "stdout",
     "output_type": "stream",
     "text": [
      "Enter the number5\n",
      "Odd number.\n"
     ]
    }
   ],
   "source": [
    "num = int(input(\"Enter the number\"))\n",
    "if num %2 == 0:\n",
    "    print(\"Even number\")\n",
    "else:\n",
    "    print(\"Odd number.\")"
   ]
  },
  {
   "cell_type": "markdown",
   "id": "5c423c56",
   "metadata": {},
   "source": [
    "#### Example 3: Check if a year is a leap year or not"
   ]
  },
  {
   "cell_type": "code",
   "execution_count": 9,
   "id": "05267ea7",
   "metadata": {},
   "outputs": [
    {
     "name": "stdout",
     "output_type": "stream",
     "text": [
      "Enter the year: 2024\n",
      "Leap year\n"
     ]
    }
   ],
   "source": [
    "year = int(input(\"Enter the year: \"))\n",
    "if year %4 == 0 and (year %100 != 0 or year %400 == 0 ):\n",
    "    print(\"Leap year\")\n",
    "else:\n",
    "    print(\"Not a leap year\")"
   ]
  },
  {
   "cell_type": "markdown",
   "id": "d17d7b46",
   "metadata": {},
   "source": [
    "#### Example 4: Determine the highest of three numbers"
   ]
  },
  {
   "cell_type": "code",
   "execution_count": 10,
   "id": "a002e319",
   "metadata": {},
   "outputs": [
    {
     "name": "stdout",
     "output_type": "stream",
     "text": [
      "Enter the number 1: 45\n",
      "Enter the number 2: 46\n",
      "Enter the number 3: 42\n",
      "The second number is the highest.\n"
     ]
    }
   ],
   "source": [
    "num1 = int(input(\"Enter the number 1: \"))\n",
    "num2 = int(input(\"Enter the number 2: \"))\n",
    "num3 = int(input(\"Enter the number 3: \"))\n",
    "if num1 >= num2 and num >= num3:\n",
    "    print(\"The first number is the highest.\")\n",
    "elif num2>=num3 and num2 >= num1:\n",
    "    print(\"The second number is the highest.\")\n",
    "else:\n",
    "    print(\"The number is the highest.\")"
   ]
  },
  {
   "cell_type": "markdown",
   "id": "a895d6d5",
   "metadata": {},
   "source": [
    "#### Example 5: Check if a person is eligible to vote"
   ]
  },
  {
   "cell_type": "code",
   "execution_count": null,
   "id": "20878f7f",
   "metadata": {},
   "outputs": [],
   "source": [
    "age = int(input(\"Enter your Age: \"))\n",
    "if age >= 18 and age <= 120:\n",
    "    print(\"You are eligble to vote.\")\n",
    "elif age >=120:\n",
    "    print(\"Enter valid age\")\n",
    "elif age <=18:\n",
    "    print(\"You are under age\")\n",
    "else\n",
    "    (\"NA\")"
   ]
  },
  {
   "cell_type": "code",
   "execution_count": null,
   "id": "d5d5a0b0",
   "metadata": {},
   "outputs": [],
   "source": []
  }
 ],
 "metadata": {
  "kernelspec": {
   "display_name": "Python 3 (ipykernel)",
   "language": "python",
   "name": "python3"
  },
  "language_info": {
   "codemirror_mode": {
    "name": "ipython",
    "version": 3
   },
   "file_extension": ".py",
   "mimetype": "text/x-python",
   "name": "python",
   "nbconvert_exporter": "python",
   "pygments_lexer": "ipython3",
   "version": "3.10.9"
  }
 },
 "nbformat": 4,
 "nbformat_minor": 5
}
