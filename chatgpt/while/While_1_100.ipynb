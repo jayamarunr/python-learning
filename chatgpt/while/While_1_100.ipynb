{
 "cells": [
  {
   "cell_type": "markdown",
   "id": "e93252dc",
   "metadata": {},
   "source": [
    "#### Example 1: Print numbers from 1 to 5"
   ]
  },
  {
   "cell_type": "code",
   "execution_count": null,
   "id": "b2574a77",
   "metadata": {},
   "outputs": [],
   "source": [
    "count = 1\n",
    "while count <= 5:\n",
    "    print(count)\n",
    "    count += 1\n"
   ]
  },
  {
   "cell_type": "markdown",
   "id": "855b3ff0",
   "metadata": {},
   "source": [
    "#### Example 2: Calculate the factorial of a number"
   ]
  },
  {
   "cell_type": "code",
   "execution_count": null,
   "id": "d29d9134",
   "metadata": {},
   "outputs": [],
   "source": [
    "num = int(input(\"Enter a number: \"))\n",
    "factorial = 1\n",
    "while num > 0:\n",
    "    factorial *= num\n",
    "    num -= 1\n",
    "print(\"The factorial is:\", factorial)\n"
   ]
  },
  {
   "cell_type": "markdown",
   "id": "95df3c43",
   "metadata": {},
   "source": [
    "#### Example 3: Find the sum of all even numbers between 1 and 10"
   ]
  },
  {
   "cell_type": "code",
   "execution_count": null,
   "id": "3e15356e",
   "metadata": {},
   "outputs": [],
   "source": [
    "sum = 0\n",
    "num = 1\n",
    "while num <= 10:\n",
    "    if num % 2 == 0:\n",
    "        sum += num\n",
    "    num += 1\n",
    "print(\"The sum of even numbers is:\", sum)\n"
   ]
  },
  {
   "cell_type": "markdown",
   "id": "8b7310cf",
   "metadata": {},
   "source": [
    "#### Example 4: Guess a number within a given range"
   ]
  },
  {
   "cell_type": "code",
   "execution_count": null,
   "id": "391e2dc4",
   "metadata": {},
   "outputs": [],
   "source": [
    "import random\n",
    "\n",
    "number = random.randint(1, 10)\n",
    "guess = 0\n",
    "while guess != number:\n",
    "    guess = int(input(\"Guess the number between 1 and 10: \"))\n",
    "print(\"Congratulations! You guessed the correct number.\")\n"
   ]
  },
  {
   "cell_type": "markdown",
   "id": "6b29bce0",
   "metadata": {},
   "source": [
    "#### Example 5: Print a triangle pattern"
   ]
  },
  {
   "cell_type": "code",
   "execution_count": null,
   "id": "9d6685db",
   "metadata": {},
   "outputs": [],
   "source": [
    "rows = int(input(\"Enter the number of rows: \"))\n",
    "row = 1\n",
    "while row <= rows:\n",
    "    print(\"*\" * row)\n",
    "    row += 1\n"
   ]
  },
  {
   "cell_type": "code",
   "execution_count": null,
   "id": "8221acef",
   "metadata": {},
   "outputs": [],
   "source": []
  },
  {
   "cell_type": "code",
   "execution_count": null,
   "id": "a53766f5",
   "metadata": {},
   "outputs": [],
   "source": []
  }
 ],
 "metadata": {
  "kernelspec": {
   "display_name": "Python 3 (ipykernel)",
   "language": "python",
   "name": "python3"
  },
  "language_info": {
   "codemirror_mode": {
    "name": "ipython",
    "version": 3
   },
   "file_extension": ".py",
   "mimetype": "text/x-python",
   "name": "python",
   "nbconvert_exporter": "python",
   "pygments_lexer": "ipython3",
   "version": "3.10.9"
  }
 },
 "nbformat": 4,
 "nbformat_minor": 5
}
