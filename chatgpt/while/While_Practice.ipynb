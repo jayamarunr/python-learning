{
 "cells": [
  {
   "cell_type": "markdown",
   "id": "23e21bec",
   "metadata": {},
   "source": [
    "#### Example 1: Print numbers from 1 to 5"
   ]
  },
  {
   "cell_type": "code",
   "execution_count": 2,
   "id": "1d0a8c3d",
   "metadata": {},
   "outputs": [
    {
     "name": "stdout",
     "output_type": "stream",
     "text": [
      "1\n",
      "2\n",
      "3\n",
      "4\n",
      "5\n"
     ]
    }
   ],
   "source": [
    "count = 1\n",
    "while count <= 5:\n",
    "    print(count)\n",
    "    count += 1"
   ]
  },
  {
   "cell_type": "markdown",
   "id": "9bedc41e",
   "metadata": {},
   "source": [
    "#### Example 2: Calculate the factorial of a number"
   ]
  },
  {
   "cell_type": "code",
   "execution_count": 3,
   "id": "09768ea5",
   "metadata": {},
   "outputs": [
    {
     "name": "stdout",
     "output_type": "stream",
     "text": [
      "Enter the number: 5\n",
      "The factorial is: 120\n"
     ]
    }
   ],
   "source": [
    "num = int(input(\"Enter the number: \"))\n",
    "factorial = 1\n",
    "while num > 0:\n",
    "    factorial *= num\n",
    "    num -= 1\n",
    "print(\"The factorial is:\", factorial)\n",
    "    "
   ]
  },
  {
   "cell_type": "markdown",
   "id": "4a948d47",
   "metadata": {},
   "source": [
    "#### Example 3: Find the sum of all even numbers between 1 and 10"
   ]
  },
  {
   "cell_type": "code",
   "execution_count": 4,
   "id": "1287e895",
   "metadata": {},
   "outputs": [
    {
     "name": "stdout",
     "output_type": "stream",
     "text": [
      "The sum of even number is: 30\n"
     ]
    }
   ],
   "source": [
    "sum = 0\n",
    "num = 1\n",
    "while num <= 10:\n",
    "    if num %2 == 0:\n",
    "        sum += num\n",
    "    num += 1\n",
    "print(\"The sum of even number is:\", sum)"
   ]
  },
  {
   "cell_type": "markdown",
   "id": "0758a108",
   "metadata": {},
   "source": [
    "#### Example 4: Guess a number within a given range"
   ]
  },
  {
   "cell_type": "code",
   "execution_count": 5,
   "id": "91b89bbb",
   "metadata": {},
   "outputs": [
    {
     "name": "stdout",
     "output_type": "stream",
     "text": [
      "Guess the number between 1 and 10: 6\n",
      "Guess the number between 1 and 10: 2\n",
      "Guess the number between 1 and 10: 3\n",
      "Guess the number between 1 and 10: 4\n",
      "Guess the number between 1 and 10: 5\n",
      "Guess the number between 1 and 10: 6\n",
      "Guess the number between 1 and 10: 7\n",
      "Guess the number between 1 and 10: 8\n",
      "Guess the number between 1 and 10: 9\n",
      "Congratulations! you have guessed the correct number.\n"
     ]
    }
   ],
   "source": [
    "import random\n",
    "\n",
    "number = random.randint(1, 10)\n",
    "guess = 0\n",
    "while guess != number:\n",
    "    guess = int(input(\"Guess the number between 1 and 10: \"))\n",
    "print(\"Congratulations! you have guessed the correct number.\")"
   ]
  },
  {
   "cell_type": "markdown",
   "id": "9e32701a",
   "metadata": {},
   "source": [
    "#### Example 5: Print a triangle pattern"
   ]
  },
  {
   "cell_type": "code",
   "execution_count": 6,
   "id": "1157f4d2",
   "metadata": {},
   "outputs": [
    {
     "name": "stdout",
     "output_type": "stream",
     "text": [
      "Enter the number of rows: 10\n",
      "*\n",
      "**\n",
      "***\n",
      "****\n",
      "*****\n",
      "******\n",
      "*******\n",
      "********\n",
      "*********\n",
      "**********\n"
     ]
    }
   ],
   "source": [
    "rows = int(input(\"Enter the number of rows: \"))\n",
    "row = 1\n",
    "while row <= rows:\n",
    "    print(\"*\" * row)\n",
    "    row += 1"
   ]
  },
  {
   "cell_type": "code",
   "execution_count": null,
   "id": "6e6c5f68",
   "metadata": {},
   "outputs": [],
   "source": []
  },
  {
   "cell_type": "code",
   "execution_count": null,
   "id": "810d72f0",
   "metadata": {},
   "outputs": [],
   "source": []
  },
  {
   "cell_type": "code",
   "execution_count": null,
   "id": "2d09ec3b",
   "metadata": {},
   "outputs": [],
   "source": []
  },
  {
   "cell_type": "code",
   "execution_count": null,
   "id": "a9c88381",
   "metadata": {},
   "outputs": [],
   "source": []
  }
 ],
 "metadata": {
  "kernelspec": {
   "display_name": "Python 3 (ipykernel)",
   "language": "python",
   "name": "python3"
  },
  "language_info": {
   "codemirror_mode": {
    "name": "ipython",
    "version": 3
   },
   "file_extension": ".py",
   "mimetype": "text/x-python",
   "name": "python",
   "nbconvert_exporter": "python",
   "pygments_lexer": "ipython3",
   "version": "3.10.9"
  }
 },
 "nbformat": 4,
 "nbformat_minor": 5
}
