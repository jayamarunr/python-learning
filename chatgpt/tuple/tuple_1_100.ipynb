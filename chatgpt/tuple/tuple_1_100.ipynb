{
 "cells": [
  {
   "cell_type": "markdown",
   "id": "d029f44e",
   "metadata": {},
   "source": [
    "#### Exercise 1: Accessing tuple elements"
   ]
  },
  {
   "cell_type": "code",
   "execution_count": null,
   "id": "7c200437",
   "metadata": {},
   "outputs": [],
   "source": [
    "tuple1 = (1, 2, 3, 4, 5)\n",
    "print(\"First element:\", tuple1[0])\n",
    "print(\"Last element:\", tuple1[-1])\n"
   ]
  },
  {
   "cell_type": "markdown",
   "id": "2589fcdf",
   "metadata": {},
   "source": [
    "#### Exercise 2: Concatenating two tuples"
   ]
  },
  {
   "cell_type": "code",
   "execution_count": null,
   "id": "ae85aed4",
   "metadata": {},
   "outputs": [],
   "source": [
    "tuple1 = (1, 2, 3)\n",
    "tuple2 = (4, 5, 6)\n",
    "tuple3 = tuple1 + tuple2\n",
    "print(\"Concatenated tuple:\", tuple3)"
   ]
  },
  {
   "cell_type": "markdown",
   "id": "36d5920b",
   "metadata": {},
   "source": [
    "#### Exercise 3: Finding the length of a tuple"
   ]
  },
  {
   "cell_type": "code",
   "execution_count": null,
   "id": "858ab04a",
   "metadata": {},
   "outputs": [],
   "source": [
    "tuple1 = (1, 2, 3, 4, 5)\n",
    "length = len(tuple1)\n",
    "print(\"Length of the tuple:\", length)"
   ]
  },
  {
   "cell_type": "markdown",
   "id": "c2851eac",
   "metadata": {},
   "source": [
    "#### Exercise 4: Counting the occurrences of an element in a tuple"
   ]
  },
  {
   "cell_type": "code",
   "execution_count": null,
   "id": "934b6b99",
   "metadata": {},
   "outputs": [],
   "source": [
    "tuple1 = (1, 2, 2, 3, 4, 4, 5)\n",
    "count = tuple1.count(2)\n",
    "print(\"Count of 2:\", count)"
   ]
  },
  {
   "cell_type": "markdown",
   "id": "43383eb4",
   "metadata": {},
   "source": [
    "#### Exercise 5: Converting a tuple to a list"
   ]
  },
  {
   "cell_type": "code",
   "execution_count": null,
   "id": "4751a2d3",
   "metadata": {},
   "outputs": [],
   "source": [
    "tuple1 = (1, 2, 3, 4, 5)\n",
    "list1 = list(tuple1)\n",
    "print(\"Converted list:\", list1)"
   ]
  },
  {
   "cell_type": "code",
   "execution_count": null,
   "id": "043cee91",
   "metadata": {},
   "outputs": [],
   "source": []
  },
  {
   "cell_type": "code",
   "execution_count": null,
   "id": "6668f0b1",
   "metadata": {},
   "outputs": [],
   "source": []
  },
  {
   "cell_type": "code",
   "execution_count": null,
   "id": "91c8001d",
   "metadata": {},
   "outputs": [],
   "source": []
  }
 ],
 "metadata": {
  "kernelspec": {
   "display_name": "Python 3 (ipykernel)",
   "language": "python",
   "name": "python3"
  },
  "language_info": {
   "codemirror_mode": {
    "name": "ipython",
    "version": 3
   },
   "file_extension": ".py",
   "mimetype": "text/x-python",
   "name": "python",
   "nbconvert_exporter": "python",
   "pygments_lexer": "ipython3",
   "version": "3.10.9"
  }
 },
 "nbformat": 4,
 "nbformat_minor": 5
}
