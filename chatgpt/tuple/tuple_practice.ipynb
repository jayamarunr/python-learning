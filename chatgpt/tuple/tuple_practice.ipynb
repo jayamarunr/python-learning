{
 "cells": [
  {
   "cell_type": "markdown",
   "id": "776d277b",
   "metadata": {},
   "source": [
    "#### Exercise 1: Accessing tuple elements"
   ]
  },
  {
   "cell_type": "code",
   "execution_count": 4,
   "id": "cda9269f",
   "metadata": {},
   "outputs": [
    {
     "name": "stdout",
     "output_type": "stream",
     "text": [
      "the first element 1\n",
      "the last element 5\n"
     ]
    }
   ],
   "source": [
    "tuple1 = (1,2,3,4,5)\n",
    "print(\"the first element\", tuple1[0])\n",
    "print(\"the last element\", tuple1[-1])"
   ]
  },
  {
   "cell_type": "markdown",
   "id": "4bd53f8e",
   "metadata": {},
   "source": [
    "#### Exercise 2: Concatenating two tuples"
   ]
  },
  {
   "cell_type": "code",
   "execution_count": 5,
   "id": "a99e1842",
   "metadata": {},
   "outputs": [
    {
     "name": "stdout",
     "output_type": "stream",
     "text": [
      "Concatenated tuple is (1, 2, 3, 4, 5, 6)\n"
     ]
    }
   ],
   "source": [
    "tuple1 = (1,2,3)\n",
    "tuple2 = (4,5,6)\n",
    "tuple3 = tuple1 + tuple2\n",
    "print(\"Concatenated tuple is\", tuple3)"
   ]
  },
  {
   "cell_type": "markdown",
   "id": "865c93aa",
   "metadata": {},
   "source": [
    "#### Exercise 3: Finding the length of a tuple"
   ]
  },
  {
   "cell_type": "code",
   "execution_count": 6,
   "id": "d65b11db",
   "metadata": {},
   "outputs": [
    {
     "name": "stdout",
     "output_type": "stream",
     "text": [
      "length of the tuple is 5\n"
     ]
    }
   ],
   "source": [
    "tuple1 = (1,2,3,4,5)\n",
    "length = len(tuple1)\n",
    "print(\"length of the tuple is\", length)"
   ]
  },
  {
   "cell_type": "markdown",
   "id": "35dd80c7",
   "metadata": {},
   "source": [
    "#### Exercise 4: Counting the occurrences of an element in a tuple"
   ]
  },
  {
   "cell_type": "code",
   "execution_count": 7,
   "id": "6dc9166f",
   "metadata": {},
   "outputs": [
    {
     "name": "stdout",
     "output_type": "stream",
     "text": [
      "Count of 2 5\n"
     ]
    }
   ],
   "source": [
    "tuple1 = (1,2,2,2,2,2,3,3,4,4,5,5,5)\n",
    "count = tuple1.count(2)\n",
    "print(\"Count of 2\", count)"
   ]
  },
  {
   "cell_type": "markdown",
   "id": "75379266",
   "metadata": {},
   "source": [
    "#### Exercise 5: Converting a tuple to a list"
   ]
  },
  {
   "cell_type": "code",
   "execution_count": 8,
   "id": "3136010f",
   "metadata": {},
   "outputs": [
    {
     "name": "stdout",
     "output_type": "stream",
     "text": [
      "converted list [1, 2, 3, 4, 5, 6]\n"
     ]
    }
   ],
   "source": [
    "tuple1 = (1,2,3,4,5,6) \n",
    "list1 = list(tuple1)\n",
    "print(\"converted list\", list1)"
   ]
  },
  {
   "cell_type": "code",
   "execution_count": null,
   "id": "bc7a9e9b",
   "metadata": {},
   "outputs": [],
   "source": []
  }
 ],
 "metadata": {
  "kernelspec": {
   "display_name": "Python 3 (ipykernel)",
   "language": "python",
   "name": "python3"
  },
  "language_info": {
   "codemirror_mode": {
    "name": "ipython",
    "version": 3
   },
   "file_extension": ".py",
   "mimetype": "text/x-python",
   "name": "python",
   "nbconvert_exporter": "python",
   "pygments_lexer": "ipython3",
   "version": "3.10.9"
  }
 },
 "nbformat": 4,
 "nbformat_minor": 5
}
