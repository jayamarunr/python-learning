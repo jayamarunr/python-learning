{
 "cells": [
  {
   "cell_type": "markdown",
   "id": "9f4529be",
   "metadata": {},
   "source": [
    "#### Exercise 1: Accessing tuple elements"
   ]
  },
  {
   "cell_type": "code",
   "execution_count": null,
   "id": "06da7716",
   "metadata": {},
   "outputs": [],
   "source": [
    "tuple1 = (1, 2, 3, 4, 5)\n",
    "print(\"First element:\", tuple1[0])\n",
    "print(\"Last element:\", tuple1[-1])\n"
   ]
  },
  {
   "cell_type": "markdown",
   "id": "a19ecd3b",
   "metadata": {},
   "source": [
    "#### Exercise 2: Concatenating two tuples"
   ]
  },
  {
   "cell_type": "code",
   "execution_count": null,
   "id": "3f81de08",
   "metadata": {},
   "outputs": [],
   "source": [
    "tuple1 = (1, 2, 3)\n",
    "tuple2 = (4, 5, 6)\n",
    "tuple3 = tuple1 + tuple2\n",
    "print(\"Concatenated tuple:\", tuple3)\n"
   ]
  },
  {
   "cell_type": "markdown",
   "id": "276fba08",
   "metadata": {},
   "source": [
    "#### Exercise 3: Finding the length of a tuple"
   ]
  },
  {
   "cell_type": "code",
   "execution_count": null,
   "id": "39c2c2a4",
   "metadata": {},
   "outputs": [],
   "source": [
    "tuple1 = (1, 2, 3, 4, 5)\n",
    "length = len(tuple1)\n",
    "print(\"Length of the tuple:\", length)\n"
   ]
  },
  {
   "cell_type": "markdown",
   "id": "abdbba92",
   "metadata": {},
   "source": [
    "#### Exercise 4: Counting the occurrences of an element in a tuple"
   ]
  },
  {
   "cell_type": "code",
   "execution_count": null,
   "id": "013550b9",
   "metadata": {},
   "outputs": [],
   "source": [
    "tuple1 = (1, 2, 2, 3, 4, 4, 5)\n",
    "count = tuple1.count(2)\n",
    "print(\"Count of 2:\", count)\n"
   ]
  },
  {
   "cell_type": "markdown",
   "id": "3acf0d39",
   "metadata": {},
   "source": [
    "#### Exercise 5: Converting a tuple to a list"
   ]
  },
  {
   "cell_type": "code",
   "execution_count": null,
   "id": "db0b502f",
   "metadata": {},
   "outputs": [],
   "source": [
    "tuple1 = (1, 2, 3, 4, 5)\n",
    "list1 = list(tuple1)\n",
    "print(\"Converted list:\", list1)\n"
   ]
  },
  {
   "cell_type": "code",
   "execution_count": null,
   "id": "945d26e4",
   "metadata": {},
   "outputs": [],
   "source": []
  },
  {
   "cell_type": "code",
   "execution_count": null,
   "id": "861cacf2",
   "metadata": {},
   "outputs": [],
   "source": []
  },
  {
   "cell_type": "code",
   "execution_count": null,
   "id": "8055e66c",
   "metadata": {},
   "outputs": [],
   "source": []
  }
 ],
 "metadata": {
  "kernelspec": {
   "display_name": "Python 3 (ipykernel)",
   "language": "python",
   "name": "python3"
  },
  "language_info": {
   "codemirror_mode": {
    "name": "ipython",
    "version": 3
   },
   "file_extension": ".py",
   "mimetype": "text/x-python",
   "name": "python",
   "nbconvert_exporter": "python",
   "pygments_lexer": "ipython3",
   "version": "3.10.9"
  }
 },
 "nbformat": 4,
 "nbformat_minor": 5
}
