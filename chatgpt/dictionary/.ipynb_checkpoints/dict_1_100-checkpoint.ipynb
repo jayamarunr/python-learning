{
 "cells": [
  {
   "cell_type": "markdown",
   "id": "01382730",
   "metadata": {},
   "source": [
    "#### Exercise 1: Accessing dictionary values"
   ]
  },
  {
   "cell_type": "code",
   "execution_count": null,
   "id": "20cfaafa",
   "metadata": {},
   "outputs": [],
   "source": [
    "student = {\n",
    "    \"name\": \"John\",\n",
    "    \"age\": 20,\n",
    "    \"grade\": \"A\"\n",
    "}\n",
    "print(\"Name:\", student[\"name\"])\n",
    "print(\"Age:\", student[\"age\"])\n",
    "print(\"Grade:\", student[\"grade\"])\n"
   ]
  },
  {
   "cell_type": "markdown",
   "id": "895982ea",
   "metadata": {},
   "source": [
    "#### Exercise 2: Updating dictionary values"
   ]
  },
  {
   "cell_type": "code",
   "execution_count": null,
   "id": "73402761",
   "metadata": {},
   "outputs": [],
   "source": [
    "student = {\n",
    "    \"name\": \"John\",\n",
    "    \"age\": 20,\n",
    "    \"grade\": \"A\"\n",
    "}\n",
    "student[\"age\"] = 21\n",
    "student[\"grade\"] = \"B\"\n",
    "print(\"Updated Student:\", student)\n"
   ]
  },
  {
   "cell_type": "markdown",
   "id": "8c1bfbe4",
   "metadata": {},
   "source": [
    "#### Exercise 3: Adding new key-value pairs to a dictionary"
   ]
  },
  {
   "cell_type": "code",
   "execution_count": null,
   "id": "8fd23a6f",
   "metadata": {},
   "outputs": [],
   "source": [
    "student = {\n",
    "    \"name\": \"John\",\n",
    "    \"age\": 20\n",
    "}\n",
    "student[\"grade\"] = \"A\"\n",
    "print(\"Updated Student:\", student)\n"
   ]
  },
  {
   "cell_type": "markdown",
   "id": "11d5ab82",
   "metadata": {},
   "source": [
    "#### Exercise 4: Removing a key-value pair from a dictionary"
   ]
  },
  {
   "cell_type": "code",
   "execution_count": null,
   "id": "0cda8615",
   "metadata": {},
   "outputs": [],
   "source": [
    "student = {\n",
    "    \"name\": \"John\",\n",
    "    \"age\": 20,\n",
    "    \"grade\": \"A\"\n",
    "}\n",
    "del student[\"age\"]\n",
    "print(\"Updated Student:\", student)\n"
   ]
  },
  {
   "cell_type": "markdown",
   "id": "0e4db080",
   "metadata": {},
   "source": [
    "#### Exercise 5: Checking if a key exists in a dictionary"
   ]
  },
  {
   "cell_type": "code",
   "execution_count": null,
   "id": "27ae55a7",
   "metadata": {},
   "outputs": [],
   "source": [
    "student = {\n",
    "    \"name\": \"John\",\n",
    "    \"age\": 20,\n",
    "    \"grade\": \"A\"\n",
    "}\n",
    "if \"grade\" in student:\n",
    "    print(\"Grade exists in the dictionary.\")\n",
    "else:\n",
    "    print(\"Grade does not exist in the dictionary.\")\n"
   ]
  },
  {
   "cell_type": "code",
   "execution_count": null,
   "id": "114981a0",
   "metadata": {},
   "outputs": [],
   "source": []
  },
  {
   "cell_type": "code",
   "execution_count": null,
   "id": "73956aec",
   "metadata": {},
   "outputs": [],
   "source": []
  }
 ],
 "metadata": {
  "kernelspec": {
   "display_name": "Python 3 (ipykernel)",
   "language": "python",
   "name": "python3"
  },
  "language_info": {
   "codemirror_mode": {
    "name": "ipython",
    "version": 3
   },
   "file_extension": ".py",
   "mimetype": "text/x-python",
   "name": "python",
   "nbconvert_exporter": "python",
   "pygments_lexer": "ipython3",
   "version": "3.10.9"
  }
 },
 "nbformat": 4,
 "nbformat_minor": 5
}
