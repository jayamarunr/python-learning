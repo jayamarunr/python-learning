{
 "cells": [
  {
   "cell_type": "markdown",
   "id": "af47cb67",
   "metadata": {},
   "source": [
    "#### Exercise 1: Accessing dictionary values"
   ]
  },
  {
   "cell_type": "code",
   "execution_count": 5,
   "id": "176c2fe9",
   "metadata": {},
   "outputs": [
    {
     "name": "stdout",
     "output_type": "stream",
     "text": [
      "Name: John\n",
      "Age: 20\n",
      "grade: A\n"
     ]
    }
   ],
   "source": [
    "student = {\n",
    "    \"name\": \"John\",\n",
    "    \"age\": 20,\n",
    "    \"grade\": \"A\"\n",
    "}\n",
    "\n",
    "print(\"Name:\", student[\"name\"])\n",
    "print(\"Age:\", student[\"age\"])\n",
    "print(\"grade:\", student[\"grade\"])"
   ]
  },
  {
   "cell_type": "markdown",
   "id": "9ce227eb",
   "metadata": {},
   "source": [
    "#### Exercise 2: Updating dictionary values"
   ]
  },
  {
   "cell_type": "code",
   "execution_count": 6,
   "id": "1d22267c",
   "metadata": {},
   "outputs": [
    {
     "name": "stdout",
     "output_type": "stream",
     "text": [
      "updated student list {'name': 'John', 'age': 21, 'grade': 'B'}\n"
     ]
    }
   ],
   "source": [
    "student = {\n",
    "    \"name\": \"John\",\n",
    "    \"age\": 20,\n",
    "    \"grade\": \"A\"\n",
    "}\n",
    "student[\"age\"] = 21\n",
    "student[\"grade\"] = \"B\"\n",
    "print(\"updated student list\", student)"
   ]
  },
  {
   "cell_type": "markdown",
   "id": "20299435",
   "metadata": {},
   "source": [
    "#### Exercise 3: Adding new key-value pairs to a dictionary"
   ]
  },
  {
   "cell_type": "code",
   "execution_count": 7,
   "id": "dc11c2b7",
   "metadata": {},
   "outputs": [
    {
     "name": "stdout",
     "output_type": "stream",
     "text": [
      "updated student value {'name': 'John', 'age': 20, 'grade': 'A'}\n"
     ]
    }
   ],
   "source": [
    "student = {\n",
    "    \"name\": \"John\",\n",
    "    \"age\": 20,\n",
    "}\n",
    "student[\"grade\"] = \"A\"\n",
    "print(\"updated student value\", student)"
   ]
  },
  {
   "cell_type": "markdown",
   "id": "f9b0d5b4",
   "metadata": {},
   "source": [
    "#### Exercise 4: Removing a key-value pair from a dictionary"
   ]
  },
  {
   "cell_type": "code",
   "execution_count": 9,
   "id": "f7899624",
   "metadata": {},
   "outputs": [
    {
     "name": "stdout",
     "output_type": "stream",
     "text": [
      "Updated student {'name': 'John', 'age': 24, 'grade': 'B'}\n"
     ]
    }
   ],
   "source": [
    "student = {\n",
    "    \"name\": \"John\",\n",
    "    \"age\": 24,\n",
    "    \"grade\": \"B\",\n",
    "    \"dept\": \"CS\"\n",
    "}\n",
    "\n",
    "del student[\"dept\"]\n",
    "print(\"Updated student\", student)"
   ]
  },
  {
   "cell_type": "markdown",
   "id": "92429fa0",
   "metadata": {},
   "source": [
    "#### Exercise 5: Checking if a key exists in a dictionary"
   ]
  },
  {
   "cell_type": "code",
   "execution_count": 10,
   "id": "a13943a9",
   "metadata": {},
   "outputs": [
    {
     "name": "stdout",
     "output_type": "stream",
     "text": [
      "Yes it exist\n"
     ]
    }
   ],
   "source": [
    "student = {\n",
    "    \"name\": \"john\",\n",
    "    \"age\": 33,\n",
    "    \"grade\": \"B\"\n",
    "}\n",
    "\n",
    "if \"grade\" in student:\n",
    "    print(\"Yes it exist\")\n",
    "else:\n",
    "    print(\"Nope good luck\")"
   ]
  },
  {
   "cell_type": "code",
   "execution_count": null,
   "id": "26e20fd5",
   "metadata": {},
   "outputs": [],
   "source": []
  }
 ],
 "metadata": {
  "kernelspec": {
   "display_name": "Python 3 (ipykernel)",
   "language": "python",
   "name": "python3"
  },
  "language_info": {
   "codemirror_mode": {
    "name": "ipython",
    "version": 3
   },
   "file_extension": ".py",
   "mimetype": "text/x-python",
   "name": "python",
   "nbconvert_exporter": "python",
   "pygments_lexer": "ipython3",
   "version": "3.10.9"
  }
 },
 "nbformat": 4,
 "nbformat_minor": 5
}
