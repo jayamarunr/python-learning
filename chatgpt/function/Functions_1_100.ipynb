{
 "cells": [
  {
   "cell_type": "markdown",
   "id": "d7a9fadf",
   "metadata": {},
   "source": [
    "#### Exercise 1: Function to calculate the square of a number"
   ]
  },
  {
   "cell_type": "code",
   "execution_count": null,
   "id": "5a1416bd",
   "metadata": {},
   "outputs": [],
   "source": [
    "def square(number):\n",
    "    return number ** 2\n",
    "\n",
    "result = square(5)\n",
    "print(\"Square:\", result)"
   ]
  },
  {
   "cell_type": "markdown",
   "id": "f9bef28b",
   "metadata": {},
   "source": [
    "#### Exercise 2: Function to check if a number is prime"
   ]
  },
  {
   "cell_type": "code",
   "execution_count": null,
   "id": "5b9d883c",
   "metadata": {},
   "outputs": [],
   "source": [
    "def is_prime(number):\n",
    "    if number <= 1:\n",
    "        return False\n",
    "    for i in range(2, int(number ** 0.5) + 1):\n",
    "        if number % i == 0:\n",
    "            return False\n",
    "    return True\n",
    "\n",
    "number = 17\n",
    "if is_prime(number):\n",
    "    print(\"The number is prime.\")\n",
    "else:\n",
    "    print(\"The number is not prime.\")\n"
   ]
  },
  {
   "cell_type": "markdown",
   "id": "5e6eb796",
   "metadata": {},
   "source": [
    "#### Exercise 3: Function to calculate the factorial of a number"
   ]
  },
  {
   "cell_type": "code",
   "execution_count": null,
   "id": "365057ac",
   "metadata": {},
   "outputs": [],
   "source": [
    "def factorial(number):\n",
    "    if number == 0:\n",
    "        return 1\n",
    "    else:\n",
    "        return number * factorial(number - 1)\n",
    "\n",
    "result = factorial(5)\n",
    "print(\"Factorial:\", result)\n"
   ]
  },
  {
   "cell_type": "markdown",
   "id": "118e7d63",
   "metadata": {},
   "source": [
    "#### Exercise 4: Function to find the maximum number in a list"
   ]
  },
  {
   "cell_type": "code",
   "execution_count": null,
   "id": "fe5c7eb2",
   "metadata": {},
   "outputs": [],
   "source": [
    "def find_max(numbers):\n",
    "    max_number = numbers[0]\n",
    "    for num in numbers:\n",
    "        if num > max_number:\n",
    "            max_number = num\n",
    "    return max_number\n",
    "\n",
    "numbers = [5, 8, 2, 10, 3]\n",
    "max_num = find_max(numbers)\n",
    "print(\"Maximum number:\", max_num)\n"
   ]
  },
  {
   "cell_type": "markdown",
   "id": "7f85fc64",
   "metadata": {},
   "source": [
    "#### Exercise 5: Function to count the number of vowels in a string"
   ]
  },
  {
   "cell_type": "code",
   "execution_count": null,
   "id": "6c3122fe",
   "metadata": {},
   "outputs": [],
   "source": [
    "def count_vowels(string):\n",
    "    vowels = \"aeiouAEIOU\"\n",
    "    count = 0\n",
    "    for char in string:\n",
    "        if char in vowels:\n",
    "            count += 1\n",
    "    return count\n",
    "\n",
    "text = \"Hello, World!\"\n",
    "vowel_count = count_vowels(text)\n",
    "print(\"Number of vowels:\", vowel_count)\n"
   ]
  },
  {
   "cell_type": "code",
   "execution_count": null,
   "id": "9bde1347",
   "metadata": {},
   "outputs": [],
   "source": []
  }
 ],
 "metadata": {
  "kernelspec": {
   "display_name": "Python 3 (ipykernel)",
   "language": "python",
   "name": "python3"
  },
  "language_info": {
   "codemirror_mode": {
    "name": "ipython",
    "version": 3
   },
   "file_extension": ".py",
   "mimetype": "text/x-python",
   "name": "python",
   "nbconvert_exporter": "python",
   "pygments_lexer": "ipython3",
   "version": "3.10.9"
  }
 },
 "nbformat": 4,
 "nbformat_minor": 5
}
