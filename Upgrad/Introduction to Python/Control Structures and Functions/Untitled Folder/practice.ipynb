{
 "cells": [
  {
   "cell_type": "code",
   "execution_count": 2,
   "id": "a16d1b1f",
   "metadata": {},
   "outputs": [
    {
     "name": "stdout",
     "output_type": "stream",
     "text": [
      "1\n"
     ]
    }
   ],
   "source": [
    "math_calc=((500//7)%5)**3\n",
    "print(math_calc)"
   ]
  },
  {
   "cell_type": "code",
   "execution_count": 3,
   "id": "32662041",
   "metadata": {},
   "outputs": [
    {
     "name": "stdout",
     "output_type": "stream",
     "text": [
      "71\n"
     ]
    }
   ],
   "source": [
    "math_calc_2 = 500//7\n",
    "print(math_calc_2)"
   ]
  },
  {
   "cell_type": "markdown",
   "id": "40759ae6",
   "metadata": {},
   "source": [
    "Set Operations\n",
    "Description\n",
    "In a school, there are total 20 students numbered from 1 to 20. You’re given three lists named ‘C’, ‘F’, and ‘H’, representing students who play cricket, football, and hockey, respectively. Based on this information, find out and print the following: \n",
    "Students who play all the three sports\n",
    "Students who play both cricket and football but don’t play hockey\n",
    "Students who play exactly two of the sports\n",
    "Students who don’t play any of the three sports\n",
    "Format:\n",
    "Input:\n",
    "3 lists containing numbers (ranging from 1 to 20) representing students who play cricket, football and hockey respectively.\n",
    "Output:\n",
    "4 different lists containing the students according to the constraints provided in the questions.\n",
    "\n",
    "Note: Make sure you sort the final lists (in an ascending order) that you get before printing them; otherwise your answer might not match the test-cases.\n",
    "\n",
    "Examples:\n",
    "Input 1:\n",
    "[2, 5, 9, 12, 13, 15, 16, 17, 18, 19]\n",
    "[2, 4, 5, 6, 7, 9, 13, 16]\n",
    "[1, 2, 5, 9, 10, 11, 12, 13, 15]\n",
    "Output 1:\n",
    "[2, 5, 9, 13]\n",
    "[16]\n",
    "[12, 15, 16]\n",
    "[3, 8, 14, 20]\n",
    "\n",
    "Explanation:\n",
    "1.Given the three sets, you can see that the students numbered '2', '5', '9', and '13' play all the three sports. \n",
    "2. The student numbered '16' plays cricket and football but doesn't play hockey. \n",
    "3. The student numbered '12' and '15' plays cricket and hockey and the student numbered '16' plays cricket and football. There are no students who play only football and hockey. Hence, the students who play exactly two sports are 12, 15, and 16.\n",
    "4. As you can see, the students who play none of the sports are 3, 8, 14, and 20."
   ]
  },
  {
   "cell_type": "code",
   "execution_count": null,
   "id": "5b62fe78",
   "metadata": {},
   "outputs": [],
   "source": []
  }
 ],
 "metadata": {
  "kernelspec": {
   "display_name": "Python 3 (ipykernel)",
   "language": "python",
   "name": "python3"
  },
  "language_info": {
   "codemirror_mode": {
    "name": "ipython",
    "version": 3
   },
   "file_extension": ".py",
   "mimetype": "text/x-python",
   "name": "python",
   "nbconvert_exporter": "python",
   "pygments_lexer": "ipython3",
   "version": "3.10.9"
  }
 },
 "nbformat": 4,
 "nbformat_minor": 5
}
