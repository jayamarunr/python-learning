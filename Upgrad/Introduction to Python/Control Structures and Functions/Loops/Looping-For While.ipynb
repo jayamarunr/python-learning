{
 "cells": [
  {
   "cell_type": "code",
   "execution_count": null,
   "metadata": {},
   "outputs": [],
   "source": [
    "for i in range(1,5):\n",
    "    print(i)\n"
   ]
  },
  {
   "cell_type": "code",
   "execution_count": 2,
   "metadata": {},
   "outputs": [
    {
     "name": "stdout",
     "output_type": "stream",
     "text": [
      "1\n",
      "3\n",
      "5\n",
      "7\n",
      "9\n"
     ]
    }
   ],
   "source": [
    "for i in range(1,10,2):\n",
    "    print(i) "
   ]
  },
  {
   "cell_type": "code",
   "execution_count": 4,
   "metadata": {},
   "outputs": [
    {
     "name": "stdout",
     "output_type": "stream",
     "text": [
      "M\n",
      "a\n",
      "r\n",
      "y\n",
      " \n",
      "h\n",
      "a\n",
      "d\n",
      " \n",
      "a\n",
      " \n",
      "l\n",
      "i\n",
      "t\n",
      "t\n",
      "l\n",
      "e\n",
      " \n",
      "l\n",
      "a\n",
      "m\n",
      "b\n"
     ]
    }
   ],
   "source": [
    "#Looping on a string\n",
    "\n",
    "my_string = \"Mary had a little lamb\"\n",
    "\n",
    "for alphabet in my_string:\n",
    "    print(alphabet)\n"
   ]
  },
  {
   "cell_type": "code",
   "execution_count": 5,
   "metadata": {},
   "outputs": [
    {
     "name": "stdout",
     "output_type": "stream",
     "text": [
      "M\n",
      "a\n",
      "r\n",
      "y\n",
      " \n",
      "h\n",
      "a\n",
      "d\n",
      " \n",
      "a\n",
      " \n",
      "l\n",
      "i\n",
      "t\n",
      "t\n",
      "l\n",
      "e\n",
      " \n",
      "l\n",
      "a\n",
      "m\n",
      "b\n"
     ]
    }
   ],
   "source": [
    "#Looping on string\n",
    "my_string = \"Mary had a little lamb\"\n",
    "\n",
    "for alphabet in my_string:\n",
    "    print(alphabet)"
   ]
  },
  {
   "cell_type": "code",
   "execution_count": 7,
   "metadata": {},
   "outputs": [
    {
     "ename": "SyntaxError",
     "evalue": "invalid syntax (1207617405.py, line 3)",
     "output_type": "error",
     "traceback": [
      "\u001b[1;36m  Cell \u001b[1;32mIn[7], line 3\u001b[1;36m\u001b[0m\n\u001b[1;33m    *\u001b[0m\n\u001b[1;37m     ^\u001b[0m\n\u001b[1;31mSyntaxError\u001b[0m\u001b[1;31m:\u001b[0m invalid syntax\n"
     ]
    }
   ],
   "source": [
    "#pattern to print-\n",
    "\n",
    "*\n",
    "* *\n",
    "* * *\n",
    "* * * * \n",
    "* * * * *\n",
    "* * * *\n",
    "* * *\n",
    "* *\n",
    "*\n"
   ]
  },
  {
   "cell_type": "markdown",
   "metadata": {},
   "source": [
    "str1=''\n",
    "for i in range(0,9):\n",
    "    if i<5:\n",
    "        str1 += '* '\n",
    "        print(str1)\n",
    "    elif i>4:\n",
    "        str1 = str1[:-2]\n",
    "        print(str1)"
   ]
  },
  {
   "cell_type": "code",
   "execution_count": 39,
   "metadata": {},
   "outputs": [
    {
     "name": "stdout",
     "output_type": "stream",
     "text": [
      "* \n",
      "* * \n",
      "* * * \n",
      "* * * * \n",
      "* * * * * \n",
      "* * * * \n",
      "* * * \n",
      "* * \n",
      "* \n"
     ]
    }
   ],
   "source": [
    "str1=''\n",
    "for i in range(0,9):\n",
    "    if i<5:\n",
    "        str1 += '* '\n",
    "        print(str1)\n",
    "    elif i>4:\n",
    "        str1 = str1[:-2]\n",
    "        print(str1)\n"
   ]
  },
  {
   "cell_type": "code",
   "execution_count": 41,
   "metadata": {},
   "outputs": [
    {
     "name": "stdout",
     "output_type": "stream",
     "text": [
      "M 0\n",
      "a 1\n",
      "r 2\n",
      "y 3\n",
      "  4\n",
      "h 5\n",
      "a 6\n",
      "d 7\n",
      "  8\n",
      "a 9\n",
      "  10\n",
      "l 11\n",
      "i 12\n",
      "t 13\n",
      "t 14\n",
      "l 15\n",
      "e 16\n",
      "  17\n",
      "l 18\n",
      "a 19\n",
      "m 20\n",
      "b 21\n"
     ]
    }
   ],
   "source": [
    "my_string = \"Mary had a little lamb\"\n",
    "\n",
    "for n,alphabet in enumerate(my_string):\n",
    "    print(alphabet, n)"
   ]
  },
  {
   "cell_type": "markdown",
   "metadata": {},
   "source": [
    "my_string = \"Mary had a little lamb\"\n",
    "\n",
    "for n, alphabet in enumerate(my_string):\n",
    "    print(alphabet,n)"
   ]
  },
  {
   "cell_type": "markdown",
   "metadata": {},
   "source": [
    "vowels =''\n",
    "for alphabet in my_string:\n",
    "    if alphabet in 'aeiou':\n",
    "        vowels += ' ' + alphabet\n",
    "print(vowels)"
   ]
  },
  {
   "cell_type": "code",
   "execution_count": 48,
   "metadata": {},
   "outputs": [
    {
     "name": "stdout",
     "output_type": "stream",
     "text": [
      " a a a i e a\n"
     ]
    }
   ],
   "source": [
    "vowels = ''\n",
    "for alphabet in my_string:\n",
    "    if alphabet in 'aeiou':\n",
    "        vowels += ' ' + alphabet\n",
    "print(vowels)"
   ]
  },
  {
   "cell_type": "code",
   "execution_count": 51,
   "metadata": {},
   "outputs": [
    {
     "name": "stdout",
     "output_type": "stream",
     "text": [
      "All Evens are : 8884828028822 & All odds are : 33793731\n"
     ]
    }
   ],
   "source": [
    "nums = '838848237890237388221'\n",
    "all_even=''\n",
    "all_odd = ''\n",
    "for number in nums:\n",
    "    if int(number)%2 == 0:\n",
    "        all_even += number\n",
    "    else:\n",
    "        all_odd += number\n",
    "\n",
    "print('All Evens are : '+ all_even + ' & All odds are : '+ all_odd)\n"
   ]
  },
  {
   "cell_type": "code",
   "execution_count": 53,
   "metadata": {},
   "outputs": [],
   "source": [
    "list_of_inventories = ['Apple', 'Banana', 'Potato', 'Mango', 'Onion', 'Toothpaste']\n",
    "fruits = ['Apple','Banana','Mango','Orange','Strawberry']\n",
    "vegetables = ['Potato', 'Onion','Cucumber', 'Celery']\n"
   ]
  },
  {
   "cell_type": "code",
   "execution_count": 55,
   "metadata": {},
   "outputs": [
    {
     "name": "stdout",
     "output_type": "stream",
     "text": [
      "Apple\n",
      "Banana\n",
      "Potato\n",
      "Mango\n",
      "Onion\n",
      "Toothpaste\n",
      "3\n",
      "2\n"
     ]
    }
   ],
   "source": [
    "#count of fruits in inventory list\n",
    "count_fruits = 0\n",
    "#count of vegetables in inventory list\n",
    "count_veg = 0\n",
    "for item in list_of_inventories:\n",
    "    print(item)\n",
    "    if item in fruits:\n",
    "        count_fruits+=1\n",
    "    elif item in vegetables:\n",
    "        count_veg +=1\n",
    "    else:\n",
    "        continue\n",
    "print(count_fruits)\n",
    "print(count_veg)"
   ]
  },
  {
   "cell_type": "code",
   "execution_count": 56,
   "metadata": {},
   "outputs": [
    {
     "name": "stdout",
     "output_type": "stream",
     "text": [
      "Is\n",
      "Python\n",
      "simpler\n",
      "than\n",
      "R\n",
      "?\n"
     ]
    }
   ],
   "source": [
    "sentence = \"Is Python simpler than R ?\"\n",
    "for word in sentence.split(): #split method to split sentence with spaces inbetween\n",
    "    print(word)\n"
   ]
  },
  {
   "cell_type": "code",
   "execution_count": 62,
   "metadata": {},
   "outputs": [
    {
     "name": "stdout",
     "output_type": "stream",
     "text": [
      "beautiful\n",
      "morning\n"
     ]
    }
   ],
   "source": [
    "\n",
    "#sentence check\n",
    "tweet = '#beautiful #morning it is looking good'\n",
    "\n",
    "for word in tweet.split():\n",
    "    if word.startswith('#'):\n",
    "        print(word[1:])\n"
   ]
  },
  {
   "cell_type": "code",
   "execution_count": 63,
   "metadata": {},
   "outputs": [],
   "source": [
    "students_data = {1:['Shivam Bansal', 24] , 2:['Udit Bansal',25], 3:['Sonam Gupta', 26], 4:['Saif Ansari',24], 5:['Huzefa Calcuttawala',27]}\n"
   ]
  },
  {
   "cell_type": "code",
   "execution_count": 67,
   "metadata": {},
   "outputs": [
    {
     "name": "stdout",
     "output_type": "stream",
     "text": [
      "1 ['Shivam Bansal', 24]\n",
      "2 ['Udit Bansal', 25]\n",
      "3 ['Sonam Gupta', 26]\n",
      "4 ['Saif Ansari', 24]\n",
      "5 ['Huzefa Calcuttawala', 27]\n"
     ]
    }
   ],
   "source": [
    "for key, val in students_data.items():\n",
    "    print(key, val)\n"
   ]
  },
  {
   "cell_type": "code",
   "execution_count": 65,
   "metadata": {},
   "outputs": [
    {
     "name": "stdout",
     "output_type": "stream",
     "text": [
      "1\n",
      "2\n",
      "3\n",
      "4\n",
      "5\n"
     ]
    }
   ],
   "source": [
    "for key in students_data.keys():\n",
    "    print(key)\n"
   ]
  },
  {
   "cell_type": "code",
   "execution_count": 68,
   "metadata": {},
   "outputs": [
    {
     "name": "stdout",
     "output_type": "stream",
     "text": [
      "['Shivam Bansal', 24]\n",
      "['Udit Bansal', 25]\n",
      "['Sonam Gupta', 26]\n",
      "['Saif Ansari', 24]\n",
      "['Huzefa Calcuttawala', 27]\n"
     ]
    }
   ],
   "source": [
    "for val in students_data.values():\n",
    "    print(val)\n"
   ]
  },
  {
   "cell_type": "code",
   "execution_count": 69,
   "metadata": {},
   "outputs": [
    {
     "name": "stdout",
     "output_type": "stream",
     "text": [
      "2\n"
     ]
    }
   ],
   "source": [
    "count = 0\n",
    "for key, val in students_data.items():\n",
    "    if val[1]<25:\n",
    "        count+=1\n",
    "\n",
    "print(count)"
   ]
  },
  {
   "cell_type": "code",
   "execution_count": null,
   "metadata": {},
   "outputs": [],
   "source": [
    "#while loop\n",
    "start =20\n",
    "total= 0\n",
    "while start<51:\n",
    "    total+=start\n",
    "    start+=1\n",
    "    print(start)\n",
    "\n",
    "print(total)\n",
    "\n"
   ]
  },
  {
   "cell_type": "code",
   "execution_count": 78,
   "metadata": {},
   "outputs": [
    {
     "name": "stdout",
     "output_type": "stream",
     "text": [
      "{'Hans': 'active', '景太郎': 'active'}\n"
     ]
    }
   ],
   "source": [
    "# Create a sample collection\n",
    "users = {'Hans': 'active', 'Éléonore': 'inactive', '景太郎': 'active'}\n",
    "\n",
    "# Strategy:  Iterate over a copy\n",
    "for user, status in users.copy().items():\n",
    "    if status == 'inactive':\n",
    "        del users[user]\n",
    "\n",
    "# Strategy:  Create a new collection\n",
    "active_users = {}\n",
    "for user, status in users.items():\n",
    "    if status == 'active':\n",
    "        active_users[user] = status\n",
    "print(active_users)"
   ]
  }
 ],
 "metadata": {
  "anaconda-cloud": {},
  "kernelspec": {
   "display_name": "Python 3 (ipykernel)",
   "language": "python",
   "name": "python3"
  },
  "language_info": {
   "codemirror_mode": {
    "name": "ipython",
    "version": 3
   },
   "file_extension": ".py",
   "mimetype": "text/x-python",
   "name": "python",
   "nbconvert_exporter": "python",
   "pygments_lexer": "ipython3",
   "version": "3.10.9"
  }
 },
 "nbformat": 4,
 "nbformat_minor": 1
}
