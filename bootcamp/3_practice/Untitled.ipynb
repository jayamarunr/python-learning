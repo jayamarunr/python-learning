{
 "cells": [
  {
   "cell_type": "code",
   "execution_count": 1,
   "id": "5dfed33e",
   "metadata": {},
   "outputs": [
    {
     "data": {
      "text/plain": [
       "['poojaapoojaa', 'tarinitarinitarini', 'ankitaankitaankita']"
      ]
     },
     "execution_count": 1,
     "metadata": {},
     "output_type": "execute_result"
    }
   ],
   "source": [
    "l= [('poojaa',2),('tarini',3),('ankita',3)]\n",
    "\n",
    "l2 = list(map(lambda x: x[0]*int(x[1]), l))\n",
    "l2"
   ]
  },
  {
   "cell_type": "code",
   "execution_count": 8,
   "id": "5940edb5",
   "metadata": {},
   "outputs": [
    {
     "name": "stdout",
     "output_type": "stream",
     "text": [
      "{1, 2, 3, 4, 7, 9}\n"
     ]
    }
   ],
   "source": [
    "#Write a function that takes a list of sets and returns a new set containing only the elements \n",
    "#that are in exactly one of the sets.\n",
    "\n",
    "from functools import reduce\n",
    "l12 = [{1,2,3},{4,5,6},{6,7,8},{5,8,9}] \n",
    "l13 = set(reduce(lambda x,y:x.union(y)-x.intersection(y), l12)) \n",
    "print(l13)"
   ]
  },
  {
   "cell_type": "code",
   "execution_count": 9,
   "id": "8f4f6ff8",
   "metadata": {},
   "outputs": [
    {
     "name": "stdout",
     "output_type": "stream",
     "text": [
      "['listen', 'silent', 'enlist', 'tinsel']\n"
     ]
    }
   ],
   "source": [
    "def find_anagrams(word, word_list):\n",
    "    anagrams = filter(lambda x: sorted(x.lower()) == sorted(word.lower()), word_list)\n",
    "    return list(anagrams)\n",
    "\n",
    "words = ['listen', 'silent', 'hello', 'potato', 'enlist', 'tinsel']\n",
    "anagrams = find_anagrams('silent', words)\n",
    "print(anagrams)\n",
    "\n",
    "\n",
    "def find_anagrams(word, word_list)\n"
   ]
  },
  {
   "cell_type": "code",
   "execution_count": 10,
   "id": "c454b01a",
   "metadata": {},
   "outputs": [
    {
     "name": "stdout",
     "output_type": "stream",
     "text": [
      "Find word you want to check anagram for: tea\n",
      "['ate', 'tea', 'eat']\n"
     ]
    }
   ],
   "source": [
    "l1=['ate','tea','eat','tear','rate','are'] \n",
    "word = input('Find word you want to check anagram for: ') \n",
    "l2=list(filter(lambda x:sorted(x.lower())==sorted(word.lower()),l1)) \n",
    "print (l2)"
   ]
  },
  {
   "cell_type": "code",
   "execution_count": 11,
   "id": "d5fbb6e3",
   "metadata": {},
   "outputs": [
    {
     "name": "stdout",
     "output_type": "stream",
     "text": [
      "Find anagram for: tea\n"
     ]
    }
   ],
   "source": [
    "l1=['ate','tea','eat','tear','rate','are'] \n",
    "word = input(\"Find anagram for: \")\n",
    "anagrams = list(filter(lambda x: sorted(x.lower()) == sorted(word.lower()), l1))\n"
   ]
  },
  {
   "cell_type": "code",
   "execution_count": 12,
   "id": "86da0d36",
   "metadata": {},
   "outputs": [
    {
     "data": {
      "text/plain": [
       "184"
      ]
     },
     "execution_count": 12,
     "metadata": {},
     "output_type": "execute_result"
    }
   ],
   "source": [
    "from functools import reduce\n",
    "\n",
    "sentence = \"Given a sentence, write a program that uses the reduce function and a lambda function to calculate the total number of words, average word length, and the longest word in the sentence.\"\n",
    "max = len(sentence)\n",
    "max"
   ]
  },
  {
   "cell_type": "code",
   "execution_count": 17,
   "id": "18f23f8f",
   "metadata": {},
   "outputs": [
    {
     "ename": "TypeError",
     "evalue": "'list' object is not callable",
     "output_type": "error",
     "traceback": [
      "\u001b[1;31m---------------------------------------------------------------------------\u001b[0m",
      "\u001b[1;31mTypeError\u001b[0m                                 Traceback (most recent call last)",
      "Cell \u001b[1;32mIn[17], line 3\u001b[0m\n\u001b[0;32m      1\u001b[0m list_2 \u001b[38;5;241m=\u001b[39m [[\u001b[38;5;241m2\u001b[39m,\u001b[38;5;241m1\u001b[39m,\u001b[38;5;241m4\u001b[39m], [\u001b[38;5;241m14\u001b[39m, \u001b[38;5;241m33\u001b[39m, \u001b[38;5;241m87\u001b[39m], [\u001b[38;5;241m8\u001b[39m,\u001b[38;5;241m7\u001b[39m,\u001b[38;5;241m6\u001b[39m], [\u001b[38;5;241m7\u001b[39m,\u001b[38;5;241m5\u001b[39m,\u001b[38;5;241m8\u001b[39m], [\u001b[38;5;241m1\u001b[39m,\u001b[38;5;241m2\u001b[39m,\u001b[38;5;241m3\u001b[39m,\u001b[38;5;241m4\u001b[39m,\u001b[38;5;241m5\u001b[39m,\u001b[38;5;241m6\u001b[39m,\u001b[38;5;241m7\u001b[39m]]\n\u001b[1;32m----> 3\u001b[0m output \u001b[38;5;241m=\u001b[39m \u001b[38;5;28;43mlist\u001b[39;49m\u001b[43m(\u001b[49m\u001b[38;5;28;43mfilter\u001b[39;49m\u001b[43m(\u001b[49m\u001b[38;5;28;43;01mlambda\u001b[39;49;00m\u001b[43m \u001b[49m\u001b[43mx\u001b[49m\u001b[43m,\u001b[49m\u001b[43my\u001b[49m\u001b[43m:\u001b[49m\u001b[43m \u001b[49m\u001b[43mx\u001b[49m\u001b[38;5;241;43m+\u001b[39;49m\u001b[43my\u001b[49m\u001b[43m,\u001b[49m\u001b[43m \u001b[49m\u001b[43mlist_2\u001b[49m\u001b[43m)\u001b[49m\u001b[43m)\u001b[49m\n\u001b[0;32m      4\u001b[0m output\n",
      "\u001b[1;31mTypeError\u001b[0m: 'list' object is not callable"
     ]
    }
   ],
   "source": [
    "list_2 = [[2,1,4], [14, 33, 87], [8,7,6], [7,5,8], [1,2,3,4,5,6,7]]\n",
    "\n",
    "output = list(filter(lambda x,y: x+y, list_2))\n",
    "output"
   ]
  },
  {
   "cell_type": "code",
   "execution_count": null,
   "id": "94fc7fa0",
   "metadata": {},
   "outputs": [],
   "source": [
    "word = input(\"Enter the word: \")\n",
    "belong = []\n",
    "\n",
    "if \"r\" in word:\n",
    "    print(\"red team\")\n",
    "else:\n",
    "    print(\"Other\")\n",
    "    "
   ]
  },
  {
   "cell_type": "code",
   "execution_count": 9,
   "id": "9c3202a6",
   "metadata": {},
   "outputs": [
    {
     "name": "stdout",
     "output_type": "stream",
     "text": [
      "Enter a word in small letterstomry\n",
      "the word belongs to the red team\n"
     ]
    }
   ],
   "source": [
    "word = input(\"Enter a word in small letters\")\n",
    "is_red = 0\n",
    "for char in word:\n",
    "    if char == \"r\":\n",
    "        print(\"the word belongs to the red team\")\n",
    "        is_red = 1\n",
    "        break\n",
    "if is_red == 0:\n",
    "    print(\"the word does not belong to the red team\")"
   ]
  },
  {
   "cell_type": "code",
   "execution_count": 21,
   "id": "6c6051ef",
   "metadata": {},
   "outputs": [
    {
     "name": "stdout",
     "output_type": "stream",
     "text": [
      "enter a year: 2028\n",
      "2028 is a leap year.\n"
     ]
    }
   ],
   "source": [
    "year = int(input(\"enter a year: \"))\n",
    "if year %4 == 0 and (year % 100!= 0 or year % 400 == 0):\n",
    "    print(year, \"is a leap year.\")\n",
    "else:\n",
    "    print(year, \"is not a leap year.\")"
   ]
  },
  {
   "cell_type": "code",
   "execution_count": null,
   "id": "a911427c",
   "metadata": {},
   "outputs": [],
   "source": []
  },
  {
   "cell_type": "code",
   "execution_count": null,
   "id": "28f45bf0",
   "metadata": {},
   "outputs": [],
   "source": []
  },
  {
   "cell_type": "code",
   "execution_count": null,
   "id": "9d27b6b2",
   "metadata": {},
   "outputs": [],
   "source": []
  },
  {
   "cell_type": "code",
   "execution_count": null,
   "id": "d68969c4",
   "metadata": {},
   "outputs": [],
   "source": []
  },
  {
   "cell_type": "code",
   "execution_count": null,
   "id": "bf08ba98",
   "metadata": {},
   "outputs": [],
   "source": []
  },
  {
   "cell_type": "code",
   "execution_count": null,
   "id": "7839ca9a",
   "metadata": {},
   "outputs": [],
   "source": []
  }
 ],
 "metadata": {
  "kernelspec": {
   "display_name": "Python 3 (ipykernel)",
   "language": "python",
   "name": "python3"
  },
  "language_info": {
   "codemirror_mode": {
    "name": "ipython",
    "version": 3
   },
   "file_extension": ".py",
   "mimetype": "text/x-python",
   "name": "python",
   "nbconvert_exporter": "python",
   "pygments_lexer": "ipython3",
   "version": "3.10.9"
  }
 },
 "nbformat": 4,
 "nbformat_minor": 5
}
