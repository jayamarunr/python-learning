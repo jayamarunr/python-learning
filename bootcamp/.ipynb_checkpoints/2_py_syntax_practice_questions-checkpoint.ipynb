{
 "cells": [
  {
   "cell_type": "code",
   "execution_count": null,
   "id": "afac653c",
   "metadata": {},
   "outputs": [],
   "source": [
    "inp=input()\n",
    "if str(inp).isdigit():\n",
    "    print(\"Integer\")\n",
    "elif str(inp).isalpha():\\\n",
    "    print(\"Alphabet\")\n",
    "else:\n",
    "    print(\"Neither Integer nor string\")\n",
    "    "
   ]
  },
  {
   "cell_type": "code",
   "execution_count": null,
   "id": "53c5cb0e",
   "metadata": {},
   "outputs": [],
   "source": [
    "inp=input()\n",
    "if (inp.isdigit()):\n",
    "    print(\"Integer\")\n",
    "else:\n",
    "    print(\"String\")"
   ]
  },
  {
   "cell_type": "code",
   "execution_count": null,
   "id": "56e30068",
   "metadata": {},
   "outputs": [],
   "source": []
  },
  {
   "cell_type": "code",
   "execution_count": null,
   "id": "d2f48948",
   "metadata": {},
   "outputs": [],
   "source": []
  }
 ],
 "metadata": {
  "kernelspec": {
   "display_name": "Python 3 (ipykernel)",
   "language": "python",
   "name": "python3"
  },
  "language_info": {
   "codemirror_mode": {
    "name": "ipython",
    "version": 3
   },
   "file_extension": ".py",
   "mimetype": "text/x-python",
   "name": "python",
   "nbconvert_exporter": "python",
   "pygments_lexer": "ipython3",
   "version": "3.10.9"
  }
 },
 "nbformat": 4,
 "nbformat_minor": 5
}
