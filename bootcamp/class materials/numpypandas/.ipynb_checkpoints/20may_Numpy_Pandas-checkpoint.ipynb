{
 "cells": [
  {
   "cell_type": "code",
   "execution_count": 1,
   "metadata": {},
   "outputs": [],
   "source": [
    "import numpy as np"
   ]
  },
  {
   "cell_type": "code",
   "execution_count": 3,
   "metadata": {},
   "outputs": [],
   "source": [
    "x=np.asarray([232,35,46,24,14,6])"
   ]
  },
  {
   "cell_type": "code",
   "execution_count": 4,
   "metadata": {},
   "outputs": [
    {
     "name": "stdout",
     "output_type": "stream",
     "text": [
      "[232  35  46  24  14   6]\n"
     ]
    }
   ],
   "source": [
    "print(x)"
   ]
  },
  {
   "cell_type": "code",
   "execution_count": 5,
   "metadata": {},
   "outputs": [
    {
     "name": "stdout",
     "output_type": "stream",
     "text": [
      "<class 'numpy.ndarray'>\n"
     ]
    }
   ],
   "source": [
    "print(type(x))"
   ]
  },
  {
   "cell_type": "code",
   "execution_count": 6,
   "metadata": {},
   "outputs": [
    {
     "name": "stdout",
     "output_type": "stream",
     "text": [
      "[  5  25  57  24 457  25 325 326  26]\n"
     ]
    }
   ],
   "source": [
    "l=[5,25,57,24,457,25,325,326,26]\n",
    "x1=np.asarray(l)\n",
    "print(x1)"
   ]
  },
  {
   "cell_type": "code",
   "execution_count": 8,
   "metadata": {},
   "outputs": [],
   "source": [
    "x2=np.asarray([[2,4,6],[5,7,8],[7,9,10],[22,56,78]])"
   ]
  },
  {
   "cell_type": "code",
   "execution_count": 9,
   "metadata": {},
   "outputs": [
    {
     "data": {
      "text/plain": [
       "array([[ 2,  4,  6],\n",
       "       [ 5,  7,  8],\n",
       "       [ 7,  9, 10],\n",
       "       [22, 56, 78]])"
      ]
     },
     "execution_count": 9,
     "metadata": {},
     "output_type": "execute_result"
    }
   ],
   "source": [
    "x2"
   ]
  },
  {
   "cell_type": "code",
   "execution_count": 10,
   "metadata": {},
   "outputs": [
    {
     "data": {
      "text/plain": [
       "(4, 3)"
      ]
     },
     "execution_count": 10,
     "metadata": {},
     "output_type": "execute_result"
    }
   ],
   "source": [
    "x2.shape"
   ]
  },
  {
   "cell_type": "code",
   "execution_count": 11,
   "metadata": {},
   "outputs": [
    {
     "data": {
      "text/plain": [
       "4"
      ]
     },
     "execution_count": 11,
     "metadata": {},
     "output_type": "execute_result"
    }
   ],
   "source": [
    "x2[0,1]"
   ]
  },
  {
   "cell_type": "code",
   "execution_count": 12,
   "metadata": {},
   "outputs": [
    {
     "data": {
      "text/plain": [
       "78"
      ]
     },
     "execution_count": 12,
     "metadata": {},
     "output_type": "execute_result"
    }
   ],
   "source": [
    "x2[3,2]"
   ]
  },
  {
   "cell_type": "code",
   "execution_count": 13,
   "metadata": {},
   "outputs": [
    {
     "data": {
      "text/plain": [
       "array([4, 6])"
      ]
     },
     "execution_count": 13,
     "metadata": {},
     "output_type": "execute_result"
    }
   ],
   "source": [
    "x2[0,1:3]"
   ]
  },
  {
   "cell_type": "code",
   "execution_count": 14,
   "metadata": {},
   "outputs": [
    {
     "data": {
      "text/plain": [
       "array([4, 6])"
      ]
     },
     "execution_count": 14,
     "metadata": {},
     "output_type": "execute_result"
    }
   ],
   "source": [
    "x2[0,1:]"
   ]
  },
  {
   "cell_type": "code",
   "execution_count": 15,
   "metadata": {},
   "outputs": [
    {
     "data": {
      "text/plain": [
       "array([ 9, 10])"
      ]
     },
     "execution_count": 15,
     "metadata": {},
     "output_type": "execute_result"
    }
   ],
   "source": [
    "x2[2,1:]"
   ]
  },
  {
   "cell_type": "code",
   "execution_count": 16,
   "metadata": {},
   "outputs": [
    {
     "data": {
      "text/plain": [
       "array([4, 6])"
      ]
     },
     "execution_count": 16,
     "metadata": {},
     "output_type": "execute_result"
    }
   ],
   "source": [
    "x2[0,1:]"
   ]
  },
  {
   "cell_type": "code",
   "execution_count": 21,
   "metadata": {},
   "outputs": [],
   "source": [
    "x1 = np.asarray([[2,3,4], [5,6,7], [3,2,1]])"
   ]
  },
  {
   "cell_type": "code",
   "execution_count": 22,
   "metadata": {},
   "outputs": [
    {
     "data": {
      "text/plain": [
       "array([[2, 3, 4],\n",
       "       [5, 6, 7],\n",
       "       [3, 2, 1]])"
      ]
     },
     "execution_count": 22,
     "metadata": {},
     "output_type": "execute_result"
    }
   ],
   "source": [
    "x1"
   ]
  },
  {
   "cell_type": "code",
   "execution_count": 23,
   "metadata": {},
   "outputs": [
    {
     "data": {
      "text/plain": [
       "array([7, 9])"
      ]
     },
     "execution_count": 23,
     "metadata": {},
     "output_type": "execute_result"
    }
   ],
   "source": [
    "x2[1:3,1]"
   ]
  },
  {
   "cell_type": "code",
   "execution_count": 24,
   "metadata": {},
   "outputs": [
    {
     "name": "stdout",
     "output_type": "stream",
     "text": [
      "[[ 7  8]\n",
      " [ 9 10]]\n"
     ]
    }
   ],
   "source": [
    "print(x2[1:3,1:3])"
   ]
  },
  {
   "cell_type": "code",
   "execution_count": 25,
   "metadata": {},
   "outputs": [
    {
     "data": {
      "text/plain": [
       "array([[ 7,  9],\n",
       "       [22, 56]])"
      ]
     },
     "execution_count": 25,
     "metadata": {},
     "output_type": "execute_result"
    }
   ],
   "source": [
    "x2[2:,:2]"
   ]
  },
  {
   "cell_type": "code",
   "execution_count": 27,
   "metadata": {},
   "outputs": [
    {
     "data": {
      "text/plain": [
       "array([[ 7,  9],\n",
       "       [22, 56]])"
      ]
     },
     "execution_count": 27,
     "metadata": {},
     "output_type": "execute_result"
    }
   ],
   "source": [
    "x2[2:4,0:2]"
   ]
  },
  {
   "cell_type": "code",
   "execution_count": 28,
   "metadata": {},
   "outputs": [
    {
     "name": "stdout",
     "output_type": "stream",
     "text": [
      "[[4 6]\n",
      " [7 8]]\n"
     ]
    }
   ],
   "source": [
    "print(x2[0:2, 1:3])"
   ]
  },
  {
   "cell_type": "code",
   "execution_count": 29,
   "metadata": {},
   "outputs": [],
   "source": [
    "x3=np.random.random((3,4))"
   ]
  },
  {
   "cell_type": "code",
   "execution_count": 30,
   "metadata": {},
   "outputs": [
    {
     "data": {
      "text/plain": [
       "array([[0.71757338, 0.65386683, 0.23225439, 0.51467418],\n",
       "       [0.91670851, 0.1931698 , 0.98830235, 0.69768719],\n",
       "       [0.02944636, 0.62308764, 0.59856775, 0.31299428]])"
      ]
     },
     "execution_count": 30,
     "metadata": {},
     "output_type": "execute_result"
    }
   ],
   "source": [
    "x3"
   ]
  },
  {
   "cell_type": "code",
   "execution_count": 31,
   "metadata": {},
   "outputs": [],
   "source": [
    "#task: create a random numpy array(3,4) with values between 30 and 50\n",
    "x4=np.random.randint(30,50,(3,4))"
   ]
  },
  {
   "cell_type": "code",
   "execution_count": 32,
   "metadata": {},
   "outputs": [
    {
     "data": {
      "text/plain": [
       "array([[32, 47, 41, 34],\n",
       "       [49, 39, 31, 45],\n",
       "       [45, 45, 34, 48]])"
      ]
     },
     "execution_count": 32,
     "metadata": {},
     "output_type": "execute_result"
    }
   ],
   "source": [
    "x4"
   ]
  },
  {
   "cell_type": "code",
   "execution_count": 33,
   "metadata": {},
   "outputs": [],
   "source": [
    "sum1=x4.sum()"
   ]
  },
  {
   "cell_type": "code",
   "execution_count": 34,
   "metadata": {},
   "outputs": [
    {
     "name": "stdout",
     "output_type": "stream",
     "text": [
      "490\n"
     ]
    }
   ],
   "source": [
    "print(sum1)"
   ]
  },
  {
   "cell_type": "code",
   "execution_count": 35,
   "metadata": {},
   "outputs": [
    {
     "name": "stdout",
     "output_type": "stream",
     "text": [
      "[154 164 172]\n"
     ]
    }
   ],
   "source": [
    "print(x4.sum(axis=1))"
   ]
  },
  {
   "cell_type": "code",
   "execution_count": 36,
   "metadata": {},
   "outputs": [
    {
     "name": "stdout",
     "output_type": "stream",
     "text": [
      "[126 131 106 127]\n"
     ]
    }
   ],
   "source": [
    "print(x4.sum(axis=0))"
   ]
  },
  {
   "cell_type": "code",
   "execution_count": 37,
   "metadata": {},
   "outputs": [
    {
     "data": {
      "text/plain": [
       "49"
      ]
     },
     "execution_count": 37,
     "metadata": {},
     "output_type": "execute_result"
    }
   ],
   "source": [
    "x4.max()"
   ]
  },
  {
   "cell_type": "code",
   "execution_count": 38,
   "metadata": {},
   "outputs": [
    {
     "data": {
      "text/plain": [
       "array([49, 47, 41, 48])"
      ]
     },
     "execution_count": 38,
     "metadata": {},
     "output_type": "execute_result"
    }
   ],
   "source": [
    "x4.max(axis=0)"
   ]
  },
  {
   "cell_type": "code",
   "execution_count": 39,
   "metadata": {},
   "outputs": [
    {
     "data": {
      "text/plain": [
       "array([47, 49, 48])"
      ]
     },
     "execution_count": 39,
     "metadata": {},
     "output_type": "execute_result"
    }
   ],
   "source": [
    "x4.max(axis=1)"
   ]
  },
  {
   "cell_type": "code",
   "execution_count": 44,
   "metadata": {},
   "outputs": [
    {
     "name": "stdout",
     "output_type": "stream",
     "text": [
      "[[39 31 36 38]\n",
      " [47 34 38 49]\n",
      " [49 47 32 46]]\n",
      "49\n",
      "7\n"
     ]
    }
   ],
   "source": [
    "x4 = np.random.randint(30,50,(3,4)) \n",
    "print(x4) \n",
    "max_val = x4.max() \n",
    "print(max_val) \n",
    "print(np.argmax(x4))"
   ]
  },
  {
   "cell_type": "code",
   "execution_count": 48,
   "metadata": {},
   "outputs": [
    {
     "name": "stdout",
     "output_type": "stream",
     "text": [
      "49\n",
      "7\n"
     ]
    }
   ],
   "source": [
    "print(x4.max()) \n",
    "print(x4.argmax())"
   ]
  },
  {
   "cell_type": "code",
   "execution_count": 49,
   "metadata": {},
   "outputs": [
    {
     "data": {
      "text/plain": [
       "array([[39, 31, 36, 38, 47, 34, 38, 49, 49, 47, 32, 46]])"
      ]
     },
     "execution_count": 49,
     "metadata": {},
     "output_type": "execute_result"
    }
   ],
   "source": [
    "x4.reshape(1,12)"
   ]
  },
  {
   "cell_type": "code",
   "execution_count": 50,
   "metadata": {},
   "outputs": [
    {
     "name": "stdout",
     "output_type": "stream",
     "text": [
      "49\n",
      "7\n"
     ]
    }
   ],
   "source": [
    "print(x4.max()) \n",
    "print(x4.argmax())"
   ]
  },
  {
   "cell_type": "code",
   "execution_count": 51,
   "metadata": {},
   "outputs": [
    {
     "ename": "ValueError",
     "evalue": "cannot reshape array of size 12 into shape (1,13)",
     "output_type": "error",
     "traceback": [
      "\u001b[1;31m---------------------------------------------------------------------------\u001b[0m",
      "\u001b[1;31mValueError\u001b[0m                                Traceback (most recent call last)",
      "\u001b[1;32m<ipython-input-51-537e0207839e>\u001b[0m in \u001b[0;36m<module>\u001b[1;34m\u001b[0m\n\u001b[1;32m----> 1\u001b[1;33m \u001b[0mx4\u001b[0m\u001b[1;33m.\u001b[0m\u001b[0mreshape\u001b[0m\u001b[1;33m(\u001b[0m\u001b[1;36m1\u001b[0m\u001b[1;33m,\u001b[0m\u001b[1;36m13\u001b[0m\u001b[1;33m)\u001b[0m\u001b[1;33m\u001b[0m\u001b[1;33m\u001b[0m\u001b[0m\n\u001b[0m",
      "\u001b[1;31mValueError\u001b[0m: cannot reshape array of size 12 into shape (1,13)"
     ]
    }
   ],
   "source": [
    "x4.reshape(1,13)"
   ]
  },
  {
   "cell_type": "code",
   "execution_count": 53,
   "metadata": {},
   "outputs": [
    {
     "name": "stdout",
     "output_type": "stream",
     "text": [
      "[[2 2 1]\n",
      " [1 9 4]\n",
      " [5 6 1]]\n",
      "[[2 2 1 1 9 4 5 6 1]]\n"
     ]
    }
   ],
   "source": [
    "x6 = np.random.randint(1,10,(3,3)) \n",
    "print(x6) \n",
    "x7=x6.reshape(1,9) \n",
    "print(x7)\n"
   ]
  },
  {
   "cell_type": "code",
   "execution_count": 54,
   "metadata": {},
   "outputs": [],
   "source": [
    "import pandas as pd"
   ]
  },
  {
   "cell_type": "code",
   "execution_count": 61,
   "metadata": {},
   "outputs": [],
   "source": [
    "df=pd.read_csv(r'D:\\Datasets\\IPL_Squad_2023_Auction_Dataset.csv')"
   ]
  },
  {
   "cell_type": "code",
   "execution_count": 59,
   "metadata": {},
   "outputs": [
    {
     "name": "stdout",
     "output_type": "stream",
     "text": [
      "     Unnamed: 0      Player's List Base Price          TYPE  COST IN ₹ (CR.)  \\\n",
      "0             0        Shivam Mavi    4000000        BOWLER              6.0   \n",
      "1             1      Joshua Little    5000000        BOWLER              4.4   \n",
      "2             2    Kane Williamson   20000000       BATSMAN              2.0   \n",
      "3             3        K.S. Bharat    2000000  WICKETKEEPER              1.2   \n",
      "4             4       Mohit Sharma    5000000        BOWLER              0.5   \n",
      "..          ...                ...        ...           ...              ...   \n",
      "563         563        Dhruv Patel    2000000   ALL-ROUNDER              NaN   \n",
      "564         564    Jack Prestwidge    2000000   ALL-ROUNDER              NaN   \n",
      "565         565     Aditya Sarvate    2000000   ALL-ROUNDER              NaN   \n",
      "566         566      Sagar Solanki    2000000   ALL-ROUNDER              NaN   \n",
      "567         567  Prenelan Subrayen    2000000   ALL-ROUNDER              NaN   \n",
      "\n",
      "     Cost IN $ (000) 2022 Squad            Team  \n",
      "0              720.0        KKR  Gujarat Titans  \n",
      "1              528.0        NaN  Gujarat Titans  \n",
      "2              240.0        SRH  Gujarat Titans  \n",
      "3              144.0         DC  Gujarat Titans  \n",
      "4               60.0        NaN  Gujarat Titans  \n",
      "..               ...        ...             ...  \n",
      "563              NaN        NaN          Unsold  \n",
      "564              NaN        NaN          Unsold  \n",
      "565              NaN        NaN          Unsold  \n",
      "566              NaN        NaN          Unsold  \n",
      "567              NaN        NaN          Unsold  \n",
      "\n",
      "[568 rows x 8 columns]\n"
     ]
    }
   ],
   "source": [
    "print(df)"
   ]
  },
  {
   "cell_type": "code",
   "execution_count": 60,
   "metadata": {},
   "outputs": [
    {
     "data": {
      "text/html": [
       "<div>\n",
       "<style scoped>\n",
       "    .dataframe tbody tr th:only-of-type {\n",
       "        vertical-align: middle;\n",
       "    }\n",
       "\n",
       "    .dataframe tbody tr th {\n",
       "        vertical-align: top;\n",
       "    }\n",
       "\n",
       "    .dataframe thead th {\n",
       "        text-align: right;\n",
       "    }\n",
       "</style>\n",
       "<table border=\"1\" class=\"dataframe\">\n",
       "  <thead>\n",
       "    <tr style=\"text-align: right;\">\n",
       "      <th></th>\n",
       "      <th>Unnamed: 0</th>\n",
       "      <th>Player's List</th>\n",
       "      <th>Base Price</th>\n",
       "      <th>TYPE</th>\n",
       "      <th>COST IN ₹ (CR.)</th>\n",
       "      <th>Cost IN $ (000)</th>\n",
       "      <th>2022 Squad</th>\n",
       "      <th>Team</th>\n",
       "    </tr>\n",
       "  </thead>\n",
       "  <tbody>\n",
       "    <tr>\n",
       "      <th>0</th>\n",
       "      <td>0</td>\n",
       "      <td>Shivam Mavi</td>\n",
       "      <td>4000000</td>\n",
       "      <td>BOWLER</td>\n",
       "      <td>6.0</td>\n",
       "      <td>720.0</td>\n",
       "      <td>KKR</td>\n",
       "      <td>Gujarat Titans</td>\n",
       "    </tr>\n",
       "    <tr>\n",
       "      <th>1</th>\n",
       "      <td>1</td>\n",
       "      <td>Joshua Little</td>\n",
       "      <td>5000000</td>\n",
       "      <td>BOWLER</td>\n",
       "      <td>4.4</td>\n",
       "      <td>528.0</td>\n",
       "      <td>NaN</td>\n",
       "      <td>Gujarat Titans</td>\n",
       "    </tr>\n",
       "    <tr>\n",
       "      <th>2</th>\n",
       "      <td>2</td>\n",
       "      <td>Kane Williamson</td>\n",
       "      <td>20000000</td>\n",
       "      <td>BATSMAN</td>\n",
       "      <td>2.0</td>\n",
       "      <td>240.0</td>\n",
       "      <td>SRH</td>\n",
       "      <td>Gujarat Titans</td>\n",
       "    </tr>\n",
       "    <tr>\n",
       "      <th>3</th>\n",
       "      <td>3</td>\n",
       "      <td>K.S. Bharat</td>\n",
       "      <td>2000000</td>\n",
       "      <td>WICKETKEEPER</td>\n",
       "      <td>1.2</td>\n",
       "      <td>144.0</td>\n",
       "      <td>DC</td>\n",
       "      <td>Gujarat Titans</td>\n",
       "    </tr>\n",
       "    <tr>\n",
       "      <th>4</th>\n",
       "      <td>4</td>\n",
       "      <td>Mohit Sharma</td>\n",
       "      <td>5000000</td>\n",
       "      <td>BOWLER</td>\n",
       "      <td>0.5</td>\n",
       "      <td>60.0</td>\n",
       "      <td>NaN</td>\n",
       "      <td>Gujarat Titans</td>\n",
       "    </tr>\n",
       "  </tbody>\n",
       "</table>\n",
       "</div>"
      ],
      "text/plain": [
       "   Unnamed: 0    Player's List Base Price          TYPE  COST IN ₹ (CR.)  \\\n",
       "0           0      Shivam Mavi    4000000        BOWLER              6.0   \n",
       "1           1    Joshua Little    5000000        BOWLER              4.4   \n",
       "2           2  Kane Williamson   20000000       BATSMAN              2.0   \n",
       "3           3      K.S. Bharat    2000000  WICKETKEEPER              1.2   \n",
       "4           4     Mohit Sharma    5000000        BOWLER              0.5   \n",
       "\n",
       "   Cost IN $ (000) 2022 Squad            Team  \n",
       "0            720.0        KKR  Gujarat Titans  \n",
       "1            528.0        NaN  Gujarat Titans  \n",
       "2            240.0        SRH  Gujarat Titans  \n",
       "3            144.0         DC  Gujarat Titans  \n",
       "4             60.0        NaN  Gujarat Titans  "
      ]
     },
     "execution_count": 60,
     "metadata": {},
     "output_type": "execute_result"
    }
   ],
   "source": [
    "df.head()"
   ]
  },
  {
   "cell_type": "code",
   "execution_count": 62,
   "metadata": {},
   "outputs": [
    {
     "data": {
      "text/plain": [
       "(568, 8)"
      ]
     },
     "execution_count": 62,
     "metadata": {},
     "output_type": "execute_result"
    }
   ],
   "source": [
    "df.shape"
   ]
  },
  {
   "cell_type": "code",
   "execution_count": 68,
   "metadata": {},
   "outputs": [],
   "source": [
    "df1=pd.read_csv(r'D:\\Datasets\\words.csv')"
   ]
  },
  {
   "cell_type": "code",
   "execution_count": 69,
   "metadata": {},
   "outputs": [
    {
     "data": {
      "text/html": [
       "<div>\n",
       "<style scoped>\n",
       "    .dataframe tbody tr th:only-of-type {\n",
       "        vertical-align: middle;\n",
       "    }\n",
       "\n",
       "    .dataframe tbody tr th {\n",
       "        vertical-align: top;\n",
       "    }\n",
       "\n",
       "    .dataframe thead th {\n",
       "        text-align: right;\n",
       "    }\n",
       "</style>\n",
       "<table border=\"1\" class=\"dataframe\">\n",
       "  <thead>\n",
       "    <tr style=\"text-align: right;\">\n",
       "      <th></th>\n",
       "      <th>Language</th>\n",
       "      <th>Approx   headwords</th>\n",
       "      <th>Approx   definitions</th>\n",
       "      <th>Dictionary</th>\n",
       "      <th>Notes</th>\n",
       "    </tr>\n",
       "  </thead>\n",
       "  <tbody>\n",
       "    <tr>\n",
       "      <th>0</th>\n",
       "      <td>Korean</td>\n",
       "      <td>1149538</td>\n",
       "      <td>NaN</td>\n",
       "      <td>우리말샘 Woori Mal Saem 2017</td>\n",
       "      <td>Online open dictionary including dialects  Sou...</td>\n",
       "    </tr>\n",
       "    <tr>\n",
       "      <th>1</th>\n",
       "      <td>Tamil</td>\n",
       "      <td>1010008</td>\n",
       "      <td>NaN</td>\n",
       "      <td>Sorkuvai</td>\n",
       "      <td>online open dictionary run  the Tamil Nadu go...</td>\n",
       "    </tr>\n",
       "    <tr>\n",
       "      <th>2</th>\n",
       "      <td>Portuguese</td>\n",
       "      <td>818000</td>\n",
       "      <td>NaN</td>\n",
       "      <td>Aulete Digital</td>\n",
       "      <td>Online dictionary including expressions</td>\n",
       "    </tr>\n",
       "    <tr>\n",
       "      <th>3</th>\n",
       "      <td>Finnish</td>\n",
       "      <td>800000</td>\n",
       "      <td>NaN</td>\n",
       "      <td>RedFox Pro</td>\n",
       "      <td>Online dictionary The free version has over 30...</td>\n",
       "    </tr>\n",
       "    <tr>\n",
       "      <th>4</th>\n",
       "      <td>Kurdish</td>\n",
       "      <td>744139</td>\n",
       "      <td>NaN</td>\n",
       "      <td>Authority  Kurdish Language Dictionary Kurdish...</td>\n",
       "      <td>contains 744,139 key words from  few Kurdish ...</td>\n",
       "    </tr>\n",
       "  </tbody>\n",
       "</table>\n",
       "</div>"
      ],
      "text/plain": [
       "     Language  Approx   headwords  Approx   definitions  \\\n",
       "0      Korean             1149538                   NaN   \n",
       "1       Tamil             1010008                   NaN   \n",
       "2  Portuguese              818000                   NaN   \n",
       "3     Finnish              800000                   NaN   \n",
       "4     Kurdish              744139                   NaN   \n",
       "\n",
       "                                          Dictionary  \\\n",
       "0                           우리말샘 Woori Mal Saem 2017   \n",
       "1                                           Sorkuvai   \n",
       "2                                     Aulete Digital   \n",
       "3                                         RedFox Pro   \n",
       "4  Authority  Kurdish Language Dictionary Kurdish...   \n",
       "\n",
       "                                               Notes  \n",
       "0  Online open dictionary including dialects  Sou...  \n",
       "1   online open dictionary run  the Tamil Nadu go...  \n",
       "2            Online dictionary including expressions  \n",
       "3  Online dictionary The free version has over 30...  \n",
       "4   contains 744,139 key words from  few Kurdish ...  "
      ]
     },
     "execution_count": 69,
     "metadata": {},
     "output_type": "execute_result"
    }
   ],
   "source": [
    "df1.head()"
   ]
  },
  {
   "cell_type": "code",
   "execution_count": 70,
   "metadata": {},
   "outputs": [
    {
     "data": {
      "text/html": [
       "<div>\n",
       "<style scoped>\n",
       "    .dataframe tbody tr th:only-of-type {\n",
       "        vertical-align: middle;\n",
       "    }\n",
       "\n",
       "    .dataframe tbody tr th {\n",
       "        vertical-align: top;\n",
       "    }\n",
       "\n",
       "    .dataframe thead th {\n",
       "        text-align: right;\n",
       "    }\n",
       "</style>\n",
       "<table border=\"1\" class=\"dataframe\">\n",
       "  <thead>\n",
       "    <tr style=\"text-align: right;\">\n",
       "      <th></th>\n",
       "      <th>Unnamed: 0</th>\n",
       "      <th>Player's List</th>\n",
       "      <th>Base Price</th>\n",
       "      <th>TYPE</th>\n",
       "      <th>COST IN ₹ (CR.)</th>\n",
       "      <th>Cost IN $ (000)</th>\n",
       "      <th>2022 Squad</th>\n",
       "      <th>Team</th>\n",
       "    </tr>\n",
       "  </thead>\n",
       "  <tbody>\n",
       "    <tr>\n",
       "      <th>563</th>\n",
       "      <td>563</td>\n",
       "      <td>Dhruv Patel</td>\n",
       "      <td>2000000</td>\n",
       "      <td>ALL-ROUNDER</td>\n",
       "      <td>NaN</td>\n",
       "      <td>NaN</td>\n",
       "      <td>NaN</td>\n",
       "      <td>Unsold</td>\n",
       "    </tr>\n",
       "    <tr>\n",
       "      <th>564</th>\n",
       "      <td>564</td>\n",
       "      <td>Jack Prestwidge</td>\n",
       "      <td>2000000</td>\n",
       "      <td>ALL-ROUNDER</td>\n",
       "      <td>NaN</td>\n",
       "      <td>NaN</td>\n",
       "      <td>NaN</td>\n",
       "      <td>Unsold</td>\n",
       "    </tr>\n",
       "    <tr>\n",
       "      <th>565</th>\n",
       "      <td>565</td>\n",
       "      <td>Aditya Sarvate</td>\n",
       "      <td>2000000</td>\n",
       "      <td>ALL-ROUNDER</td>\n",
       "      <td>NaN</td>\n",
       "      <td>NaN</td>\n",
       "      <td>NaN</td>\n",
       "      <td>Unsold</td>\n",
       "    </tr>\n",
       "    <tr>\n",
       "      <th>566</th>\n",
       "      <td>566</td>\n",
       "      <td>Sagar Solanki</td>\n",
       "      <td>2000000</td>\n",
       "      <td>ALL-ROUNDER</td>\n",
       "      <td>NaN</td>\n",
       "      <td>NaN</td>\n",
       "      <td>NaN</td>\n",
       "      <td>Unsold</td>\n",
       "    </tr>\n",
       "    <tr>\n",
       "      <th>567</th>\n",
       "      <td>567</td>\n",
       "      <td>Prenelan Subrayen</td>\n",
       "      <td>2000000</td>\n",
       "      <td>ALL-ROUNDER</td>\n",
       "      <td>NaN</td>\n",
       "      <td>NaN</td>\n",
       "      <td>NaN</td>\n",
       "      <td>Unsold</td>\n",
       "    </tr>\n",
       "  </tbody>\n",
       "</table>\n",
       "</div>"
      ],
      "text/plain": [
       "     Unnamed: 0      Player's List Base Price         TYPE  COST IN ₹ (CR.)  \\\n",
       "563         563        Dhruv Patel    2000000  ALL-ROUNDER              NaN   \n",
       "564         564    Jack Prestwidge    2000000  ALL-ROUNDER              NaN   \n",
       "565         565     Aditya Sarvate    2000000  ALL-ROUNDER              NaN   \n",
       "566         566      Sagar Solanki    2000000  ALL-ROUNDER              NaN   \n",
       "567         567  Prenelan Subrayen    2000000  ALL-ROUNDER              NaN   \n",
       "\n",
       "     Cost IN $ (000) 2022 Squad    Team  \n",
       "563              NaN        NaN  Unsold  \n",
       "564              NaN        NaN  Unsold  \n",
       "565              NaN        NaN  Unsold  \n",
       "566              NaN        NaN  Unsold  \n",
       "567              NaN        NaN  Unsold  "
      ]
     },
     "execution_count": 70,
     "metadata": {},
     "output_type": "execute_result"
    }
   ],
   "source": [
    "df.tail()"
   ]
  },
  {
   "cell_type": "code",
   "execution_count": 71,
   "metadata": {},
   "outputs": [],
   "source": [
    "df.rename(columns={'Player\\'s List':'Players','COST IN ₹ (CR.)':'Cost'},inplace=True)"
   ]
  },
  {
   "cell_type": "code",
   "execution_count": 73,
   "metadata": {},
   "outputs": [],
   "source": [
    "df.rename(columns={'Cost IN $ (000)':'cost_in_dollars'},inplace=True)"
   ]
  },
  {
   "cell_type": "code",
   "execution_count": 78,
   "metadata": {},
   "outputs": [],
   "source": [
    "df1=df[['Players','Base Price','Cost']]"
   ]
  },
  {
   "cell_type": "code",
   "execution_count": 81,
   "metadata": {},
   "outputs": [
    {
     "name": "stdout",
     "output_type": "stream",
     "text": [
      "                   Players Base Price  Cost\n",
      "20        Darshan Nalkande   Retained   0.0\n",
      "21            David Miller   Retained   0.0\n",
      "22            Matthew Wade   Retained   0.0\n",
      "23            Jayant Yadav   Retained   0.0\n",
      "24          Mohammad Shami   Retained   0.0\n",
      "..                     ...        ...   ...\n",
      "95  Rahmanullah Gurbaz (T)   Retained   0.0\n",
      "96             Rinku Singh   Retained   0.0\n",
      "97              Sam Curran   20000000  18.5\n",
      "98           Sikandar Raza    5000000   0.5\n",
      "99         Harpreet Bhatia    2000000   0.4\n",
      "\n",
      "[80 rows x 3 columns]\n"
     ]
    }
   ],
   "source": [
    "df2=df1[20:100]\n",
    "print(df2)"
   ]
  },
  {
   "cell_type": "code",
   "execution_count": 84,
   "metadata": {},
   "outputs": [
    {
     "name": "stdout",
     "output_type": "stream",
     "text": [
      "<class 'pandas.core.frame.DataFrame'>\n",
      "RangeIndex: 80 entries, 20 to 99\n",
      "Data columns (total 3 columns):\n",
      " #   Column      Non-Null Count  Dtype  \n",
      "---  ------      --------------  -----  \n",
      " 0   Players     80 non-null     object \n",
      " 1   Base Price  80 non-null     object \n",
      " 2   Cost        80 non-null     float64\n",
      "dtypes: float64(1), object(2)\n",
      "memory usage: 2.0+ KB\n"
     ]
    }
   ],
   "source": [
    "df2.info()"
   ]
  },
  {
   "cell_type": "code",
   "execution_count": 87,
   "metadata": {},
   "outputs": [],
   "source": [
    "df2=df1[df1['Cost']>=5]  "
   ]
  },
  {
   "cell_type": "code",
   "execution_count": 88,
   "metadata": {},
   "outputs": [
    {
     "data": {
      "text/html": [
       "<div>\n",
       "<style scoped>\n",
       "    .dataframe tbody tr th:only-of-type {\n",
       "        vertical-align: middle;\n",
       "    }\n",
       "\n",
       "    .dataframe tbody tr th {\n",
       "        vertical-align: top;\n",
       "    }\n",
       "\n",
       "    .dataframe thead th {\n",
       "        text-align: right;\n",
       "    }\n",
       "</style>\n",
       "<table border=\"1\" class=\"dataframe\">\n",
       "  <thead>\n",
       "    <tr style=\"text-align: right;\">\n",
       "      <th></th>\n",
       "      <th>Players</th>\n",
       "      <th>Base Price</th>\n",
       "      <th>Cost</th>\n",
       "    </tr>\n",
       "  </thead>\n",
       "  <tbody>\n",
       "    <tr>\n",
       "      <th>0</th>\n",
       "      <td>Shivam Mavi</td>\n",
       "      <td>4000000</td>\n",
       "      <td>6.00</td>\n",
       "    </tr>\n",
       "    <tr>\n",
       "      <th>25</th>\n",
       "      <td>Ben Stokes</td>\n",
       "      <td>20000000</td>\n",
       "      <td>16.25</td>\n",
       "    </tr>\n",
       "    <tr>\n",
       "      <th>50</th>\n",
       "      <td>Mukesh Kumar</td>\n",
       "      <td>2000000</td>\n",
       "      <td>5.50</td>\n",
       "    </tr>\n",
       "    <tr>\n",
       "      <th>97</th>\n",
       "      <td>Sam Curran</td>\n",
       "      <td>20000000</td>\n",
       "      <td>18.50</td>\n",
       "    </tr>\n",
       "    <tr>\n",
       "      <th>119</th>\n",
       "      <td>Nicholas Pooran</td>\n",
       "      <td>20000000</td>\n",
       "      <td>16.00</td>\n",
       "    </tr>\n",
       "    <tr>\n",
       "      <th>144</th>\n",
       "      <td>Cameron Green</td>\n",
       "      <td>20000000</td>\n",
       "      <td>17.50</td>\n",
       "    </tr>\n",
       "    <tr>\n",
       "      <th>193</th>\n",
       "      <td>Jason Holder</td>\n",
       "      <td>20000000</td>\n",
       "      <td>5.75</td>\n",
       "    </tr>\n",
       "    <tr>\n",
       "      <th>218</th>\n",
       "      <td>Harry Brook</td>\n",
       "      <td>15000000</td>\n",
       "      <td>13.25</td>\n",
       "    </tr>\n",
       "    <tr>\n",
       "      <th>219</th>\n",
       "      <td>Mayank Agarwal</td>\n",
       "      <td>10000000</td>\n",
       "      <td>8.25</td>\n",
       "    </tr>\n",
       "    <tr>\n",
       "      <th>220</th>\n",
       "      <td>Heinrich Klaasen</td>\n",
       "      <td>10000000</td>\n",
       "      <td>5.25</td>\n",
       "    </tr>\n",
       "  </tbody>\n",
       "</table>\n",
       "</div>"
      ],
      "text/plain": [
       "              Players Base Price   Cost\n",
       "0         Shivam Mavi    4000000   6.00\n",
       "25         Ben Stokes   20000000  16.25\n",
       "50       Mukesh Kumar    2000000   5.50\n",
       "97         Sam Curran   20000000  18.50\n",
       "119   Nicholas Pooran   20000000  16.00\n",
       "144     Cameron Green   20000000  17.50\n",
       "193      Jason Holder   20000000   5.75\n",
       "218       Harry Brook   15000000  13.25\n",
       "219    Mayank Agarwal   10000000   8.25\n",
       "220  Heinrich Klaasen   10000000   5.25"
      ]
     },
     "execution_count": 88,
     "metadata": {},
     "output_type": "execute_result"
    }
   ],
   "source": [
    "df2"
   ]
  },
  {
   "cell_type": "code",
   "execution_count": 89,
   "metadata": {},
   "outputs": [],
   "source": [
    "df3=df1[df1['Players']=='Mayank Agarwal']  "
   ]
  },
  {
   "cell_type": "code",
   "execution_count": 90,
   "metadata": {},
   "outputs": [
    {
     "data": {
      "text/html": [
       "<div>\n",
       "<style scoped>\n",
       "    .dataframe tbody tr th:only-of-type {\n",
       "        vertical-align: middle;\n",
       "    }\n",
       "\n",
       "    .dataframe tbody tr th {\n",
       "        vertical-align: top;\n",
       "    }\n",
       "\n",
       "    .dataframe thead th {\n",
       "        text-align: right;\n",
       "    }\n",
       "</style>\n",
       "<table border=\"1\" class=\"dataframe\">\n",
       "  <thead>\n",
       "    <tr style=\"text-align: right;\">\n",
       "      <th></th>\n",
       "      <th>Players</th>\n",
       "      <th>Base Price</th>\n",
       "      <th>Cost</th>\n",
       "    </tr>\n",
       "  </thead>\n",
       "  <tbody>\n",
       "    <tr>\n",
       "      <th>219</th>\n",
       "      <td>Mayank Agarwal</td>\n",
       "      <td>10000000</td>\n",
       "      <td>8.25</td>\n",
       "    </tr>\n",
       "  </tbody>\n",
       "</table>\n",
       "</div>"
      ],
      "text/plain": [
       "            Players Base Price  Cost\n",
       "219  Mayank Agarwal   10000000  8.25"
      ]
     },
     "execution_count": 90,
     "metadata": {},
     "output_type": "execute_result"
    }
   ],
   "source": [
    "df3"
   ]
  },
  {
   "cell_type": "code",
   "execution_count": 91,
   "metadata": {},
   "outputs": [
    {
     "name": "stdout",
     "output_type": "stream",
     "text": [
      "11.225\n"
     ]
    }
   ],
   "source": [
    "average_cost = np.average(df2['Cost'])\n",
    "print(average_cost)"
   ]
  },
  {
   "cell_type": "code",
   "execution_count": 92,
   "metadata": {},
   "outputs": [
    {
     "name": "stdout",
     "output_type": "stream",
     "text": [
      "nan\n"
     ]
    }
   ],
   "source": [
    "average_cost1 = np.average(df['Cost'])\n",
    "print(average_cost1)"
   ]
  },
  {
   "cell_type": "code",
   "execution_count": 98,
   "metadata": {},
   "outputs": [
    {
     "data": {
      "text/html": [
       "<div>\n",
       "<style scoped>\n",
       "    .dataframe tbody tr th:only-of-type {\n",
       "        vertical-align: middle;\n",
       "    }\n",
       "\n",
       "    .dataframe tbody tr th {\n",
       "        vertical-align: top;\n",
       "    }\n",
       "\n",
       "    .dataframe thead th {\n",
       "        text-align: right;\n",
       "    }\n",
       "</style>\n",
       "<table border=\"1\" class=\"dataframe\">\n",
       "  <thead>\n",
       "    <tr style=\"text-align: right;\">\n",
       "      <th></th>\n",
       "      <th>Cost</th>\n",
       "    </tr>\n",
       "  </thead>\n",
       "  <tbody>\n",
       "    <tr>\n",
       "      <th>count</th>\n",
       "      <td>10.000000</td>\n",
       "    </tr>\n",
       "    <tr>\n",
       "      <th>mean</th>\n",
       "      <td>11.225000</td>\n",
       "    </tr>\n",
       "    <tr>\n",
       "      <th>std</th>\n",
       "      <td>5.568326</td>\n",
       "    </tr>\n",
       "    <tr>\n",
       "      <th>min</th>\n",
       "      <td>5.250000</td>\n",
       "    </tr>\n",
       "    <tr>\n",
       "      <th>25%</th>\n",
       "      <td>5.812500</td>\n",
       "    </tr>\n",
       "    <tr>\n",
       "      <th>50%</th>\n",
       "      <td>10.750000</td>\n",
       "    </tr>\n",
       "    <tr>\n",
       "      <th>75%</th>\n",
       "      <td>16.187500</td>\n",
       "    </tr>\n",
       "    <tr>\n",
       "      <th>max</th>\n",
       "      <td>18.500000</td>\n",
       "    </tr>\n",
       "  </tbody>\n",
       "</table>\n",
       "</div>"
      ],
      "text/plain": [
       "            Cost\n",
       "count  10.000000\n",
       "mean   11.225000\n",
       "std     5.568326\n",
       "min     5.250000\n",
       "25%     5.812500\n",
       "50%    10.750000\n",
       "75%    16.187500\n",
       "max    18.500000"
      ]
     },
     "execution_count": 98,
     "metadata": {},
     "output_type": "execute_result"
    }
   ],
   "source": [
    "df2.describe()"
   ]
  },
  {
   "cell_type": "code",
   "execution_count": 97,
   "metadata": {},
   "outputs": [
    {
     "data": {
      "text/plain": [
       "count    10.000000\n",
       "mean     11.225000\n",
       "std       5.568326\n",
       "min       5.250000\n",
       "25%       5.812500\n",
       "50%      10.750000\n",
       "75%      16.187500\n",
       "max      18.500000\n",
       "Name: Cost, dtype: float64"
      ]
     },
     "execution_count": 97,
     "metadata": {},
     "output_type": "execute_result"
    }
   ],
   "source": [
    "df2['Cost'].describe()"
   ]
  },
  {
   "cell_type": "code",
   "execution_count": 101,
   "metadata": {},
   "outputs": [],
   "source": [
    "average_cost2 = df2['Cost'].mean()"
   ]
  },
  {
   "cell_type": "code",
   "execution_count": 102,
   "metadata": {},
   "outputs": [
    {
     "name": "stdout",
     "output_type": "stream",
     "text": [
      "11.225\n"
     ]
    }
   ],
   "source": [
    "print(average_cost2)"
   ]
  },
  {
   "cell_type": "code",
   "execution_count": 103,
   "metadata": {},
   "outputs": [],
   "source": [
    "df5=df.drop_duplicates(subset='Players')"
   ]
  },
  {
   "cell_type": "code",
   "execution_count": 104,
   "metadata": {},
   "outputs": [
    {
     "data": {
      "text/html": [
       "<div>\n",
       "<style scoped>\n",
       "    .dataframe tbody tr th:only-of-type {\n",
       "        vertical-align: middle;\n",
       "    }\n",
       "\n",
       "    .dataframe tbody tr th {\n",
       "        vertical-align: top;\n",
       "    }\n",
       "\n",
       "    .dataframe thead th {\n",
       "        text-align: right;\n",
       "    }\n",
       "</style>\n",
       "<table border=\"1\" class=\"dataframe\">\n",
       "  <thead>\n",
       "    <tr style=\"text-align: right;\">\n",
       "      <th></th>\n",
       "      <th>Unnamed: 0</th>\n",
       "      <th>Players</th>\n",
       "      <th>Base Price</th>\n",
       "      <th>TYPE</th>\n",
       "      <th>Cost</th>\n",
       "      <th>cost_in_dollars</th>\n",
       "      <th>2022 Squad</th>\n",
       "      <th>Team</th>\n",
       "    </tr>\n",
       "  </thead>\n",
       "  <tbody>\n",
       "    <tr>\n",
       "      <th>0</th>\n",
       "      <td>0</td>\n",
       "      <td>Shivam Mavi</td>\n",
       "      <td>4000000</td>\n",
       "      <td>BOWLER</td>\n",
       "      <td>6.0</td>\n",
       "      <td>720.0</td>\n",
       "      <td>KKR</td>\n",
       "      <td>Gujarat Titans</td>\n",
       "    </tr>\n",
       "    <tr>\n",
       "      <th>1</th>\n",
       "      <td>1</td>\n",
       "      <td>Joshua Little</td>\n",
       "      <td>5000000</td>\n",
       "      <td>BOWLER</td>\n",
       "      <td>4.4</td>\n",
       "      <td>528.0</td>\n",
       "      <td>NaN</td>\n",
       "      <td>Gujarat Titans</td>\n",
       "    </tr>\n",
       "    <tr>\n",
       "      <th>2</th>\n",
       "      <td>2</td>\n",
       "      <td>Kane Williamson</td>\n",
       "      <td>20000000</td>\n",
       "      <td>BATSMAN</td>\n",
       "      <td>2.0</td>\n",
       "      <td>240.0</td>\n",
       "      <td>SRH</td>\n",
       "      <td>Gujarat Titans</td>\n",
       "    </tr>\n",
       "    <tr>\n",
       "      <th>3</th>\n",
       "      <td>3</td>\n",
       "      <td>K.S. Bharat</td>\n",
       "      <td>2000000</td>\n",
       "      <td>WICKETKEEPER</td>\n",
       "      <td>1.2</td>\n",
       "      <td>144.0</td>\n",
       "      <td>DC</td>\n",
       "      <td>Gujarat Titans</td>\n",
       "    </tr>\n",
       "    <tr>\n",
       "      <th>4</th>\n",
       "      <td>4</td>\n",
       "      <td>Mohit Sharma</td>\n",
       "      <td>5000000</td>\n",
       "      <td>BOWLER</td>\n",
       "      <td>0.5</td>\n",
       "      <td>60.0</td>\n",
       "      <td>NaN</td>\n",
       "      <td>Gujarat Titans</td>\n",
       "    </tr>\n",
       "    <tr>\n",
       "      <th>...</th>\n",
       "      <td>...</td>\n",
       "      <td>...</td>\n",
       "      <td>...</td>\n",
       "      <td>...</td>\n",
       "      <td>...</td>\n",
       "      <td>...</td>\n",
       "      <td>...</td>\n",
       "      <td>...</td>\n",
       "    </tr>\n",
       "    <tr>\n",
       "      <th>563</th>\n",
       "      <td>563</td>\n",
       "      <td>Dhruv Patel</td>\n",
       "      <td>2000000</td>\n",
       "      <td>ALL-ROUNDER</td>\n",
       "      <td>NaN</td>\n",
       "      <td>NaN</td>\n",
       "      <td>NaN</td>\n",
       "      <td>Unsold</td>\n",
       "    </tr>\n",
       "    <tr>\n",
       "      <th>564</th>\n",
       "      <td>564</td>\n",
       "      <td>Jack Prestwidge</td>\n",
       "      <td>2000000</td>\n",
       "      <td>ALL-ROUNDER</td>\n",
       "      <td>NaN</td>\n",
       "      <td>NaN</td>\n",
       "      <td>NaN</td>\n",
       "      <td>Unsold</td>\n",
       "    </tr>\n",
       "    <tr>\n",
       "      <th>565</th>\n",
       "      <td>565</td>\n",
       "      <td>Aditya Sarvate</td>\n",
       "      <td>2000000</td>\n",
       "      <td>ALL-ROUNDER</td>\n",
       "      <td>NaN</td>\n",
       "      <td>NaN</td>\n",
       "      <td>NaN</td>\n",
       "      <td>Unsold</td>\n",
       "    </tr>\n",
       "    <tr>\n",
       "      <th>566</th>\n",
       "      <td>566</td>\n",
       "      <td>Sagar Solanki</td>\n",
       "      <td>2000000</td>\n",
       "      <td>ALL-ROUNDER</td>\n",
       "      <td>NaN</td>\n",
       "      <td>NaN</td>\n",
       "      <td>NaN</td>\n",
       "      <td>Unsold</td>\n",
       "    </tr>\n",
       "    <tr>\n",
       "      <th>567</th>\n",
       "      <td>567</td>\n",
       "      <td>Prenelan Subrayen</td>\n",
       "      <td>2000000</td>\n",
       "      <td>ALL-ROUNDER</td>\n",
       "      <td>NaN</td>\n",
       "      <td>NaN</td>\n",
       "      <td>NaN</td>\n",
       "      <td>Unsold</td>\n",
       "    </tr>\n",
       "  </tbody>\n",
       "</table>\n",
       "<p>565 rows × 8 columns</p>\n",
       "</div>"
      ],
      "text/plain": [
       "     Unnamed: 0            Players Base Price          TYPE  Cost  \\\n",
       "0             0        Shivam Mavi    4000000        BOWLER   6.0   \n",
       "1             1      Joshua Little    5000000        BOWLER   4.4   \n",
       "2             2    Kane Williamson   20000000       BATSMAN   2.0   \n",
       "3             3        K.S. Bharat    2000000  WICKETKEEPER   1.2   \n",
       "4             4       Mohit Sharma    5000000        BOWLER   0.5   \n",
       "..          ...                ...        ...           ...   ...   \n",
       "563         563        Dhruv Patel    2000000   ALL-ROUNDER   NaN   \n",
       "564         564    Jack Prestwidge    2000000   ALL-ROUNDER   NaN   \n",
       "565         565     Aditya Sarvate    2000000   ALL-ROUNDER   NaN   \n",
       "566         566      Sagar Solanki    2000000   ALL-ROUNDER   NaN   \n",
       "567         567  Prenelan Subrayen    2000000   ALL-ROUNDER   NaN   \n",
       "\n",
       "     cost_in_dollars 2022 Squad            Team  \n",
       "0              720.0        KKR  Gujarat Titans  \n",
       "1              528.0        NaN  Gujarat Titans  \n",
       "2              240.0        SRH  Gujarat Titans  \n",
       "3              144.0         DC  Gujarat Titans  \n",
       "4               60.0        NaN  Gujarat Titans  \n",
       "..               ...        ...             ...  \n",
       "563              NaN        NaN          Unsold  \n",
       "564              NaN        NaN          Unsold  \n",
       "565              NaN        NaN          Unsold  \n",
       "566              NaN        NaN          Unsold  \n",
       "567              NaN        NaN          Unsold  \n",
       "\n",
       "[565 rows x 8 columns]"
      ]
     },
     "execution_count": 104,
     "metadata": {},
     "output_type": "execute_result"
    }
   ],
   "source": [
    "df5"
   ]
  },
  {
   "cell_type": "code",
   "execution_count": 105,
   "metadata": {},
   "outputs": [],
   "source": [
    "df8=df[df['TYPE']=='BOWLER']  "
   ]
  },
  {
   "cell_type": "code",
   "execution_count": 106,
   "metadata": {},
   "outputs": [
    {
     "data": {
      "text/html": [
       "<div>\n",
       "<style scoped>\n",
       "    .dataframe tbody tr th:only-of-type {\n",
       "        vertical-align: middle;\n",
       "    }\n",
       "\n",
       "    .dataframe tbody tr th {\n",
       "        vertical-align: top;\n",
       "    }\n",
       "\n",
       "    .dataframe thead th {\n",
       "        text-align: right;\n",
       "    }\n",
       "</style>\n",
       "<table border=\"1\" class=\"dataframe\">\n",
       "  <thead>\n",
       "    <tr style=\"text-align: right;\">\n",
       "      <th></th>\n",
       "      <th>Unnamed: 0</th>\n",
       "      <th>Players</th>\n",
       "      <th>Base Price</th>\n",
       "      <th>TYPE</th>\n",
       "      <th>Cost</th>\n",
       "      <th>cost_in_dollars</th>\n",
       "      <th>2022 Squad</th>\n",
       "      <th>Team</th>\n",
       "    </tr>\n",
       "  </thead>\n",
       "  <tbody>\n",
       "    <tr>\n",
       "      <th>0</th>\n",
       "      <td>0</td>\n",
       "      <td>Shivam Mavi</td>\n",
       "      <td>4000000</td>\n",
       "      <td>BOWLER</td>\n",
       "      <td>6.0</td>\n",
       "      <td>720.0</td>\n",
       "      <td>KKR</td>\n",
       "      <td>Gujarat Titans</td>\n",
       "    </tr>\n",
       "    <tr>\n",
       "      <th>1</th>\n",
       "      <td>1</td>\n",
       "      <td>Joshua Little</td>\n",
       "      <td>5000000</td>\n",
       "      <td>BOWLER</td>\n",
       "      <td>4.4</td>\n",
       "      <td>528.0</td>\n",
       "      <td>NaN</td>\n",
       "      <td>Gujarat Titans</td>\n",
       "    </tr>\n",
       "    <tr>\n",
       "      <th>4</th>\n",
       "      <td>4</td>\n",
       "      <td>Mohit Sharma</td>\n",
       "      <td>5000000</td>\n",
       "      <td>BOWLER</td>\n",
       "      <td>0.5</td>\n",
       "      <td>60.0</td>\n",
       "      <td>NaN</td>\n",
       "      <td>Gujarat Titans</td>\n",
       "    </tr>\n",
       "    <tr>\n",
       "      <th>9</th>\n",
       "      <td>9</td>\n",
       "      <td>Rashid Khan</td>\n",
       "      <td>Retained</td>\n",
       "      <td>BOWLER</td>\n",
       "      <td>0.0</td>\n",
       "      <td>0.0</td>\n",
       "      <td>GT</td>\n",
       "      <td>Gujarat Titans</td>\n",
       "    </tr>\n",
       "    <tr>\n",
       "      <th>10</th>\n",
       "      <td>10</td>\n",
       "      <td>R. Sai Kishore</td>\n",
       "      <td>Retained</td>\n",
       "      <td>BOWLER</td>\n",
       "      <td>0.0</td>\n",
       "      <td>0.0</td>\n",
       "      <td>GT</td>\n",
       "      <td>Gujarat Titans</td>\n",
       "    </tr>\n",
       "    <tr>\n",
       "      <th>...</th>\n",
       "      <td>...</td>\n",
       "      <td>...</td>\n",
       "      <td>...</td>\n",
       "      <td>...</td>\n",
       "      <td>...</td>\n",
       "      <td>...</td>\n",
       "      <td>...</td>\n",
       "      <td>...</td>\n",
       "    </tr>\n",
       "    <tr>\n",
       "      <th>518</th>\n",
       "      <td>518</td>\n",
       "      <td>Trilok Nag</td>\n",
       "      <td>2000000</td>\n",
       "      <td>BOWLER</td>\n",
       "      <td>NaN</td>\n",
       "      <td>NaN</td>\n",
       "      <td>NaN</td>\n",
       "      <td>Unsold</td>\n",
       "    </tr>\n",
       "    <tr>\n",
       "      <th>519</th>\n",
       "      <td>519</td>\n",
       "      <td>Atal Bihari Rai</td>\n",
       "      <td>2000000</td>\n",
       "      <td>BOWLER</td>\n",
       "      <td>NaN</td>\n",
       "      <td>NaN</td>\n",
       "      <td>NaN</td>\n",
       "      <td>Unsold</td>\n",
       "    </tr>\n",
       "    <tr>\n",
       "      <th>520</th>\n",
       "      <td>520</td>\n",
       "      <td>Ramon Simmonds</td>\n",
       "      <td>2000000</td>\n",
       "      <td>BOWLER</td>\n",
       "      <td>NaN</td>\n",
       "      <td>NaN</td>\n",
       "      <td>NaN</td>\n",
       "      <td>Unsold</td>\n",
       "    </tr>\n",
       "    <tr>\n",
       "      <th>521</th>\n",
       "      <td>521</td>\n",
       "      <td>Rajeev Singh</td>\n",
       "      <td>2000000</td>\n",
       "      <td>BOWLER</td>\n",
       "      <td>NaN</td>\n",
       "      <td>NaN</td>\n",
       "      <td>NaN</td>\n",
       "      <td>Unsold</td>\n",
       "    </tr>\n",
       "    <tr>\n",
       "      <th>522</th>\n",
       "      <td>522</td>\n",
       "      <td>Mohd. Wasim</td>\n",
       "      <td>2000000</td>\n",
       "      <td>BOWLER</td>\n",
       "      <td>NaN</td>\n",
       "      <td>NaN</td>\n",
       "      <td>NaN</td>\n",
       "      <td>Unsold</td>\n",
       "    </tr>\n",
       "  </tbody>\n",
       "</table>\n",
       "<p>189 rows × 8 columns</p>\n",
       "</div>"
      ],
      "text/plain": [
       "     Unnamed: 0          Players Base Price    TYPE  Cost  cost_in_dollars  \\\n",
       "0             0      Shivam Mavi    4000000  BOWLER   6.0            720.0   \n",
       "1             1    Joshua Little    5000000  BOWLER   4.4            528.0   \n",
       "4             4     Mohit Sharma    5000000  BOWLER   0.5             60.0   \n",
       "9             9      Rashid Khan   Retained  BOWLER   0.0              0.0   \n",
       "10           10   R. Sai Kishore   Retained  BOWLER   0.0              0.0   \n",
       "..          ...              ...        ...     ...   ...              ...   \n",
       "518         518       Trilok Nag    2000000  BOWLER   NaN              NaN   \n",
       "519         519  Atal Bihari Rai    2000000  BOWLER   NaN              NaN   \n",
       "520         520   Ramon Simmonds    2000000  BOWLER   NaN              NaN   \n",
       "521         521     Rajeev Singh    2000000  BOWLER   NaN              NaN   \n",
       "522         522      Mohd. Wasim    2000000  BOWLER   NaN              NaN   \n",
       "\n",
       "    2022 Squad            Team  \n",
       "0          KKR  Gujarat Titans  \n",
       "1          NaN  Gujarat Titans  \n",
       "4          NaN  Gujarat Titans  \n",
       "9           GT  Gujarat Titans  \n",
       "10          GT  Gujarat Titans  \n",
       "..         ...             ...  \n",
       "518        NaN          Unsold  \n",
       "519        NaN          Unsold  \n",
       "520        NaN          Unsold  \n",
       "521        NaN          Unsold  \n",
       "522        NaN          Unsold  \n",
       "\n",
       "[189 rows x 8 columns]"
      ]
     },
     "execution_count": 106,
     "metadata": {},
     "output_type": "execute_result"
    }
   ],
   "source": [
    "df8"
   ]
  },
  {
   "cell_type": "code",
   "execution_count": 107,
   "metadata": {},
   "outputs": [],
   "source": [
    "df9=df[df['TYPE']=='ALL-ROUNDER']  "
   ]
  },
  {
   "cell_type": "code",
   "execution_count": 108,
   "metadata": {},
   "outputs": [
    {
     "data": {
      "text/html": [
       "<div>\n",
       "<style scoped>\n",
       "    .dataframe tbody tr th:only-of-type {\n",
       "        vertical-align: middle;\n",
       "    }\n",
       "\n",
       "    .dataframe tbody tr th {\n",
       "        vertical-align: top;\n",
       "    }\n",
       "\n",
       "    .dataframe thead th {\n",
       "        text-align: right;\n",
       "    }\n",
       "</style>\n",
       "<table border=\"1\" class=\"dataframe\">\n",
       "  <thead>\n",
       "    <tr style=\"text-align: right;\">\n",
       "      <th></th>\n",
       "      <th>Unnamed: 0</th>\n",
       "      <th>Players</th>\n",
       "      <th>Base Price</th>\n",
       "      <th>TYPE</th>\n",
       "      <th>Cost</th>\n",
       "      <th>cost_in_dollars</th>\n",
       "      <th>2022 Squad</th>\n",
       "      <th>Team</th>\n",
       "    </tr>\n",
       "  </thead>\n",
       "  <tbody>\n",
       "    <tr>\n",
       "      <th>5</th>\n",
       "      <td>5</td>\n",
       "      <td>Odean Smith</td>\n",
       "      <td>5000000</td>\n",
       "      <td>ALL-ROUNDER</td>\n",
       "      <td>0.5</td>\n",
       "      <td>60.0</td>\n",
       "      <td>PBKS</td>\n",
       "      <td>Gujarat Titans</td>\n",
       "    </tr>\n",
       "    <tr>\n",
       "      <th>7</th>\n",
       "      <td>7</td>\n",
       "      <td>Rahul Tewatia</td>\n",
       "      <td>Retained</td>\n",
       "      <td>ALL-ROUNDER</td>\n",
       "      <td>0.0</td>\n",
       "      <td>0.0</td>\n",
       "      <td>GT</td>\n",
       "      <td>Gujarat Titans</td>\n",
       "    </tr>\n",
       "    <tr>\n",
       "      <th>8</th>\n",
       "      <td>8</td>\n",
       "      <td>Pradeep Sangwan</td>\n",
       "      <td>Retained</td>\n",
       "      <td>ALL-ROUNDER</td>\n",
       "      <td>0.0</td>\n",
       "      <td>0.0</td>\n",
       "      <td>GT</td>\n",
       "      <td>Gujarat Titans</td>\n",
       "    </tr>\n",
       "    <tr>\n",
       "      <th>14</th>\n",
       "      <td>14</td>\n",
       "      <td>Vijay Shankar</td>\n",
       "      <td>Retained</td>\n",
       "      <td>ALL-ROUNDER</td>\n",
       "      <td>0.0</td>\n",
       "      <td>0.0</td>\n",
       "      <td>GT</td>\n",
       "      <td>Gujarat Titans</td>\n",
       "    </tr>\n",
       "    <tr>\n",
       "      <th>16</th>\n",
       "      <td>16</td>\n",
       "      <td>Hardik Pandya</td>\n",
       "      <td>Retained</td>\n",
       "      <td>ALL-ROUNDER</td>\n",
       "      <td>0.0</td>\n",
       "      <td>0.0</td>\n",
       "      <td>GT</td>\n",
       "      <td>Gujarat Titans</td>\n",
       "    </tr>\n",
       "    <tr>\n",
       "      <th>...</th>\n",
       "      <td>...</td>\n",
       "      <td>...</td>\n",
       "      <td>...</td>\n",
       "      <td>...</td>\n",
       "      <td>...</td>\n",
       "      <td>...</td>\n",
       "      <td>...</td>\n",
       "      <td>...</td>\n",
       "    </tr>\n",
       "    <tr>\n",
       "      <th>563</th>\n",
       "      <td>563</td>\n",
       "      <td>Dhruv Patel</td>\n",
       "      <td>2000000</td>\n",
       "      <td>ALL-ROUNDER</td>\n",
       "      <td>NaN</td>\n",
       "      <td>NaN</td>\n",
       "      <td>NaN</td>\n",
       "      <td>Unsold</td>\n",
       "    </tr>\n",
       "    <tr>\n",
       "      <th>564</th>\n",
       "      <td>564</td>\n",
       "      <td>Jack Prestwidge</td>\n",
       "      <td>2000000</td>\n",
       "      <td>ALL-ROUNDER</td>\n",
       "      <td>NaN</td>\n",
       "      <td>NaN</td>\n",
       "      <td>NaN</td>\n",
       "      <td>Unsold</td>\n",
       "    </tr>\n",
       "    <tr>\n",
       "      <th>565</th>\n",
       "      <td>565</td>\n",
       "      <td>Aditya Sarvate</td>\n",
       "      <td>2000000</td>\n",
       "      <td>ALL-ROUNDER</td>\n",
       "      <td>NaN</td>\n",
       "      <td>NaN</td>\n",
       "      <td>NaN</td>\n",
       "      <td>Unsold</td>\n",
       "    </tr>\n",
       "    <tr>\n",
       "      <th>566</th>\n",
       "      <td>566</td>\n",
       "      <td>Sagar Solanki</td>\n",
       "      <td>2000000</td>\n",
       "      <td>ALL-ROUNDER</td>\n",
       "      <td>NaN</td>\n",
       "      <td>NaN</td>\n",
       "      <td>NaN</td>\n",
       "      <td>Unsold</td>\n",
       "    </tr>\n",
       "    <tr>\n",
       "      <th>567</th>\n",
       "      <td>567</td>\n",
       "      <td>Prenelan Subrayen</td>\n",
       "      <td>2000000</td>\n",
       "      <td>ALL-ROUNDER</td>\n",
       "      <td>NaN</td>\n",
       "      <td>NaN</td>\n",
       "      <td>NaN</td>\n",
       "      <td>Unsold</td>\n",
       "    </tr>\n",
       "  </tbody>\n",
       "</table>\n",
       "<p>213 rows × 8 columns</p>\n",
       "</div>"
      ],
      "text/plain": [
       "     Unnamed: 0            Players Base Price         TYPE  Cost  \\\n",
       "5             5        Odean Smith    5000000  ALL-ROUNDER   0.5   \n",
       "7             7      Rahul Tewatia   Retained  ALL-ROUNDER   0.0   \n",
       "8             8    Pradeep Sangwan   Retained  ALL-ROUNDER   0.0   \n",
       "14           14      Vijay Shankar   Retained  ALL-ROUNDER   0.0   \n",
       "16           16      Hardik Pandya   Retained  ALL-ROUNDER   0.0   \n",
       "..          ...                ...        ...          ...   ...   \n",
       "563         563        Dhruv Patel    2000000  ALL-ROUNDER   NaN   \n",
       "564         564    Jack Prestwidge    2000000  ALL-ROUNDER   NaN   \n",
       "565         565     Aditya Sarvate    2000000  ALL-ROUNDER   NaN   \n",
       "566         566      Sagar Solanki    2000000  ALL-ROUNDER   NaN   \n",
       "567         567  Prenelan Subrayen    2000000  ALL-ROUNDER   NaN   \n",
       "\n",
       "     cost_in_dollars 2022 Squad            Team  \n",
       "5               60.0       PBKS  Gujarat Titans  \n",
       "7                0.0         GT  Gujarat Titans  \n",
       "8                0.0         GT  Gujarat Titans  \n",
       "14               0.0         GT  Gujarat Titans  \n",
       "16               0.0         GT  Gujarat Titans  \n",
       "..               ...        ...             ...  \n",
       "563              NaN        NaN          Unsold  \n",
       "564              NaN        NaN          Unsold  \n",
       "565              NaN        NaN          Unsold  \n",
       "566              NaN        NaN          Unsold  \n",
       "567              NaN        NaN          Unsold  \n",
       "\n",
       "[213 rows x 8 columns]"
      ]
     },
     "execution_count": 108,
     "metadata": {},
     "output_type": "execute_result"
    }
   ],
   "source": [
    "df9"
   ]
  },
  {
   "cell_type": "code",
   "execution_count": 109,
   "metadata": {},
   "outputs": [],
   "source": [
    "df9=df[20:100]"
   ]
  },
  {
   "cell_type": "code",
   "execution_count": 110,
   "metadata": {},
   "outputs": [
    {
     "data": {
      "text/html": [
       "<div>\n",
       "<style scoped>\n",
       "    .dataframe tbody tr th:only-of-type {\n",
       "        vertical-align: middle;\n",
       "    }\n",
       "\n",
       "    .dataframe tbody tr th {\n",
       "        vertical-align: top;\n",
       "    }\n",
       "\n",
       "    .dataframe thead th {\n",
       "        text-align: right;\n",
       "    }\n",
       "</style>\n",
       "<table border=\"1\" class=\"dataframe\">\n",
       "  <thead>\n",
       "    <tr style=\"text-align: right;\">\n",
       "      <th></th>\n",
       "      <th>Unnamed: 0</th>\n",
       "      <th>Players</th>\n",
       "      <th>Base Price</th>\n",
       "      <th>TYPE</th>\n",
       "      <th>Cost</th>\n",
       "      <th>cost_in_dollars</th>\n",
       "      <th>2022 Squad</th>\n",
       "      <th>Team</th>\n",
       "    </tr>\n",
       "  </thead>\n",
       "  <tbody>\n",
       "    <tr>\n",
       "      <th>20</th>\n",
       "      <td>20</td>\n",
       "      <td>Darshan Nalkande</td>\n",
       "      <td>Retained</td>\n",
       "      <td>ALL-ROUNDER</td>\n",
       "      <td>0.0</td>\n",
       "      <td>0.0</td>\n",
       "      <td>GT</td>\n",
       "      <td>Gujarat Titans</td>\n",
       "    </tr>\n",
       "    <tr>\n",
       "      <th>21</th>\n",
       "      <td>21</td>\n",
       "      <td>David Miller</td>\n",
       "      <td>Retained</td>\n",
       "      <td>BATSMAN</td>\n",
       "      <td>0.0</td>\n",
       "      <td>0.0</td>\n",
       "      <td>GT</td>\n",
       "      <td>Gujarat Titans</td>\n",
       "    </tr>\n",
       "    <tr>\n",
       "      <th>22</th>\n",
       "      <td>22</td>\n",
       "      <td>Matthew Wade</td>\n",
       "      <td>Retained</td>\n",
       "      <td>WICKETKEEPER</td>\n",
       "      <td>0.0</td>\n",
       "      <td>0.0</td>\n",
       "      <td>GT</td>\n",
       "      <td>Gujarat Titans</td>\n",
       "    </tr>\n",
       "    <tr>\n",
       "      <th>23</th>\n",
       "      <td>23</td>\n",
       "      <td>Jayant Yadav</td>\n",
       "      <td>Retained</td>\n",
       "      <td>ALL-ROUNDER</td>\n",
       "      <td>0.0</td>\n",
       "      <td>0.0</td>\n",
       "      <td>GT</td>\n",
       "      <td>Gujarat Titans</td>\n",
       "    </tr>\n",
       "    <tr>\n",
       "      <th>24</th>\n",
       "      <td>24</td>\n",
       "      <td>Mohammad Shami</td>\n",
       "      <td>Retained</td>\n",
       "      <td>BOWLER</td>\n",
       "      <td>0.0</td>\n",
       "      <td>0.0</td>\n",
       "      <td>GT</td>\n",
       "      <td>Gujarat Titans</td>\n",
       "    </tr>\n",
       "    <tr>\n",
       "      <th>...</th>\n",
       "      <td>...</td>\n",
       "      <td>...</td>\n",
       "      <td>...</td>\n",
       "      <td>...</td>\n",
       "      <td>...</td>\n",
       "      <td>...</td>\n",
       "      <td>...</td>\n",
       "      <td>...</td>\n",
       "    </tr>\n",
       "    <tr>\n",
       "      <th>95</th>\n",
       "      <td>95</td>\n",
       "      <td>Rahmanullah Gurbaz (T)</td>\n",
       "      <td>Retained</td>\n",
       "      <td>WICKETKEEPER</td>\n",
       "      <td>0.0</td>\n",
       "      <td>0.0</td>\n",
       "      <td>KKR</td>\n",
       "      <td>Kolkata Knight Riders</td>\n",
       "    </tr>\n",
       "    <tr>\n",
       "      <th>96</th>\n",
       "      <td>96</td>\n",
       "      <td>Rinku Singh</td>\n",
       "      <td>Retained</td>\n",
       "      <td>BATSMAN</td>\n",
       "      <td>0.0</td>\n",
       "      <td>0.0</td>\n",
       "      <td>KKR</td>\n",
       "      <td>Kolkata Knight Riders</td>\n",
       "    </tr>\n",
       "    <tr>\n",
       "      <th>97</th>\n",
       "      <td>97</td>\n",
       "      <td>Sam Curran</td>\n",
       "      <td>20000000</td>\n",
       "      <td>ALL-ROUNDER</td>\n",
       "      <td>18.5</td>\n",
       "      <td>2220.0</td>\n",
       "      <td>NaN</td>\n",
       "      <td>Punjab Super Kings</td>\n",
       "    </tr>\n",
       "    <tr>\n",
       "      <th>98</th>\n",
       "      <td>98</td>\n",
       "      <td>Sikandar Raza</td>\n",
       "      <td>5000000</td>\n",
       "      <td>ALL-ROUNDER</td>\n",
       "      <td>0.5</td>\n",
       "      <td>60.0</td>\n",
       "      <td>NaN</td>\n",
       "      <td>Punjab Super Kings</td>\n",
       "    </tr>\n",
       "    <tr>\n",
       "      <th>99</th>\n",
       "      <td>99</td>\n",
       "      <td>Harpreet Bhatia</td>\n",
       "      <td>2000000</td>\n",
       "      <td>BATSMAN</td>\n",
       "      <td>0.4</td>\n",
       "      <td>48.0</td>\n",
       "      <td>NaN</td>\n",
       "      <td>Punjab Super Kings</td>\n",
       "    </tr>\n",
       "  </tbody>\n",
       "</table>\n",
       "<p>80 rows × 8 columns</p>\n",
       "</div>"
      ],
      "text/plain": [
       "    Unnamed: 0                 Players Base Price          TYPE  Cost  \\\n",
       "20          20        Darshan Nalkande   Retained   ALL-ROUNDER   0.0   \n",
       "21          21            David Miller   Retained       BATSMAN   0.0   \n",
       "22          22            Matthew Wade   Retained  WICKETKEEPER   0.0   \n",
       "23          23            Jayant Yadav   Retained   ALL-ROUNDER   0.0   \n",
       "24          24          Mohammad Shami   Retained        BOWLER   0.0   \n",
       "..         ...                     ...        ...           ...   ...   \n",
       "95          95  Rahmanullah Gurbaz (T)   Retained  WICKETKEEPER   0.0   \n",
       "96          96             Rinku Singh   Retained       BATSMAN   0.0   \n",
       "97          97              Sam Curran   20000000   ALL-ROUNDER  18.5   \n",
       "98          98           Sikandar Raza    5000000   ALL-ROUNDER   0.5   \n",
       "99          99         Harpreet Bhatia    2000000       BATSMAN   0.4   \n",
       "\n",
       "    cost_in_dollars 2022 Squad                   Team  \n",
       "20              0.0         GT         Gujarat Titans  \n",
       "21              0.0         GT         Gujarat Titans  \n",
       "22              0.0         GT         Gujarat Titans  \n",
       "23              0.0         GT         Gujarat Titans  \n",
       "24              0.0         GT         Gujarat Titans  \n",
       "..              ...        ...                    ...  \n",
       "95              0.0        KKR  Kolkata Knight Riders  \n",
       "96              0.0        KKR  Kolkata Knight Riders  \n",
       "97           2220.0        NaN     Punjab Super Kings  \n",
       "98             60.0        NaN     Punjab Super Kings  \n",
       "99             48.0        NaN     Punjab Super Kings  \n",
       "\n",
       "[80 rows x 8 columns]"
      ]
     },
     "execution_count": 110,
     "metadata": {},
     "output_type": "execute_result"
    }
   ],
   "source": [
    "df9"
   ]
  },
  {
   "cell_type": "code",
   "execution_count": 111,
   "metadata": {},
   "outputs": [],
   "source": [
    "df10=df9[df9['TYPE']=='ALL-ROUNDER']  "
   ]
  },
  {
   "cell_type": "code",
   "execution_count": 112,
   "metadata": {},
   "outputs": [
    {
     "data": {
      "text/html": [
       "<div>\n",
       "<style scoped>\n",
       "    .dataframe tbody tr th:only-of-type {\n",
       "        vertical-align: middle;\n",
       "    }\n",
       "\n",
       "    .dataframe tbody tr th {\n",
       "        vertical-align: top;\n",
       "    }\n",
       "\n",
       "    .dataframe thead th {\n",
       "        text-align: right;\n",
       "    }\n",
       "</style>\n",
       "<table border=\"1\" class=\"dataframe\">\n",
       "  <thead>\n",
       "    <tr style=\"text-align: right;\">\n",
       "      <th></th>\n",
       "      <th>Unnamed: 0</th>\n",
       "      <th>Players</th>\n",
       "      <th>Base Price</th>\n",
       "      <th>TYPE</th>\n",
       "      <th>Cost</th>\n",
       "      <th>cost_in_dollars</th>\n",
       "      <th>2022 Squad</th>\n",
       "      <th>Team</th>\n",
       "    </tr>\n",
       "  </thead>\n",
       "  <tbody>\n",
       "    <tr>\n",
       "      <th>20</th>\n",
       "      <td>20</td>\n",
       "      <td>Darshan Nalkande</td>\n",
       "      <td>Retained</td>\n",
       "      <td>ALL-ROUNDER</td>\n",
       "      <td>0.00</td>\n",
       "      <td>0.0</td>\n",
       "      <td>GT</td>\n",
       "      <td>Gujarat Titans</td>\n",
       "    </tr>\n",
       "    <tr>\n",
       "      <th>23</th>\n",
       "      <td>23</td>\n",
       "      <td>Jayant Yadav</td>\n",
       "      <td>Retained</td>\n",
       "      <td>ALL-ROUNDER</td>\n",
       "      <td>0.00</td>\n",
       "      <td>0.0</td>\n",
       "      <td>GT</td>\n",
       "      <td>Gujarat Titans</td>\n",
       "    </tr>\n",
       "    <tr>\n",
       "      <th>25</th>\n",
       "      <td>25</td>\n",
       "      <td>Ben Stokes</td>\n",
       "      <td>20000000</td>\n",
       "      <td>ALL-ROUNDER</td>\n",
       "      <td>16.25</td>\n",
       "      <td>1950.0</td>\n",
       "      <td>NaN</td>\n",
       "      <td>Chennai Super Kings</td>\n",
       "    </tr>\n",
       "    <tr>\n",
       "      <th>27</th>\n",
       "      <td>27</td>\n",
       "      <td>Nishant Sindhu</td>\n",
       "      <td>2000000</td>\n",
       "      <td>ALL-ROUNDER</td>\n",
       "      <td>0.60</td>\n",
       "      <td>72.0</td>\n",
       "      <td>NaN</td>\n",
       "      <td>Chennai Super Kings</td>\n",
       "    </tr>\n",
       "    <tr>\n",
       "      <th>29</th>\n",
       "      <td>29</td>\n",
       "      <td>Bhagath Varma</td>\n",
       "      <td>2000000</td>\n",
       "      <td>ALL-ROUNDER</td>\n",
       "      <td>0.20</td>\n",
       "      <td>24.0</td>\n",
       "      <td>CSK</td>\n",
       "      <td>Chennai Super Kings</td>\n",
       "    </tr>\n",
       "    <tr>\n",
       "      <th>30</th>\n",
       "      <td>30</td>\n",
       "      <td>Ajay Mandal</td>\n",
       "      <td>2000000</td>\n",
       "      <td>ALL-ROUNDER</td>\n",
       "      <td>0.20</td>\n",
       "      <td>24.0</td>\n",
       "      <td>NaN</td>\n",
       "      <td>Chennai Super Kings</td>\n",
       "    </tr>\n",
       "    <tr>\n",
       "      <th>32</th>\n",
       "      <td>32</td>\n",
       "      <td>Ravindra Jadeja</td>\n",
       "      <td>Retained</td>\n",
       "      <td>ALL-ROUNDER</td>\n",
       "      <td>0.00</td>\n",
       "      <td>0.0</td>\n",
       "      <td>CSK</td>\n",
       "      <td>Chennai Super Kings</td>\n",
       "    </tr>\n",
       "    <tr>\n",
       "      <th>33</th>\n",
       "      <td>33</td>\n",
       "      <td>Rajvardhan Hangargekar</td>\n",
       "      <td>Retained</td>\n",
       "      <td>ALL-ROUNDER</td>\n",
       "      <td>0.00</td>\n",
       "      <td>0.0</td>\n",
       "      <td>CSK</td>\n",
       "      <td>Chennai Super Kings</td>\n",
       "    </tr>\n",
       "    <tr>\n",
       "      <th>40</th>\n",
       "      <td>40</td>\n",
       "      <td>Shivam Dube</td>\n",
       "      <td>Retained</td>\n",
       "      <td>ALL-ROUNDER</td>\n",
       "      <td>0.00</td>\n",
       "      <td>0.0</td>\n",
       "      <td>CSK</td>\n",
       "      <td>Chennai Super Kings</td>\n",
       "    </tr>\n",
       "    <tr>\n",
       "      <th>45</th>\n",
       "      <td>45</td>\n",
       "      <td>Dwaine Pretorius</td>\n",
       "      <td>Retained</td>\n",
       "      <td>ALL-ROUNDER</td>\n",
       "      <td>0.00</td>\n",
       "      <td>0.0</td>\n",
       "      <td>CSK</td>\n",
       "      <td>Chennai Super Kings</td>\n",
       "    </tr>\n",
       "    <tr>\n",
       "      <th>47</th>\n",
       "      <td>47</td>\n",
       "      <td>Moeen Ali</td>\n",
       "      <td>Retained</td>\n",
       "      <td>ALL-ROUNDER</td>\n",
       "      <td>0.00</td>\n",
       "      <td>0.0</td>\n",
       "      <td>CSK</td>\n",
       "      <td>Chennai Super Kings</td>\n",
       "    </tr>\n",
       "    <tr>\n",
       "      <th>48</th>\n",
       "      <td>48</td>\n",
       "      <td>Mitchell Santner</td>\n",
       "      <td>Retained</td>\n",
       "      <td>ALL-ROUNDER</td>\n",
       "      <td>0.00</td>\n",
       "      <td>0.0</td>\n",
       "      <td>CSK</td>\n",
       "      <td>Chennai Super Kings</td>\n",
       "    </tr>\n",
       "    <tr>\n",
       "      <th>55</th>\n",
       "      <td>55</td>\n",
       "      <td>Ripal Patel</td>\n",
       "      <td>Retained</td>\n",
       "      <td>ALL-ROUNDER</td>\n",
       "      <td>0.00</td>\n",
       "      <td>0.0</td>\n",
       "      <td>DC</td>\n",
       "      <td>Delhi Capitals</td>\n",
       "    </tr>\n",
       "    <tr>\n",
       "      <th>56</th>\n",
       "      <td>56</td>\n",
       "      <td>Pravin Dubey</td>\n",
       "      <td>Retained</td>\n",
       "      <td>ALL-ROUNDER</td>\n",
       "      <td>0.00</td>\n",
       "      <td>0.0</td>\n",
       "      <td>DC</td>\n",
       "      <td>Delhi Capitals</td>\n",
       "    </tr>\n",
       "    <tr>\n",
       "      <th>60</th>\n",
       "      <td>60</td>\n",
       "      <td>Yash Dhull</td>\n",
       "      <td>Retained</td>\n",
       "      <td>ALL-ROUNDER</td>\n",
       "      <td>0.00</td>\n",
       "      <td>0.0</td>\n",
       "      <td>DC</td>\n",
       "      <td>Delhi Capitals</td>\n",
       "    </tr>\n",
       "    <tr>\n",
       "      <th>61</th>\n",
       "      <td>61</td>\n",
       "      <td>Vicky Ostwal</td>\n",
       "      <td>Retained</td>\n",
       "      <td>ALL-ROUNDER</td>\n",
       "      <td>0.00</td>\n",
       "      <td>0.0</td>\n",
       "      <td>DC</td>\n",
       "      <td>Delhi Capitals</td>\n",
       "    </tr>\n",
       "    <tr>\n",
       "      <th>63</th>\n",
       "      <td>63</td>\n",
       "      <td>Sarfaraz Khan</td>\n",
       "      <td>Retained</td>\n",
       "      <td>ALL-ROUNDER</td>\n",
       "      <td>0.00</td>\n",
       "      <td>0.0</td>\n",
       "      <td>DC</td>\n",
       "      <td>Delhi Capitals</td>\n",
       "    </tr>\n",
       "    <tr>\n",
       "      <th>65</th>\n",
       "      <td>65</td>\n",
       "      <td>Lalit Yadav</td>\n",
       "      <td>Retained</td>\n",
       "      <td>ALL-ROUNDER</td>\n",
       "      <td>0.00</td>\n",
       "      <td>0.0</td>\n",
       "      <td>DC</td>\n",
       "      <td>Delhi Capitals</td>\n",
       "    </tr>\n",
       "    <tr>\n",
       "      <th>66</th>\n",
       "      <td>66</td>\n",
       "      <td>Axar Patel</td>\n",
       "      <td>Retained</td>\n",
       "      <td>ALL-ROUNDER</td>\n",
       "      <td>0.00</td>\n",
       "      <td>0.0</td>\n",
       "      <td>DC</td>\n",
       "      <td>Delhi Capitals</td>\n",
       "    </tr>\n",
       "    <tr>\n",
       "      <th>68</th>\n",
       "      <td>68</td>\n",
       "      <td>Aman Khan (T)</td>\n",
       "      <td>Retained</td>\n",
       "      <td>ALL-ROUNDER</td>\n",
       "      <td>0.00</td>\n",
       "      <td>0.0</td>\n",
       "      <td>DC</td>\n",
       "      <td>Delhi Capitals</td>\n",
       "    </tr>\n",
       "    <tr>\n",
       "      <th>73</th>\n",
       "      <td>73</td>\n",
       "      <td>Kamlesh Nagarkoti</td>\n",
       "      <td>Retained</td>\n",
       "      <td>ALL-ROUNDER</td>\n",
       "      <td>0.00</td>\n",
       "      <td>0.0</td>\n",
       "      <td>DC</td>\n",
       "      <td>Delhi Capitals</td>\n",
       "    </tr>\n",
       "    <tr>\n",
       "      <th>74</th>\n",
       "      <td>74</td>\n",
       "      <td>Mitchell Marsh</td>\n",
       "      <td>Retained</td>\n",
       "      <td>ALL-ROUNDER</td>\n",
       "      <td>0.00</td>\n",
       "      <td>0.0</td>\n",
       "      <td>DC</td>\n",
       "      <td>Delhi Capitals</td>\n",
       "    </tr>\n",
       "    <tr>\n",
       "      <th>75</th>\n",
       "      <td>75</td>\n",
       "      <td>Shakib Al Hasan</td>\n",
       "      <td>1500000</td>\n",
       "      <td>ALL-ROUNDER</td>\n",
       "      <td>1.50</td>\n",
       "      <td>180.0</td>\n",
       "      <td>NaN</td>\n",
       "      <td>Kolkata Knight Riders</td>\n",
       "    </tr>\n",
       "    <tr>\n",
       "      <th>76</th>\n",
       "      <td>76</td>\n",
       "      <td>David Wiese</td>\n",
       "      <td>10000000</td>\n",
       "      <td>ALL-ROUNDER</td>\n",
       "      <td>1.00</td>\n",
       "      <td>120.0</td>\n",
       "      <td>NaN</td>\n",
       "      <td>Kolkata Knight Riders</td>\n",
       "    </tr>\n",
       "    <tr>\n",
       "      <th>89</th>\n",
       "      <td>89</td>\n",
       "      <td>Venkatesh Iyer</td>\n",
       "      <td>Retained</td>\n",
       "      <td>ALL-ROUNDER</td>\n",
       "      <td>0.00</td>\n",
       "      <td>0.0</td>\n",
       "      <td>KKR</td>\n",
       "      <td>Kolkata Knight Riders</td>\n",
       "    </tr>\n",
       "    <tr>\n",
       "      <th>91</th>\n",
       "      <td>91</td>\n",
       "      <td>Anukul Roy</td>\n",
       "      <td>Retained</td>\n",
       "      <td>ALL-ROUNDER</td>\n",
       "      <td>0.00</td>\n",
       "      <td>0.0</td>\n",
       "      <td>KKR</td>\n",
       "      <td>Kolkata Knight Riders</td>\n",
       "    </tr>\n",
       "    <tr>\n",
       "      <th>92</th>\n",
       "      <td>92</td>\n",
       "      <td>Andre Russell</td>\n",
       "      <td>Retained</td>\n",
       "      <td>ALL-ROUNDER</td>\n",
       "      <td>0.00</td>\n",
       "      <td>0.0</td>\n",
       "      <td>KKR</td>\n",
       "      <td>Kolkata Knight Riders</td>\n",
       "    </tr>\n",
       "    <tr>\n",
       "      <th>94</th>\n",
       "      <td>94</td>\n",
       "      <td>Nitish Rana</td>\n",
       "      <td>Retained</td>\n",
       "      <td>ALL-ROUNDER</td>\n",
       "      <td>0.00</td>\n",
       "      <td>0.0</td>\n",
       "      <td>KKR</td>\n",
       "      <td>Kolkata Knight Riders</td>\n",
       "    </tr>\n",
       "    <tr>\n",
       "      <th>97</th>\n",
       "      <td>97</td>\n",
       "      <td>Sam Curran</td>\n",
       "      <td>20000000</td>\n",
       "      <td>ALL-ROUNDER</td>\n",
       "      <td>18.50</td>\n",
       "      <td>2220.0</td>\n",
       "      <td>NaN</td>\n",
       "      <td>Punjab Super Kings</td>\n",
       "    </tr>\n",
       "    <tr>\n",
       "      <th>98</th>\n",
       "      <td>98</td>\n",
       "      <td>Sikandar Raza</td>\n",
       "      <td>5000000</td>\n",
       "      <td>ALL-ROUNDER</td>\n",
       "      <td>0.50</td>\n",
       "      <td>60.0</td>\n",
       "      <td>NaN</td>\n",
       "      <td>Punjab Super Kings</td>\n",
       "    </tr>\n",
       "  </tbody>\n",
       "</table>\n",
       "</div>"
      ],
      "text/plain": [
       "    Unnamed: 0                 Players Base Price         TYPE   Cost  \\\n",
       "20          20        Darshan Nalkande   Retained  ALL-ROUNDER   0.00   \n",
       "23          23            Jayant Yadav   Retained  ALL-ROUNDER   0.00   \n",
       "25          25              Ben Stokes   20000000  ALL-ROUNDER  16.25   \n",
       "27          27          Nishant Sindhu    2000000  ALL-ROUNDER   0.60   \n",
       "29          29           Bhagath Varma    2000000  ALL-ROUNDER   0.20   \n",
       "30          30             Ajay Mandal    2000000  ALL-ROUNDER   0.20   \n",
       "32          32         Ravindra Jadeja   Retained  ALL-ROUNDER   0.00   \n",
       "33          33  Rajvardhan Hangargekar   Retained  ALL-ROUNDER   0.00   \n",
       "40          40             Shivam Dube   Retained  ALL-ROUNDER   0.00   \n",
       "45          45        Dwaine Pretorius   Retained  ALL-ROUNDER   0.00   \n",
       "47          47               Moeen Ali   Retained  ALL-ROUNDER   0.00   \n",
       "48          48        Mitchell Santner   Retained  ALL-ROUNDER   0.00   \n",
       "55          55             Ripal Patel   Retained  ALL-ROUNDER   0.00   \n",
       "56          56            Pravin Dubey   Retained  ALL-ROUNDER   0.00   \n",
       "60          60              Yash Dhull   Retained  ALL-ROUNDER   0.00   \n",
       "61          61            Vicky Ostwal   Retained  ALL-ROUNDER   0.00   \n",
       "63          63           Sarfaraz Khan   Retained  ALL-ROUNDER   0.00   \n",
       "65          65             Lalit Yadav   Retained  ALL-ROUNDER   0.00   \n",
       "66          66              Axar Patel   Retained  ALL-ROUNDER   0.00   \n",
       "68          68           Aman Khan (T)   Retained  ALL-ROUNDER   0.00   \n",
       "73          73       Kamlesh Nagarkoti   Retained  ALL-ROUNDER   0.00   \n",
       "74          74          Mitchell Marsh   Retained  ALL-ROUNDER   0.00   \n",
       "75          75         Shakib Al Hasan    1500000  ALL-ROUNDER   1.50   \n",
       "76          76             David Wiese   10000000  ALL-ROUNDER   1.00   \n",
       "89          89          Venkatesh Iyer   Retained  ALL-ROUNDER   0.00   \n",
       "91          91              Anukul Roy   Retained  ALL-ROUNDER   0.00   \n",
       "92          92           Andre Russell   Retained  ALL-ROUNDER   0.00   \n",
       "94          94             Nitish Rana   Retained  ALL-ROUNDER   0.00   \n",
       "97          97              Sam Curran   20000000  ALL-ROUNDER  18.50   \n",
       "98          98           Sikandar Raza    5000000  ALL-ROUNDER   0.50   \n",
       "\n",
       "    cost_in_dollars 2022 Squad                   Team  \n",
       "20              0.0         GT         Gujarat Titans  \n",
       "23              0.0         GT         Gujarat Titans  \n",
       "25           1950.0        NaN    Chennai Super Kings  \n",
       "27             72.0        NaN    Chennai Super Kings  \n",
       "29             24.0        CSK    Chennai Super Kings  \n",
       "30             24.0        NaN    Chennai Super Kings  \n",
       "32              0.0        CSK    Chennai Super Kings  \n",
       "33              0.0        CSK    Chennai Super Kings  \n",
       "40              0.0        CSK    Chennai Super Kings  \n",
       "45              0.0        CSK    Chennai Super Kings  \n",
       "47              0.0        CSK    Chennai Super Kings  \n",
       "48              0.0        CSK    Chennai Super Kings  \n",
       "55              0.0         DC         Delhi Capitals  \n",
       "56              0.0         DC         Delhi Capitals  \n",
       "60              0.0         DC         Delhi Capitals  \n",
       "61              0.0         DC         Delhi Capitals  \n",
       "63              0.0         DC         Delhi Capitals  \n",
       "65              0.0         DC         Delhi Capitals  \n",
       "66              0.0         DC         Delhi Capitals  \n",
       "68              0.0         DC         Delhi Capitals  \n",
       "73              0.0         DC         Delhi Capitals  \n",
       "74              0.0         DC         Delhi Capitals  \n",
       "75            180.0        NaN  Kolkata Knight Riders  \n",
       "76            120.0        NaN  Kolkata Knight Riders  \n",
       "89              0.0        KKR  Kolkata Knight Riders  \n",
       "91              0.0        KKR  Kolkata Knight Riders  \n",
       "92              0.0        KKR  Kolkata Knight Riders  \n",
       "94              0.0        KKR  Kolkata Knight Riders  \n",
       "97           2220.0        NaN     Punjab Super Kings  \n",
       "98             60.0        NaN     Punjab Super Kings  "
      ]
     },
     "execution_count": 112,
     "metadata": {},
     "output_type": "execute_result"
    }
   ],
   "source": [
    "df10"
   ]
  },
  {
   "cell_type": "code",
   "execution_count": 115,
   "metadata": {},
   "outputs": [],
   "source": [
    "grouped_df = df9.groupby('Team')['Cost'].sum()\n"
   ]
  },
  {
   "cell_type": "code",
   "execution_count": 116,
   "metadata": {},
   "outputs": [
    {
     "data": {
      "text/plain": [
       "Team\n",
       "Chennai Super Kings      18.95\n",
       "Delhi Capitals           15.00\n",
       "Gujarat Titans            0.00\n",
       "Kolkata Knight Riders     5.40\n",
       "Punjab Super Kings       19.40\n",
       "Name: Cost, dtype: float64"
      ]
     },
     "execution_count": 116,
     "metadata": {},
     "output_type": "execute_result"
    }
   ],
   "source": [
    "grouped_df"
   ]
  },
  {
   "cell_type": "code",
   "execution_count": 122,
   "metadata": {},
   "outputs": [],
   "source": [
    "grouped_df = df9.groupby('TYPE')['Cost'].sum()"
   ]
  },
  {
   "cell_type": "code",
   "execution_count": 123,
   "metadata": {},
   "outputs": [
    {
     "data": {
      "text/plain": [
       "TYPE\n",
       "ALL-ROUNDER     38.75\n",
       "BATSMAN          8.60\n",
       "BOWLER           8.00\n",
       "WICKETKEEPER     3.40\n",
       "Name: Cost, dtype: float64"
      ]
     },
     "execution_count": 123,
     "metadata": {},
     "output_type": "execute_result"
    }
   ],
   "source": [
    "grouped_df"
   ]
  },
  {
   "cell_type": "code",
   "execution_count": 124,
   "metadata": {},
   "outputs": [],
   "source": [
    "dff=pd.read_csv('D:\\Datasets\\IIITDM.csv')"
   ]
  },
  {
   "cell_type": "code",
   "execution_count": 125,
   "metadata": {},
   "outputs": [
    {
     "data": {
      "text/html": [
       "<div>\n",
       "<style scoped>\n",
       "    .dataframe tbody tr th:only-of-type {\n",
       "        vertical-align: middle;\n",
       "    }\n",
       "\n",
       "    .dataframe tbody tr th {\n",
       "        vertical-align: top;\n",
       "    }\n",
       "\n",
       "    .dataframe thead th {\n",
       "        text-align: right;\n",
       "    }\n",
       "</style>\n",
       "<table border=\"1\" class=\"dataframe\">\n",
       "  <thead>\n",
       "    <tr style=\"text-align: right;\">\n",
       "      <th></th>\n",
       "      <th>Timestamp</th>\n",
       "      <th>Email Address</th>\n",
       "      <th>Name</th>\n",
       "      <th>Branch</th>\n",
       "      <th>Organization</th>\n",
       "      <th>Highest Qualification</th>\n",
       "      <th>Contact number</th>\n",
       "      <th>Feedback</th>\n",
       "      <th>Remarks</th>\n",
       "    </tr>\n",
       "  </thead>\n",
       "  <tbody>\n",
       "    <tr>\n",
       "      <th>0</th>\n",
       "      <td>5-20-2023 15:56:41</td>\n",
       "      <td>drrashmiagrawal78@gmail.com</td>\n",
       "      <td>Rashmi Agrawal</td>\n",
       "      <td>CSE</td>\n",
       "      <td>Manav Rachna international institute of resear...</td>\n",
       "      <td>PhD</td>\n",
       "      <td>9810123398</td>\n",
       "      <td>Good</td>\n",
       "      <td>NaN</td>\n",
       "    </tr>\n",
       "    <tr>\n",
       "      <th>1</th>\n",
       "      <td>5-20-2023 15:57:06</td>\n",
       "      <td>amitphys17@gmail.com</td>\n",
       "      <td>Amit Kumar Vishwakarma</td>\n",
       "      <td>Physics</td>\n",
       "      <td>ARSD College, Univ of Delhi</td>\n",
       "      <td>PhD</td>\n",
       "      <td>9990092899</td>\n",
       "      <td>Excellent</td>\n",
       "      <td>NaN</td>\n",
       "    </tr>\n",
       "    <tr>\n",
       "      <th>2</th>\n",
       "      <td>5-20-2023 15:57:14</td>\n",
       "      <td>narayanan.booshanan@gmail.com</td>\n",
       "      <td>Narayanan B</td>\n",
       "      <td>Dept of CSE</td>\n",
       "      <td>Sri Venkateswara college of Engineering and Te...</td>\n",
       "      <td>M.Tech</td>\n",
       "      <td>8056781129</td>\n",
       "      <td>Good</td>\n",
       "      <td>NaN</td>\n",
       "    </tr>\n",
       "    <tr>\n",
       "      <th>3</th>\n",
       "      <td>5-20-2023 15:57:21</td>\n",
       "      <td>NAHID.EEE@AUST.EDU</td>\n",
       "      <td>NAHID-UR-RAHMAN CHOWDHURY</td>\n",
       "      <td>EEE</td>\n",
       "      <td>AHSANULLAH UNIVERSITY OF SCIENCE AND TECHNOLOGY</td>\n",
       "      <td>MSc</td>\n",
       "      <td>+8801706636110</td>\n",
       "      <td>Excellent</td>\n",
       "      <td>NaN</td>\n",
       "    </tr>\n",
       "    <tr>\n",
       "      <th>4</th>\n",
       "      <td>5-20-2023 15:57:32</td>\n",
       "      <td>drruchij@lnct.ac.in</td>\n",
       "      <td>Dr. Ruchi Jain</td>\n",
       "      <td>CSE - AIML</td>\n",
       "      <td>Lnct</td>\n",
       "      <td>Doctorate</td>\n",
       "      <td>8989537446</td>\n",
       "      <td>Excellent</td>\n",
       "      <td>NaN</td>\n",
       "    </tr>\n",
       "  </tbody>\n",
       "</table>\n",
       "</div>"
      ],
      "text/plain": [
       "            Timestamp                  Email Address  \\\n",
       "0  5-20-2023 15:56:41    drrashmiagrawal78@gmail.com   \n",
       "1  5-20-2023 15:57:06           amitphys17@gmail.com   \n",
       "2  5-20-2023 15:57:14  narayanan.booshanan@gmail.com   \n",
       "3  5-20-2023 15:57:21             NAHID.EEE@AUST.EDU   \n",
       "4  5-20-2023 15:57:32            drruchij@lnct.ac.in   \n",
       "\n",
       "                        Name       Branch  \\\n",
       "0            Rashmi Agrawal           CSE   \n",
       "1     Amit Kumar Vishwakarma      Physics   \n",
       "2                Narayanan B  Dept of CSE   \n",
       "3  NAHID-UR-RAHMAN CHOWDHURY          EEE   \n",
       "4             Dr. Ruchi Jain   CSE - AIML   \n",
       "\n",
       "                                        Organization Highest Qualification  \\\n",
       "0  Manav Rachna international institute of resear...                   PhD   \n",
       "1                        ARSD College, Univ of Delhi                   PhD   \n",
       "2  Sri Venkateswara college of Engineering and Te...                M.Tech   \n",
       "3    AHSANULLAH UNIVERSITY OF SCIENCE AND TECHNOLOGY                   MSc   \n",
       "4                                               Lnct             Doctorate   \n",
       "\n",
       "   Contact number   Feedback Remarks  \n",
       "0      9810123398       Good     NaN  \n",
       "1      9990092899  Excellent     NaN  \n",
       "2      8056781129       Good     NaN  \n",
       "3  +8801706636110  Excellent     NaN  \n",
       "4      8989537446  Excellent     NaN  "
      ]
     },
     "execution_count": 125,
     "metadata": {},
     "output_type": "execute_result"
    }
   ],
   "source": [
    "dff.head()"
   ]
  },
  {
   "cell_type": "code",
   "execution_count": 126,
   "metadata": {},
   "outputs": [],
   "source": [
    "dff1=dff[dff['Highest Qualification']=='PhD']  "
   ]
  },
  {
   "cell_type": "code",
   "execution_count": 127,
   "metadata": {},
   "outputs": [
    {
     "data": {
      "text/html": [
       "<div>\n",
       "<style scoped>\n",
       "    .dataframe tbody tr th:only-of-type {\n",
       "        vertical-align: middle;\n",
       "    }\n",
       "\n",
       "    .dataframe tbody tr th {\n",
       "        vertical-align: top;\n",
       "    }\n",
       "\n",
       "    .dataframe thead th {\n",
       "        text-align: right;\n",
       "    }\n",
       "</style>\n",
       "<table border=\"1\" class=\"dataframe\">\n",
       "  <thead>\n",
       "    <tr style=\"text-align: right;\">\n",
       "      <th></th>\n",
       "      <th>Timestamp</th>\n",
       "      <th>Email Address</th>\n",
       "      <th>Name</th>\n",
       "      <th>Branch</th>\n",
       "      <th>Organization</th>\n",
       "      <th>Highest Qualification</th>\n",
       "      <th>Contact number</th>\n",
       "      <th>Feedback</th>\n",
       "      <th>Remarks</th>\n",
       "    </tr>\n",
       "  </thead>\n",
       "  <tbody>\n",
       "    <tr>\n",
       "      <th>0</th>\n",
       "      <td>5-20-2023 15:56:41</td>\n",
       "      <td>drrashmiagrawal78@gmail.com</td>\n",
       "      <td>Rashmi Agrawal</td>\n",
       "      <td>CSE</td>\n",
       "      <td>Manav Rachna international institute of resear...</td>\n",
       "      <td>PhD</td>\n",
       "      <td>9810123398</td>\n",
       "      <td>Good</td>\n",
       "      <td>NaN</td>\n",
       "    </tr>\n",
       "    <tr>\n",
       "      <th>1</th>\n",
       "      <td>5-20-2023 15:57:06</td>\n",
       "      <td>amitphys17@gmail.com</td>\n",
       "      <td>Amit Kumar Vishwakarma</td>\n",
       "      <td>Physics</td>\n",
       "      <td>ARSD College, Univ of Delhi</td>\n",
       "      <td>PhD</td>\n",
       "      <td>9990092899</td>\n",
       "      <td>Excellent</td>\n",
       "      <td>NaN</td>\n",
       "    </tr>\n",
       "    <tr>\n",
       "      <th>6</th>\n",
       "      <td>5-20-2023 15:57:41</td>\n",
       "      <td>satyaprakash.maurya@jaipur.manipal.edu</td>\n",
       "      <td>Satya Prakash Maurya</td>\n",
       "      <td>Computer Science &amp; Engineering</td>\n",
       "      <td>Manipal University Jaipur</td>\n",
       "      <td>PhD</td>\n",
       "      <td>7905625288</td>\n",
       "      <td>Excellent</td>\n",
       "      <td>NaN</td>\n",
       "    </tr>\n",
       "    <tr>\n",
       "      <th>11</th>\n",
       "      <td>5-20-2023 15:57:54</td>\n",
       "      <td>mkp.nit@gmail.com</td>\n",
       "      <td>Dr. Manoj Kumar Pathak</td>\n",
       "      <td>Mechanical</td>\n",
       "      <td>G. B. Pant Institute of Engineering and Techno...</td>\n",
       "      <td>PhD</td>\n",
       "      <td>9758020072</td>\n",
       "      <td>Excellent</td>\n",
       "      <td>NaN</td>\n",
       "    </tr>\n",
       "    <tr>\n",
       "      <th>14</th>\n",
       "      <td>5-20-2023 15:58:02</td>\n",
       "      <td>adstechlearning@gmail.com</td>\n",
       "      <td>Dr S Alex David</td>\n",
       "      <td>CSE</td>\n",
       "      <td>Vel Tech</td>\n",
       "      <td>PhD</td>\n",
       "      <td>7904241134</td>\n",
       "      <td>Excellent</td>\n",
       "      <td>NaN</td>\n",
       "    </tr>\n",
       "    <tr>\n",
       "      <th>15</th>\n",
       "      <td>5-20-2023 15:58:10</td>\n",
       "      <td>maivizhi16@gmail.com</td>\n",
       "      <td>Dr Radhakrishnan Maivizhi</td>\n",
       "      <td>CSE</td>\n",
       "      <td>SRM Institute of Science and Technology</td>\n",
       "      <td>PhD</td>\n",
       "      <td>9655554718</td>\n",
       "      <td>Excellent</td>\n",
       "      <td>Nil</td>\n",
       "    </tr>\n",
       "    <tr>\n",
       "      <th>35</th>\n",
       "      <td>5-20-2023 15:59:58</td>\n",
       "      <td>prasad_ajk@rediffmail.com</td>\n",
       "      <td>Dr AJK PRASAD</td>\n",
       "      <td>Mechanical engineering</td>\n",
       "      <td>Sir M.VIT Bangalore</td>\n",
       "      <td>PhD</td>\n",
       "      <td>+919448508506</td>\n",
       "      <td>Excellent</td>\n",
       "      <td>Sorry madam, I do not want to rank a teacher, ...</td>\n",
       "    </tr>\n",
       "    <tr>\n",
       "      <th>37</th>\n",
       "      <td>5-20-2023 16:00:24</td>\n",
       "      <td>rkiitr@gmail.com</td>\n",
       "      <td>Dr Rakesh Kumar</td>\n",
       "      <td>Computer Science and Engg</td>\n",
       "      <td>Madan Mohan Malaviya University of Technology ...</td>\n",
       "      <td>PhD</td>\n",
       "      <td>9235500529</td>\n",
       "      <td>Good</td>\n",
       "      <td>NaN</td>\n",
       "    </tr>\n",
       "    <tr>\n",
       "      <th>39</th>\n",
       "      <td>5-20-2023 16:00:53</td>\n",
       "      <td>pinki.nayak@adgitmdelhi.ac.in</td>\n",
       "      <td>Pinki Nayak</td>\n",
       "      <td>IT</td>\n",
       "      <td>ADGITM DELHI</td>\n",
       "      <td>PhD</td>\n",
       "      <td>9990017908</td>\n",
       "      <td>Excellent</td>\n",
       "      <td>NaN</td>\n",
       "    </tr>\n",
       "    <tr>\n",
       "      <th>48</th>\n",
       "      <td>5-20-2023 16:08:55</td>\n",
       "      <td>kumudamanju@gmail.com</td>\n",
       "      <td>Kumudavalli M V</td>\n",
       "      <td>Computer science</td>\n",
       "      <td>Dayananda sagar college of Arts science and co...</td>\n",
       "      <td>PhD</td>\n",
       "      <td>9980135525</td>\n",
       "      <td>Excellent</td>\n",
       "      <td>NaN</td>\n",
       "    </tr>\n",
       "    <tr>\n",
       "      <th>51</th>\n",
       "      <td>5-20-2023 16:15:40</td>\n",
       "      <td>madhavidevi.b@iare.ac.in</td>\n",
       "      <td>Dr. B.Madhavidevi</td>\n",
       "      <td>ComputerScience and Engineering</td>\n",
       "      <td>Institute of Aeronautical Engineering College</td>\n",
       "      <td>PhD</td>\n",
       "      <td>09618870900</td>\n",
       "      <td>Excellent</td>\n",
       "      <td>good</td>\n",
       "    </tr>\n",
       "    <tr>\n",
       "      <th>54</th>\n",
       "      <td>5-20-2023 16:20:53</td>\n",
       "      <td>monalikhachane@gmail.com</td>\n",
       "      <td>Monali Yashwant Khachane</td>\n",
       "      <td>Computer Science</td>\n",
       "      <td>Dr. Annasaheb G. D. Bendale Mahila Mahavidyala...</td>\n",
       "      <td>PhD</td>\n",
       "      <td>9860730738</td>\n",
       "      <td>Good</td>\n",
       "      <td>informative session.</td>\n",
       "    </tr>\n",
       "    <tr>\n",
       "      <th>58</th>\n",
       "      <td>5-20-2023 16:21:15</td>\n",
       "      <td>rkiitr@gmail.com</td>\n",
       "      <td>Dr Rakesh Kumar</td>\n",
       "      <td>CSE</td>\n",
       "      <td>Madan Mohan Malaviya University of Technology ...</td>\n",
       "      <td>PhD</td>\n",
       "      <td>9235500529</td>\n",
       "      <td>Excellent</td>\n",
       "      <td>NaN</td>\n",
       "    </tr>\n",
       "    <tr>\n",
       "      <th>77</th>\n",
       "      <td>5-20-2023 16:24:28</td>\n",
       "      <td>brahamdeo.gupta@gmail.com</td>\n",
       "      <td>Dr. Braham Deo Gupta</td>\n",
       "      <td>CS</td>\n",
       "      <td>Govt College Banmor Morena</td>\n",
       "      <td>PhD</td>\n",
       "      <td>7898338999</td>\n",
       "      <td>Good</td>\n",
       "      <td>NaN</td>\n",
       "    </tr>\n",
       "    <tr>\n",
       "      <th>86</th>\n",
       "      <td>5-20-2023 17:48:41</td>\n",
       "      <td>shishir.chauhan@jaipur.manipal.edu</td>\n",
       "      <td>Shishir Singh Chauhan</td>\n",
       "      <td>CSE</td>\n",
       "      <td>Manipal University Jaipur</td>\n",
       "      <td>PhD</td>\n",
       "      <td>7905307175</td>\n",
       "      <td>Excellent</td>\n",
       "      <td>NaN</td>\n",
       "    </tr>\n",
       "    <tr>\n",
       "      <th>87</th>\n",
       "      <td>5-20-2023 17:48:51</td>\n",
       "      <td>juhisingh17@gmail.com</td>\n",
       "      <td>Dr. Juhi Singh</td>\n",
       "      <td>CSE</td>\n",
       "      <td>Manipal university jaipur</td>\n",
       "      <td>PhD</td>\n",
       "      <td>9717105742</td>\n",
       "      <td>Excellent</td>\n",
       "      <td>.</td>\n",
       "    </tr>\n",
       "  </tbody>\n",
       "</table>\n",
       "</div>"
      ],
      "text/plain": [
       "             Timestamp                           Email Address  \\\n",
       "0   5-20-2023 15:56:41             drrashmiagrawal78@gmail.com   \n",
       "1   5-20-2023 15:57:06                    amitphys17@gmail.com   \n",
       "6   5-20-2023 15:57:41  satyaprakash.maurya@jaipur.manipal.edu   \n",
       "11  5-20-2023 15:57:54                       mkp.nit@gmail.com   \n",
       "14  5-20-2023 15:58:02               adstechlearning@gmail.com   \n",
       "15  5-20-2023 15:58:10                    maivizhi16@gmail.com   \n",
       "35  5-20-2023 15:59:58               prasad_ajk@rediffmail.com   \n",
       "37  5-20-2023 16:00:24                        rkiitr@gmail.com   \n",
       "39  5-20-2023 16:00:53           pinki.nayak@adgitmdelhi.ac.in   \n",
       "48  5-20-2023 16:08:55                   kumudamanju@gmail.com   \n",
       "51  5-20-2023 16:15:40                madhavidevi.b@iare.ac.in   \n",
       "54  5-20-2023 16:20:53                monalikhachane@gmail.com   \n",
       "58  5-20-2023 16:21:15                        rkiitr@gmail.com   \n",
       "77  5-20-2023 16:24:28               brahamdeo.gupta@gmail.com   \n",
       "86  5-20-2023 17:48:41      shishir.chauhan@jaipur.manipal.edu   \n",
       "87  5-20-2023 17:48:51                   juhisingh17@gmail.com   \n",
       "\n",
       "                         Name                           Branch  \\\n",
       "0             Rashmi Agrawal                               CSE   \n",
       "1      Amit Kumar Vishwakarma                          Physics   \n",
       "6        Satya Prakash Maurya   Computer Science & Engineering   \n",
       "11    Dr. Manoj Kumar Pathak                       Mechanical    \n",
       "14            Dr S Alex David                              CSE   \n",
       "15  Dr Radhakrishnan Maivizhi                              CSE   \n",
       "35              Dr AJK PRASAD           Mechanical engineering   \n",
       "37            Dr Rakesh Kumar        Computer Science and Engg   \n",
       "39               Pinki Nayak                                IT   \n",
       "48           Kumudavalli M V                 Computer science    \n",
       "51          Dr. B.Madhavidevi  ComputerScience and Engineering   \n",
       "54   Monali Yashwant Khachane                 Computer Science   \n",
       "58            Dr Rakesh Kumar                              CSE   \n",
       "77       Dr. Braham Deo Gupta                               CS   \n",
       "86     Shishir Singh Chauhan                               CSE   \n",
       "87             Dr. Juhi Singh                              CSE   \n",
       "\n",
       "                                         Organization Highest Qualification  \\\n",
       "0   Manav Rachna international institute of resear...                   PhD   \n",
       "1                         ARSD College, Univ of Delhi                   PhD   \n",
       "6                           Manipal University Jaipur                   PhD   \n",
       "11  G. B. Pant Institute of Engineering and Techno...                   PhD   \n",
       "14                                           Vel Tech                   PhD   \n",
       "15            SRM Institute of Science and Technology                   PhD   \n",
       "35                                Sir M.VIT Bangalore                   PhD   \n",
       "37  Madan Mohan Malaviya University of Technology ...                   PhD   \n",
       "39                                      ADGITM DELHI                    PhD   \n",
       "48  Dayananda sagar college of Arts science and co...                   PhD   \n",
       "51      Institute of Aeronautical Engineering College                   PhD   \n",
       "54  Dr. Annasaheb G. D. Bendale Mahila Mahavidyala...                   PhD   \n",
       "58  Madan Mohan Malaviya University of Technology ...                   PhD   \n",
       "77                         Govt College Banmor Morena                   PhD   \n",
       "86                          Manipal University Jaipur                   PhD   \n",
       "87                          Manipal university jaipur                   PhD   \n",
       "\n",
       "   Contact number   Feedback  \\\n",
       "0      9810123398       Good   \n",
       "1      9990092899  Excellent   \n",
       "6      7905625288  Excellent   \n",
       "11     9758020072  Excellent   \n",
       "14     7904241134  Excellent   \n",
       "15     9655554718  Excellent   \n",
       "35  +919448508506  Excellent   \n",
       "37     9235500529       Good   \n",
       "39     9990017908  Excellent   \n",
       "48     9980135525  Excellent   \n",
       "51    09618870900  Excellent   \n",
       "54     9860730738       Good   \n",
       "58     9235500529  Excellent   \n",
       "77     7898338999       Good   \n",
       "86     7905307175  Excellent   \n",
       "87     9717105742  Excellent   \n",
       "\n",
       "                                              Remarks  \n",
       "0                                                 NaN  \n",
       "1                                                 NaN  \n",
       "6                                                 NaN  \n",
       "11                                                NaN  \n",
       "14                                                NaN  \n",
       "15                                                Nil  \n",
       "35  Sorry madam, I do not want to rank a teacher, ...  \n",
       "37                                                NaN  \n",
       "39                                                NaN  \n",
       "48                                                NaN  \n",
       "51                                               good  \n",
       "54                               informative session.  \n",
       "58                                                NaN  \n",
       "77                                                NaN  \n",
       "86                                                NaN  \n",
       "87                                                 .   "
      ]
     },
     "execution_count": 127,
     "metadata": {},
     "output_type": "execute_result"
    }
   ],
   "source": [
    "dff1"
   ]
  },
  {
   "cell_type": "code",
   "execution_count": 128,
   "metadata": {},
   "outputs": [
    {
     "data": {
      "text/plain": [
       "(16, 9)"
      ]
     },
     "execution_count": 128,
     "metadata": {},
     "output_type": "execute_result"
    }
   ],
   "source": [
    "dff1.shape"
   ]
  },
  {
   "cell_type": "code",
   "execution_count": null,
   "metadata": {},
   "outputs": [],
   "source": []
  }
 ],
 "metadata": {
  "kernelspec": {
   "display_name": "Python 3 (ipykernel)",
   "language": "python",
   "name": "python3"
  },
  "language_info": {
   "codemirror_mode": {
    "name": "ipython",
    "version": 3
   },
   "file_extension": ".py",
   "mimetype": "text/x-python",
   "name": "python",
   "nbconvert_exporter": "python",
   "pygments_lexer": "ipython3",
   "version": "3.10.9"
  }
 },
 "nbformat": 4,
 "nbformat_minor": 4
}
