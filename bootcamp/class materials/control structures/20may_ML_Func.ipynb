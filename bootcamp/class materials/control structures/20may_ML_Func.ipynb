{
 "cells": [
  {
   "cell_type": "code",
   "execution_count": 2,
   "metadata": {},
   "outputs": [
    {
     "name": "stdout",
     "output_type": "stream",
     "text": [
      "[10, 72, 92, 692, 6, 84, 1046, 10, 470, 46, 1064, 472, 652]\n"
     ]
    }
   ],
   "source": [
    "##Write a program that takes a list of integers as input and returns a new \n",
    "#list with each element multiplied by 2 using a lambda function.\n",
    "\n",
    "l=[5,36,46,346,3,42,523,5,235,23,532,236,326]\n",
    "l2=list(map(lambda x: x*2, l))\n",
    "print(l2)"
   ]
  },
  {
   "cell_type": "code",
   "execution_count": 5,
   "metadata": {},
   "outputs": [
    {
     "name": "stdout",
     "output_type": "stream",
     "text": [
      "['POOJA', 'TARINI', 'SRINIVAS', 'ANKITA', 'ANKIT']\n"
     ]
    }
   ],
   "source": [
    "#Write a program that takes a list of strings as input and returns a new \n",
    "#list with each element converted to uppercase using a lambda function.\n",
    "l3=['pooja','tarini','srinivas','Ankita','Ankit']\n",
    "\n",
    "l4 = list(map(lambda x: x.upper(),l3)) \n",
    "print(l4)"
   ]
  },
  {
   "cell_type": "code",
   "execution_count": 6,
   "metadata": {},
   "outputs": [
    {
     "name": "stdout",
     "output_type": "stream",
     "text": [
      "['Pooja', 'Tarini', 'Srinivas', 'Ankita', 'Ankit']\n"
     ]
    }
   ],
   "source": [
    "#how to covert first letter in upper case?\n",
    "l3=['pooja','tarini','srinivas','Ankita','Ankit']\n",
    "\n",
    "l4 = list(map(lambda x: x.capitalize(),l3)) \n",
    "print(l4)"
   ]
  },
  {
   "cell_type": "code",
   "execution_count": 8,
   "metadata": {},
   "outputs": [
    {
     "name": "stdout",
     "output_type": "stream",
     "text": [
      "[59, 679, 459, 5721, 26]\n"
     ]
    }
   ],
   "source": [
    "#Write a program that takes a list of tuples, where each tuple contains two integers, as input and returns a new \n",
    "#list with the sum of each tuple using a lambda function.\n",
    "l5=[(35,24),(353,326),(412,47),(236,5485),(13,13)]\n",
    "l6= list(map(lambda x : sum(x) , l5)) \n",
    "print(l6)"
   ]
  },
  {
   "cell_type": "code",
   "execution_count": 10,
   "metadata": {},
   "outputs": [
    {
     "name": "stdout",
     "output_type": "stream",
     "text": [
      "[59, 679, 459, 5721, 26]\n"
     ]
    }
   ],
   "source": [
    "#Write a program that takes a list of tuples, where each tuple contains two integers, as input and returns a new \n",
    "#list with the sum of each tuple using a lambda function.\n",
    "l5=[(35,24),(353,326),(412,47),(236,5485),(13,13)]\n",
    "l6= list(map(lambda x:x[0]+x[1], l5))\n",
    "print(l6)"
   ]
  },
  {
   "cell_type": "code",
   "execution_count": 11,
   "metadata": {},
   "outputs": [
    {
     "name": "stdout",
     "output_type": "stream",
     "text": [
      "Enter Number 1 : 46\n",
      "Enter Number 2 : 36\n",
      "Do you want to continuing with more numbers : y\n",
      "Enter Number 1 : 53\n",
      "Enter Number 2 : 64\n",
      "Do you want to continuing with more numbers : y\n",
      "Enter Number 1 : 3532\n",
      "Enter Number 2 : 3634\n",
      "Do you want to continuing with more numbers : y\n",
      "Enter Number 1 : 25\n",
      "Enter Number 2 : 35\n",
      "Do you want to continuing with more numbers : w\n",
      "Enter Number 1 : 35\n",
      "Enter Number 2 : 57\n",
      "Do you want to continuing with more numbers : n\n",
      "[82, 117, 7166, 60, 92]\n"
     ]
    }
   ],
   "source": [
    "#mallikarjuna code\n",
    "lst = [] \n",
    "while(True) : \n",
    "    n1 = int(input(\"Enter Number 1 : \")) \n",
    "    n2 = int(input(\"Enter Number 2 : \")) \n",
    "    lst.append((n1, n2)) \n",
    "    if (input(\"Do you want to continuing with more numbers : \") == \"n\") : \n",
    "        break \n",
    "lst1 = list(map(lambda x : sum(x) , lst)) \n",
    "print(lst1)"
   ]
  },
  {
   "cell_type": "code",
   "execution_count": 16,
   "metadata": {},
   "outputs": [
    {
     "name": "stdout",
     "output_type": "stream",
     "text": [
      "Enter 1st value35\n",
      "Enter 2nd value75\n",
      "Do you want to stop?\n",
      "y/ny\n",
      "Enter 1st value24\n",
      "Enter 2nd value3\n",
      "Do you want to stop?\n",
      "y/nn\n"
     ]
    },
    {
     "data": {
      "text/plain": [
       "[110, 27]"
      ]
     },
     "execution_count": 16,
     "metadata": {},
     "output_type": "execute_result"
    }
   ],
   "source": [
    "#vaibhav's code\n",
    "l1=[]\n",
    "User_Ans = 'y' \n",
    "while User_Ans == 'y': \n",
    "    iNo1 = int(input('Enter 1st value')) \n",
    "    iNo2 = int(input('Enter 2nd value')) \n",
    "    l1.append((iNo1,iNo2)) \n",
    "    print('Do you want to stop?') \n",
    "    User_Ans = str(input('y/n')) \n",
    "sum_list = list(map(lambda x : x[0]+x[1], l1)) \n",
    "sum_list"
   ]
  },
  {
   "cell_type": "code",
   "execution_count": 17,
   "metadata": {},
   "outputs": [
    {
     "name": "stdout",
     "output_type": "stream",
     "text": [
      "please enter first number35\n",
      "please enter second number4\n",
      "Do you want to proceed: y or ny\n",
      "please enter first number24\n",
      "please enter second number57\n",
      "Do you want to proceed: y or nn\n",
      "[39, 81]\n"
     ]
    }
   ],
   "source": [
    "#bharat's code\n",
    "l1 = [] \n",
    "choice = 'y'\n",
    "while choice == 'y': \n",
    "    num1 = int(input('please enter first number')) \n",
    "    num2 = int(input('please enter second number')) \n",
    "    choice = input('Do you want to proceed: y or n') \n",
    "    l1.append((num1,num2)) \n",
    "l2 = list(map(lambda x:x[0]+x[1], l1)) \n",
    "print(l2)"
   ]
  },
  {
   "cell_type": "code",
   "execution_count": 22,
   "metadata": {},
   "outputs": [
    {
     "name": "stdout",
     "output_type": "stream",
     "text": [
      "[{'Name': 'Rahul', 'Age': 34}, {'Name': 'Bharat', 'Age': 30}]\n"
     ]
    }
   ],
   "source": [
    "#Write a program that takes a list of dictionaries, where each dictionary \n",
    "#contains a 'name' key and an 'age' key, as input and returns a new list\n",
    "#with only the dictionaries where the age is greater than or equal to 18 \n",
    "#using a lambda function with the filter() function.\n",
    "l=[{'Name':'Rahul','Age':34},{'Name':'Rohan','Age':3},{'Name':'Bharat','Age':30}]\n",
    "l7 = list(filter(lambda x: x['Age'] >=18 , l)) \n",
    "print(l7)"
   ]
  },
  {
   "cell_type": "code",
   "execution_count": 23,
   "metadata": {},
   "outputs": [
    {
     "name": "stdout",
     "output_type": "stream",
     "text": [
      "p1 enter the Nameuuib\n",
      "p2 enter the age86\n",
      "write \"y\" if you want to continue else write \"n\"y\n",
      "p1 enter the Namegdrydty\n",
      "p2 enter the age3\n",
      "write \"y\" if you want to continue else write \"n\"y\n",
      "p1 enter the Nameookopm\n",
      "p2 enter the age7\n",
      "write \"y\" if you want to continue else write \"n\"n\n",
      "[{'Name': 'uuib', 'Age': 86}]\n"
     ]
    }
   ],
   "source": [
    "list_1=[] \n",
    "Continue=\"y\" \n",
    " \n",
    "while(Continue == \"y\"): \n",
    "    input_1 = input('p1 enter the Name') \n",
    "    input_2 = int(input('p2 enter the age')) \n",
    "    list_1.append({'Name':input_1, 'Age':input_2}) \n",
    "    Continue = input('write \"y\" if you want to continue else write \"n\"') \n",
    "list_2= list(filter(lambda x: x['Age'] >=18, list_1)) \n",
    "print(list_2)"
   ]
  },
  {
   "cell_type": "code",
   "execution_count": 24,
   "metadata": {},
   "outputs": [
    {
     "data": {
      "text/plain": [
       "['madam', 'pip']"
      ]
     },
     "execution_count": 24,
     "metadata": {},
     "output_type": "execute_result"
    }
   ],
   "source": [
    "#Write a program that takes a list of strings as input and returns a new list \n",
    "#with only the strings that are palindromes using a lambda function with the filter() function.\n",
    "s_string = ['abc','def','madam','pip'] \n",
    "result = list(filter(lambda op: (op == \"\".join(op[::-1])), s_string)) \n",
    "result"
   ]
  },
  {
   "cell_type": "code",
   "execution_count": 26,
   "metadata": {},
   "outputs": [
    {
     "name": "stdout",
     "output_type": "stream",
     "text": [
      "['apple', 'arti']\n"
     ]
    }
   ],
   "source": [
    "#Write a program that takes a list of strings as input and returns a new list \n",
    "#with only the strings that start with a vowel \n",
    "l8 = ['apple', 'madam','rahul','rohan','arti'] \n",
    "l9 = list(filter(lambda x : x[0] in 'aeiouAEIOU', l8)) \n",
    "print(l9)"
   ]
  },
  {
   "cell_type": "code",
   "execution_count": 27,
   "metadata": {},
   "outputs": [
    {
     "name": "stdout",
     "output_type": "stream",
     "text": [
      "['poojapooja', 'tarinitarinitarini', 'ankita']\n"
     ]
    }
   ],
   "source": [
    "#Write a program that takes a list of tuples, where each tuple contains \n",
    "#a string and an integer, as input and returns a new list with the string repeated by the integer \n",
    "l10=[('pooja',2),('tarini',3),('ankita',1)]\n",
    "\n",
    "\n",
    "l11 = list(map(lambda x:x[0]*int(x[1]), l10)) \n",
    "print(l11)\n"
   ]
  },
  {
   "cell_type": "code",
   "execution_count": 33,
   "metadata": {},
   "outputs": [
    {
     "name": "stdout",
     "output_type": "stream",
     "text": [
      "[{8}, {9}]\n"
     ]
    }
   ],
   "source": [
    "#Write a function that takes a list of sets and returns a new set containing only \n",
    "#those sets which have only one element.\n",
    "set_list = [{2,3}, {4,5,6}, {6,7},{8},{9}] \n",
    "print(list(filter(lambda x: x if len(x) ==1 else 0, set_list)))"
   ]
  },
  {
   "cell_type": "code",
   "execution_count": 34,
   "metadata": {},
   "outputs": [
    {
     "name": "stdout",
     "output_type": "stream",
     "text": [
      "{1, 2, 3, 5, 7, 8}\n"
     ]
    }
   ],
   "source": [
    "#Write a function that takes a list of sets and returns a new set containing only \n",
    "#the elements that are in exactly one of the sets.\n",
    "from functools import reduce\n",
    "l12 = [{1,2,3,4},{4,5,6},{6,7,8}] \n",
    "l13 = set(reduce(lambda x, y:x.union(y) - x.intersection(y), l12)) \n",
    "print(l13)"
   ]
  },
  {
   "cell_type": "code",
   "execution_count": 35,
   "metadata": {},
   "outputs": [
    {
     "name": "stdout",
     "output_type": "stream",
     "text": [
      "{1, 2, 3, 4, 7, 9}\n"
     ]
    }
   ],
   "source": [
    "l12 = [{1,2,3},{4,5,6},{6,7,8},{5,8,9}] \n",
    "l13 = set(reduce(lambda x,y:x.union(y)-x.intersection(y), l12)) \n",
    "print(l13)"
   ]
  },
  {
   "cell_type": "code",
   "execution_count": 37,
   "metadata": {},
   "outputs": [
    {
     "name": "stdout",
     "output_type": "stream",
     "text": [
      "Please enter the word which needs to be checked for anagramcdab\n"
     ]
    },
    {
     "data": {
      "text/plain": [
       "['abcd', 'abcd', 'cdba']"
      ]
     },
     "execution_count": 37,
     "metadata": {},
     "output_type": "execute_result"
    }
   ],
   "source": [
    "words = ['abcd','abcd','cdba','deas'] \n",
    "letter = input('Please enter the word which needs to be checked for anagram')\n",
    "anagram = list(filter(lambda x: x if sorted(x) == sorted(letter) else False,words)) \n",
    "anagram"
   ]
  },
  {
   "cell_type": "code",
   "execution_count": 38,
   "metadata": {},
   "outputs": [
    {
     "name": "stdout",
     "output_type": "stream",
     "text": [
      "Total number of words : 10\n",
      "Average word lenght :  4.6\n",
      "Longest word lenght :  11\n"
     ]
    }
   ],
   "source": [
    "#Given a sentence, write a program that uses the reduce function and a \n",
    "#lambda function to calculate the total number of words, average word length, \n",
    "#and the longest word in the sentence.\n",
    "#mallikarjuna\n",
    "\n",
    "str = \"Python is very good programming Langurage for AI and ML\" \n",
    "lst = str.split() \n",
    "print(\"Total number of words : {}\".format(len(lst))) \n",
    "lst1 = list(map(lambda x : len(x), lst)) \n",
    "print(\"Average word lenght : \", sum(lst1)/len(lst1)) \n",
    "print(\"Longest word lenght : \", max(lst1))"
   ]
  },
  {
   "cell_type": "code",
   "execution_count": 39,
   "metadata": {},
   "outputs": [
    {
     "name": "stdout",
     "output_type": "stream",
     "text": [
      "32\n",
      "[5, 1, 9, 5, 1, 7, 4, 4, 3, 6, 8, 3, 1, 6, 8, 2, 9, 3, 5, 6, 2, 6, 7, 4, 7, 3, 3, 7, 4, 2, 3, 9]\n",
      "9\n",
      "4.78125\n"
     ]
    }
   ],
   "source": [
    "#saurabh's code\n",
    "input = \"Given a sentence, write a program that uses the reduce function and a lambda function to calculate the total number of words, average word length, and the longest word in the sentence.\" \n",
    "length = len(input.split()) \n",
    "print(length) \n",
    "word_len = list(map(lambda x: len(x), input.split())) \n",
    "print(word_len) \n",
    "print(max(word_len)) \n",
    "print(sum(word_len)/length)"
   ]
  },
  {
   "cell_type": "code",
   "execution_count": 42,
   "metadata": {},
   "outputs": [
    {
     "name": "stdout",
     "output_type": "stream",
     "text": [
      "No. of words:  4 Average length:  5.5 largest word:  programming\n"
     ]
    }
   ],
   "source": [
    "#abhishek\n",
    "Sent_1 = \"I love python programming\" \n",
    "import functools \n",
    "import statistics \n",
    "list_1 = Sent_1.split(\" \") \n",
    "tot_wrds= len(list_1) \n",
    "list_2 = list(map(lambda x: len(x), list_1)) \n",
    "mean = statistics.mean(list_2) \n",
    "larg_wrd= reduce(lambda x,y: x if len(x)> len(y) else y, list_1) \n",
    "print(\"No. of words: \",tot_wrds, \"Average length: \",mean, \"largest word: \" , larg_wrd )"
   ]
  },
  {
   "cell_type": "code",
   "execution_count": 43,
   "metadata": {},
   "outputs": [
    {
     "name": "stdout",
     "output_type": "stream",
     "text": [
      "[34, 46, 35, 235, 24, 6, 24, 24, 3, 24, 7, 5, 4, 3, 24, 57, 25]\n"
     ]
    }
   ],
   "source": [
    "l=[[34,46,35,235],[24,6,24,24,3],[24,7,5,4,3],[24,57,25]]\n",
    "l2 = reduce(lambda x,y:x+y,l) \n",
    "print(l2)\n",
    "\n"
   ]
  },
  {
   "cell_type": "code",
   "execution_count": 45,
   "metadata": {},
   "outputs": [
    {
     "data": {
      "text/plain": [
       "[1, 2, 5, 6, 46, 46, 24, [46, 35]]"
      ]
     },
     "execution_count": 45,
     "metadata": {},
     "output_type": "execute_result"
    }
   ],
   "source": [
    "l1 = [1,2,5,6]\n",
    "l2=[46,46,24,[46,35]]\n",
    "l1+l2"
   ]
  },
  {
   "cell_type": "code",
   "execution_count": 46,
   "metadata": {},
   "outputs": [
    {
     "name": "stdout",
     "output_type": "stream",
     "text": [
      "[1, 2, 3, 4, 5, 6]\n"
     ]
    }
   ],
   "source": [
    "#Write a program that uses the reduce function and a lambda function to count the number of unique elements in a given list.\n",
    "\n",
    "from functools import reduce\n",
    "numbers = [1, 2, 3, 2, 4, 3, 5, 4, 6]\n",
    "unique_elements = reduce(lambda unique, num: unique + [num] if num not in unique else unique, numbers, [])\n",
    "print(unique_elements)\n"
   ]
  },
  {
   "cell_type": "code",
   "execution_count": null,
   "metadata": {},
   "outputs": [],
   "source": []
  }
 ],
 "metadata": {
  "kernelspec": {
   "display_name": "Python 3",
   "language": "python",
   "name": "python3"
  },
  "language_info": {
   "codemirror_mode": {
    "name": "ipython",
    "version": 3
   },
   "file_extension": ".py",
   "mimetype": "text/x-python",
   "name": "python",
   "nbconvert_exporter": "python",
   "pygments_lexer": "ipython3",
   "version": "3.7.6"
  }
 },
 "nbformat": 4,
 "nbformat_minor": 4
}
