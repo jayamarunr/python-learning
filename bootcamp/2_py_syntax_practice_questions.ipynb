{
 "cells": [
  {
   "cell_type": "code",
   "execution_count": 1,
   "id": "987cfe50",
   "metadata": {},
   "outputs": [
    {
     "name": "stdout",
     "output_type": "stream",
     "text": [
      "a\n",
      "Alphabet\n",
      "John\n"
     ]
    }
   ],
   "source": [
    "inp=input()\n",
    "if str(inp).isdigit():\n",
    "    print(\"Integer\")\n",
    "elif str(inp).isalpha():\\\n",
    "    print(\"Alphabet\")\n",
    "else:\n",
    "    print(\"Neither Integer nor string\")\n",
    "    \n",
    "print(\"John\")"
   ]
  },
  {
   "cell_type": "code",
   "execution_count": 2,
   "id": "d10c9489",
   "metadata": {},
   "outputs": [
    {
     "name": "stdout",
     "output_type": "stream",
     "text": [
      "b\n",
      "String\n"
     ]
    }
   ],
   "source": [
    "inp=input()\n",
    "if (inp.isdigit()):\n",
    "    print(\"Integer\")\n",
    "else:\n",
    "    print(\"String\")"
   ]
  },
  {
   "cell_type": "code",
   "execution_count": 3,
   "id": "e58b0cc7",
   "metadata": {},
   "outputs": [
    {
     "name": "stdout",
     "output_type": "stream",
     "text": [
      "Hello World\n"
     ]
    }
   ],
   "source": [
    "print(\"Hello World\")"
   ]
  },
  {
   "cell_type": "code",
   "execution_count": 5,
   "id": "65bf58e5",
   "metadata": {},
   "outputs": [
    {
     "name": "stdout",
     "output_type": "stream",
     "text": [
      "f\n",
      "e\n",
      "g\n"
     ]
    }
   ],
   "source": [
    "ch=input()\n",
    "print(chr(ord(ch)-1))\n",
    "print(chr(ord(ch)+1))"
   ]
  },
  {
   "cell_type": "code",
   "execution_count": 8,
   "id": "8a9f08f1",
   "metadata": {},
   "outputs": [
    {
     "name": "stdout",
     "output_type": "stream",
     "text": [
      "johnson\n",
      "jhnsn\n"
     ]
    }
   ],
   "source": [
    "s=input()\n",
    "#create an empty string that will store the modified string\n",
    "s_new=\"\"\n",
    "\n",
    "#looping the string 's' and extracting only the consonants\n",
    "\n",
    "for i in range(len(s)):\n",
    "    if s[i] not in \"AEIOUaeiou\":\n",
    "        s_new=s_new+s[i]\n",
    "#print the result\n",
    "print(s_new)"
   ]
  },
  {
   "cell_type": "code",
   "execution_count": 9,
   "id": "b1023109",
   "metadata": {},
   "outputs": [
    {
     "name": "stdout",
     "output_type": "stream",
     "text": [
      "7\n"
     ]
    }
   ],
   "source": [
    "var_a=\"johnson\"\n",
    "print(len(var_a))"
   ]
  },
  {
   "cell_type": "code",
   "execution_count": 10,
   "id": "86e62ea4",
   "metadata": {},
   "outputs": [
    {
     "name": "stdout",
     "output_type": "stream",
     "text": [
      "1 5 5\n",
      "Valid\n"
     ]
    }
   ],
   "source": [
    "#take inputs\n",
    "a,b,c=input().split()\n",
    "\n",
    "#convert string to float type\n",
    "a=float(a)\n",
    "b=float(b)\n",
    "c=float(c)\n",
    "\n",
    "#check if all the possible sum of two sides is greater than the third side\n",
    "\n",
    "if b+c>a and a+c>b and a+b>c:\n",
    "    print(\"Valid\")\n",
    "else:\n",
    "    print(\"Invalid\")"
   ]
  },
  {
   "cell_type": "code",
   "execution_count": 13,
   "id": "b9830001",
   "metadata": {},
   "outputs": [
    {
     "name": "stdout",
     "output_type": "stream",
     "text": [
      "5\n",
      "5*1 = 5\n",
      "5*2 = 10\n",
      "5*3 = 15\n",
      "5*4 = 20\n",
      "5*5 = 25\n",
      "5*6 = 30\n",
      "5*7 = 35\n",
      "5*8 = 40\n",
      "5*9 = 45\n",
      "5*10 = 50\n"
     ]
    }
   ],
   "source": [
    "#take an integer input\n",
    "n = int(input())\n",
    "\n",
    "#loop through 1 to 10 and print the multiplication result with n\n",
    "for i in range(1,11):\n",
    "    print(\"{0}*{1} =\".format(n,i),n*i)\n",
    "    "
   ]
  },
  {
   "cell_type": "code",
   "execution_count": 14,
   "id": "e135a477",
   "metadata": {},
   "outputs": [
    {
     "name": "stdout",
     "output_type": "stream",
     "text": [
      "python programming\n",
      "p\n",
      "2\n"
     ]
    }
   ],
   "source": [
    "input_string = input()\n",
    "input_char = input()\n",
    "\n",
    "def count_char_occurrence(str_1, char):\n",
    "    count = 0\n",
    "    for c in str_1:\n",
    "        if c.lower() == char.lower():\n",
    "            count += 1\n",
    "    return count\n",
    "\n",
    "print(count_char_occurrence(input_string, input_char))"
   ]
  },
  {
   "cell_type": "code",
   "execution_count": 15,
   "id": "45492cf3",
   "metadata": {},
   "outputs": [
    {
     "name": "stdout",
     "output_type": "stream",
     "text": [
      "2\n"
     ]
    }
   ],
   "source": [
    "input_char = input_char.lower()\n",
    "print(input_string.lower().count(input_char))"
   ]
  },
  {
   "cell_type": "code",
   "execution_count": 19,
   "id": "19bde759",
   "metadata": {},
   "outputs": [
    {
     "name": "stdout",
     "output_type": "stream",
     "text": [
      "2\n"
     ]
    }
   ],
   "source": [
    "def count_char_occurrance(str_1, char):\n",
    "    count = 0\n",
    "    for c in str_1:\n",
    "        if c.lower() == char.lower():\n",
    "            count += 1\n",
    "    return count\n",
    "print(count_char_occurrance(input_string, input_char))"
   ]
  },
  {
   "cell_type": "code",
   "execution_count": 20,
   "id": "0c10097f",
   "metadata": {},
   "outputs": [
    {
     "name": "stdout",
     "output_type": "stream",
     "text": [
      "984\n",
      "21\n"
     ]
    }
   ],
   "source": [
    "n = int(input())\n",
    "\n",
    "#creating a variable sum that will store the sum of the digits\n",
    "sum = 0\n",
    "\n",
    "while(n>0):\n",
    "    #n%10 gives the remainder value(=digit)\n",
    "    sum = sum+n%10\n",
    "    #updating the value of n by dividing it by 10 inorder to get the next digit during next iteration\n",
    "    n=n//10\n",
    "\n",
    "#print the result\n",
    "print(sum)"
   ]
  },
  {
   "cell_type": "code",
   "execution_count": 24,
   "id": "2c4160b9",
   "metadata": {},
   "outputs": [
    {
     "name": "stdout",
     "output_type": "stream",
     "text": [
      "3\n"
     ]
    }
   ],
   "source": [
    "var_2 = 3\n",
    "\n",
    "var_3 = 0\n",
    "var_3 = var_3 + var_2%10\n",
    "\n",
    "print(var_3)"
   ]
  },
  {
   "cell_type": "code",
   "execution_count": 25,
   "id": "227a1e35",
   "metadata": {},
   "outputs": [
    {
     "name": "stdout",
     "output_type": "stream",
     "text": [
      "348600\n",
      "Odd 1\n",
      "Even 3\n",
      "Zeros 2\n"
     ]
    }
   ],
   "source": [
    "# take input\n",
    "n = int(input())\n",
    "\n",
    "#creating three variables to keep the count of odd, even and zero digits\n",
    "\n",
    "n_odd=0\n",
    "n_even=0\n",
    "n_zeros=0\n",
    "\n",
    "while(n>0):\n",
    "#storing the remainder(is also digit at one's place of n) of n%10\n",
    "    r = n%10\n",
    "    #If the remainder (is also digit at one's place of n) is 0, the digit is 0. Increase the count of zeros by 1\n",
    "    if r==0:\n",
    "        n_zeros+=1\n",
    "    #if the remainder is divisible by 2, it is an even digit otherwise odd. Increase the respective counts\n",
    "    elif r%2==0:\n",
    "        n_even+=1\n",
    "        \n",
    "    else:\n",
    "        r%2==1\n",
    "        n_odd+=1\n",
    "   #updating the value of n by dividing it by 10 inorder to get the next digit during next iteration\n",
    "    n=n//10\n",
    "#print the results\n",
    "print(\"Odd\", n_odd)\n",
    "print(\"Even\", n_even)\n",
    "print(\"Zeros\", n_zeros)"
   ]
  },
  {
   "cell_type": "code",
   "execution_count": 28,
   "id": "73c65834",
   "metadata": {},
   "outputs": [
    {
     "name": "stdout",
     "output_type": "stream",
     "text": [
      "ProgRaMming1235\n",
      "pROGrAmMING\n"
     ]
    }
   ],
   "source": [
    "input_string = input()\n",
    "\n",
    "new_str = ''\n",
    "\n",
    "for c in input_string:\n",
    "    if(c.isalpha()):\n",
    "        if(c.isupper()):\n",
    "            new_str = new_str+c.lower()\n",
    "        else:\n",
    "            new_str = new_str+c.upper()\n",
    "print(new_str)"
   ]
  },
  {
   "cell_type": "code",
   "execution_count": 29,
   "id": "8811d681",
   "metadata": {},
   "outputs": [
    {
     "name": "stdout",
     "output_type": "stream",
     "text": [
      "Progamsdf1234\n",
      "pROGAMSDF\n"
     ]
    }
   ],
   "source": [
    "input_string = input()\n",
    "\n",
    "input_string = ''.join(c for c in input_string if c.isalpha())\n",
    "\n",
    "input_string = input_string.swapcase()\n",
    "\n",
    "print(input_string)"
   ]
  }
 ],
 "metadata": {
  "kernelspec": {
   "display_name": "Python 3 (ipykernel)",
   "language": "python",
   "name": "python3"
  },
  "language_info": {
   "codemirror_mode": {
    "name": "ipython",
    "version": 3
   },
   "file_extension": ".py",
   "mimetype": "text/x-python",
   "name": "python",
   "nbconvert_exporter": "python",
   "pygments_lexer": "ipython3",
   "version": "3.10.9"
  }
 },
 "nbformat": 4,
 "nbformat_minor": 5
}
