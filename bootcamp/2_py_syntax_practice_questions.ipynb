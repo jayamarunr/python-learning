{
 "cells": [
  {
   "cell_type": "code",
   "execution_count": 1,
   "id": "e81dc4a5",
   "metadata": {},
   "outputs": [
    {
     "name": "stdout",
     "output_type": "stream",
     "text": [
      "a\n",
      "Alphabet\n",
      "John\n"
     ]
    }
   ],
   "source": [
    "inp=input()\n",
    "if str(inp).isdigit():\n",
    "    print(\"Integer\")\n",
    "elif str(inp).isalpha():\\\n",
    "    print(\"Alphabet\")\n",
    "else:\n",
    "    print(\"Neither Integer nor string\")\n",
    "    \n",
    "print(\"John\")"
   ]
  },
  {
   "cell_type": "code",
   "execution_count": 2,
   "id": "33cf43cd",
   "metadata": {},
   "outputs": [
    {
     "name": "stdout",
     "output_type": "stream",
     "text": [
      "b\n",
      "String\n"
     ]
    }
   ],
   "source": [
    "inp=input()\n",
    "if (inp.isdigit()):\n",
    "    print(\"Integer\")\n",
    "else:\n",
    "    print(\"String\")"
   ]
  },
  {
   "cell_type": "code",
   "execution_count": 3,
   "id": "a1217b7c",
   "metadata": {},
   "outputs": [
    {
     "name": "stdout",
     "output_type": "stream",
     "text": [
      "Hello World\n"
     ]
    }
   ],
   "source": [
    "print(\"Hello World\")"
   ]
  },
  {
   "cell_type": "code",
   "execution_count": 5,
   "id": "9bd0eb8e",
   "metadata": {},
   "outputs": [
    {
     "name": "stdout",
     "output_type": "stream",
     "text": [
      "f\n",
      "e\n",
      "g\n"
     ]
    }
   ],
   "source": [
    "ch=input()\n",
    "print(chr(ord(ch)-1))\n",
    "print(chr(ord(ch)+1))"
   ]
  },
  {
   "cell_type": "code",
   "execution_count": 8,
   "id": "8e4e6f34",
   "metadata": {},
   "outputs": [
    {
     "name": "stdout",
     "output_type": "stream",
     "text": [
      "johnson\n",
      "jhnsn\n"
     ]
    }
   ],
   "source": [
    "s=input()\n",
    "#create an empty string that will store the modified string\n",
    "s_new=\"\"\n",
    "\n",
    "#looping the string 's' and extracting only the consonants\n",
    "\n",
    "for i in range(len(s)):\n",
    "    if s[i] not in \"AEIOUaeiou\":\n",
    "        s_new=s_new+s[i]\n",
    "#print the result\n",
    "print(s_new)"
   ]
  },
  {
   "cell_type": "code",
   "execution_count": 9,
   "id": "f912ce29",
   "metadata": {},
   "outputs": [
    {
     "name": "stdout",
     "output_type": "stream",
     "text": [
      "7\n"
     ]
    }
   ],
   "source": [
    "var_a=\"johnson\"\n",
    "print(len(var_a))"
   ]
  },
  {
   "cell_type": "code",
   "execution_count": 10,
   "id": "88ef4059",
   "metadata": {},
   "outputs": [
    {
     "name": "stdout",
     "output_type": "stream",
     "text": [
      "1 5 5\n",
      "Valid\n"
     ]
    }
   ],
   "source": [
    "#take inputs\n",
    "a,b,c=input().split()\n",
    "\n",
    "#convert string to float type\n",
    "a=float(a)\n",
    "b=float(b)\n",
    "c=float(c)\n",
    "\n",
    "#check if all the possible sum of two sides is greater than the third side\n",
    "\n",
    "if b+c>a and a+c>b and a+b>c:\n",
    "    print(\"Valid\")\n",
    "else:\n",
    "    print(\"Invalid\")"
   ]
  },
  {
   "cell_type": "code",
   "execution_count": 13,
   "id": "f4837789",
   "metadata": {},
   "outputs": [
    {
     "name": "stdout",
     "output_type": "stream",
     "text": [
      "5\n",
      "5*1 = 5\n",
      "5*2 = 10\n",
      "5*3 = 15\n",
      "5*4 = 20\n",
      "5*5 = 25\n",
      "5*6 = 30\n",
      "5*7 = 35\n",
      "5*8 = 40\n",
      "5*9 = 45\n",
      "5*10 = 50\n"
     ]
    }
   ],
   "source": [
    "#take an integer input\n",
    "n = int(input())\n",
    "\n",
    "#loop through 1 to 10 and print the multiplication result with n\n",
    "for i in range(1,11):\n",
    "    print(\"{0}*{1} =\".format(n,i),n*i)\n",
    "    "
   ]
  }
 ],
 "metadata": {
  "kernelspec": {
   "display_name": "Python 3 (ipykernel)",
   "language": "python",
   "name": "python3"
  },
  "language_info": {
   "codemirror_mode": {
    "name": "ipython",
    "version": 3
   },
   "file_extension": ".py",
   "mimetype": "text/x-python",
   "name": "python",
   "nbconvert_exporter": "python",
   "pygments_lexer": "ipython3",
   "version": "3.10.9"
  }
 },
 "nbformat": 4,
 "nbformat_minor": 5
}
