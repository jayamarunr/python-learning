{
 "cells": [
  {
   "cell_type": "code",
   "execution_count": 1,
   "id": "1717bcd0",
   "metadata": {},
   "outputs": [
    {
     "name": "stdout",
     "output_type": "stream",
     "text": [
      "what's your name A\n",
      "What's your number 98\n"
     ]
    }
   ],
   "source": [
    "#we would ask the user for his name and mobile number\n",
    "name = input(\"what's your name \")\n",
    "number = input(\"What's your number \")"
   ]
  },
  {
   "cell_type": "code",
   "execution_count": 80,
   "id": "36d6ec30",
   "metadata": {},
   "outputs": [
    {
     "name": "stdout",
     "output_type": "stream",
     "text": [
      "A 98\n"
     ]
    }
   ],
   "source": [
    "print(name, number)"
   ]
  },
  {
   "cell_type": "code",
   "execution_count": 81,
   "id": "e6be83e9",
   "metadata": {},
   "outputs": [
    {
     "data": {
      "text/plain": [
       "166"
      ]
     },
     "execution_count": 81,
     "metadata": {},
     "output_type": "execute_result"
    }
   ],
   "source": [
    "from random import seed\n",
    "from random import randint\n",
    "value = randint(100,999)\n",
    "value"
   ]
  },
  {
   "cell_type": "code",
   "execution_count": 82,
   "id": "3442eb11",
   "metadata": {},
   "outputs": [
    {
     "name": "stdout",
     "output_type": "stream",
     "text": [
      "A 98 166\n"
     ]
    }
   ],
   "source": [
    "print(name, number, value)"
   ]
  },
  {
   "cell_type": "code",
   "execution_count": 83,
   "id": "f13cb1eb",
   "metadata": {},
   "outputs": [
    {
     "data": {
      "text/plain": [
       "['A', '98', 166]"
      ]
     },
     "execution_count": 83,
     "metadata": {},
     "output_type": "execute_result"
    }
   ],
   "source": [
    "list1 = [name, number, value]\n",
    "list1"
   ]
  },
  {
   "cell_type": "markdown",
   "id": "aafaf8a0",
   "metadata": {},
   "source": [
    "# List\n",
    "* Lists are an ordered sequence of mixed data types.\n",
    "* Lists are written as comma-separated elements within squared brackets\n",
    "  "
   ]
  },
  {
   "cell_type": "code",
   "execution_count": 84,
   "id": "b3707d64",
   "metadata": {},
   "outputs": [
    {
     "data": {
      "text/plain": [
       "['India', 23, 6, 'Mumbai']"
      ]
     },
     "execution_count": 84,
     "metadata": {},
     "output_type": "execute_result"
    }
   ],
   "source": [
    "#Introduction\n",
    "L= [\"India\", 23, 6, \"Mumbai\"]\n",
    "L"
   ]
  },
  {
   "cell_type": "code",
   "execution_count": 85,
   "id": "20ee3f5f",
   "metadata": {},
   "outputs": [
    {
     "data": {
      "text/plain": [
       "['Chemistry', 'Biology', [1994, 2004], 4]"
      ]
     },
     "execution_count": 85,
     "metadata": {},
     "output_type": "execute_result"
    }
   ],
   "source": [
    "#Nested list\n",
    "L = ['Chemistry', 'Biology', [1994, 2004], 4]\n",
    "L"
   ]
  },
  {
   "cell_type": "code",
   "execution_count": 86,
   "id": "81f7c433",
   "metadata": {},
   "outputs": [
    {
     "data": {
      "text/plain": [
       "[1994, 2004]"
      ]
     },
     "execution_count": 86,
     "metadata": {},
     "output_type": "execute_result"
    }
   ],
   "source": [
    "#indexing\n",
    "L[2]"
   ]
  },
  {
   "cell_type": "code",
   "execution_count": 87,
   "id": "d46e1f5b",
   "metadata": {},
   "outputs": [
    {
     "data": {
      "text/plain": [
       "'Biology'"
      ]
     },
     "execution_count": 87,
     "metadata": {},
     "output_type": "execute_result"
    }
   ],
   "source": [
    "L[1]"
   ]
  },
  {
   "cell_type": "code",
   "execution_count": 88,
   "id": "0842eea5",
   "metadata": {},
   "outputs": [
    {
     "data": {
      "text/plain": [
       "4"
      ]
     },
     "execution_count": 88,
     "metadata": {},
     "output_type": "execute_result"
    }
   ],
   "source": [
    "L[-1]"
   ]
  },
  {
   "cell_type": "code",
   "execution_count": 89,
   "id": "257cb20d",
   "metadata": {},
   "outputs": [
    {
     "data": {
      "text/plain": [
       "[1994, 2004]"
      ]
     },
     "execution_count": 89,
     "metadata": {},
     "output_type": "execute_result"
    }
   ],
   "source": [
    "L[-2]"
   ]
  },
  {
   "cell_type": "code",
   "execution_count": 90,
   "id": "aced041e",
   "metadata": {},
   "outputs": [
    {
     "data": {
      "text/plain": [
       "1994"
      ]
     },
     "execution_count": 90,
     "metadata": {},
     "output_type": "execute_result"
    }
   ],
   "source": [
    "L[-2][0]"
   ]
  },
  {
   "cell_type": "code",
   "execution_count": 91,
   "id": "b1705244",
   "metadata": {},
   "outputs": [
    {
     "data": {
      "text/plain": [
       "['Chemistry', 'Biology', [1994, 2004]]"
      ]
     },
     "execution_count": 91,
     "metadata": {},
     "output_type": "execute_result"
    }
   ],
   "source": [
    "#slicing\n",
    "L[0:3]"
   ]
  },
  {
   "cell_type": "code",
   "execution_count": 92,
   "id": "9b1c7431",
   "metadata": {},
   "outputs": [
    {
     "name": "stdout",
     "output_type": "stream",
     "text": [
      "True\n",
      "False\n"
     ]
    }
   ],
   "source": [
    "#Membership in lists\n",
    "L1 = [1,2,3,4]\n",
    "print(1 in L1)\n",
    "print(20 in L1)"
   ]
  },
  {
   "cell_type": "code",
   "execution_count": 93,
   "id": "30eba175",
   "metadata": {},
   "outputs": [
    {
     "data": {
      "text/plain": [
       "['Chemistry', 'Biology', [1994, 2004], 4]"
      ]
     },
     "execution_count": 93,
     "metadata": {},
     "output_type": "execute_result"
    }
   ],
   "source": [
    "#List concatenation\n",
    "L"
   ]
  },
  {
   "cell_type": "code",
   "execution_count": 94,
   "id": "5d86376c",
   "metadata": {},
   "outputs": [
    {
     "data": {
      "text/plain": [
       "['Chemistry', 'Biology', [1994, 2004], 4, 5, 8]"
      ]
     },
     "execution_count": 94,
     "metadata": {},
     "output_type": "execute_result"
    }
   ],
   "source": [
    "new_L = L + [5,8]\n",
    "new_L"
   ]
  },
  {
   "cell_type": "code",
   "execution_count": 95,
   "id": "ba8be4d1",
   "metadata": {},
   "outputs": [
    {
     "data": {
      "text/plain": [
       "['Chemistry', 'Physics', [1994, 2004], 4]"
      ]
     },
     "execution_count": 95,
     "metadata": {},
     "output_type": "execute_result"
    }
   ],
   "source": [
    "#Replace \"Biology\" with \"Physics\"\n",
    "L[1] = \"Physics\"\n",
    "L"
   ]
  },
  {
   "cell_type": "code",
   "execution_count": 96,
   "id": "49042f29",
   "metadata": {},
   "outputs": [
    {
     "data": {
      "text/plain": [
       "['Chemistry', 'Physics', [1994, 2004], 4]"
      ]
     },
     "execution_count": 96,
     "metadata": {},
     "output_type": "execute_result"
    }
   ],
   "source": [
    "# extend()\n",
    "L"
   ]
  },
  {
   "cell_type": "code",
   "execution_count": 97,
   "id": "74891284",
   "metadata": {},
   "outputs": [
    {
     "data": {
      "text/plain": [
       "['Chemistry', 'Physics', [1994, 2004], 4, 5, 8]"
      ]
     },
     "execution_count": 97,
     "metadata": {},
     "output_type": "execute_result"
    }
   ],
   "source": [
    "L.extend([5,8])\n",
    "L"
   ]
  },
  {
   "cell_type": "code",
   "execution_count": 99,
   "id": "3b6d3391",
   "metadata": {},
   "outputs": [
    {
     "data": {
      "text/plain": [
       "['Chemistry', 'Physics', [1994, 2004], 4, 5, 8, [5, 8], [5, 8]]"
      ]
     },
     "execution_count": 99,
     "metadata": {},
     "output_type": "execute_result"
    }
   ],
   "source": [
    "#append()\n",
    "L.append([5,8])\n",
    "L"
   ]
  },
  {
   "cell_type": "code",
   "execution_count": 100,
   "id": "2cd56387",
   "metadata": {},
   "outputs": [
    {
     "data": {
      "text/plain": [
       "['Chemistry', 'Physics', [1994, 2004], 4, 5, 8, [5, 8], [5, 8], 123]"
      ]
     },
     "execution_count": 100,
     "metadata": {},
     "output_type": "execute_result"
    }
   ],
   "source": [
    "L.append(123)\n",
    "L"
   ]
  },
  {
   "cell_type": "code",
   "execution_count": 101,
   "id": "e5d9a95c",
   "metadata": {},
   "outputs": [
    {
     "data": {
      "text/plain": [
       "['Physics', [1994, 2004], 4, 5, 8, [5, 8], [5, 8], 123]"
      ]
     },
     "execution_count": 101,
     "metadata": {},
     "output_type": "execute_result"
    }
   ],
   "source": [
    "#del command\n",
    "del L[0]\n",
    "L"
   ]
  },
  {
   "cell_type": "code",
   "execution_count": 102,
   "id": "805c80da",
   "metadata": {},
   "outputs": [
    {
     "data": {
      "text/plain": [
       "[4, 5, 8, [5, 8], [5, 8], 123]"
      ]
     },
     "execution_count": 102,
     "metadata": {},
     "output_type": "execute_result"
    }
   ],
   "source": [
    "del L[0:2]\n",
    "L"
   ]
  },
  {
   "cell_type": "code",
   "execution_count": 104,
   "id": "e4811a61",
   "metadata": {},
   "outputs": [
    {
     "data": {
      "text/plain": [
       "8"
      ]
     },
     "execution_count": 104,
     "metadata": {},
     "output_type": "execute_result"
    }
   ],
   "source": [
    "#pop()\n",
    "L = ['Chemistry', 'Physics', [1994, 2004], 4, 5, 8]\n",
    "L.pop()"
   ]
  },
  {
   "cell_type": "code",
   "execution_count": 105,
   "id": "90bc7cf7",
   "metadata": {},
   "outputs": [
    {
     "data": {
      "text/plain": [
       "['Chemistry', 'Physics', [1994, 2004], 4, 5]"
      ]
     },
     "execution_count": 105,
     "metadata": {},
     "output_type": "execute_result"
    }
   ],
   "source": [
    "L"
   ]
  },
  {
   "cell_type": "code",
   "execution_count": 106,
   "id": "021bb2f8",
   "metadata": {},
   "outputs": [
    {
     "data": {
      "text/plain": [
       "['Chemistry', [1994, 2004], 4, 5]"
      ]
     },
     "execution_count": 106,
     "metadata": {},
     "output_type": "execute_result"
    }
   ],
   "source": [
    "#remove()\n",
    "L.remove('Physics')\n",
    "L"
   ]
  },
  {
   "cell_type": "code",
   "execution_count": 108,
   "id": "c6e0c6c2",
   "metadata": {},
   "outputs": [
    {
     "data": {
      "text/plain": [
       "[1, 3, 8, 24, 32]"
      ]
     },
     "execution_count": 108,
     "metadata": {},
     "output_type": "execute_result"
    }
   ],
   "source": [
    "#sorting Lists\n",
    "L = [32, 24, 1, 3, 8]\n",
    "L.sort()\n",
    "L"
   ]
  },
  {
   "cell_type": "code",
   "execution_count": 111,
   "id": "1e8c0eed",
   "metadata": {},
   "outputs": [
    {
     "data": {
      "text/plain": [
       "[32, 24, 8, 3, 1]"
      ]
     },
     "execution_count": 111,
     "metadata": {},
     "output_type": "execute_result"
    }
   ],
   "source": [
    "L.sort(reverse=True)\n",
    "L"
   ]
  },
  {
   "cell_type": "markdown",
   "id": "773f3d35",
   "metadata": {},
   "source": [
    "## Difference between sort and sorted"
   ]
  },
  {
   "cell_type": "code",
   "execution_count": 112,
   "id": "6a36f008",
   "metadata": {},
   "outputs": [
    {
     "data": {
      "text/plain": [
       "['Orange', 'Strawberry', 'Mango']"
      ]
     },
     "execution_count": 112,
     "metadata": {},
     "output_type": "execute_result"
    }
   ],
   "source": [
    "A = [\"Orange\", \"Strawberry\", \"Mango\"]\n",
    "A"
   ]
  },
  {
   "cell_type": "code",
   "execution_count": 113,
   "id": "2997f475",
   "metadata": {},
   "outputs": [
    {
     "name": "stdout",
     "output_type": "stream",
     "text": [
      "['Mango', 'Orange', 'Strawberry']\n",
      "None\n"
     ]
    }
   ],
   "source": [
    "B = A.sort()\n",
    "print(A)\n",
    "print(B)"
   ]
  },
  {
   "cell_type": "code",
   "execution_count": 114,
   "id": "0619b1dc",
   "metadata": {},
   "outputs": [
    {
     "name": "stdout",
     "output_type": "stream",
     "text": [
      "['Orange', 'Strawberry', 'Mango']\n",
      "['Mango', 'Orange', 'Strawberry']\n"
     ]
    }
   ],
   "source": [
    "A = [\"Orange\", \"Strawberry\", \"Mango\"]\n",
    "C = sorted(A)\n",
    "print(A)\n",
    "print(C)"
   ]
  },
  {
   "cell_type": "code",
   "execution_count": 122,
   "id": "bbe45eb4",
   "metadata": {},
   "outputs": [
    {
     "data": {
      "text/plain": [
       "2"
      ]
     },
     "execution_count": 122,
     "metadata": {},
     "output_type": "execute_result"
    }
   ],
   "source": [
    "list_1 = [2, 33, 222, 14, 25]\n",
    "list_1[-5]"
   ]
  },
  {
   "cell_type": "code",
   "execution_count": 123,
   "id": "fa2588db",
   "metadata": {},
   "outputs": [
    {
     "name": "stdout",
     "output_type": "stream",
     "text": [
      "[]\n"
     ]
    }
   ],
   "source": [
    "word = ['1','2','3','4']\n",
    "word[ : ] = [ ]\n",
    "print(word)"
   ]
  },
  {
   "cell_type": "code",
   "execution_count": 124,
   "id": "4d90332e",
   "metadata": {},
   "outputs": [
    {
     "name": "stdout",
     "output_type": "stream",
     "text": [
      "['five', 'four', 'one', 'six', 'three', 'two']\n",
      "['one', 'two', 'three', 'four', 'five', 'six']\n"
     ]
    }
   ],
   "source": [
    "L = ['one','two','three', 'four', 'five', 'six']\n",
    "print(sorted(L))\n",
    "print (L)"
   ]
  },
  {
   "cell_type": "markdown",
   "id": "67befb6e",
   "metadata": {},
   "source": [
    "## Shadow Copying"
   ]
  },
  {
   "cell_type": "code",
   "execution_count": 125,
   "id": "ffebf1d7",
   "metadata": {},
   "outputs": [],
   "source": [
    "A = [\"Orange\", \"Strawberry\", \"Mango\"]"
   ]
  },
  {
   "cell_type": "code",
   "execution_count": 126,
   "id": "6c10419d",
   "metadata": {},
   "outputs": [],
   "source": [
    "B = A"
   ]
  },
  {
   "cell_type": "code",
   "execution_count": 127,
   "id": "a52b4cb1",
   "metadata": {},
   "outputs": [
    {
     "name": "stdout",
     "output_type": "stream",
     "text": [
      "['Orange', 'Strawberry', 'Mango'] ['Orange', 'Strawberry', 'Mango']\n"
     ]
    }
   ],
   "source": [
    "print(A, B)"
   ]
  },
  {
   "cell_type": "code",
   "execution_count": 129,
   "id": "b552743f",
   "metadata": {},
   "outputs": [
    {
     "name": "stdout",
     "output_type": "stream",
     "text": [
      "['Apple', 'Strawberry', 'Mango'] ['Apple', 'Strawberry', 'Mango']\n"
     ]
    }
   ],
   "source": [
    "A[0] = \"Apple\"\n",
    "print(A,B)"
   ]
  },
  {
   "cell_type": "code",
   "execution_count": 130,
   "id": "556adb40",
   "metadata": {},
   "outputs": [
    {
     "name": "stdout",
     "output_type": "stream",
     "text": [
      "['Orange', 'Strawberry', 'Mango'] ['Orange', 'Strawberry', 'Mango']\n"
     ]
    }
   ],
   "source": [
    "A = [\"Orange\", \"Strawberry\", \"Mango\"]\n",
    "B = A[:]\n",
    "print(A,B)"
   ]
  },
  {
   "cell_type": "code",
   "execution_count": 131,
   "id": "d58cd5d4",
   "metadata": {},
   "outputs": [
    {
     "name": "stdout",
     "output_type": "stream",
     "text": [
      "['Apple', 'Strawberry', 'Mango'] ['Orange', 'Strawberry', 'Mango']\n"
     ]
    }
   ],
   "source": [
    "A[0] = \"Apple\"\n",
    "print(A,B)"
   ]
  },
  {
   "cell_type": "markdown",
   "id": "dc61fb44",
   "metadata": {},
   "source": [
    "### Tuples\n",
    "* Tuples are an ordered sequence of mixed data types.\n",
    "* Tuples are written as comma-separated elements within paranthesis"
   ]
  },
  {
   "cell_type": "code",
   "execution_count": 132,
   "id": "ef8cd5d9",
   "metadata": {},
   "outputs": [
    {
     "data": {
      "text/plain": [
       "('disco', 12, 4.5)"
      ]
     },
     "execution_count": 132,
     "metadata": {},
     "output_type": "execute_result"
    }
   ],
   "source": [
    "t = (\"disco\", 12, 4.5)\n",
    "t"
   ]
  },
  {
   "cell_type": "code",
   "execution_count": 133,
   "id": "505602c3",
   "metadata": {},
   "outputs": [
    {
     "data": {
      "text/plain": [
       "tuple"
      ]
     },
     "execution_count": 133,
     "metadata": {},
     "output_type": "execute_result"
    }
   ],
   "source": [
    "type(t)"
   ]
  },
  {
   "cell_type": "markdown",
   "id": "8d4b3a4f",
   "metadata": {},
   "source": [
    "### Tuples can be defined in various ways\n",
    "\n",
    "#### A tuple can be defined without using paranthesis"
   ]
  },
  {
   "cell_type": "code",
   "execution_count": 134,
   "id": "b391c2bd",
   "metadata": {},
   "outputs": [
    {
     "name": "stdout",
     "output_type": "stream",
     "text": [
      "(1, 2, 3, 4)\n"
     ]
    }
   ],
   "source": [
    "sample_tuple = 1,2,3,4\n",
    "print(sample_tuple)"
   ]
  },
  {
   "cell_type": "code",
   "execution_count": 135,
   "id": "36f39905",
   "metadata": {},
   "outputs": [
    {
     "data": {
      "text/plain": [
       "tuple"
      ]
     },
     "execution_count": 135,
     "metadata": {},
     "output_type": "execute_result"
    }
   ],
   "source": [
    "type(sample_tuple)"
   ]
  },
  {
   "cell_type": "markdown",
   "id": "e42c2e9e",
   "metadata": {},
   "source": [
    "#### Single value tuple"
   ]
  },
  {
   "cell_type": "code",
   "execution_count": 136,
   "id": "cfd236cd",
   "metadata": {},
   "outputs": [
    {
     "name": "stdout",
     "output_type": "stream",
     "text": [
      "(1,)\n"
     ]
    }
   ],
   "source": [
    "sample_tuple = 1,\n",
    "print(sample_tuple)"
   ]
  },
  {
   "cell_type": "code",
   "execution_count": 137,
   "id": "a650c008",
   "metadata": {},
   "outputs": [
    {
     "data": {
      "text/plain": [
       "int"
      ]
     },
     "execution_count": 137,
     "metadata": {},
     "output_type": "execute_result"
    }
   ],
   "source": [
    "sample_tuple = 1 #this is not a tuple\n",
    "type(sample_tuple)"
   ]
  },
  {
   "cell_type": "code",
   "execution_count": 138,
   "id": "56ac3d72",
   "metadata": {},
   "outputs": [
    {
     "data": {
      "text/plain": [
       "int"
      ]
     },
     "execution_count": 138,
     "metadata": {},
     "output_type": "execute_result"
    }
   ],
   "source": [
    "sample_tuple = (1) #this is not a tuple\n",
    "type(sample_tuple)"
   ]
  },
  {
   "cell_type": "markdown",
   "id": "8e0eecd4",
   "metadata": {},
   "source": [
    "#### Indexing in tuples"
   ]
  },
  {
   "cell_type": "code",
   "execution_count": 140,
   "id": "5d50ac16",
   "metadata": {},
   "outputs": [
    {
     "data": {
      "text/plain": [
       "('Behzad', 84, 'Python')"
      ]
     },
     "execution_count": 140,
     "metadata": {},
     "output_type": "execute_result"
    }
   ],
   "source": [
    "t = (\"Behzad\", 84, \"Python\")\n",
    "t"
   ]
  },
  {
   "cell_type": "code",
   "execution_count": 141,
   "id": "3db0f355",
   "metadata": {},
   "outputs": [
    {
     "data": {
      "text/plain": [
       "'Python'"
      ]
     },
     "execution_count": 141,
     "metadata": {},
     "output_type": "execute_result"
    }
   ],
   "source": [
    "t[-1]"
   ]
  },
  {
   "cell_type": "code",
   "execution_count": 142,
   "id": "a09cac84",
   "metadata": {},
   "outputs": [
    {
     "data": {
      "text/plain": [
       "84"
      ]
     },
     "execution_count": 142,
     "metadata": {},
     "output_type": "execute_result"
    }
   ],
   "source": [
    "t[-2]"
   ]
  },
  {
   "cell_type": "markdown",
   "id": "934fa69d",
   "metadata": {},
   "source": [
    "#### Slicing"
   ]
  },
  {
   "cell_type": "code",
   "execution_count": 144,
   "id": "6fbbd65a",
   "metadata": {},
   "outputs": [
    {
     "data": {
      "text/plain": [
       "('Mumbai', 84, 'Python', 5, 2, 1)"
      ]
     },
     "execution_count": 144,
     "metadata": {},
     "output_type": "execute_result"
    }
   ],
   "source": [
    "t = (\"Mumbai\", 84, \"Python\", 5, 2, 1)\n",
    "t"
   ]
  },
  {
   "cell_type": "code",
   "execution_count": 145,
   "id": "84c8539d",
   "metadata": {},
   "outputs": [
    {
     "data": {
      "text/plain": [
       "('Mumbai', 84, 'Python')"
      ]
     },
     "execution_count": 145,
     "metadata": {},
     "output_type": "execute_result"
    }
   ],
   "source": [
    "t[0:3]"
   ]
  },
  {
   "cell_type": "code",
   "execution_count": 146,
   "id": "1866b7be",
   "metadata": {},
   "outputs": [
    {
     "data": {
      "text/plain": [
       "(2, 1)"
      ]
     },
     "execution_count": 146,
     "metadata": {},
     "output_type": "execute_result"
    }
   ],
   "source": [
    "t[-2:]"
   ]
  },
  {
   "cell_type": "code",
   "execution_count": 147,
   "id": "d9e42c99",
   "metadata": {},
   "outputs": [
    {
     "data": {
      "text/plain": [
       "6"
      ]
     },
     "execution_count": 147,
     "metadata": {},
     "output_type": "execute_result"
    }
   ],
   "source": [
    "len(t)"
   ]
  },
  {
   "cell_type": "markdown",
   "id": "49b64fe4",
   "metadata": {},
   "source": [
    "#### Concatenating tuples"
   ]
  },
  {
   "cell_type": "code",
   "execution_count": 149,
   "id": "739bb1a0",
   "metadata": {},
   "outputs": [
    {
     "data": {
      "text/plain": [
       "['This', 'is', 'Session', 2, 'On', 'Tuples']"
      ]
     },
     "execution_count": 149,
     "metadata": {},
     "output_type": "execute_result"
    }
   ],
   "source": [
    "tup1 = [\"This\", \"is\", \"Session\", 2]\n",
    "tup2 = [\"On\", \"Tuples\"]\n",
    "tup3 = tup1 + tup2\n",
    "tup3"
   ]
  },
  {
   "cell_type": "markdown",
   "id": "4b33c16c",
   "metadata": {},
   "source": [
    "#### Sum() - min() - max()"
   ]
  },
  {
   "cell_type": "code",
   "execution_count": 150,
   "id": "5e5e7fad",
   "metadata": {},
   "outputs": [],
   "source": [
    "t = (2, 4, 10, 4, -1)"
   ]
  },
  {
   "cell_type": "code",
   "execution_count": 151,
   "id": "6e58bb99",
   "metadata": {},
   "outputs": [
    {
     "data": {
      "text/plain": [
       "-1"
      ]
     },
     "execution_count": 151,
     "metadata": {},
     "output_type": "execute_result"
    }
   ],
   "source": [
    "min(t)"
   ]
  },
  {
   "cell_type": "code",
   "execution_count": 152,
   "id": "0ba11685",
   "metadata": {},
   "outputs": [
    {
     "data": {
      "text/plain": [
       "10"
      ]
     },
     "execution_count": 152,
     "metadata": {},
     "output_type": "execute_result"
    }
   ],
   "source": [
    "max(t)"
   ]
  },
  {
   "cell_type": "code",
   "execution_count": 154,
   "id": "5556356d",
   "metadata": {},
   "outputs": [
    {
     "data": {
      "text/plain": [
       "14.2"
      ]
     },
     "execution_count": 154,
     "metadata": {},
     "output_type": "execute_result"
    }
   ],
   "source": [
    "tuple = (2,3.2,4,5)\n",
    "sum(tuple)"
   ]
  },
  {
   "cell_type": "code",
   "execution_count": 155,
   "id": "4f0c7029",
   "metadata": {},
   "outputs": [
    {
     "data": {
      "text/plain": [
       "2"
      ]
     },
     "execution_count": 155,
     "metadata": {},
     "output_type": "execute_result"
    }
   ],
   "source": [
    "min(tuple)"
   ]
  },
  {
   "cell_type": "code",
   "execution_count": 156,
   "id": "092829ba",
   "metadata": {},
   "outputs": [
    {
     "data": {
      "text/plain": [
       "5"
      ]
     },
     "execution_count": 156,
     "metadata": {},
     "output_type": "execute_result"
    }
   ],
   "source": [
    "max(tuple)"
   ]
  },
  {
   "cell_type": "code",
   "execution_count": 157,
   "id": "fb950047",
   "metadata": {},
   "outputs": [
    {
     "ename": "TypeError",
     "evalue": "'<' not supported between instances of 'str' and 'int'",
     "output_type": "error",
     "traceback": [
      "\u001b[1;31m---------------------------------------------------------------------------\u001b[0m",
      "\u001b[1;31mTypeError\u001b[0m                                 Traceback (most recent call last)",
      "Cell \u001b[1;32mIn[157], line 2\u001b[0m\n\u001b[0;32m      1\u001b[0m t \u001b[38;5;241m=\u001b[39m (\u001b[38;5;241m2\u001b[39m, \u001b[38;5;124m\"\u001b[39m\u001b[38;5;124mPython\u001b[39m\u001b[38;5;124m\"\u001b[39m, \u001b[38;5;241m10\u001b[39m, \u001b[38;5;241m4\u001b[39m, \u001b[38;5;241m-\u001b[39m\u001b[38;5;241m1\u001b[39m)\n\u001b[1;32m----> 2\u001b[0m \u001b[38;5;28;43mmin\u001b[39;49m\u001b[43m(\u001b[49m\u001b[43mt\u001b[49m\u001b[43m)\u001b[49m\n",
      "\u001b[1;31mTypeError\u001b[0m: '<' not supported between instances of 'str' and 'int'"
     ]
    }
   ],
   "source": [
    "t = (2, \"Python\", 10, 4, -1)\n",
    "min(t)"
   ]
  },
  {
   "cell_type": "code",
   "execution_count": 158,
   "id": "b96c3d09",
   "metadata": {},
   "outputs": [
    {
     "data": {
      "text/plain": [
       "'s'"
      ]
     },
     "execution_count": 158,
     "metadata": {},
     "output_type": "execute_result"
    }
   ],
   "source": [
    "t = (\"disco\", 12, 4.5)\n",
    "t[0][2]"
   ]
  },
  {
   "cell_type": "markdown",
   "id": "bcbe21b1",
   "metadata": {},
   "source": [
    "### Immutability of tuples"
   ]
  },
  {
   "cell_type": "code",
   "execution_count": 159,
   "id": "f24227bb",
   "metadata": {},
   "outputs": [
    {
     "data": {
      "text/plain": [
       "('USA', 4, 3, 'Disco', 7.5)"
      ]
     },
     "execution_count": 159,
     "metadata": {},
     "output_type": "execute_result"
    }
   ],
   "source": [
    "t = (\"USA\", 4, 3, \"Disco\", 7.5)\n",
    "t"
   ]
  },
  {
   "cell_type": "code",
   "execution_count": 161,
   "id": "55b0da55",
   "metadata": {},
   "outputs": [
    {
     "ename": "TypeError",
     "evalue": "'tuple' object does not support item assignment",
     "output_type": "error",
     "traceback": [
      "\u001b[1;31m---------------------------------------------------------------------------\u001b[0m",
      "\u001b[1;31mTypeError\u001b[0m                                 Traceback (most recent call last)",
      "Cell \u001b[1;32mIn[161], line 1\u001b[0m\n\u001b[1;32m----> 1\u001b[0m t[\u001b[38;5;241m3\u001b[39m] \u001b[38;5;241m=\u001b[39m \u001b[38;5;124m\"\u001b[39m\u001b[38;5;124mHard Rock\u001b[39m\u001b[38;5;124m\"\u001b[39m\n",
      "\u001b[1;31mTypeError\u001b[0m: 'tuple' object does not support item assignment"
     ]
    }
   ],
   "source": [
    "t[3] = \"Hard Rock\""
   ]
  },
  {
   "cell_type": "code",
   "execution_count": 163,
   "id": "4f8b22c4",
   "metadata": {},
   "outputs": [
    {
     "data": {
      "text/plain": [
       "('USA', 4, 3, 'Hard rock', 7.5)"
      ]
     },
     "execution_count": 163,
     "metadata": {},
     "output_type": "execute_result"
    }
   ],
   "source": [
    "new_t = t[0:3] +(\"Hard rock\",) + t[4:]\n",
    "new_t"
   ]
  },
  {
   "cell_type": "markdown",
   "id": "8c9d3790",
   "metadata": {},
   "source": [
    "### Sorting a tuple"
   ]
  },
  {
   "cell_type": "code",
   "execution_count": 164,
   "id": "52f9e2a5",
   "metadata": {},
   "outputs": [
    {
     "data": {
      "text/plain": [
       "(2, 3, 5, 10, -1)"
      ]
     },
     "execution_count": 164,
     "metadata": {},
     "output_type": "execute_result"
    }
   ],
   "source": [
    "t = (2, 3, 5, 10, -1)\n",
    "t"
   ]
  },
  {
   "cell_type": "code",
   "execution_count": null,
   "id": "b7d31982",
   "metadata": {},
   "outputs": [],
   "source": []
  },
  {
   "cell_type": "code",
   "execution_count": null,
   "id": "01e90796",
   "metadata": {},
   "outputs": [],
   "source": []
  },
  {
   "cell_type": "code",
   "execution_count": null,
   "id": "e2fefc79",
   "metadata": {},
   "outputs": [],
   "source": []
  },
  {
   "cell_type": "code",
   "execution_count": null,
   "id": "dac747e1",
   "metadata": {},
   "outputs": [],
   "source": []
  }
 ],
 "metadata": {
  "kernelspec": {
   "display_name": "Python 3 (ipykernel)",
   "language": "python",
   "name": "python3"
  },
  "language_info": {
   "codemirror_mode": {
    "name": "ipython",
    "version": 3
   },
   "file_extension": ".py",
   "mimetype": "text/x-python",
   "name": "python",
   "nbconvert_exporter": "python",
   "pygments_lexer": "ipython3",
   "version": "3.10.9"
  }
 },
 "nbformat": 4,
 "nbformat_minor": 5
}
