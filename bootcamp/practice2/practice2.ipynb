{
 "cells": [
  {
   "cell_type": "code",
   "execution_count": 1,
   "id": "1717bcd0",
   "metadata": {},
   "outputs": [
    {
     "name": "stdout",
     "output_type": "stream",
     "text": [
      "what's your name A\n",
      "What's your number 98\n"
     ]
    }
   ],
   "source": [
    "#we would ask the user for his name and mobile number\n",
    "name = input(\"what's your name \")\n",
    "number = input(\"What's your number \")"
   ]
  },
  {
   "cell_type": "code",
   "execution_count": 80,
   "id": "36d6ec30",
   "metadata": {},
   "outputs": [
    {
     "name": "stdout",
     "output_type": "stream",
     "text": [
      "A 98\n"
     ]
    }
   ],
   "source": [
    "print(name, number)"
   ]
  },
  {
   "cell_type": "code",
   "execution_count": 81,
   "id": "e6be83e9",
   "metadata": {},
   "outputs": [
    {
     "data": {
      "text/plain": [
       "166"
      ]
     },
     "execution_count": 81,
     "metadata": {},
     "output_type": "execute_result"
    }
   ],
   "source": [
    "from random import seed\n",
    "from random import randint\n",
    "value = randint(100,999)\n",
    "value"
   ]
  },
  {
   "cell_type": "code",
   "execution_count": 82,
   "id": "3442eb11",
   "metadata": {},
   "outputs": [
    {
     "name": "stdout",
     "output_type": "stream",
     "text": [
      "A 98 166\n"
     ]
    }
   ],
   "source": [
    "print(name, number, value)"
   ]
  },
  {
   "cell_type": "code",
   "execution_count": 83,
   "id": "f13cb1eb",
   "metadata": {},
   "outputs": [
    {
     "data": {
      "text/plain": [
       "['A', '98', 166]"
      ]
     },
     "execution_count": 83,
     "metadata": {},
     "output_type": "execute_result"
    }
   ],
   "source": [
    "list1 = [name, number, value]\n",
    "list1"
   ]
  },
  {
   "cell_type": "markdown",
   "id": "aafaf8a0",
   "metadata": {},
   "source": [
    "# List\n",
    "* Lists are an ordered sequence of mixed data types.\n",
    "* Lists are written as comma-separated elements within squared brackets\n",
    "  "
   ]
  },
  {
   "cell_type": "code",
   "execution_count": 84,
   "id": "b3707d64",
   "metadata": {},
   "outputs": [
    {
     "data": {
      "text/plain": [
       "['India', 23, 6, 'Mumbai']"
      ]
     },
     "execution_count": 84,
     "metadata": {},
     "output_type": "execute_result"
    }
   ],
   "source": [
    "#Introduction\n",
    "L= [\"India\", 23, 6, \"Mumbai\"]\n",
    "L"
   ]
  },
  {
   "cell_type": "code",
   "execution_count": 85,
   "id": "20ee3f5f",
   "metadata": {},
   "outputs": [
    {
     "data": {
      "text/plain": [
       "['Chemistry', 'Biology', [1994, 2004], 4]"
      ]
     },
     "execution_count": 85,
     "metadata": {},
     "output_type": "execute_result"
    }
   ],
   "source": [
    "#Nested list\n",
    "L = ['Chemistry', 'Biology', [1994, 2004], 4]\n",
    "L"
   ]
  },
  {
   "cell_type": "code",
   "execution_count": 86,
   "id": "81f7c433",
   "metadata": {},
   "outputs": [
    {
     "data": {
      "text/plain": [
       "[1994, 2004]"
      ]
     },
     "execution_count": 86,
     "metadata": {},
     "output_type": "execute_result"
    }
   ],
   "source": [
    "#indexing\n",
    "L[2]"
   ]
  },
  {
   "cell_type": "code",
   "execution_count": 87,
   "id": "d46e1f5b",
   "metadata": {},
   "outputs": [
    {
     "data": {
      "text/plain": [
       "'Biology'"
      ]
     },
     "execution_count": 87,
     "metadata": {},
     "output_type": "execute_result"
    }
   ],
   "source": [
    "L[1]"
   ]
  },
  {
   "cell_type": "code",
   "execution_count": 88,
   "id": "0842eea5",
   "metadata": {},
   "outputs": [
    {
     "data": {
      "text/plain": [
       "4"
      ]
     },
     "execution_count": 88,
     "metadata": {},
     "output_type": "execute_result"
    }
   ],
   "source": [
    "L[-1]"
   ]
  },
  {
   "cell_type": "code",
   "execution_count": 89,
   "id": "257cb20d",
   "metadata": {},
   "outputs": [
    {
     "data": {
      "text/plain": [
       "[1994, 2004]"
      ]
     },
     "execution_count": 89,
     "metadata": {},
     "output_type": "execute_result"
    }
   ],
   "source": [
    "L[-2]"
   ]
  },
  {
   "cell_type": "code",
   "execution_count": 90,
   "id": "aced041e",
   "metadata": {},
   "outputs": [
    {
     "data": {
      "text/plain": [
       "1994"
      ]
     },
     "execution_count": 90,
     "metadata": {},
     "output_type": "execute_result"
    }
   ],
   "source": [
    "L[-2][0]"
   ]
  },
  {
   "cell_type": "code",
   "execution_count": 91,
   "id": "b1705244",
   "metadata": {},
   "outputs": [
    {
     "data": {
      "text/plain": [
       "['Chemistry', 'Biology', [1994, 2004]]"
      ]
     },
     "execution_count": 91,
     "metadata": {},
     "output_type": "execute_result"
    }
   ],
   "source": [
    "#slicing\n",
    "L[0:3]"
   ]
  },
  {
   "cell_type": "code",
   "execution_count": 92,
   "id": "9b1c7431",
   "metadata": {},
   "outputs": [
    {
     "name": "stdout",
     "output_type": "stream",
     "text": [
      "True\n",
      "False\n"
     ]
    }
   ],
   "source": [
    "#Membership in lists\n",
    "L1 = [1,2,3,4]\n",
    "print(1 in L1)\n",
    "print(20 in L1)"
   ]
  },
  {
   "cell_type": "code",
   "execution_count": 93,
   "id": "56ce603d",
   "metadata": {},
   "outputs": [
    {
     "data": {
      "text/plain": [
       "['Chemistry', 'Biology', [1994, 2004], 4]"
      ]
     },
     "execution_count": 93,
     "metadata": {},
     "output_type": "execute_result"
    }
   ],
   "source": [
    "#List concatenation\n",
    "L"
   ]
  },
  {
   "cell_type": "code",
   "execution_count": 94,
   "id": "d4880700",
   "metadata": {},
   "outputs": [
    {
     "data": {
      "text/plain": [
       "['Chemistry', 'Biology', [1994, 2004], 4, 5, 8]"
      ]
     },
     "execution_count": 94,
     "metadata": {},
     "output_type": "execute_result"
    }
   ],
   "source": [
    "new_L = L + [5,8]\n",
    "new_L"
   ]
  },
  {
   "cell_type": "code",
   "execution_count": 95,
   "id": "f911053b",
   "metadata": {},
   "outputs": [
    {
     "data": {
      "text/plain": [
       "['Chemistry', 'Physics', [1994, 2004], 4]"
      ]
     },
     "execution_count": 95,
     "metadata": {},
     "output_type": "execute_result"
    }
   ],
   "source": [
    "#Replace \"Biology\" with \"Physics\"\n",
    "L[1] = \"Physics\"\n",
    "L"
   ]
  },
  {
   "cell_type": "code",
   "execution_count": 96,
   "id": "7ea9ad34",
   "metadata": {},
   "outputs": [
    {
     "data": {
      "text/plain": [
       "['Chemistry', 'Physics', [1994, 2004], 4]"
      ]
     },
     "execution_count": 96,
     "metadata": {},
     "output_type": "execute_result"
    }
   ],
   "source": [
    "# extend()\n",
    "L"
   ]
  },
  {
   "cell_type": "code",
   "execution_count": 97,
   "id": "74891284",
   "metadata": {},
   "outputs": [
    {
     "data": {
      "text/plain": [
       "['Chemistry', 'Physics', [1994, 2004], 4, 5, 8]"
      ]
     },
     "execution_count": 97,
     "metadata": {},
     "output_type": "execute_result"
    }
   ],
   "source": [
    "L.extend([5,8])\n",
    "L"
   ]
  },
  {
   "cell_type": "code",
   "execution_count": 99,
   "id": "169b9c79",
   "metadata": {},
   "outputs": [
    {
     "data": {
      "text/plain": [
       "['Chemistry', 'Physics', [1994, 2004], 4, 5, 8, [5, 8], [5, 8]]"
      ]
     },
     "execution_count": 99,
     "metadata": {},
     "output_type": "execute_result"
    }
   ],
   "source": [
    "#append()\n",
    "L.append([5,8])\n",
    "L"
   ]
  },
  {
   "cell_type": "code",
   "execution_count": 100,
   "id": "d80179a7",
   "metadata": {},
   "outputs": [
    {
     "data": {
      "text/plain": [
       "['Chemistry', 'Physics', [1994, 2004], 4, 5, 8, [5, 8], [5, 8], 123]"
      ]
     },
     "execution_count": 100,
     "metadata": {},
     "output_type": "execute_result"
    }
   ],
   "source": [
    "L.append(123)\n",
    "L"
   ]
  },
  {
   "cell_type": "code",
   "execution_count": 101,
   "id": "2b0b1c89",
   "metadata": {},
   "outputs": [
    {
     "data": {
      "text/plain": [
       "['Physics', [1994, 2004], 4, 5, 8, [5, 8], [5, 8], 123]"
      ]
     },
     "execution_count": 101,
     "metadata": {},
     "output_type": "execute_result"
    }
   ],
   "source": [
    "#del command\n",
    "del L[0]\n",
    "L"
   ]
  },
  {
   "cell_type": "code",
   "execution_count": 102,
   "id": "91d2a66c",
   "metadata": {},
   "outputs": [
    {
     "data": {
      "text/plain": [
       "[4, 5, 8, [5, 8], [5, 8], 123]"
      ]
     },
     "execution_count": 102,
     "metadata": {},
     "output_type": "execute_result"
    }
   ],
   "source": [
    "del L[0:2]\n",
    "L"
   ]
  },
  {
   "cell_type": "code",
   "execution_count": 104,
   "id": "e1d4f7ad",
   "metadata": {},
   "outputs": [
    {
     "data": {
      "text/plain": [
       "8"
      ]
     },
     "execution_count": 104,
     "metadata": {},
     "output_type": "execute_result"
    }
   ],
   "source": [
    "#pop()\n",
    "L = ['Chemistry', 'Physics', [1994, 2004], 4, 5, 8]\n",
    "L.pop()"
   ]
  },
  {
   "cell_type": "code",
   "execution_count": 105,
   "id": "80edc8b8",
   "metadata": {},
   "outputs": [
    {
     "data": {
      "text/plain": [
       "['Chemistry', 'Physics', [1994, 2004], 4, 5]"
      ]
     },
     "execution_count": 105,
     "metadata": {},
     "output_type": "execute_result"
    }
   ],
   "source": [
    "L"
   ]
  },
  {
   "cell_type": "code",
   "execution_count": 106,
   "id": "40d1384f",
   "metadata": {},
   "outputs": [
    {
     "data": {
      "text/plain": [
       "['Chemistry', [1994, 2004], 4, 5]"
      ]
     },
     "execution_count": 106,
     "metadata": {},
     "output_type": "execute_result"
    }
   ],
   "source": [
    "#remove()\n",
    "L.remove('Physics')\n",
    "L"
   ]
  },
  {
   "cell_type": "code",
   "execution_count": 108,
   "id": "6623c0f5",
   "metadata": {},
   "outputs": [
    {
     "data": {
      "text/plain": [
       "[1, 3, 8, 24, 32]"
      ]
     },
     "execution_count": 108,
     "metadata": {},
     "output_type": "execute_result"
    }
   ],
   "source": [
    "#sorting Lists\n",
    "L = [32, 24, 1, 3, 8]\n",
    "L.sort()\n",
    "L"
   ]
  },
  {
   "cell_type": "code",
   "execution_count": 111,
   "id": "2464d054",
   "metadata": {},
   "outputs": [
    {
     "data": {
      "text/plain": [
       "[32, 24, 8, 3, 1]"
      ]
     },
     "execution_count": 111,
     "metadata": {},
     "output_type": "execute_result"
    }
   ],
   "source": [
    "L.sort(reverse=True)\n",
    "L"
   ]
  },
  {
   "cell_type": "markdown",
   "id": "590c4451",
   "metadata": {},
   "source": [
    "## Difference between sort and sorted"
   ]
  },
  {
   "cell_type": "code",
   "execution_count": 112,
   "id": "8d4acbb0",
   "metadata": {},
   "outputs": [
    {
     "data": {
      "text/plain": [
       "['Orange', 'Strawberry', 'Mango']"
      ]
     },
     "execution_count": 112,
     "metadata": {},
     "output_type": "execute_result"
    }
   ],
   "source": [
    "A = [\"Orange\", \"Strawberry\", \"Mango\"]\n",
    "A"
   ]
  },
  {
   "cell_type": "code",
   "execution_count": 113,
   "id": "6aa942ef",
   "metadata": {},
   "outputs": [
    {
     "name": "stdout",
     "output_type": "stream",
     "text": [
      "['Mango', 'Orange', 'Strawberry']\n",
      "None\n"
     ]
    }
   ],
   "source": [
    "B = A.sort()\n",
    "print(A)\n",
    "print(B)"
   ]
  },
  {
   "cell_type": "code",
   "execution_count": 114,
   "id": "c8f5dca8",
   "metadata": {},
   "outputs": [
    {
     "name": "stdout",
     "output_type": "stream",
     "text": [
      "['Orange', 'Strawberry', 'Mango']\n",
      "['Mango', 'Orange', 'Strawberry']\n"
     ]
    }
   ],
   "source": [
    "A = [\"Orange\", \"Strawberry\", \"Mango\"]\n",
    "C = sorted(A)\n",
    "print(A)\n",
    "print(C)"
   ]
  },
  {
   "cell_type": "code",
   "execution_count": 122,
   "id": "a96afc5f",
   "metadata": {},
   "outputs": [
    {
     "data": {
      "text/plain": [
       "2"
      ]
     },
     "execution_count": 122,
     "metadata": {},
     "output_type": "execute_result"
    }
   ],
   "source": [
    "list_1 = [2, 33, 222, 14, 25]\n",
    "list_1[-5]"
   ]
  },
  {
   "cell_type": "code",
   "execution_count": 123,
   "id": "990c614c",
   "metadata": {},
   "outputs": [
    {
     "name": "stdout",
     "output_type": "stream",
     "text": [
      "[]\n"
     ]
    }
   ],
   "source": [
    "word = ['1','2','3','4']\n",
    "word[ : ] = [ ]\n",
    "print(word)"
   ]
  },
  {
   "cell_type": "code",
   "execution_count": 124,
   "id": "9dca495c",
   "metadata": {},
   "outputs": [
    {
     "name": "stdout",
     "output_type": "stream",
     "text": [
      "['five', 'four', 'one', 'six', 'three', 'two']\n",
      "['one', 'two', 'three', 'four', 'five', 'six']\n"
     ]
    }
   ],
   "source": [
    "L = ['one','two','three', 'four', 'five', 'six']\n",
    "print(sorted(L))\n",
    "print (L)"
   ]
  },
  {
   "cell_type": "markdown",
   "id": "48df3fdd",
   "metadata": {},
   "source": [
    "## Shadow Copying"
   ]
  },
  {
   "cell_type": "code",
   "execution_count": 125,
   "id": "34e7c88b",
   "metadata": {},
   "outputs": [],
   "source": [
    "A = [\"Orange\", \"Strawberry\", \"Mango\"]"
   ]
  },
  {
   "cell_type": "code",
   "execution_count": 126,
   "id": "f2ad0625",
   "metadata": {},
   "outputs": [],
   "source": [
    "B = A"
   ]
  },
  {
   "cell_type": "code",
   "execution_count": 127,
   "id": "1c1835a6",
   "metadata": {},
   "outputs": [
    {
     "name": "stdout",
     "output_type": "stream",
     "text": [
      "['Orange', 'Strawberry', 'Mango'] ['Orange', 'Strawberry', 'Mango']\n"
     ]
    }
   ],
   "source": [
    "print(A, B)"
   ]
  },
  {
   "cell_type": "code",
   "execution_count": 129,
   "id": "d53b3dad",
   "metadata": {},
   "outputs": [
    {
     "name": "stdout",
     "output_type": "stream",
     "text": [
      "['Apple', 'Strawberry', 'Mango'] ['Apple', 'Strawberry', 'Mango']\n"
     ]
    }
   ],
   "source": [
    "A[0] = \"Apple\"\n",
    "print(A,B)"
   ]
  },
  {
   "cell_type": "code",
   "execution_count": 130,
   "id": "f4dd7c72",
   "metadata": {},
   "outputs": [
    {
     "name": "stdout",
     "output_type": "stream",
     "text": [
      "['Orange', 'Strawberry', 'Mango'] ['Orange', 'Strawberry', 'Mango']\n"
     ]
    }
   ],
   "source": [
    "A = [\"Orange\", \"Strawberry\", \"Mango\"]\n",
    "B = A[:]\n",
    "print(A,B)"
   ]
  },
  {
   "cell_type": "code",
   "execution_count": 131,
   "id": "50a937ec",
   "metadata": {},
   "outputs": [
    {
     "name": "stdout",
     "output_type": "stream",
     "text": [
      "['Apple', 'Strawberry', 'Mango'] ['Orange', 'Strawberry', 'Mango']\n"
     ]
    }
   ],
   "source": [
    "A[0] = \"Apple\"\n",
    "print(A,B)"
   ]
  },
  {
   "cell_type": "markdown",
   "id": "6bc7fde6",
   "metadata": {},
   "source": [
    "### Tuples\n",
    "* Tuples are an ordered sequence of mixed data types.\n",
    "* Tuples are written as comma-separated elements within paranthesis"
   ]
  },
  {
   "cell_type": "code",
   "execution_count": 132,
   "id": "7d303821",
   "metadata": {},
   "outputs": [
    {
     "data": {
      "text/plain": [
       "('disco', 12, 4.5)"
      ]
     },
     "execution_count": 132,
     "metadata": {},
     "output_type": "execute_result"
    }
   ],
   "source": [
    "t = (\"disco\", 12, 4.5)\n",
    "t"
   ]
  },
  {
   "cell_type": "code",
   "execution_count": 133,
   "id": "3cb9c74a",
   "metadata": {},
   "outputs": [
    {
     "data": {
      "text/plain": [
       "tuple"
      ]
     },
     "execution_count": 133,
     "metadata": {},
     "output_type": "execute_result"
    }
   ],
   "source": [
    "type(t)"
   ]
  },
  {
   "cell_type": "markdown",
   "id": "2aeb82a8",
   "metadata": {},
   "source": [
    "### Tuples can be defined in various ways\n",
    "\n",
    "#### A tuple can be defined without using paranthesis"
   ]
  },
  {
   "cell_type": "code",
   "execution_count": 134,
   "id": "90fd0128",
   "metadata": {},
   "outputs": [
    {
     "name": "stdout",
     "output_type": "stream",
     "text": [
      "(1, 2, 3, 4)\n"
     ]
    }
   ],
   "source": [
    "sample_tuple = 1,2,3,4\n",
    "print(sample_tuple)"
   ]
  },
  {
   "cell_type": "code",
   "execution_count": 135,
   "id": "c177e5c6",
   "metadata": {},
   "outputs": [
    {
     "data": {
      "text/plain": [
       "tuple"
      ]
     },
     "execution_count": 135,
     "metadata": {},
     "output_type": "execute_result"
    }
   ],
   "source": [
    "type(sample_tuple)"
   ]
  },
  {
   "cell_type": "markdown",
   "id": "8ff2da92",
   "metadata": {},
   "source": [
    "#### Single value tuple"
   ]
  },
  {
   "cell_type": "code",
   "execution_count": 136,
   "id": "32a3c145",
   "metadata": {},
   "outputs": [
    {
     "name": "stdout",
     "output_type": "stream",
     "text": [
      "(1,)\n"
     ]
    }
   ],
   "source": [
    "sample_tuple = 1,\n",
    "print(sample_tuple)"
   ]
  },
  {
   "cell_type": "code",
   "execution_count": 137,
   "id": "52a12be8",
   "metadata": {},
   "outputs": [
    {
     "data": {
      "text/plain": [
       "int"
      ]
     },
     "execution_count": 137,
     "metadata": {},
     "output_type": "execute_result"
    }
   ],
   "source": [
    "sample_tuple = 1 #this is not a tuple\n",
    "type(sample_tuple)"
   ]
  },
  {
   "cell_type": "code",
   "execution_count": 138,
   "id": "cab05699",
   "metadata": {},
   "outputs": [
    {
     "data": {
      "text/plain": [
       "int"
      ]
     },
     "execution_count": 138,
     "metadata": {},
     "output_type": "execute_result"
    }
   ],
   "source": [
    "sample_tuple = (1) #this is not a tuple\n",
    "type(sample_tuple)"
   ]
  },
  {
   "cell_type": "markdown",
   "id": "9310a376",
   "metadata": {},
   "source": [
    "#### Indexing in tuples"
   ]
  },
  {
   "cell_type": "code",
   "execution_count": 140,
   "id": "cd19ae4c",
   "metadata": {},
   "outputs": [
    {
     "data": {
      "text/plain": [
       "('Behzad', 84, 'Python')"
      ]
     },
     "execution_count": 140,
     "metadata": {},
     "output_type": "execute_result"
    }
   ],
   "source": [
    "t = (\"Behzad\", 84, \"Python\")\n",
    "t"
   ]
  },
  {
   "cell_type": "code",
   "execution_count": 141,
   "id": "d6d896ba",
   "metadata": {},
   "outputs": [
    {
     "data": {
      "text/plain": [
       "'Python'"
      ]
     },
     "execution_count": 141,
     "metadata": {},
     "output_type": "execute_result"
    }
   ],
   "source": [
    "t[-1]"
   ]
  },
  {
   "cell_type": "code",
   "execution_count": 142,
   "id": "24a6cccc",
   "metadata": {},
   "outputs": [
    {
     "data": {
      "text/plain": [
       "84"
      ]
     },
     "execution_count": 142,
     "metadata": {},
     "output_type": "execute_result"
    }
   ],
   "source": [
    "t[-2]"
   ]
  },
  {
   "cell_type": "markdown",
   "id": "18d7e018",
   "metadata": {},
   "source": [
    "#### Slicing"
   ]
  },
  {
   "cell_type": "code",
   "execution_count": 144,
   "id": "aa792a38",
   "metadata": {},
   "outputs": [
    {
     "data": {
      "text/plain": [
       "('Mumbai', 84, 'Python', 5, 2, 1)"
      ]
     },
     "execution_count": 144,
     "metadata": {},
     "output_type": "execute_result"
    }
   ],
   "source": [
    "t = (\"Mumbai\", 84, \"Python\", 5, 2, 1)\n",
    "t"
   ]
  },
  {
   "cell_type": "code",
   "execution_count": 145,
   "id": "aa771f0c",
   "metadata": {},
   "outputs": [
    {
     "data": {
      "text/plain": [
       "('Mumbai', 84, 'Python')"
      ]
     },
     "execution_count": 145,
     "metadata": {},
     "output_type": "execute_result"
    }
   ],
   "source": [
    "t[0:3]"
   ]
  },
  {
   "cell_type": "code",
   "execution_count": 146,
   "id": "e0bf1642",
   "metadata": {},
   "outputs": [
    {
     "data": {
      "text/plain": [
       "(2, 1)"
      ]
     },
     "execution_count": 146,
     "metadata": {},
     "output_type": "execute_result"
    }
   ],
   "source": [
    "t[-2:]"
   ]
  },
  {
   "cell_type": "code",
   "execution_count": 147,
   "id": "bdf0dc87",
   "metadata": {},
   "outputs": [
    {
     "data": {
      "text/plain": [
       "6"
      ]
     },
     "execution_count": 147,
     "metadata": {},
     "output_type": "execute_result"
    }
   ],
   "source": [
    "len(t)"
   ]
  },
  {
   "cell_type": "markdown",
   "id": "88d87f59",
   "metadata": {},
   "source": [
    "#### Concatenating tuples"
   ]
  },
  {
   "cell_type": "code",
   "execution_count": 149,
   "id": "de3df214",
   "metadata": {},
   "outputs": [
    {
     "data": {
      "text/plain": [
       "['This', 'is', 'Session', 2, 'On', 'Tuples']"
      ]
     },
     "execution_count": 149,
     "metadata": {},
     "output_type": "execute_result"
    }
   ],
   "source": [
    "tup1 = [\"This\", \"is\", \"Session\", 2]\n",
    "tup2 = [\"On\", \"Tuples\"]\n",
    "tup3 = tup1 + tup2\n",
    "tup3"
   ]
  },
  {
   "cell_type": "markdown",
   "id": "dae8af6e",
   "metadata": {},
   "source": [
    "#### Sum() - min() - max()"
   ]
  },
  {
   "cell_type": "code",
   "execution_count": 150,
   "id": "e9891265",
   "metadata": {},
   "outputs": [],
   "source": [
    "t = (2, 4, 10, 4, -1)"
   ]
  },
  {
   "cell_type": "code",
   "execution_count": 151,
   "id": "950fc068",
   "metadata": {},
   "outputs": [
    {
     "data": {
      "text/plain": [
       "-1"
      ]
     },
     "execution_count": 151,
     "metadata": {},
     "output_type": "execute_result"
    }
   ],
   "source": [
    "min(t)"
   ]
  },
  {
   "cell_type": "code",
   "execution_count": 152,
   "id": "6ac19c3b",
   "metadata": {},
   "outputs": [
    {
     "data": {
      "text/plain": [
       "10"
      ]
     },
     "execution_count": 152,
     "metadata": {},
     "output_type": "execute_result"
    }
   ],
   "source": [
    "max(t)"
   ]
  },
  {
   "cell_type": "code",
   "execution_count": 154,
   "id": "b65ddd2a",
   "metadata": {},
   "outputs": [
    {
     "data": {
      "text/plain": [
       "14.2"
      ]
     },
     "execution_count": 154,
     "metadata": {},
     "output_type": "execute_result"
    }
   ],
   "source": [
    "tuple = (2,3.2,4,5)\n",
    "sum(tuple)"
   ]
  },
  {
   "cell_type": "code",
   "execution_count": 155,
   "id": "d26f4526",
   "metadata": {},
   "outputs": [
    {
     "data": {
      "text/plain": [
       "2"
      ]
     },
     "execution_count": 155,
     "metadata": {},
     "output_type": "execute_result"
    }
   ],
   "source": [
    "min(tuple)"
   ]
  },
  {
   "cell_type": "code",
   "execution_count": 156,
   "id": "5f17192c",
   "metadata": {},
   "outputs": [
    {
     "data": {
      "text/plain": [
       "5"
      ]
     },
     "execution_count": 156,
     "metadata": {},
     "output_type": "execute_result"
    }
   ],
   "source": [
    "max(tuple)"
   ]
  },
  {
   "cell_type": "code",
   "execution_count": 157,
   "id": "4d3757cf",
   "metadata": {},
   "outputs": [
    {
     "ename": "TypeError",
     "evalue": "'<' not supported between instances of 'str' and 'int'",
     "output_type": "error",
     "traceback": [
      "\u001b[1;31m---------------------------------------------------------------------------\u001b[0m",
      "\u001b[1;31mTypeError\u001b[0m                                 Traceback (most recent call last)",
      "Cell \u001b[1;32mIn[157], line 2\u001b[0m\n\u001b[0;32m      1\u001b[0m t \u001b[38;5;241m=\u001b[39m (\u001b[38;5;241m2\u001b[39m, \u001b[38;5;124m\"\u001b[39m\u001b[38;5;124mPython\u001b[39m\u001b[38;5;124m\"\u001b[39m, \u001b[38;5;241m10\u001b[39m, \u001b[38;5;241m4\u001b[39m, \u001b[38;5;241m-\u001b[39m\u001b[38;5;241m1\u001b[39m)\n\u001b[1;32m----> 2\u001b[0m \u001b[38;5;28;43mmin\u001b[39;49m\u001b[43m(\u001b[49m\u001b[43mt\u001b[49m\u001b[43m)\u001b[49m\n",
      "\u001b[1;31mTypeError\u001b[0m: '<' not supported between instances of 'str' and 'int'"
     ]
    }
   ],
   "source": [
    "t = (2, \"Python\", 10, 4, -1)\n",
    "min(t)"
   ]
  },
  {
   "cell_type": "code",
   "execution_count": 158,
   "id": "c729423d",
   "metadata": {},
   "outputs": [
    {
     "data": {
      "text/plain": [
       "'s'"
      ]
     },
     "execution_count": 158,
     "metadata": {},
     "output_type": "execute_result"
    }
   ],
   "source": [
    "t = (\"disco\", 12, 4.5)\n",
    "t[0][2]"
   ]
  },
  {
   "cell_type": "markdown",
   "id": "9d7cf83c",
   "metadata": {},
   "source": [
    "### Immutability of tuples"
   ]
  },
  {
   "cell_type": "code",
   "execution_count": 159,
   "id": "4ced4d52",
   "metadata": {},
   "outputs": [
    {
     "data": {
      "text/plain": [
       "('USA', 4, 3, 'Disco', 7.5)"
      ]
     },
     "execution_count": 159,
     "metadata": {},
     "output_type": "execute_result"
    }
   ],
   "source": [
    "t = (\"USA\", 4, 3, \"Disco\", 7.5)\n",
    "t"
   ]
  },
  {
   "cell_type": "code",
   "execution_count": 161,
   "id": "fa17fcee",
   "metadata": {},
   "outputs": [
    {
     "ename": "TypeError",
     "evalue": "'tuple' object does not support item assignment",
     "output_type": "error",
     "traceback": [
      "\u001b[1;31m---------------------------------------------------------------------------\u001b[0m",
      "\u001b[1;31mTypeError\u001b[0m                                 Traceback (most recent call last)",
      "Cell \u001b[1;32mIn[161], line 1\u001b[0m\n\u001b[1;32m----> 1\u001b[0m t[\u001b[38;5;241m3\u001b[39m] \u001b[38;5;241m=\u001b[39m \u001b[38;5;124m\"\u001b[39m\u001b[38;5;124mHard Rock\u001b[39m\u001b[38;5;124m\"\u001b[39m\n",
      "\u001b[1;31mTypeError\u001b[0m: 'tuple' object does not support item assignment"
     ]
    }
   ],
   "source": [
    "t[3] = \"Hard Rock\""
   ]
  },
  {
   "cell_type": "code",
   "execution_count": 179,
   "id": "babca9c8",
   "metadata": {},
   "outputs": [
    {
     "data": {
      "text/plain": [
       "(2, 3, 5, 'Hard rock', -1)"
      ]
     },
     "execution_count": 179,
     "metadata": {},
     "output_type": "execute_result"
    }
   ],
   "source": [
    "new_t = t[0:3] +(\"Hard rock\",) + t[4:]\n",
    "new_t"
   ]
  },
  {
   "cell_type": "markdown",
   "id": "d32c7d12",
   "metadata": {},
   "source": [
    "### Sorting a tuple"
   ]
  },
  {
   "cell_type": "code",
   "execution_count": 187,
   "id": "70e76edd",
   "metadata": {},
   "outputs": [
    {
     "data": {
      "text/plain": [
       "(2, 3, 5, 10, -1)"
      ]
     },
     "execution_count": 187,
     "metadata": {},
     "output_type": "execute_result"
    }
   ],
   "source": [
    "t = (2, 3, 5, 10, -1)\n",
    "t"
   ]
  },
  {
   "cell_type": "code",
   "execution_count": 184,
   "id": "edaec88b",
   "metadata": {},
   "outputs": [
    {
     "data": {
      "text/plain": [
       "tuple"
      ]
     },
     "execution_count": 184,
     "metadata": {},
     "output_type": "execute_result"
    }
   ],
   "source": [
    "type(t)"
   ]
  },
  {
   "cell_type": "code",
   "execution_count": 195,
   "id": "57e4be90",
   "metadata": {},
   "outputs": [
    {
     "ename": "TypeError",
     "evalue": "'tuple' object is not callable",
     "output_type": "error",
     "traceback": [
      "\u001b[1;31m---------------------------------------------------------------------------\u001b[0m",
      "\u001b[1;31mTypeError\u001b[0m                                 Traceback (most recent call last)",
      "Cell \u001b[1;32mIn[195], line 2\u001b[0m\n\u001b[0;32m      1\u001b[0m x \u001b[38;5;241m=\u001b[39m \u001b[38;5;28msorted\u001b[39m(t)\n\u001b[1;32m----> 2\u001b[0m y \u001b[38;5;241m=\u001b[39m \u001b[38;5;28;43mtuple\u001b[39;49m\u001b[43m(\u001b[49m\u001b[43mx\u001b[49m\u001b[43m)\u001b[49m\n\u001b[0;32m      3\u001b[0m y\n",
      "\u001b[1;31mTypeError\u001b[0m: 'tuple' object is not callable"
     ]
    }
   ],
   "source": [
    "x = sorted(t)\n",
    "y = tuple(x)\n",
    "y"
   ]
  },
  {
   "cell_type": "markdown",
   "id": "4a6ac54e",
   "metadata": {},
   "source": [
    "### Nested tuples"
   ]
  },
  {
   "cell_type": "code",
   "execution_count": 196,
   "id": "fa2d21af",
   "metadata": {},
   "outputs": [
    {
     "data": {
      "text/plain": [
       "(1, 5, 'Disco', ('Python', 'Java'))"
      ]
     },
     "execution_count": 196,
     "metadata": {},
     "output_type": "execute_result"
    }
   ],
   "source": [
    "t = (1, 5, \"Disco\", (\"Python\",\"Java\"))\n",
    "t"
   ]
  },
  {
   "cell_type": "code",
   "execution_count": 197,
   "id": "95d707a7",
   "metadata": {},
   "outputs": [
    {
     "data": {
      "text/plain": [
       "'Java'"
      ]
     },
     "execution_count": 197,
     "metadata": {},
     "output_type": "execute_result"
    }
   ],
   "source": [
    "t[3][1]"
   ]
  },
  {
   "cell_type": "markdown",
   "id": "43180e8e",
   "metadata": {},
   "source": [
    "### Packing and Unpacking in tuples"
   ]
  },
  {
   "cell_type": "code",
   "execution_count": 198,
   "id": "4523948c",
   "metadata": {},
   "outputs": [
    {
     "data": {
      "text/plain": [
       "(1, 2, 3, 4)"
      ]
     },
     "execution_count": 198,
     "metadata": {},
     "output_type": "execute_result"
    }
   ],
   "source": [
    "t = (1,2,3,4) #packing\n",
    "t"
   ]
  },
  {
   "cell_type": "code",
   "execution_count": 200,
   "id": "d3d50168",
   "metadata": {},
   "outputs": [
    {
     "data": {
      "text/plain": [
       "3"
      ]
     },
     "execution_count": 200,
     "metadata": {},
     "output_type": "execute_result"
    }
   ],
   "source": [
    "(a,b,c,d) = t #unpacking\n",
    "c"
   ]
  },
  {
   "cell_type": "code",
   "execution_count": 201,
   "id": "d6c50fef",
   "metadata": {},
   "outputs": [
    {
     "ename": "ValueError",
     "evalue": "too many values to unpack (expected 3)",
     "output_type": "error",
     "traceback": [
      "\u001b[1;31m---------------------------------------------------------------------------\u001b[0m",
      "\u001b[1;31mValueError\u001b[0m                                Traceback (most recent call last)",
      "Cell \u001b[1;32mIn[201], line 1\u001b[0m\n\u001b[1;32m----> 1\u001b[0m (a,b,c) \u001b[38;5;241m=\u001b[39m t\n",
      "\u001b[1;31mValueError\u001b[0m: too many values to unpack (expected 3)"
     ]
    }
   ],
   "source": [
    "(a,b,c) = t"
   ]
  },
  {
   "cell_type": "markdown",
   "id": "a47a8a94",
   "metadata": {},
   "source": [
    "#### dir() - to view the attributes or methods of an object"
   ]
  },
  {
   "cell_type": "code",
   "execution_count": 202,
   "id": "3d858155",
   "metadata": {},
   "outputs": [],
   "source": [
    "t = () #empty tuple"
   ]
  },
  {
   "cell_type": "code",
   "execution_count": 203,
   "id": "45fc1807",
   "metadata": {},
   "outputs": [
    {
     "name": "stdout",
     "output_type": "stream",
     "text": [
      "['__add__', '__class__', '__class_getitem__', '__contains__', '__delattr__', '__dir__', '__doc__', '__eq__', '__format__', '__ge__', '__getattribute__', '__getitem__', '__getnewargs__', '__gt__', '__hash__', '__init__', '__init_subclass__', '__iter__', '__le__', '__len__', '__lt__', '__mul__', '__ne__', '__new__', '__reduce__', '__reduce_ex__', '__repr__', '__rmul__', '__setattr__', '__sizeof__', '__str__', '__subclasshook__', 'count', 'index']\n"
     ]
    }
   ],
   "source": [
    "print(dir(t))"
   ]
  },
  {
   "cell_type": "code",
   "execution_count": 205,
   "id": "3b13edac",
   "metadata": {},
   "outputs": [
    {
     "name": "stdout",
     "output_type": "stream",
     "text": [
      "4\n"
     ]
    }
   ],
   "source": [
    "t = (1, 2, 4, 3)\n",
    "print(len(t))"
   ]
  },
  {
   "cell_type": "code",
   "execution_count": 212,
   "id": "ee31d5c3",
   "metadata": {},
   "outputs": [
    {
     "ename": "NameError",
     "evalue": "name 'Hello' is not defined",
     "output_type": "error",
     "traceback": [
      "\u001b[1;31m---------------------------------------------------------------------------\u001b[0m",
      "\u001b[1;31mNameError\u001b[0m                                 Traceback (most recent call last)",
      "Cell \u001b[1;32mIn[212], line 1\u001b[0m\n\u001b[1;32m----> 1\u001b[0m x \u001b[38;5;241m=\u001b[39m (\u001b[43mHello\u001b[49m,\u001b[38;5;124m'\u001b[39m\u001b[38;5;124m2\u001b[39m\u001b[38;5;124m'\u001b[39m,\u001b[38;5;124m'\u001b[39m\u001b[38;5;124m3\u001b[39m\u001b[38;5;124m'\u001b[39m)\n",
      "\u001b[1;31mNameError\u001b[0m: name 'Hello' is not defined"
     ]
    }
   ],
   "source": [
    "x = (Hello,'2','3')"
   ]
  },
  {
   "cell_type": "code",
   "execution_count": 213,
   "id": "c3f83d70",
   "metadata": {},
   "outputs": [
    {
     "data": {
      "text/plain": [
       "tuple"
      ]
     },
     "execution_count": 213,
     "metadata": {},
     "output_type": "execute_result"
    }
   ],
   "source": [
    "type(x)"
   ]
  },
  {
   "cell_type": "code",
   "execution_count": 218,
   "id": "a4fe13fc",
   "metadata": {},
   "outputs": [
    {
     "ename": "TypeError",
     "evalue": "'tuple' object is not callable",
     "output_type": "error",
     "traceback": [
      "\u001b[1;31m---------------------------------------------------------------------------\u001b[0m",
      "\u001b[1;31mTypeError\u001b[0m                                 Traceback (most recent call last)",
      "Cell \u001b[1;32mIn[218], line 4\u001b[0m\n\u001b[0;32m      2\u001b[0m x \u001b[38;5;241m=\u001b[39m \u001b[38;5;28mlist\u001b[39m(input_str)\n\u001b[0;32m      3\u001b[0m x\u001b[38;5;241m.\u001b[39mextend([\u001b[38;5;124m'\u001b[39m\u001b[38;5;124mPython\u001b[39m\u001b[38;5;124m'\u001b[39m])\n\u001b[1;32m----> 4\u001b[0m tuple_2 \u001b[38;5;241m=\u001b[39m \u001b[38;5;28;43mtuple\u001b[39;49m\u001b[43m(\u001b[49m\u001b[43mx\u001b[49m\u001b[43m)\u001b[49m\n\u001b[0;32m      5\u001b[0m tuple_2\n",
      "\u001b[1;31mTypeError\u001b[0m: 'tuple' object is not callable"
     ]
    }
   ],
   "source": [
    "input_str = ('Monty Python', 'British', 1969)\n",
    "x = list(input_str)\n",
    "x.extend(['Python'])\n",
    "tuple_2 = tuple(x)\n",
    "tuple_2"
   ]
  },
  {
   "cell_type": "code",
   "execution_count": null,
   "id": "13e45a10",
   "metadata": {},
   "outputs": [],
   "source": [
    "l1 = [1,6,3,8,4,'sum',4.6]\n",
    "l2 = [1,6,3,8,4,'sum']\n",
    "l3 = []\n",
    "for i in range(len(l1)):\n",
    "    for j in range(len(l2)):\n",
    "        if l1[i]==l2[j]:\n",
    "            l3.append[l1[i]]\n",
    "if l1==l3:\n",
    "    print('Equal')\n",
    "else:\n",
    "    print('Not Equal')\n",
    "            "
   ]
  },
  {
   "cell_type": "markdown",
   "id": "ced3c0f0",
   "metadata": {},
   "source": [
    "#### Sets\n",
    "\n",
    "* Sets are a type of collection like lists and tuples, storing mixed data.\n",
    "* Sets are enclosed within curly brackets and elements are written as comma, seperated.\n",
    "* Sets are unordered\n",
    "* Sets does not allow duplicates"
   ]
  },
  {
   "cell_type": "code",
   "execution_count": 221,
   "id": "a2bbc2a1",
   "metadata": {},
   "outputs": [
    {
     "data": {
      "text/plain": [
       "list"
      ]
     },
     "execution_count": 221,
     "metadata": {},
     "output_type": "execute_result"
    }
   ],
   "source": [
    "l = [1,3,2,4,5,5]\n",
    "type(l)"
   ]
  },
  {
   "cell_type": "code",
   "execution_count": 222,
   "id": "0b576fa3",
   "metadata": {},
   "outputs": [
    {
     "data": {
      "text/plain": [
       "{1, 2, 3, 4, 5}"
      ]
     },
     "execution_count": 222,
     "metadata": {},
     "output_type": "execute_result"
    }
   ],
   "source": [
    "set_l = set(l)\n",
    "set_l"
   ]
  },
  {
   "cell_type": "code",
   "execution_count": 223,
   "id": "2d9ebac9",
   "metadata": {},
   "outputs": [
    {
     "data": {
      "text/plain": [
       "set"
      ]
     },
     "execution_count": 223,
     "metadata": {},
     "output_type": "execute_result"
    }
   ],
   "source": [
    "type(set_l)"
   ]
  },
  {
   "cell_type": "code",
   "execution_count": 224,
   "id": "cdf41ac0",
   "metadata": {},
   "outputs": [
    {
     "data": {
      "text/plain": [
       "5"
      ]
     },
     "execution_count": 224,
     "metadata": {},
     "output_type": "execute_result"
    }
   ],
   "source": [
    "len(set_l)"
   ]
  },
  {
   "cell_type": "code",
   "execution_count": 225,
   "id": "85c2083e",
   "metadata": {},
   "outputs": [
    {
     "ename": "TypeError",
     "evalue": "'set' object is not subscriptable",
     "output_type": "error",
     "traceback": [
      "\u001b[1;31m---------------------------------------------------------------------------\u001b[0m",
      "\u001b[1;31mTypeError\u001b[0m                                 Traceback (most recent call last)",
      "Cell \u001b[1;32mIn[225], line 1\u001b[0m\n\u001b[1;32m----> 1\u001b[0m \u001b[43mset_l\u001b[49m\u001b[43m[\u001b[49m\u001b[38;5;241;43m1\u001b[39;49m\u001b[43m]\u001b[49m\n",
      "\u001b[1;31mTypeError\u001b[0m: 'set' object is not subscriptable"
     ]
    }
   ],
   "source": [
    "set_l[1]"
   ]
  },
  {
   "cell_type": "code",
   "execution_count": 226,
   "id": "c9768f16",
   "metadata": {},
   "outputs": [
    {
     "data": {
      "text/plain": [
       "{1, 2, 3, 4, 5}"
      ]
     },
     "execution_count": 226,
     "metadata": {},
     "output_type": "execute_result"
    }
   ],
   "source": [
    "a = {1,2,3,4,5}\n",
    "a"
   ]
  },
  {
   "cell_type": "code",
   "execution_count": 227,
   "id": "c41249e7",
   "metadata": {},
   "outputs": [
    {
     "data": {
      "text/plain": [
       "{1, 2, 3, 4, 5, 'Australia'}"
      ]
     },
     "execution_count": 227,
     "metadata": {},
     "output_type": "execute_result"
    }
   ],
   "source": [
    "a.add('Australia') #mutable\n",
    "a"
   ]
  },
  {
   "cell_type": "code",
   "execution_count": 228,
   "id": "25a61f31",
   "metadata": {},
   "outputs": [
    {
     "data": {
      "text/plain": [
       "{1, 2, 3, 4, 5}"
      ]
     },
     "execution_count": 228,
     "metadata": {},
     "output_type": "execute_result"
    }
   ],
   "source": [
    "a.remove('Australia')\n",
    "a"
   ]
  },
  {
   "cell_type": "code",
   "execution_count": 229,
   "id": "6bcd37ca",
   "metadata": {},
   "outputs": [],
   "source": [
    "#set operations\n",
    "\n",
    "A = {0,2,4,6,8}\n",
    "B = {1,2,3,4,5}"
   ]
  },
  {
   "cell_type": "code",
   "execution_count": 230,
   "id": "fedcd380",
   "metadata": {},
   "outputs": [
    {
     "name": "stdout",
     "output_type": "stream",
     "text": [
      "{0, 2, 4, 6, 8} {1, 2, 3, 4, 5}\n"
     ]
    }
   ],
   "source": [
    "print(A, B)"
   ]
  },
  {
   "cell_type": "code",
   "execution_count": 232,
   "id": "7febf11f",
   "metadata": {},
   "outputs": [
    {
     "name": "stdout",
     "output_type": "stream",
     "text": [
      "{0, 1, 2, 3, 4, 5, 6, 8}\n",
      "{0, 1, 2, 3, 4, 5, 6, 8}\n"
     ]
    }
   ],
   "source": [
    "print(A | B) #union\n",
    "print(A.union(B))"
   ]
  },
  {
   "cell_type": "code",
   "execution_count": 235,
   "id": "ad359b43",
   "metadata": {},
   "outputs": [
    {
     "name": "stdout",
     "output_type": "stream",
     "text": [
      "{2, 4}\n",
      "{2, 4}\n"
     ]
    }
   ],
   "source": [
    "print(A & B) #intersection\n",
    "print(A.intersection(B))"
   ]
  },
  {
   "cell_type": "code",
   "execution_count": 239,
   "id": "cc73a522",
   "metadata": {},
   "outputs": [
    {
     "name": "stdout",
     "output_type": "stream",
     "text": [
      "{0, 8, 6}\n",
      "{0, 8, 6}\n"
     ]
    }
   ],
   "source": [
    "print(A-B) #Difference shows left out values that doesnt match with B.\n",
    "print(A.difference(B))"
   ]
  },
  {
   "cell_type": "code",
   "execution_count": 240,
   "id": "3377592f",
   "metadata": {},
   "outputs": [
    {
     "name": "stdout",
     "output_type": "stream",
     "text": [
      "{0, 1, 3, 5, 6, 8}\n"
     ]
    }
   ],
   "source": [
    "print(A ^ B) #symmetric difference shows left out values in both A & B excludes matched values / intersection.\n"
   ]
  },
  {
   "cell_type": "code",
   "execution_count": 250,
   "id": "efcd9a99",
   "metadata": {},
   "outputs": [
    {
     "name": "stdout",
     "output_type": "stream",
     "text": [
      "{2}\n"
     ]
    }
   ],
   "source": [
    "A = [5, 1, 3, 4, 4, 5, 6, 7]\n",
    "B = [3, 3, 5, 5, 1 ,7 ,2]\n",
    "list_1 = set(A)\n",
    "list_2 = set(B)\n",
    "list_3 = (list_2.union(list_2)).difference(list_1.intersection(list_2))\n",
    "print(list_3)"
   ]
  },
  {
   "cell_type": "code",
   "execution_count": 245,
   "id": "9c10d6fc",
   "metadata": {},
   "outputs": [
    {
     "name": "stdout",
     "output_type": "stream",
     "text": [
      "{1, 3, 5, 7}\n"
     ]
    }
   ],
   "source": [
    "print(list_1 & list_2)"
   ]
  },
  {
   "cell_type": "code",
   "execution_count": 249,
   "id": "3bfe97c5",
   "metadata": {},
   "outputs": [
    {
     "name": "stdout",
     "output_type": "stream",
     "text": [
      "4\n"
     ]
    }
   ],
   "source": [
    "nums = set([1,1,2,3,3,3,4])\n",
    "print(len(nums))\n"
   ]
  },
  {
   "cell_type": "markdown",
   "id": "511253b8",
   "metadata": {},
   "source": [
    "#### Dictionaries\n",
    "* A dictionary stores elements as keys and values pairs.\n",
    "* The key is like an index, it is always unique and immutable\n",
    "* The values are the objects that contain information.\n",
    "* Values are accessed using their keys.\n",
    "* Each key is followed by a value separated by a colon.\n",
    "* The values can be immutable, mutable, and duplicates.\n",
    "* Each key and value pair is separated by a comma enclosed inside curly brackets."
   ]
  },
  {
   "cell_type": "code",
   "execution_count": 252,
   "id": "3eade96c",
   "metadata": {},
   "outputs": [
    {
     "data": {
      "text/plain": [
       "{'India': 'INR', 'USA': 'USD', 'French': 'EURO'}"
      ]
     },
     "execution_count": 252,
     "metadata": {},
     "output_type": "execute_result"
    }
   ],
   "source": [
    "d = {\"India\":\"INR\", \"USA\": \"USD\", \"French\": \"EURO\"}\n",
    "d"
   ]
  },
  {
   "cell_type": "code",
   "execution_count": 253,
   "id": "c270eec5",
   "metadata": {},
   "outputs": [
    {
     "data": {
      "text/plain": [
       "dict"
      ]
     },
     "execution_count": 253,
     "metadata": {},
     "output_type": "execute_result"
    }
   ],
   "source": [
    "type(d)"
   ]
  },
  {
   "cell_type": "code",
   "execution_count": 256,
   "id": "8abeaf10",
   "metadata": {},
   "outputs": [
    {
     "data": {
      "text/plain": [
       "'USD'"
      ]
     },
     "execution_count": 256,
     "metadata": {},
     "output_type": "execute_result"
    }
   ],
   "source": [
    "d[\"USA\"]"
   ]
  },
  {
   "cell_type": "code",
   "execution_count": 257,
   "id": "a83e43aa",
   "metadata": {},
   "outputs": [
    {
     "name": "stdout",
     "output_type": "stream",
     "text": [
      "USD INR\n"
     ]
    }
   ],
   "source": [
    "print(d[\"USA\"], d[\"India\"])"
   ]
  },
  {
   "cell_type": "code",
   "execution_count": 259,
   "id": "ea7e6d10",
   "metadata": {},
   "outputs": [
    {
     "data": {
      "text/plain": [
       "{'India': 'INR', 'USA': '$', 'French': 'EURO'}"
      ]
     },
     "execution_count": 259,
     "metadata": {},
     "output_type": "execute_result"
    }
   ],
   "source": [
    "#Replace the value for a key in a dictionary\n",
    "d[\"USA\"] = \"$\"\n",
    "d"
   ]
  },
  {
   "cell_type": "code",
   "execution_count": 263,
   "id": "31dfbc25",
   "metadata": {},
   "outputs": [
    {
     "data": {
      "text/plain": [
       "{'India': 'Rupee', 'USA': '$', 'French': 'EURO', 'INR': 'Rupee'}"
      ]
     },
     "execution_count": 263,
     "metadata": {},
     "output_type": "execute_result"
    }
   ],
   "source": [
    "d[\"India\"] = \"Rupee\"\n",
    "d"
   ]
  },
  {
   "cell_type": "code",
   "execution_count": 264,
   "id": "499a2841",
   "metadata": {},
   "outputs": [
    {
     "data": {
      "text/plain": [
       "{'India': 'Rupee',\n",
       " 'USA': '$',\n",
       " 'French': 'EURO',\n",
       " 'INR': 'Rupee',\n",
       " 'Japan': 'Yen'}"
      ]
     },
     "execution_count": 264,
     "metadata": {},
     "output_type": "execute_result"
    }
   ],
   "source": [
    "#Insert a new key value pair\n",
    "d[\"Japan\"] = \"Yen\"\n",
    "d"
   ]
  },
  {
   "cell_type": "code",
   "execution_count": 266,
   "id": "992ee05a",
   "metadata": {},
   "outputs": [
    {
     "ename": "KeyError",
     "evalue": "'French'",
     "output_type": "error",
     "traceback": [
      "\u001b[1;31m---------------------------------------------------------------------------\u001b[0m",
      "\u001b[1;31mKeyError\u001b[0m                                  Traceback (most recent call last)",
      "Cell \u001b[1;32mIn[266], line 3\u001b[0m\n\u001b[0;32m      1\u001b[0m \u001b[38;5;66;03m#delete a new key-value pair\u001b[39;00m\n\u001b[1;32m----> 3\u001b[0m \u001b[38;5;28;01mdel\u001b[39;00m d[\u001b[38;5;124m\"\u001b[39m\u001b[38;5;124mFrench\u001b[39m\u001b[38;5;124m\"\u001b[39m]\n\u001b[0;32m      4\u001b[0m d\n",
      "\u001b[1;31mKeyError\u001b[0m: 'French'"
     ]
    }
   ],
   "source": [
    "#delete a new key-value pair\n",
    "\n",
    "del d[\"French\"]\n",
    "d"
   ]
  },
  {
   "cell_type": "code",
   "execution_count": 267,
   "id": "f60426de",
   "metadata": {},
   "outputs": [
    {
     "data": {
      "text/plain": [
       "{'India': 'Rupee', 'USA': '$', 'INR': 'Rupee', 'Japan': 'Yen'}"
      ]
     },
     "execution_count": 267,
     "metadata": {},
     "output_type": "execute_result"
    }
   ],
   "source": [
    "d"
   ]
  },
  {
   "cell_type": "code",
   "execution_count": 268,
   "id": "9dd5ed42",
   "metadata": {},
   "outputs": [
    {
     "ename": "KeyError",
     "evalue": "'French'",
     "output_type": "error",
     "traceback": [
      "\u001b[1;31m---------------------------------------------------------------------------\u001b[0m",
      "\u001b[1;31mKeyError\u001b[0m                                  Traceback (most recent call last)",
      "Cell \u001b[1;32mIn[268], line 1\u001b[0m\n\u001b[1;32m----> 1\u001b[0m \u001b[43md\u001b[49m\u001b[43m[\u001b[49m\u001b[38;5;124;43m\"\u001b[39;49m\u001b[38;5;124;43mFrench\u001b[39;49m\u001b[38;5;124;43m\"\u001b[39;49m\u001b[43m]\u001b[49m\n",
      "\u001b[1;31mKeyError\u001b[0m: 'French'"
     ]
    }
   ],
   "source": [
    "d[\"French\"]"
   ]
  },
  {
   "cell_type": "code",
   "execution_count": 269,
   "id": "a5d1dee3",
   "metadata": {},
   "outputs": [
    {
     "data": {
      "text/plain": [
       "['INR', 'India', 'Japan', 'USA']"
      ]
     },
     "execution_count": 269,
     "metadata": {},
     "output_type": "execute_result"
    }
   ],
   "source": [
    "#sorting a dictionary\n",
    "\n",
    "sorted(d)"
   ]
  },
  {
   "cell_type": "code",
   "execution_count": 270,
   "id": "27e82709",
   "metadata": {},
   "outputs": [
    {
     "data": {
      "text/plain": [
       "{'India': 'INR', 'USA': 'USD', 'French': 'EURO'}"
      ]
     },
     "execution_count": 270,
     "metadata": {},
     "output_type": "execute_result"
    }
   ],
   "source": [
    "d = {\"India\":\"INR\", \"USA\": \"USD\", \"French\": \"EURO\"}\n",
    "d"
   ]
  },
  {
   "cell_type": "code",
   "execution_count": 271,
   "id": "8d84edaa",
   "metadata": {},
   "outputs": [
    {
     "data": {
      "text/plain": [
       "dict_values(['INR', 'USD', 'EURO'])"
      ]
     },
     "execution_count": 271,
     "metadata": {},
     "output_type": "execute_result"
    }
   ],
   "source": [
    "#extract all the values \n",
    "d.values()"
   ]
  },
  {
   "cell_type": "code",
   "execution_count": 272,
   "id": "4d9f9a38",
   "metadata": {},
   "outputs": [
    {
     "data": {
      "text/plain": [
       "{'India': 'INR', 'USA': 'USD', 'French': 'EURO'}"
      ]
     },
     "execution_count": 272,
     "metadata": {},
     "output_type": "execute_result"
    }
   ],
   "source": [
    "d.update({'USA':'USD'})\n",
    "d"
   ]
  },
  {
   "cell_type": "code",
   "execution_count": 275,
   "id": "b0279b34",
   "metadata": {},
   "outputs": [
    {
     "data": {
      "text/plain": [
       "'Product Lead'"
      ]
     },
     "execution_count": 275,
     "metadata": {},
     "output_type": "execute_result"
    }
   ],
   "source": [
    "Employee_data = { 101:['Shiva', 24, 'Content Strategist'] ,102:['Udit',25,'Content Strategist'], 103:['Sonam', 28,'Sr Manager'], 104:['Ansari',29,'Product Lead' ],105:['Huzefa',32,'Project Manager' ]}\n",
    "\n",
    "Employee_data[104][2]\n"
   ]
  },
  {
   "cell_type": "code",
   "execution_count": 276,
   "id": "b676c4f4",
   "metadata": {},
   "outputs": [
    {
     "data": {
      "text/plain": [
       "{'a': 1, 'b': 2}"
      ]
     },
     "execution_count": 276,
     "metadata": {},
     "output_type": "execute_result"
    }
   ],
   "source": [
    "d = dict(a=1, b=2)\n",
    "d"
   ]
  },
  {
   "cell_type": "code",
   "execution_count": 277,
   "id": "07235090",
   "metadata": {},
   "outputs": [
    {
     "data": {
      "text/plain": [
       "{}"
      ]
     },
     "execution_count": 277,
     "metadata": {},
     "output_type": "execute_result"
    }
   ],
   "source": [
    "d = {}\n",
    "d"
   ]
  },
  {
   "cell_type": "code",
   "execution_count": null,
   "id": "f2a7adcb",
   "metadata": {},
   "outputs": [],
   "source": [
    "dict_1 = {\"Python'':40, \"R'':45}\n",
    "del dict_1[]"
   ]
  },
  {
   "cell_type": "code",
   "execution_count": 278,
   "id": "889b0dbe",
   "metadata": {},
   "outputs": [
    {
     "name": "stdout",
     "output_type": "stream",
     "text": [
      "['Python', 'R']\n"
     ]
    }
   ],
   "source": [
    "d = {'Python':40, 'R':45}\n",
    "print(list(d.keys()))"
   ]
  },
  {
   "cell_type": "code",
   "execution_count": 280,
   "id": "818ad7e5",
   "metadata": {},
   "outputs": [
    {
     "name": "stdout",
     "output_type": "stream",
     "text": [
      "NA\n"
     ]
    }
   ],
   "source": [
    "#Dictionary \n",
    "input_dict={'Name': 'Monty', 'Profession': 'Singer' }\n",
    "\n",
    "try:\n",
    "    value = input_dict['Label']\n",
    "except KeyError:\n",
    "    value = \"NA\"\n",
    "\n",
    "print(value)"
   ]
  },
  {
   "cell_type": "code",
   "execution_count": 282,
   "id": "2d4dbb09",
   "metadata": {},
   "outputs": [
    {
     "name": "stdout",
     "output_type": "stream",
     "text": [
      "['Amazon', 'Apple', 'RJIO', 'Twitter']\n"
     ]
    }
   ],
   "source": [
    "input_dict = {'Jack Dorsey' : 'Twitter' , 'Tim Cook' : 'Apple','Jeff Bezos' : 'Amazon' ,'Mukesh Ambani' : 'RJIO'}\n",
    "\n",
    "only_values = list(input_dict.values())\n",
    "only_values.sort()\n",
    "print(only_values)"
   ]
  },
  {
   "cell_type": "code",
   "execution_count": 286,
   "id": "3aaeca37",
   "metadata": {},
   "outputs": [
    {
     "data": {
      "text/plain": [
       "dict_values(['Twitter', 'Apple', 'Amazon', 'RJIO'])"
      ]
     },
     "execution_count": 286,
     "metadata": {},
     "output_type": "execute_result"
    }
   ],
   "source": [
    "sorted(input_dict)\n",
    "input_dict.values()"
   ]
  },
  {
   "cell_type": "code",
   "execution_count": 288,
   "id": "36a4efa9",
   "metadata": {},
   "outputs": [
    {
     "data": {
      "text/plain": [
       "['Amazon', 'Apple', 'RJIO', 'Twitter']"
      ]
     },
     "execution_count": 288,
     "metadata": {},
     "output_type": "execute_result"
    }
   ],
   "source": [
    "answer = list(input_dict.values())\n",
    "answer.sort()\n",
    "answer"
   ]
  },
  {
   "cell_type": "code",
   "execution_count": 289,
   "id": "3b051544",
   "metadata": {},
   "outputs": [
    {
     "ename": "TypeError",
     "evalue": "'str' object cannot be interpreted as an integer",
     "output_type": "error",
     "traceback": [
      "\u001b[1;31m---------------------------------------------------------------------------\u001b[0m",
      "\u001b[1;31mTypeError\u001b[0m                                 Traceback (most recent call last)",
      "Cell \u001b[1;32mIn[289], line 2\u001b[0m\n\u001b[0;32m      1\u001b[0m s \u001b[38;5;241m=\u001b[39m \u001b[38;5;124m'\u001b[39m\u001b[38;5;124ma$b@c@d\u001b[39m\u001b[38;5;124m'\u001b[39m\n\u001b[1;32m----> 2\u001b[0m \u001b[38;5;28mprint\u001b[39m(\u001b[43ms\u001b[49m\u001b[38;5;241;43m.\u001b[39;49m\u001b[43msplit\u001b[49m\u001b[43m(\u001b[49m\u001b[38;5;124;43m'\u001b[39;49m\u001b[38;5;124;43m@\u001b[39;49m\u001b[38;5;124;43m'\u001b[39;49m\u001b[43m,\u001b[49m\u001b[38;5;124;43m'\u001b[39;49m\u001b[38;5;124;43m$\u001b[39;49m\u001b[38;5;124;43m'\u001b[39;49m\u001b[43m)\u001b[49m)\n",
      "\u001b[1;31mTypeError\u001b[0m: 'str' object cannot be interpreted as an integer"
     ]
    }
   ],
   "source": [
    "s = 'a$b@c@d'\n",
    "print(s.split('@','$'))"
   ]
  },
  {
   "cell_type": "code",
   "execution_count": 291,
   "id": "6ca1fe87",
   "metadata": {},
   "outputs": [
    {
     "data": {
      "text/plain": [
       "'banana'"
      ]
     },
     "execution_count": 291,
     "metadata": {},
     "output_type": "execute_result"
    }
   ],
   "source": [
    "fruits = ['apple', 'mango', ['grapes', 'papaya'], ('banana', 'pomegranate')]\n",
    "fruits[3][0]"
   ]
  },
  {
   "cell_type": "code",
   "execution_count": 293,
   "id": "a9ca3905",
   "metadata": {},
   "outputs": [
    {
     "name": "stdout",
     "output_type": "stream",
     "text": [
      "None\n",
      "['black', 'blue', 'green', 'orange', 'red', 'white']\n"
     ]
    }
   ],
   "source": [
    "list_1 = ['red' , 'orange', 'blue', 'green', 'black', 'white']\n",
    "print(list_1.sort())\n",
    "print(sorted(list_1))"
   ]
  },
  {
   "cell_type": "code",
   "execution_count": 300,
   "id": "1ba130cc",
   "metadata": {},
   "outputs": [
    {
     "name": "stdout",
     "output_type": "stream",
     "text": [
      "223\n"
     ]
    }
   ],
   "source": [
    "list1 =  [100, 80, 30, 10, 0, 1, 2, 0]\n",
    "count = len(list1)\n",
    "if count > 11:\n",
    "    print(\"-1\")\n",
    "else:\n",
    "    print(sum(list1))"
   ]
  },
  {
   "cell_type": "code",
   "execution_count": 302,
   "id": "1c64fc41",
   "metadata": {},
   "outputs": [
    {
     "name": "stdout",
     "output_type": "stream",
     "text": [
      "3\n"
     ]
    }
   ],
   "source": [
    "input_list = ['Datascience', 'Dataanalyst', 'Programmer', 'Manager']\n",
    "k = 8\n",
    "def count_strings(input_list, k):\n",
    "    count = 0\n",
    "    for s in input_list:\n",
    "        if len(s) >= k:\n",
    "            count += 1\n",
    "    return count\n",
    "\n",
    "print(count_strings(input_list, k))"
   ]
  },
  {
   "cell_type": "code",
   "execution_count": 304,
   "id": "9ad6fd2b",
   "metadata": {},
   "outputs": [
    {
     "name": "stdout",
     "output_type": "stream",
     "text": [
      "['Data Science', '120', '30']\n"
     ]
    }
   ],
   "source": [
    "lst = ['Data Science', '100', '10']\n",
    "k = 20\n",
    "\n",
    "new_list = []\n",
    "for i in lst:\n",
    "    if i.isdigit():\n",
    "        new_list.append(str(int(i)+k))\n",
    "    else:\n",
    "        new_list.append(i)\n",
    "        \n",
    "print(new_list)"
   ]
  },
  {
   "cell_type": "code",
   "execution_count": 308,
   "id": "d6937e43",
   "metadata": {},
   "outputs": [
    {
     "data": {
      "text/plain": [
       "['Austria', 'Germany', 'Japan']"
      ]
     },
     "execution_count": 308,
     "metadata": {},
     "output_type": "execute_result"
    }
   ],
   "source": [
    "lst1 = ['Chennai', 'Vizag', 'Austria', 'Germany', 'Japan']\n",
    "k = 3\n",
    "result = lst1[k-1:]\n",
    "result"
   ]
  },
  {
   "cell_type": "code",
   "execution_count": 309,
   "id": "ba1b37cd",
   "metadata": {},
   "outputs": [
    {
     "name": "stdout",
     "output_type": "stream",
     "text": [
      "['Austria', 'Germany', 'Japan']\n"
     ]
    }
   ],
   "source": [
    "lst1 = ['Chennai', 'Vizag', 'Austria', 'Germany', 'Japan']\n",
    "k = 3\n",
    "\n",
    "k = int(k)\n",
    "print(lst1[k-1:len(lst1)])"
   ]
  },
  {
   "cell_type": "code",
   "execution_count": 311,
   "id": "ad2eaf3f",
   "metadata": {},
   "outputs": [
    {
     "name": "stdout",
     "output_type": "stream",
     "text": [
      "3\n"
     ]
    }
   ],
   "source": [
    "test_str = \"India WOn the WOrLD CUP\"\n",
    "\n",
    "def largest_up_case(s):\n",
    "    max_len = 0\n",
    "    current_len = 0\n",
    "    \n",
    "    for i in range(len(s)):\n",
    "        if s[i].isupper():\n",
    "            current_len += 1\n",
    "        else:\n",
    "            max_len = max(max_len, current_len)\n",
    "            current_len = 0\n",
    "    return max(max_len, current_len)\n",
    "result = largest_up_case(test_str)\n",
    "print(result)"
   ]
  },
  {
   "cell_type": "code",
   "execution_count": 312,
   "id": "a42ad95f",
   "metadata": {},
   "outputs": [
    {
     "data": {
      "text/plain": [
       "[(45, 98), (45, 88), (45, 44), (45, 23)]"
      ]
     },
     "execution_count": 312,
     "metadata": {},
     "output_type": "execute_result"
    }
   ],
   "source": [
    "lst = [(45,23), (45,88), (45,98), (45,44)]\n",
    "lst.sort(key=lambda x:x[1], reverse = True)\n",
    "lst"
   ]
  },
  {
   "cell_type": "code",
   "execution_count": 328,
   "id": "3e93d3db",
   "metadata": {},
   "outputs": [
    {
     "data": {
      "text/plain": [
       "'(1 124)'"
      ]
     },
     "execution_count": 328,
     "metadata": {},
     "output_type": "execute_result"
    }
   ],
   "source": [
    "import re\n",
    "n = 1,124\n",
    "n = re.sub(r\",\", \"\", str(n))\n",
    "n"
   ]
  },
  {
   "cell_type": "code",
   "execution_count": 329,
   "id": "8dacbe3d",
   "metadata": {},
   "outputs": [
    {
     "ename": "AttributeError",
     "evalue": "'tuple' object has no attribute 'split'",
     "output_type": "error",
     "traceback": [
      "\u001b[1;31m---------------------------------------------------------------------------\u001b[0m",
      "\u001b[1;31mAttributeError\u001b[0m                            Traceback (most recent call last)",
      "Cell \u001b[1;32mIn[329], line 2\u001b[0m\n\u001b[0;32m      1\u001b[0m n \u001b[38;5;241m=\u001b[39m \u001b[38;5;241m1\u001b[39m,\u001b[38;5;241m123\u001b[39m\n\u001b[1;32m----> 2\u001b[0m n \u001b[38;5;241m=\u001b[39m \u001b[38;5;124m\"\u001b[39m\u001b[38;5;124m\"\u001b[39m\u001b[38;5;241m.\u001b[39mjoin(\u001b[43mn\u001b[49m\u001b[38;5;241;43m.\u001b[39;49m\u001b[43msplit\u001b[49m(\u001b[38;5;124m\"\u001b[39m\u001b[38;5;124m,\u001b[39m\u001b[38;5;124m\"\u001b[39m))\n\u001b[0;32m      3\u001b[0m \u001b[38;5;28mprint\u001b[39m(n)\n",
      "\u001b[1;31mAttributeError\u001b[0m: 'tuple' object has no attribute 'split'"
     ]
    }
   ],
   "source": [
    "n = 1,123\n",
    "n = \"\".join(n.split(\",\"))\n",
    "print(n)"
   ]
  },
  {
   "cell_type": "code",
   "execution_count": 339,
   "id": "f66c04ca",
   "metadata": {},
   "outputs": [
    {
     "name": "stdout",
     "output_type": "stream",
     "text": [
      "Sad Number\n"
     ]
    }
   ],
   "source": [
    "n = (1,123)\n",
    "n = int(''.join(str(i) for i in n))\n",
    "\n",
    "digits = [int(d) for d in str(n)]\n",
    "\n",
    "for digit in digits:\n",
    "    if digit == 0 or n % digit != 0:\n",
    "        print(\"Sad Number\")\n",
    "        break\n",
    "else:\n",
    "    print(\"Happy Number\")\n"
   ]
  },
  {
   "cell_type": "code",
   "execution_count": 341,
   "id": "42ef6395",
   "metadata": {},
   "outputs": [
    {
     "ename": "TypeError",
     "evalue": "isinstance() arg 2 must be a type, a tuple of types, or a union",
     "output_type": "error",
     "traceback": [
      "\u001b[1;31m---------------------------------------------------------------------------\u001b[0m",
      "\u001b[1;31mTypeError\u001b[0m                                 Traceback (most recent call last)",
      "Cell \u001b[1;32mIn[341], line 4\u001b[0m\n\u001b[0;32m      2\u001b[0m \u001b[38;5;28;01mif\u001b[39;00m \u001b[38;5;28misinstance\u001b[39m(n, \u001b[38;5;28mint\u001b[39m):\n\u001b[0;32m      3\u001b[0m     n \u001b[38;5;241m=\u001b[39m \u001b[38;5;28mstr\u001b[39m(n)\n\u001b[1;32m----> 4\u001b[0m \u001b[38;5;28;01melif\u001b[39;00m \u001b[38;5;28;43misinstance\u001b[39;49m\u001b[43m(\u001b[49m\u001b[43mn\u001b[49m\u001b[43m,\u001b[49m\u001b[43m \u001b[49m\u001b[38;5;28;43mtuple\u001b[39;49m\u001b[43m)\u001b[49m:\n\u001b[0;32m      5\u001b[0m     n \u001b[38;5;241m=\u001b[39m \u001b[38;5;124m'\u001b[39m\u001b[38;5;124m'\u001b[39m\u001b[38;5;241m.\u001b[39mjoin(\u001b[38;5;28mstr\u001b[39m(i) \u001b[38;5;28;01mfor\u001b[39;00m i \u001b[38;5;129;01min\u001b[39;00m n)\n\u001b[0;32m      7\u001b[0m \u001b[38;5;28;01mif\u001b[39;00m \u001b[38;5;124m'\u001b[39m\u001b[38;5;124m0\u001b[39m\u001b[38;5;124m'\u001b[39m \u001b[38;5;129;01min\u001b[39;00m n:\n",
      "\u001b[1;31mTypeError\u001b[0m: isinstance() arg 2 must be a type, a tuple of types, or a union"
     ]
    }
   ],
   "source": [
    "n = 1,234\n",
    "if isinstance(n, int):\n",
    "    n = str(n)\n",
    "elif isinstance(n, tuple):\n",
    "    n = ''.join(str(i) for i in n)\n",
    "\n",
    "if '0' in n:\n",
    "    print('Sad Number')\n",
    "else:\n",
    "    digits = [int(d) for d in n]\n",
    "    if all(int(n) % digit == 0 for digit in digits):\n",
    "        print('Happy Number')\n",
    "    else:\n",
    "        print('Sad Number')"
   ]
  },
  {
   "cell_type": "code",
   "execution_count": 347,
   "id": "c51df6b4",
   "metadata": {},
   "outputs": [
    {
     "name": "stdout",
     "output_type": "stream",
     "text": [
      "Enter a number: 128\n",
      "Happy Number\n"
     ]
    }
   ],
   "source": [
    "n = input(\"Enter a number: \")\n",
    "\n",
    "# Remove commas if n is a tuple\n",
    "if type(n) == tuple:\n",
    "    n = ''.join(str(i) for i in n)\n",
    "elif ',' in n:  # check if input contains a comma\n",
    "    n = n.replace(',', '')\n",
    "\n",
    "# Convert n to integer\n",
    "n = int(n)\n",
    "\n",
    "# Check if n is divisible by all its digits\n",
    "is_happy = all(n % int(digit) == 0 for digit in str(n))\n",
    "if is_happy:\n",
    "    print(\"Happy Number\")\n",
    "else:\n",
    "    print(\"Sad Number\")"
   ]
  },
  {
   "cell_type": "code",
   "execution_count": 348,
   "id": "1bc56b1d",
   "metadata": {},
   "outputs": [
    {
     "name": "stdout",
     "output_type": "stream",
     "text": [
      "{'Barcelona': 'Griezmann', 'Real Madrid': 'Benzema', 'PSG': 'Ramos'}\n"
     ]
    }
   ],
   "source": [
    "input_dictionary = {'Barcelona': 'Messi', 'Real Madrid': 'Benzema', 'PSG': 'Neymar'}\n",
    "updates = [['Barcelona', 'Griezmann'], ['PSG', 'Ramos']]\n",
    "\n",
    "for club, new_player in updates:\n",
    "    input_dictionary[club] = new_player\n",
    "\n",
    "print(input_dictionary)"
   ]
  },
  {
   "cell_type": "code",
   "execution_count": 349,
   "id": "35ed9b8e",
   "metadata": {},
   "outputs": [
    {
     "name": "stdout",
     "output_type": "stream",
     "text": [
      "Selected\n"
     ]
    }
   ],
   "source": [
    "emp_list = [10, 5, 6, 9, 7]\n",
    "candidate = [10, 9.8, 7.2, 1.66, 4.3]\n",
    "num_params_below_avg = sum([1 for i in range(5) if candidate[i] < emp_list[i]])\n",
    "if num_params_below_avg > 2:\n",
    "    print('Rejected')\n",
    "else:\n",
    "    print('Selected')"
   ]
  },
  {
   "cell_type": "code",
   "execution_count": 351,
   "id": "fc5d6dc1",
   "metadata": {},
   "outputs": [
    {
     "ename": "IndentationError",
     "evalue": "unindent does not match any outer indentation level (<tokenize>, line 4)",
     "output_type": "error",
     "traceback": [
      "\u001b[1;36m  File \u001b[1;32m<tokenize>:4\u001b[1;36m\u001b[0m\n\u001b[1;33m    else:\u001b[0m\n\u001b[1;37m    ^\u001b[0m\n\u001b[1;31mIndentationError\u001b[0m\u001b[1;31m:\u001b[0m unindent does not match any outer indentation level\n"
     ]
    }
   ],
   "source": [
    "def factorial(n):\n",
    "    if n == 0:\n",
    "    return 1\n",
    "  else:\n",
    "    return n * factorial(n - 1) "
   ]
  },
  {
   "cell_type": "code",
   "execution_count": 358,
   "id": "b6b3d04e",
   "metadata": {},
   "outputs": [],
   "source": [
    "def factorial(n):\n",
    "    result = 1\n",
    "    for i in range(1, num + 1):\n",
    "        factorial = factorial * 1\n",
    "    return result"
   ]
  },
  {
   "cell_type": "code",
   "execution_count": 359,
   "id": "ae090305",
   "metadata": {},
   "outputs": [
    {
     "ename": "NameError",
     "evalue": "name 'num' is not defined",
     "output_type": "error",
     "traceback": [
      "\u001b[1;31m---------------------------------------------------------------------------\u001b[0m",
      "\u001b[1;31mNameError\u001b[0m                                 Traceback (most recent call last)",
      "Cell \u001b[1;32mIn[359], line 1\u001b[0m\n\u001b[1;32m----> 1\u001b[0m f \u001b[38;5;241m=\u001b[39m \u001b[43mfactorial\u001b[49m\u001b[43m(\u001b[49m\u001b[38;5;241;43m5\u001b[39;49m\u001b[43m)\u001b[49m\n\u001b[0;32m      2\u001b[0m \u001b[38;5;28mprint\u001b[39m(\u001b[38;5;124m'\u001b[39m\u001b[38;5;124mThe factorial of 5 is\u001b[39m\u001b[38;5;124m'\u001b[39m, f)\n",
      "Cell \u001b[1;32mIn[358], line 3\u001b[0m, in \u001b[0;36mfactorial\u001b[1;34m(n)\u001b[0m\n\u001b[0;32m      1\u001b[0m \u001b[38;5;28;01mdef\u001b[39;00m \u001b[38;5;21mfactorial\u001b[39m(n):\n\u001b[0;32m      2\u001b[0m     result \u001b[38;5;241m=\u001b[39m \u001b[38;5;241m1\u001b[39m\n\u001b[1;32m----> 3\u001b[0m     \u001b[38;5;28;01mfor\u001b[39;00m i \u001b[38;5;129;01min\u001b[39;00m \u001b[38;5;28mrange\u001b[39m(\u001b[38;5;241m1\u001b[39m, \u001b[43mnum\u001b[49m \u001b[38;5;241m+\u001b[39m \u001b[38;5;241m1\u001b[39m):\n\u001b[0;32m      4\u001b[0m         factorial \u001b[38;5;241m=\u001b[39m factorial \u001b[38;5;241m*\u001b[39m \u001b[38;5;241m1\u001b[39m\n\u001b[0;32m      5\u001b[0m     \u001b[38;5;28;01mreturn\u001b[39;00m result\n",
      "\u001b[1;31mNameError\u001b[0m: name 'num' is not defined"
     ]
    }
   ],
   "source": [
    "f = factorial(5)\n",
    "print('The factorial of 5 is', f)"
   ]
  },
  {
   "cell_type": "code",
   "execution_count": 361,
   "id": "67f7f47c",
   "metadata": {},
   "outputs": [],
   "source": [
    "def factorial(a): \n",
    "    result = 1 \n",
    "    for i in range(1,a+1): \n",
    "        result*=i \n",
    "        print('Factorial of ', a, ' is ',result) \n",
    "        a = int(input('Enter number ')) \n",
    "        print(factorial(a))"
   ]
  },
  {
   "cell_type": "code",
   "execution_count": 362,
   "id": "8cdd5388",
   "metadata": {},
   "outputs": [],
   "source": [
    "#Write a function that takes a list of integers and returns a new list with only the even numbers.\n",
    "\n",
    "def get_even_numbers(numbers):\n",
    "    even_numbers = []\n",
    "    for number in numbers:\n",
    "        if number %2 ==0:\n",
    "            even_numbers.append(number)\n",
    "    return even_numbers\n"
   ]
  },
  {
   "cell_type": "code",
   "execution_count": 364,
   "id": "bf6de2ec",
   "metadata": {},
   "outputs": [
    {
     "ename": "NameError",
     "evalue": "name 'numbers' is not defined",
     "output_type": "error",
     "traceback": [
      "\u001b[1;31m---------------------------------------------------------------------------\u001b[0m",
      "\u001b[1;31mNameError\u001b[0m                                 Traceback (most recent call last)",
      "Cell \u001b[1;32mIn[364], line 1\u001b[0m\n\u001b[1;32m----> 1\u001b[0m \u001b[38;5;28mprint\u001b[39m(\u001b[38;5;124m\"\u001b[39m\u001b[38;5;124mEnter the list\u001b[39m\u001b[38;5;124m\"\u001b[39m, \u001b[43mnumbers\u001b[49m)\n",
      "\u001b[1;31mNameError\u001b[0m: name 'numbers' is not defined"
     ]
    }
   ],
   "source": [
    "print(\"Enter the list\", numbers)"
   ]
  },
  {
   "cell_type": "code",
   "execution_count": 365,
   "id": "06da10ef",
   "metadata": {},
   "outputs": [
    {
     "name": "stdout",
     "output_type": "stream",
     "text": [
      "[2, 4, 6, 8, 10]\n"
     ]
    }
   ],
   "source": [
    "def get_even_numbers(numbers):\n",
    "    even_numbers = []\n",
    "    for number in numbers:\n",
    "        if number %2 ==0:\n",
    "            even_numbers.append(number)\n",
    "    return even_numbers\n",
    "numbers = [1,2,3,4,5,6,7,8,9,10]\n",
    "even_numbers = get_even_numbers(numbers)\n",
    "print(even_numbers)"
   ]
  },
  {
   "cell_type": "code",
   "execution_count": 367,
   "id": "a0c259a6",
   "metadata": {},
   "outputs": [
    {
     "name": "stdout",
     "output_type": "stream",
     "text": [
      "True\n"
     ]
    }
   ],
   "source": [
    "evn_numb = lambda x: 'Even' if x%2 == 0 else 'Odd'\n",
    "print(evn_numb(4))\n"
   ]
  },
  {
   "cell_type": "code",
   "execution_count": 369,
   "id": "4bbe06c6",
   "metadata": {},
   "outputs": [],
   "source": [
    "evn_numb = lambda x: 'Even' if x%2 ==0 else 'Odd'"
   ]
  },
  {
   "cell_type": "code",
   "execution_count": 372,
   "id": "9888cd0e",
   "metadata": {},
   "outputs": [
    {
     "name": "stdout",
     "output_type": "stream",
     "text": [
      "Even\n"
     ]
    }
   ],
   "source": [
    "print(evn_numb(4))"
   ]
  },
  {
   "cell_type": "code",
   "execution_count": 374,
   "id": "3ef9e310",
   "metadata": {},
   "outputs": [
    {
     "name": "stdout",
     "output_type": "stream",
     "text": [
      "['level']\n"
     ]
    }
   ],
   "source": [
    "def is_palindrome(word):\n",
    "    return word == word[::-1]\n",
    "words = ['level', 'class', 'batch', 'training', 'word']\n",
    "palindromes = list(filter(is_palindrome, words))\n",
    "print(palindromes)\n"
   ]
  },
  {
   "cell_type": "code",
   "execution_count": 375,
   "id": "925580da",
   "metadata": {},
   "outputs": [
    {
     "name": "stdout",
     "output_type": "stream",
     "text": [
      "['level', 'racecar', 'madam', 'noon']\n"
     ]
    }
   ],
   "source": [
    "words = ['level', 'racecar', 'python', 'madam', 'noon']\n",
    "\n",
    "palindromes = list(filter(lambda word: word == word[::-1], words))\n",
    "\n",
    "print(palindromes)"
   ]
  },
  {
   "cell_type": "code",
   "execution_count": 381,
   "id": "3528a619",
   "metadata": {},
   "outputs": [
    {
     "name": "stdout",
     "output_type": "stream",
     "text": [
      "[['G', 'a', 'e', 'h', 'n', 's'], ['J', 'h', 'n', 'o'], ['T', 'a', 'h', 'i', 'm', 'z'], ['N', 'h', 'i', 'i', 'k', 'l'], ['S', 'a', 'e', 'h', 'h', 't', 'w']]\n"
     ]
    }
   ],
   "source": [
    "names_list = [\"Ganesh\", \"John\", \"Tamizh\", \"Nikhil\", \"Shwetha\"]\n",
    "print(list(map(sorted,names_list)))"
   ]
  },
  {
   "cell_type": "code",
   "execution_count": null,
   "id": "22f60511",
   "metadata": {},
   "outputs": [],
   "source": []
  },
  {
   "cell_type": "code",
   "execution_count": null,
   "id": "7218be39",
   "metadata": {},
   "outputs": [],
   "source": [
    "names = [\"Ganesh\", \"John\", \"Tamizh\", \"Nikhil\", \"Shwetha\"]\n",
    "sorted_names = sorted(names, key=lambda x: x.lower())\n",
    "print(sorted_names)\n"
   ]
  },
  {
   "cell_type": "code",
   "execution_count": 378,
   "id": "4d7143e2",
   "metadata": {},
   "outputs": [
    {
     "name": "stdout",
     "output_type": "stream",
     "text": [
      "Original list ['Rahul Kumar', 'Ravi Kumar', 'Dheeraj Sagar', 'Mani Shankar']\n",
      "Sorted name list ['Rahul Kumar', 'Ravi Kumar', 'Dheeraj Sagar', 'Mani Shankar']\n"
     ]
    }
   ],
   "source": [
    "name_list = ['Rahul Kumar', 'Ravi Kumar', 'Dheeraj Sagar', 'Mani Shankar']\n",
    "print(\"Original list\", name_list)\n",
    "name_list.sort(key=lambda name: name.split()[1])\n",
    "print(\"Sorted name list\", name_list)"
   ]
  },
  {
   "cell_type": "code",
   "execution_count": 379,
   "id": "9ac9a25b",
   "metadata": {},
   "outputs": [
    {
     "name": "stdout",
     "output_type": "stream",
     "text": [
      "[['i', 'i', 'n', 'r'], ['a', 'a', 'i', 'k', 'n', 't'], ['a', 'd', 'i'], ['a', 'i', 'n', 'o', 's', 'y']]\n"
     ]
    }
   ],
   "source": [
    "l = ['rini','ankita','adi','soniya'] \n",
    "print(list(map(sorted,l)))"
   ]
  },
  {
   "cell_type": "code",
   "execution_count": 383,
   "id": "4830a5fe",
   "metadata": {},
   "outputs": [
    {
     "data": {
      "text/plain": [
       "[]"
      ]
     },
     "execution_count": 383,
     "metadata": {},
     "output_type": "execute_result"
    }
   ],
   "source": [
    "list1=['Rahul Kumar', 'Ravi Kumar', 'Dheeraj Sagar', 'Mani Shankar']\n",
    "list(filter(lambda x: x[0].lower() == 'a', list1))"
   ]
  },
  {
   "cell_type": "code",
   "execution_count": 384,
   "id": "0fa1cf99",
   "metadata": {},
   "outputs": [
    {
     "name": "stdout",
     "output_type": "stream",
     "text": [
      "['level', 'madam', 'noon', 'racecar']\n"
     ]
    }
   ],
   "source": [
    "words = ['level', 'racecar', 'python', 'madam', 'noon']\n",
    "\n",
    "palindromes = list(filter(lambda word: word == word[::-1], words))\n",
    "palindromes_sorted = sorted(palindromes, key=lambda word: word.lower())\n",
    "\n",
    "print(palindromes_sorted)"
   ]
  },
  {
   "cell_type": "code",
   "execution_count": 385,
   "id": "34c04b3c",
   "metadata": {},
   "outputs": [
    {
     "name": "stdout",
     "output_type": "stream",
     "text": [
      "['eellv', 'aaccerr', 'aadmm', 'nnoo']\n"
     ]
    }
   ],
   "source": [
    "words = ['level', 'racecar', 'python', 'madam', 'noon']\n",
    "\n",
    "palindromes = list(filter(lambda word: word == word[::-1], words))\n",
    "\n",
    "sorted_palindromes = [\"\".join(sorted(word)) for word in palindromes]\n",
    "\n",
    "print(sorted_palindromes)"
   ]
  },
  {
   "cell_type": "code",
   "execution_count": 388,
   "id": "0253fb6a",
   "metadata": {},
   "outputs": [
    {
     "name": "stdout",
     "output_type": "stream",
     "text": [
      "['Ganesh', 'John', 'Tamizh', 'Nikhil', 'Shwetha']\n"
     ]
    }
   ],
   "source": [
    "#Implement a program to filter out all the names starting with the letter \"A\" from a list of names.\n",
    "\n",
    "name_list = ['Rahul Kumar','Arun', \"Ankit\", 'Ravi Kumar', 'Dheeraj Sagar', 'Mani Shankar', 'Ajay']\n",
    "filtered_names = list(filter(lambda name: not name.startswith('A'), names_list))\n",
    "print(filtered_names)"
   ]
  },
  {
   "cell_type": "code",
   "execution_count": 391,
   "id": "62f1b23c",
   "metadata": {},
   "outputs": [
    {
     "ename": "AttributeError",
     "evalue": "'list' object has no attribute 'startswith'",
     "output_type": "error",
     "traceback": [
      "\u001b[1;31m---------------------------------------------------------------------------\u001b[0m",
      "\u001b[1;31mAttributeError\u001b[0m                            Traceback (most recent call last)",
      "Cell \u001b[1;32mIn[391], line 2\u001b[0m\n\u001b[0;32m      1\u001b[0m name_list \u001b[38;5;241m=\u001b[39m [\u001b[38;5;124m'\u001b[39m\u001b[38;5;124mRahul Kumar\u001b[39m\u001b[38;5;124m'\u001b[39m,\u001b[38;5;124m'\u001b[39m\u001b[38;5;124mArun\u001b[39m\u001b[38;5;124m'\u001b[39m, \u001b[38;5;124m\"\u001b[39m\u001b[38;5;124mAnkit\u001b[39m\u001b[38;5;124m\"\u001b[39m, \u001b[38;5;124m'\u001b[39m\u001b[38;5;124mRavi Kumar\u001b[39m\u001b[38;5;124m'\u001b[39m, \u001b[38;5;124m'\u001b[39m\u001b[38;5;124mDheeraj Sagar\u001b[39m\u001b[38;5;124m'\u001b[39m, \u001b[38;5;124m'\u001b[39m\u001b[38;5;124mMani Shankar\u001b[39m\u001b[38;5;124m'\u001b[39m, \u001b[38;5;124m'\u001b[39m\u001b[38;5;124mAjay\u001b[39m\u001b[38;5;124m'\u001b[39m]\n\u001b[1;32m----> 2\u001b[0m filtered_names \u001b[38;5;241m=\u001b[39m \u001b[38;5;28mlist\u001b[39m(\u001b[38;5;28mfilter\u001b[39m(\u001b[38;5;28;01mlambda\u001b[39;00m x:x, name_list \u001b[38;5;28;01mif\u001b[39;00m \u001b[43mname_list\u001b[49m\u001b[38;5;241;43m.\u001b[39;49m\u001b[43mstartswith\u001b[49m(\u001b[38;5;124m'\u001b[39m\u001b[38;5;124mA\u001b[39m\u001b[38;5;124m'\u001b[39m) \u001b[38;5;28;01melse\u001b[39;00m filtered_names))\n",
      "\u001b[1;31mAttributeError\u001b[0m: 'list' object has no attribute 'startswith'"
     ]
    }
   ],
   "source": [
    "name_list = ['Rahul Kumar','Arun', \"Ankit\", 'Ravi Kumar', 'Dheeraj Sagar', 'Mani Shankar', 'Ajay']\n",
    "filtered_names = list(filter(lambda name_list if name_list.startswith('A') else filtered_names))"
   ]
  },
  {
   "cell_type": "code",
   "execution_count": null,
   "id": "4d1e4574",
   "metadata": {},
   "outputs": [],
   "source": [
    "item_list=['Amit','Saurbah', 'Abhinav'] \n",
    "capitalA = filter(lambda name : name if name[0] == \"A\" else False , item_list) \n",
    "print(list(capitalA))"
   ]
  },
  {
   "cell_type": "code",
   "execution_count": 395,
   "id": "c997220f",
   "metadata": {},
   "outputs": [
    {
     "ename": "SyntaxError",
     "evalue": "invalid syntax (3117531322.py, line 1)",
     "output_type": "error",
     "traceback": [
      "\u001b[1;36m  Cell \u001b[1;32mIn[395], line 1\u001b[1;36m\u001b[0m\n\u001b[1;33m    s1 ='Hello' s2 = 'World'\u001b[0m\n\u001b[1;37m                ^\u001b[0m\n\u001b[1;31mSyntaxError\u001b[0m\u001b[1;31m:\u001b[0m invalid syntax\n"
     ]
    }
   ],
   "source": [
    "s1 ='Hello' s2 = 'World' \n",
    "concat = lambda x,y: x+y concat(s1, s2)"
   ]
  },
  {
   "cell_type": "code",
   "execution_count": null,
   "id": "b147c0d2",
   "metadata": {},
   "outputs": [],
   "source": [
    "s1 ='Hello' s2 = 'World' \n",
    "concat = lambda x,y: x+y concat(s1, s2)"
   ]
  },
  {
   "cell_type": "code",
   "execution_count": null,
   "id": "b2b35e0c",
   "metadata": {},
   "outputs": [],
   "source": []
  }
 ],
 "metadata": {
  "kernelspec": {
   "display_name": "Python 3 (ipykernel)",
   "language": "python",
   "name": "python3"
  },
  "language_info": {
   "codemirror_mode": {
    "name": "ipython",
    "version": 3
   },
   "file_extension": ".py",
   "mimetype": "text/x-python",
   "name": "python",
   "nbconvert_exporter": "python",
   "pygments_lexer": "ipython3",
   "version": "3.10.9"
  }
 },
 "nbformat": 4,
 "nbformat_minor": 5
}
