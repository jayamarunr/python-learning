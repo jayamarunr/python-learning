{
 "cells": [
  {
   "cell_type": "code",
   "execution_count": 2,
   "id": "db42cf8f",
   "metadata": {},
   "outputs": [
    {
     "name": "stdout",
     "output_type": "stream",
     "text": [
      "Hello world\n"
     ]
    }
   ],
   "source": [
    "print(\"Hello world\")"
   ]
  },
  {
   "cell_type": "code",
   "execution_count": 3,
   "id": "886eb8f5",
   "metadata": {},
   "outputs": [
    {
     "name": "stdout",
     "output_type": "stream",
     "text": [
      "What is your name?Jayam\n"
     ]
    }
   ],
   "source": [
    "name = input(\"What is your name?\")"
   ]
  },
  {
   "cell_type": "code",
   "execution_count": 4,
   "id": "5e5bf2fe",
   "metadata": {},
   "outputs": [
    {
     "name": "stdout",
     "output_type": "stream",
     "text": [
      "Welcome to upgrad Jayam\n"
     ]
    }
   ],
   "source": [
    "print(\"Welcome to upgrad\", name)"
   ]
  },
  {
   "cell_type": "code",
   "execution_count": 5,
   "id": "51276e69",
   "metadata": {},
   "outputs": [
    {
     "name": "stdout",
     "output_type": "stream",
     "text": [
      "O    \n",
      "|    \n",
      "|____\n",
      " ||||\n",
      " ||||\n"
     ]
    }
   ],
   "source": [
    "print(\"O    \")\n",
    "print(\"|    \")\n",
    "print(\"|____\")\n",
    "print(\" ||||\")\n",
    "print(\" ||||\")"
   ]
  },
  {
   "cell_type": "code",
   "execution_count": 8,
   "id": "d1286d9d",
   "metadata": {},
   "outputs": [
    {
     "name": "stdout",
     "output_type": "stream",
     "text": [
      "$$$\n"
     ]
    }
   ],
   "source": [
    "print(\"$\" * 3)"
   ]
  },
  {
   "cell_type": "code",
   "execution_count": 10,
   "id": "72146e79",
   "metadata": {},
   "outputs": [
    {
     "name": "stdout",
     "output_type": "stream",
     "text": [
      "Mike\n"
     ]
    }
   ],
   "source": [
    "var1=\"Mike\"\n",
    "print(var1)"
   ]
  },
  {
   "cell_type": "code",
   "execution_count": 11,
   "id": "6968bdca",
   "metadata": {},
   "outputs": [
    {
     "name": "stdout",
     "output_type": "stream",
     "text": [
      "6\n"
     ]
    }
   ],
   "source": [
    "var2 = 6\n",
    "print(var2)"
   ]
  },
  {
   "cell_type": "code",
   "execution_count": 12,
   "id": "6f260e00",
   "metadata": {},
   "outputs": [
    {
     "name": "stdout",
     "output_type": "stream",
     "text": [
      "4.5\n"
     ]
    }
   ],
   "source": [
    "var3 = 4.5\n",
    "print(var3)"
   ]
  },
  {
   "cell_type": "code",
   "execution_count": 13,
   "id": "efcd7164",
   "metadata": {},
   "outputs": [
    {
     "name": "stdout",
     "output_type": "stream",
     "text": [
      "What's your fav number?5\n",
      "5\n"
     ]
    }
   ],
   "source": [
    "number = input(\"What's your fav number?\")\n",
    "print(number)"
   ]
  },
  {
   "cell_type": "code",
   "execution_count": 15,
   "id": "3246c033",
   "metadata": {},
   "outputs": [
    {
     "name": "stdout",
     "output_type": "stream",
     "text": [
      "Enter your name: Jayam\n",
      "Welcome Jayam\n"
     ]
    }
   ],
   "source": [
    "name=input(\"Enter your name: \")\n",
    "print(\"Welcome\", name)"
   ]
  },
  {
   "cell_type": "code",
   "execution_count": 18,
   "id": "ce98d12b",
   "metadata": {},
   "outputs": [
    {
     "name": "stdout",
     "output_type": "stream",
     "text": [
      "Enter your age: 35\n",
      "You are 420 months old\n"
     ]
    }
   ],
   "source": [
    "age = input(\"Enter your age: \")\n",
    "age = int(age)\n",
    "print(\"You are\",age*12 ,\"months old\")"
   ]
  },
  {
   "cell_type": "code",
   "execution_count": 20,
   "id": "5fff024d",
   "metadata": {},
   "outputs": [
    {
     "data": {
      "text/plain": [
       "bool"
      ]
     },
     "execution_count": 20,
     "metadata": {},
     "output_type": "execute_result"
    }
   ],
   "source": [
    "integer_num = 1\n",
    "floating_num = 1.3\n",
    "string = 'Mike'\n",
    "boolean = True\n",
    "\n",
    "type(integer_num)\n",
    "type(floating_num)\n",
    "type(string)\n",
    "type(boolean)"
   ]
  },
  {
   "cell_type": "code",
   "execution_count": null,
   "id": "38aec04e",
   "metadata": {},
   "outputs": [],
   "source": [
    "a = 1 #Integer value\n",
    "print(bool)"
   ]
  }
 ],
 "metadata": {
  "kernelspec": {
   "display_name": "Python 3 (ipykernel)",
   "language": "python",
   "name": "python3"
  },
  "language_info": {
   "codemirror_mode": {
    "name": "ipython",
    "version": 3
   },
   "file_extension": ".py",
   "mimetype": "text/x-python",
   "name": "python",
   "nbconvert_exporter": "python",
   "pygments_lexer": "ipython3",
   "version": "3.10.9"
  }
 },
 "nbformat": 4,
 "nbformat_minor": 5
}
