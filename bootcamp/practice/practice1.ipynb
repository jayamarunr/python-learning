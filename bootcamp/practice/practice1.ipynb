{
 "cells": [
  {
   "cell_type": "code",
   "execution_count": 2,
   "id": "96076dfa",
   "metadata": {},
   "outputs": [
    {
     "name": "stdout",
     "output_type": "stream",
     "text": [
      "Hello world\n"
     ]
    }
   ],
   "source": [
    "print(\"Hello world\")"
   ]
  },
  {
   "cell_type": "code",
   "execution_count": 3,
   "id": "96fb28cb",
   "metadata": {},
   "outputs": [
    {
     "name": "stdout",
     "output_type": "stream",
     "text": [
      "What is your name?Jayam\n"
     ]
    }
   ],
   "source": [
    "name = input(\"What is your name?\")"
   ]
  },
  {
   "cell_type": "code",
   "execution_count": 4,
   "id": "5dc26e8c",
   "metadata": {},
   "outputs": [
    {
     "name": "stdout",
     "output_type": "stream",
     "text": [
      "Welcome to upgrad Jayam\n"
     ]
    }
   ],
   "source": [
    "print(\"Welcome to upgrad\", name)"
   ]
  },
  {
   "cell_type": "code",
   "execution_count": 5,
   "id": "0d6bedbc",
   "metadata": {},
   "outputs": [
    {
     "name": "stdout",
     "output_type": "stream",
     "text": [
      "O    \n",
      "|    \n",
      "|____\n",
      " ||||\n",
      " ||||\n"
     ]
    }
   ],
   "source": [
    "print(\"O    \")\n",
    "print(\"|    \")\n",
    "print(\"|____\")\n",
    "print(\" ||||\")\n",
    "print(\" ||||\")"
   ]
  },
  {
   "cell_type": "code",
   "execution_count": 8,
   "id": "565263a3",
   "metadata": {},
   "outputs": [
    {
     "name": "stdout",
     "output_type": "stream",
     "text": [
      "$$$\n"
     ]
    }
   ],
   "source": [
    "print(\"$\" * 3)"
   ]
  },
  {
   "cell_type": "code",
   "execution_count": 10,
   "id": "bd2c86c8",
   "metadata": {},
   "outputs": [
    {
     "name": "stdout",
     "output_type": "stream",
     "text": [
      "Mike\n"
     ]
    }
   ],
   "source": [
    "var1=\"Mike\"\n",
    "print(var1)"
   ]
  },
  {
   "cell_type": "code",
   "execution_count": 11,
   "id": "263a8ccd",
   "metadata": {},
   "outputs": [
    {
     "name": "stdout",
     "output_type": "stream",
     "text": [
      "6\n"
     ]
    }
   ],
   "source": [
    "var2 = 6\n",
    "print(var2)"
   ]
  },
  {
   "cell_type": "code",
   "execution_count": 12,
   "id": "850cf590",
   "metadata": {},
   "outputs": [
    {
     "name": "stdout",
     "output_type": "stream",
     "text": [
      "4.5\n"
     ]
    }
   ],
   "source": [
    "var3 = 4.5\n",
    "print(var3)"
   ]
  },
  {
   "cell_type": "code",
   "execution_count": 13,
   "id": "9f77177d",
   "metadata": {},
   "outputs": [
    {
     "name": "stdout",
     "output_type": "stream",
     "text": [
      "What's your fav number?5\n",
      "5\n"
     ]
    }
   ],
   "source": [
    "number = input(\"What's your fav number?\")\n",
    "print(number)"
   ]
  },
  {
   "cell_type": "code",
   "execution_count": 15,
   "id": "871e604e",
   "metadata": {},
   "outputs": [
    {
     "name": "stdout",
     "output_type": "stream",
     "text": [
      "Enter your name: Jayam\n",
      "Welcome Jayam\n"
     ]
    }
   ],
   "source": [
    "name=input(\"Enter your name: \")\n",
    "print(\"Welcome\", name)"
   ]
  },
  {
   "cell_type": "code",
   "execution_count": 18,
   "id": "d07916bf",
   "metadata": {},
   "outputs": [
    {
     "name": "stdout",
     "output_type": "stream",
     "text": [
      "Enter your age: 35\n",
      "You are 420 months old\n"
     ]
    }
   ],
   "source": [
    "age = input(\"Enter your age: \")\n",
    "age = int(age)\n",
    "print(\"You are\",age*12 ,\"months old\")"
   ]
  },
  {
   "cell_type": "code",
   "execution_count": 20,
   "id": "13c92048",
   "metadata": {},
   "outputs": [
    {
     "data": {
      "text/plain": [
       "bool"
      ]
     },
     "execution_count": 20,
     "metadata": {},
     "output_type": "execute_result"
    }
   ],
   "source": [
    "integer_num = 1\n",
    "floating_num = 1.3\n",
    "string = 'Mike'\n",
    "boolean = True\n",
    "\n",
    "type(integer_num)\n",
    "type(floating_num)\n",
    "type(string)\n",
    "type(boolean)"
   ]
  },
  {
   "cell_type": "code",
   "execution_count": 21,
   "id": "2289ab16",
   "metadata": {},
   "outputs": [
    {
     "name": "stdout",
     "output_type": "stream",
     "text": [
      "True\n"
     ]
    }
   ],
   "source": [
    "a = 1 #Integer value\n",
    "print(bool(a))"
   ]
  },
  {
   "cell_type": "code",
   "execution_count": 22,
   "id": "c667451d",
   "metadata": {},
   "outputs": [
    {
     "name": "stdout",
     "output_type": "stream",
     "text": [
      "1.0\n"
     ]
    }
   ],
   "source": [
    "print(float(a))"
   ]
  },
  {
   "cell_type": "code",
   "execution_count": 24,
   "id": "5e1eef0e",
   "metadata": {},
   "outputs": [
    {
     "name": "stdout",
     "output_type": "stream",
     "text": [
      "1\n"
     ]
    }
   ],
   "source": [
    "print(str(a))"
   ]
  },
  {
   "cell_type": "code",
   "execution_count": 45,
   "id": "7723aba7",
   "metadata": {},
   "outputs": [
    {
     "name": "stdout",
     "output_type": "stream",
     "text": [
      "Addition =  24\n"
     ]
    }
   ],
   "source": [
    "a = 17\n",
    "b = 7\n",
    "print(\"Addition = \", a+b)"
   ]
  },
  {
   "cell_type": "code",
   "execution_count": 46,
   "id": "21996cf3",
   "metadata": {},
   "outputs": [
    {
     "name": "stdout",
     "output_type": "stream",
     "text": [
      "Subtraction 10\n"
     ]
    }
   ],
   "source": [
    "print(\"Subtraction\", a-b)"
   ]
  },
  {
   "cell_type": "code",
   "execution_count": 47,
   "id": "81c1da55",
   "metadata": {},
   "outputs": [
    {
     "name": "stdout",
     "output_type": "stream",
     "text": [
      "Multiplication 119\n"
     ]
    }
   ],
   "source": [
    "print(\"Multiplication\", a*b)"
   ]
  },
  {
   "cell_type": "code",
   "execution_count": 48,
   "id": "7274aea9",
   "metadata": {},
   "outputs": [
    {
     "name": "stdout",
     "output_type": "stream",
     "text": [
      "Multiplication 2.4285714285714284\n"
     ]
    }
   ],
   "source": [
    "print(\"Multiplication\", a/b)"
   ]
  },
  {
   "cell_type": "code",
   "execution_count": 49,
   "id": "aab748f7",
   "metadata": {},
   "outputs": [
    {
     "name": "stdout",
     "output_type": "stream",
     "text": [
      "Floor Division 2\n"
     ]
    }
   ],
   "source": [
    "print(\"Floor Division\", a//b)"
   ]
  },
  {
   "cell_type": "code",
   "execution_count": 52,
   "id": "bbe23100",
   "metadata": {},
   "outputs": [
    {
     "name": "stdout",
     "output_type": "stream",
     "text": [
      "Modulus / Reminder =  3\n"
     ]
    }
   ],
   "source": [
    "print(\"Modulus / Reminder = \", a%b) #17 = 2*7 + 3"
   ]
  },
  {
   "cell_type": "code",
   "execution_count": 53,
   "id": "23430681",
   "metadata": {},
   "outputs": [
    {
     "name": "stdout",
     "output_type": "stream",
     "text": [
      "Exponential 410338673\n"
     ]
    }
   ],
   "source": [
    "print(\"Exponential\", a**b)"
   ]
  },
  {
   "cell_type": "code",
   "execution_count": 54,
   "id": "53b94e93",
   "metadata": {},
   "outputs": [
    {
     "name": "stdout",
     "output_type": "stream",
     "text": [
      "11.857142857142858\n"
     ]
    }
   ],
   "source": [
    "print((4 * 5) - 9 + 6 / 7)"
   ]
  },
  {
   "cell_type": "code",
   "execution_count": 55,
   "id": "d45c4d5f",
   "metadata": {},
   "outputs": [
    {
     "name": "stdout",
     "output_type": "stream",
     "text": [
      "I am Jayam\n"
     ]
    }
   ],
   "source": [
    "c = 'I'\n",
    "d = 'am'\n",
    "e = \"Jayam\"\n",
    "print(c , d, e)"
   ]
  },
  {
   "cell_type": "code",
   "execution_count": 57,
   "id": "c4d1b0ea",
   "metadata": {},
   "outputs": [
    {
     "name": "stdout",
     "output_type": "stream",
     "text": [
      "I don't Know\n"
     ]
    }
   ],
   "source": [
    "print('I don\\'t Know')"
   ]
  },
  {
   "cell_type": "code",
   "execution_count": 60,
   "id": "8b0fdeb8",
   "metadata": {},
   "outputs": [
    {
     "name": "stdout",
     "output_type": "stream",
     "text": [
      "Hi Bob \n",
      "\n",
      "How are you?\n"
     ]
    }
   ],
   "source": [
    "print('Hi Bob \\n\\nHow are you?')"
   ]
  },
  {
   "cell_type": "code",
   "execution_count": null,
   "id": "f1c5d545",
   "metadata": {},
   "outputs": [],
   "source": [
    "flavor = input(\"What flavor do you like?\")\n",
    "desert = input(\"What type of dessert you like?\")\n",
    "o"
   ]
  }
 ],
 "metadata": {
  "kernelspec": {
   "display_name": "Python 3 (ipykernel)",
   "language": "python",
   "name": "python3"
  },
  "language_info": {
   "codemirror_mode": {
    "name": "ipython",
    "version": 3
   },
   "file_extension": ".py",
   "mimetype": "text/x-python",
   "name": "python",
   "nbconvert_exporter": "python",
   "pygments_lexer": "ipython3",
   "version": "3.10.9"
  }
 },
 "nbformat": 4,
 "nbformat_minor": 5
}
