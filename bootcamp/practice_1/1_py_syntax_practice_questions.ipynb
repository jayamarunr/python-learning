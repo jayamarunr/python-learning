{
 "cells": [
  {
   "cell_type": "code",
   "execution_count": null,
   "id": "92785b71",
   "metadata": {},
   "outputs": [],
   "source": [
    "#Data Types in Python:\n",
    "#What will be the output of the following code snippet?\n",
    "number='159'\n",
    "\n",
    "print(type(number))"
   ]
  },
  {
   "cell_type": "code",
   "execution_count": null,
   "id": "7d3dbd0e",
   "metadata": {},
   "outputs": [],
   "source": [
    "#Data Types in Python:\n",
    "#What will be the output of the following code snippet?\n",
    "number=34.721\n",
    "print(float(int(number)))"
   ]
  },
  {
   "cell_type": "code",
   "execution_count": null,
   "id": "2c86f1d3",
   "metadata": {},
   "outputs": [],
   "source": [
    "#Data Types in Python:\n",
    "#What will be the output of the following code snippet?\n",
    "name = Alex\n",
    "print(type(name))"
   ]
  },
  {
   "cell_type": "code",
   "execution_count": null,
   "id": "1f904646",
   "metadata": {},
   "outputs": [],
   "source": [
    "#Arithmetic operations:\n",
    "#What will be the output of the following code snippet?\n",
    "a = 8.9\n",
    "b = 2\n",
    "c = 5\n",
    "print(a//b//c)"
   ]
  },
  {
   "cell_type": "code",
   "execution_count": null,
   "id": "0f74aba2",
   "metadata": {},
   "outputs": [],
   "source": [
    "#Arithmetic operations:\n",
    "#What is the output of the following expression?\n",
    "4 // 8 + ( 2.5 + 7.5 ) - 6 * 3"
   ]
  },
  {
   "cell_type": "code",
   "execution_count": null,
   "id": "76169a6f",
   "metadata": {},
   "outputs": [],
   "source": [
    "#What will be the output of the following expression?\n",
    "5 % ( 2 + 12 ) ** 3 - 60 // ( 7 + 1 ) * 2"
   ]
  },
  {
   "cell_type": "code",
   "execution_count": null,
   "id": "64d4c15a",
   "metadata": {},
   "outputs": [],
   "source": [
    "#String operations\n",
    "#What will be the output of the following code snippet?\n",
    "string_1 = \"I love to code in python\"\n",
    "print( string_1[7:13])"
   ]
  },
  {
   "cell_type": "code",
   "execution_count": null,
   "id": "1835812a",
   "metadata": {},
   "outputs": [],
   "source": [
    "#String operations\n",
    "#What is the code to extract “split” from the given string?\n",
    "sentence = 'This sentence needs to be split into words'"
   ]
  },
  {
   "cell_type": "code",
   "execution_count": null,
   "id": "98e6201f",
   "metadata": {},
   "outputs": [],
   "source": [
    "#String operations\n",
    "#What will be the output of the following code snippet?\n",
    "len = 'python'\n",
    "print(len(len))"
   ]
  },
  {
   "cell_type": "code",
   "execution_count": null,
   "id": "b6dec7a3",
   "metadata": {},
   "outputs": [],
   "source": [
    "#Control Structures and Functions in Python\n",
    "#Identify the error in the following code fragment:\n",
    "x=10\n",
    "if x%2==0\n",
    "print(\"even number\")\n",
    "else\n",
    "print(\"odd number\") "
   ]
  },
  {
   "cell_type": "code",
   "execution_count": null,
   "id": "08b279d9",
   "metadata": {},
   "outputs": [],
   "source": [
    "#Control Structures and Functions in Python\n",
    "#What will be the output of the following code?\n",
    "if 4+9<10:\n",
    "  print(\"true\")\n",
    "else:\n",
    "  print(\"false\")\n",
    "print(\"true\")"
   ]
  },
  {
   "cell_type": "code",
   "execution_count": null,
   "id": "ac460bc3",
   "metadata": {},
   "outputs": [],
   "source": [
    "#Control Structures and Functions in Python\n",
    "# Consider the following code snippet:\n",
    "if x>50:\n",
    "  if x>90:\n",
    "    print(\"excellent\")\n",
    "  else:\n",
    "    if x>80:\n",
    "      print(\"good\")\n",
    "    else:\n",
    "      print(\"fair\")\n",
    "else:\n",
    "  if x>30:\n",
    "    print(\"average\")\n",
    "  else:\n",
    "    print(\"poor\")\n",
    "    \n",
    "#What will be the output if x=67, where x is the marks secured by a student?"
   ]
  },
  {
   "cell_type": "code",
   "execution_count": null,
   "id": "2927c63e",
   "metadata": {},
   "outputs": [],
   "source": [
    "#Control Structures and Functions in Python\n",
    "#What will be output of the following code snippet?\n",
    "a='pqrstuv'\n",
    "i='j'\n",
    "while i in a:\n",
    "  print(i)"
   ]
  },
  {
   "cell_type": "code",
   "execution_count": null,
   "id": "0a8ca534",
   "metadata": {},
   "outputs": [],
   "source": [
    "#Control Structures and Functions in Python\n",
    "#What will be the output of the following code snippet?\n",
    "i = 16\n",
    "while False:\n",
    "    if i%2 == 0:\n",
    "        break\n",
    "    print(i)\n",
    "    i += 2"
   ]
  },
  {
   "cell_type": "code",
   "execution_count": null,
   "id": "e9656372",
   "metadata": {},
   "outputs": [],
   "source": [
    "#String updation\n",
    "#What will be the output of the following code?\n",
    "s=\"Upgrad\"\n",
    "\n",
    "for i in range(len(s)):\n",
    "    if s[i] in 'a':\n",
    "        s[i]='*'\n",
    "\n",
    "print(s)"
   ]
  },
  {
   "cell_type": "code",
   "execution_count": null,
   "id": "0e353fd8",
   "metadata": {},
   "outputs": [],
   "source": []
  }
 ],
 "metadata": {
  "kernelspec": {
   "display_name": "Python 3 (ipykernel)",
   "language": "python",
   "name": "python3"
  },
  "language_info": {
   "codemirror_mode": {
    "name": "ipython",
    "version": 3
   },
   "file_extension": ".py",
   "mimetype": "text/x-python",
   "name": "python",
   "nbconvert_exporter": "python",
   "pygments_lexer": "ipython3",
   "version": "3.10.9"
  }
 },
 "nbformat": 4,
 "nbformat_minor": 5
}
