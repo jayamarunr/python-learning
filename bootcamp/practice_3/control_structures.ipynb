{
 "cells": [
  {
   "cell_type": "markdown",
   "id": "6f3c03f6",
   "metadata": {},
   "source": [
    "# Control Structures and Functions\n",
    "Control structures are the essence of programming; they help computers do what they do best: automate repetitive tasks intelligently. The most common control structures are if-else statements, for and while loops, and list and dictionary comprehensions. This session will cover all these concepts."
   ]
  },
  {
   "cell_type": "code",
   "execution_count": 1,
   "id": "5950b7b0",
   "metadata": {},
   "outputs": [
    {
     "data": {
      "text/plain": [
       "True"
      ]
     },
     "execution_count": 1,
     "metadata": {},
     "output_type": "execute_result"
    }
   ],
   "source": [
    "10 == 10"
   ]
  },
  {
   "cell_type": "code",
   "execution_count": 2,
   "id": "a595797b",
   "metadata": {},
   "outputs": [],
   "source": [
    "a = 5"
   ]
  },
  {
   "cell_type": "markdown",
   "id": "0bb62677",
   "metadata": {},
   "source": [
    "### Equal to\n",
    "\n",
    "a == 5"
   ]
  },
  {
   "cell_type": "code",
   "execution_count": 3,
   "id": "fca186d3",
   "metadata": {},
   "outputs": [
    {
     "data": {
      "text/plain": [
       "True"
      ]
     },
     "execution_count": 3,
     "metadata": {},
     "output_type": "execute_result"
    }
   ],
   "source": [
    "a == 5"
   ]
  },
  {
   "cell_type": "markdown",
   "id": "70308433",
   "metadata": {},
   "source": [
    "### Not equal to"
   ]
  },
  {
   "cell_type": "code",
   "execution_count": 4,
   "id": "bf6788c7",
   "metadata": {},
   "outputs": [
    {
     "data": {
      "text/plain": [
       "True"
      ]
     },
     "execution_count": 4,
     "metadata": {},
     "output_type": "execute_result"
    }
   ],
   "source": [
    "10 != 5"
   ]
  },
  {
   "cell_type": "markdown",
   "id": "f448fc0a",
   "metadata": {},
   "source": [
    "### Greater than"
   ]
  },
  {
   "cell_type": "code",
   "execution_count": 7,
   "id": "f503d593",
   "metadata": {},
   "outputs": [
    {
     "data": {
      "text/plain": [
       "True"
      ]
     },
     "execution_count": 7,
     "metadata": {},
     "output_type": "execute_result"
    }
   ],
   "source": [
    "10 > 5"
   ]
  },
  {
   "cell_type": "markdown",
   "id": "624fc4dd",
   "metadata": {},
   "source": [
    "### Less than"
   ]
  },
  {
   "cell_type": "code",
   "execution_count": null,
   "id": "2f207f2d",
   "metadata": {},
   "outputs": [],
   "source": []
  },
  {
   "cell_type": "code",
   "execution_count": 5,
   "id": "4cc74496",
   "metadata": {},
   "outputs": [
    {
     "data": {
      "text/plain": [
       "True"
      ]
     },
     "execution_count": 5,
     "metadata": {},
     "output_type": "execute_result"
    }
   ],
   "source": [
    "10 > 5"
   ]
  },
  {
   "cell_type": "markdown",
   "id": "34baec31",
   "metadata": {},
   "source": [
    "### Greater than equal to"
   ]
  },
  {
   "cell_type": "code",
   "execution_count": null,
   "id": "60bcff7b",
   "metadata": {},
   "outputs": [],
   "source": [
    "### Greater than\n",
    "\n",
    "10 > 5"
   ]
  },
  {
   "cell_type": "code",
   "execution_count": 8,
   "id": "5ae42a65",
   "metadata": {},
   "outputs": [
    {
     "data": {
      "text/plain": [
       "True"
      ]
     },
     "execution_count": 8,
     "metadata": {},
     "output_type": "execute_result"
    }
   ],
   "source": [
    "10 >= 5"
   ]
  },
  {
   "cell_type": "markdown",
   "id": "90109f1e",
   "metadata": {},
   "source": [
    "#### Less than equal to"
   ]
  },
  {
   "cell_type": "code",
   "execution_count": null,
   "id": "c24fcae7",
   "metadata": {},
   "outputs": [],
   "source": [
    "10 <= 5"
   ]
  },
  {
   "cell_type": "markdown",
   "id": "fa198dbe",
   "metadata": {},
   "source": [
    "### Decision making\n",
    "Now lets get back to  writing a condidtional statements with the 'if' condition\n",
    "To do that we would write it 'if' followed by an expression."
   ]
  },
  {
   "cell_type": "code",
   "execution_count": 11,
   "id": "6e76e66c",
   "metadata": {},
   "outputs": [
    {
     "name": "stdout",
     "output_type": "stream",
     "text": [
      "0654\n"
     ]
    },
    {
     "ename": "TypeError",
     "evalue": "'>' not supported between instances of 'str' and 'int'",
     "output_type": "error",
     "traceback": [
      "\u001b[1;31m---------------------------------------------------------------------------\u001b[0m",
      "\u001b[1;31mTypeError\u001b[0m                                 Traceback (most recent call last)",
      "Cell \u001b[1;32mIn[11], line 3\u001b[0m\n\u001b[0;32m      1\u001b[0m \u001b[38;5;66;03m#Write a program to check value in variable x is less than 99\u001b[39;00m\n\u001b[0;32m      2\u001b[0m x\u001b[38;5;241m=\u001b[39m\u001b[38;5;28minput\u001b[39m(\u001b[38;5;28mint\u001b[39m())\n\u001b[1;32m----> 3\u001b[0m \u001b[38;5;28;01mif\u001b[39;00m \u001b[43mx\u001b[49m\u001b[43m \u001b[49m\u001b[38;5;241;43m>\u001b[39;49m\u001b[43m \u001b[49m\u001b[38;5;241;43m99\u001b[39;49m:\n\u001b[0;32m      4\u001b[0m     \u001b[38;5;28mprint\u001b[39m(\u001b[38;5;124m\"\u001b[39m\u001b[38;5;124mTrue\u001b[39m\u001b[38;5;124m\"\u001b[39m)\n\u001b[0;32m      5\u001b[0m \u001b[38;5;28;01melse\u001b[39;00m:\n",
      "\u001b[1;31mTypeError\u001b[0m: '>' not supported between instances of 'str' and 'int'"
     ]
    }
   ],
   "source": [
    "#Write a program to check value in variable x is less than 99\n",
    "x=input()\n",
    "if x > 99:\n",
    "    print(\"True\")\n",
    "else:\n",
    "    print(\"False\")"
   ]
  },
  {
   "cell_type": "markdown",
   "id": "f2b93960",
   "metadata": {},
   "source": [
    "##### !pip install openai"
   ]
  },
  {
   "cell_type": "code",
   "execution_count": 14,
   "id": "61b49847",
   "metadata": {},
   "outputs": [
    {
     "name": "stdout",
     "output_type": "stream",
     "text": [
      "small\n"
     ]
    }
   ],
   "source": [
    "x = 45\n",
    "if x<99:\n",
    "    print(\"small\")\n",
    "else:\n",
    "    print(\"big\")"
   ]
  },
  {
   "cell_type": "code",
   "execution_count": 15,
   "id": "1d474a5f",
   "metadata": {},
   "outputs": [
    {
     "name": "stdout",
     "output_type": "stream",
     "text": [
      "big\n"
     ]
    }
   ],
   "source": [
    "x = 450\n",
    "if x<99:\n",
    "    print(\"small\")\n",
    "else:\n",
    "    print(\"big\")"
   ]
  },
  {
   "cell_type": "code",
   "execution_count": null,
   "id": "c00df311",
   "metadata": {},
   "outputs": [],
   "source": [
    "#Logical operators We use logical operators in situations where we have multiple conditions\n",
    "\n",
    "### AND\n",
    "### OR\n",
    "### NOR\n",
    "#### XOR\n",
    "\n",
    "#Are some of the common and most widely used logical operations You can learn more about them from this link: pylessons.net\n"
   ]
  },
  {
   "cell_type": "code",
   "execution_count": 1,
   "id": "c95e4431",
   "metadata": {},
   "outputs": [
    {
     "data": {
      "text/plain": [
       "\"#Write a program to record the age of visitor and allows him to an exclusive children's day party hosted by Mr Obama \\nonly if he or she is above 60 years or below 18 years of age.\""
      ]
     },
     "execution_count": 1,
     "metadata": {},
     "output_type": "execute_result"
    }
   ],
   "source": [
    "\"\"\"#Write a program to record the age of visitor and allows him to an exclusive children's day party hosted by Mr Obama \n",
    "only if he or she is above 60 years or below 18 years of age.\"\"\""
   ]
  },
  {
   "cell_type": "code",
   "execution_count": 12,
   "id": "d133fb30",
   "metadata": {},
   "outputs": [
    {
     "name": "stdout",
     "output_type": "stream",
     "text": [
      "Enter your age:35\n",
      "Not allowed\n"
     ]
    }
   ],
   "source": [
    "age = int(input(\"Enter your age:\"))\n",
    "if age<=18 or age>=60:\n",
    "    print(\"You are allowed\")\n",
    "else:\n",
    "    print(\"Not allowed\")"
   ]
  },
  {
   "cell_type": "code",
   "execution_count": 16,
   "id": "81288949",
   "metadata": {},
   "outputs": [
    {
     "name": "stdout",
     "output_type": "stream",
     "text": [
      "300\n",
      "You won a 500 discount on your next purchase\n"
     ]
    }
   ],
   "source": [
    "shopping_total = int(input())\n",
    "\n",
    "if shopping_total >=500:\n",
    "    print(\"You won a 1000 discount on your next purchase\")\n",
    "elif shopping_total >=250:\n",
    "    print(\"You won a 500 discount on your next purchase\")\n",
    "else:\n",
    "    print(\"You won 50 discount on your next purchase\")"
   ]
  },
  {
   "cell_type": "code",
   "execution_count": 57,
   "id": "950c7df4",
   "metadata": {},
   "outputs": [
    {
     "name": "stdout",
     "output_type": "stream",
     "text": [
      "No discount\n"
     ]
    }
   ],
   "source": [
    "x = 5000\n",
    "if (x>1000 and x<1050):\n",
    "    print(\"You won\")\n",
    "else:\n",
    "    print(\"No discount\")"
   ]
  },
  {
   "cell_type": "code",
   "execution_count": 53,
   "id": "b6ff116c",
   "metadata": {},
   "outputs": [
    {
     "name": "stdout",
     "output_type": "stream",
     "text": [
      "Yes\n"
     ]
    }
   ],
   "source": [
    "X = 1005\n",
    "if (X >= 1000 and X <=1100):\n",
    "    print('Yes')\n",
    "else:\n",
    "    print('No')"
   ]
  },
  {
   "cell_type": "code",
   "execution_count": 42,
   "id": "bfcb80a9",
   "metadata": {},
   "outputs": [
    {
     "ename": "SyntaxError",
     "evalue": "'return' outside function (550258095.py, line 3)",
     "output_type": "error",
     "traceback": [
      "\u001b[1;36m  Cell \u001b[1;32mIn[42], line 3\u001b[1;36m\u001b[0m\n\u001b[1;33m    return i\u001b[0m\n\u001b[1;37m    ^\u001b[0m\n\u001b[1;31mSyntaxError\u001b[0m\u001b[1;31m:\u001b[0m 'return' outside function\n"
     ]
    }
   ],
   "source": [
    "for i in range(1000,1101):\n",
    "    print(\"Yes\")\n",
    "    return i"
   ]
  },
  {
   "cell_type": "code",
   "execution_count": 66,
   "id": "83f62f34",
   "metadata": {},
   "outputs": [],
   "source": [
    "world_cups = {2019 : ['England', 'New Zealand'], 2015:[\"Australia\", \"New Zealand\"], 2011 : [\"India\", \"Sri Lanka\"], 2007: [\"Australia\", \"Sri Lanka\"], 2003: [\"Australia\", \"India\"]}"
   ]
  },
  {
   "cell_type": "code",
   "execution_count": 75,
   "id": "dac33bb2",
   "metadata": {},
   "outputs": [
    {
     "data": {
      "text/plain": [
       "{2019: ['England', 'New Zealand'],\n",
       " 2015: ['Australia', 'New Zealand'],\n",
       " 2011: ['India', 'Sri Lanka'],\n",
       " 2007: ['Australia', 'Sri Lanka'],\n",
       " 2003: ['Australia', 'India']}"
      ]
     },
     "execution_count": 75,
     "metadata": {},
     "output_type": "execute_result"
    }
   ],
   "source": [
    "world_cups"
   ]
  },
  {
   "cell_type": "code",
   "execution_count": 76,
   "id": "b84be995",
   "metadata": {},
   "outputs": [
    {
     "data": {
      "text/plain": [
       "dict_keys([2019, 2015, 2011, 2007, 2003])"
      ]
     },
     "execution_count": 76,
     "metadata": {},
     "output_type": "execute_result"
    }
   ],
   "source": [
    "world_cups.keys()"
   ]
  },
  {
   "cell_type": "code",
   "execution_count": 77,
   "id": "b8da425e",
   "metadata": {},
   "outputs": [
    {
     "data": {
      "text/plain": [
       "['Australia', 'India']"
      ]
     },
     "execution_count": 77,
     "metadata": {},
     "output_type": "execute_result"
    }
   ],
   "source": [
    "world_cups[2003]"
   ]
  },
  {
   "cell_type": "code",
   "execution_count": 96,
   "id": "201762d4",
   "metadata": {},
   "outputs": [
    {
     "name": "stdout",
     "output_type": "stream",
     "text": [
      "Enter the year to check New zealand made it to finals in 20th centure: 2025\n"
     ]
    }
   ],
   "source": [
    "year = int(input(\"Enter the year to check New zealand made it to finals in 20th centure: \"))"
   ]
  },
  {
   "cell_type": "code",
   "execution_count": 97,
   "id": "bc444f8f",
   "metadata": {},
   "outputs": [
    {
     "data": {
      "text/plain": [
       "2025"
      ]
     },
     "execution_count": 97,
     "metadata": {},
     "output_type": "execute_result"
    }
   ],
   "source": [
    "year"
   ]
  },
  {
   "cell_type": "code",
   "execution_count": 101,
   "id": "a6266c10",
   "metadata": {},
   "outputs": [
    {
     "name": "stdout",
     "output_type": "stream",
     "text": [
      "you entered future date\n"
     ]
    }
   ],
   "source": [
    "if year in world_cups:\n",
    "    #do some stuff\n",
    "    if \"New Zealand\" in world_cups[year]:\n",
    "        print(\"Yes New zealand made it\")\n",
    "    else:\n",
    "        print(\"New zealand didnt make it\")\n",
    "elif year>2023:\n",
    "    print(\"you entered future date\")\n",
    "else:\n",
    "    print(\"world cup was not played in\", year)"
   ]
  },
  {
   "cell_type": "code",
   "execution_count": 107,
   "id": "c723a70e",
   "metadata": {},
   "outputs": [
    {
     "ename": "IndentationError",
     "evalue": "expected an indented block after 'if' statement on line 3 (1825208694.py, line 4)",
     "output_type": "error",
     "traceback": [
      "\u001b[1;36m  Cell \u001b[1;32mIn[107], line 4\u001b[1;36m\u001b[0m\n\u001b[1;33m    print('YES')\u001b[0m\n\u001b[1;37m    ^\u001b[0m\n\u001b[1;31mIndentationError\u001b[0m\u001b[1;31m:\u001b[0m expected an indented block after 'if' statement on line 3\n"
     ]
    }
   ],
   "source": [
    "X = 12\n",
    "\n",
    "if (X > 10 & X < 15):\n",
    "print('YES')\n",
    "else:\n",
    "print('No')"
   ]
  },
  {
   "cell_type": "code",
   "execution_count": 119,
   "id": "1f9d7266",
   "metadata": {},
   "outputs": [
    {
     "name": "stdout",
     "output_type": "stream",
     "text": [
      "c\n"
     ]
    }
   ],
   "source": [
    "a=10\n",
    "b=16\n",
    "c=20\n",
    "\n",
    "if( a>b and a>c ):\n",
    "    print(\"a\")\n",
    "elif( b>c and b>a):\n",
    "    print(\"b\")\n",
    "else:\n",
    "     print(\"c\")"
   ]
  },
  {
   "cell_type": "code",
   "execution_count": 126,
   "id": "d09588af",
   "metadata": {},
   "outputs": [
    {
     "name": "stdout",
     "output_type": "stream",
     "text": [
      "B\n"
     ]
    }
   ],
   "source": [
    "#Given the code below, the output obtained in several runs is 'C' 'A' 'D' 'B'.\n",
    "\n",
    "score = 88\n",
    "\n",
    "if score >= 90:\n",
    "   print('A')\n",
    "elif score >=80:\n",
    "   print('B')\n",
    "elif score >= 70:\n",
    "   print('C')\n",
    "elif score >= 60:\n",
    "   print('D')\n",
    "else:\n",
    "   print('F')"
   ]
  },
  {
   "cell_type": "code",
   "execution_count": 127,
   "id": "5d4e4dc9",
   "metadata": {},
   "outputs": [
    {
     "name": "stdout",
     "output_type": "stream",
     "text": [
      "B\n"
     ]
    }
   ],
   "source": [
    "if (10 < 0) and (0 < -10):\n",
    "    print(\"A\")\n",
    "elif (10 > 0) or False:\n",
    "    print(\"B\")\n",
    "else:\n",
    "    print(\"C\")"
   ]
  },
  {
   "cell_type": "code",
   "execution_count": 128,
   "id": "972acb6d",
   "metadata": {},
   "outputs": [
    {
     "name": "stdout",
     "output_type": "stream",
     "text": [
      "B\n"
     ]
    }
   ],
   "source": [
    "if True or True:\n",
    "    if False and True or False:\n",
    "        print('A')\n",
    "    elif False and False or True and True:\n",
    "        print('B')\n",
    "    else:\n",
    "        print('C')\n",
    "else:\n",
    "    print('D')"
   ]
  },
  {
   "cell_type": "code",
   "execution_count": 134,
   "id": "1777ae48",
   "metadata": {},
   "outputs": [
    {
     "name": "stdout",
     "output_type": "stream",
     "text": [
      "YES\n"
     ]
    }
   ],
   "source": [
    "input_str = 'alpha'\n",
    "first_char=input_str[0]\n",
    "vowels = ['A','E','I','O','U','a','e','i','o','u']\n",
    "if first_char in vowels:\n",
    "    print('YES')\n",
    "else:\n",
    "    print('NO')"
   ]
  },
  {
   "cell_type": "code",
   "execution_count": null,
   "id": "c8ac9ca5",
   "metadata": {},
   "outputs": [],
   "source": [
    "#A while loop begins with a keyword 'While' followed by an expression\n",
    "\n",
    "#So While this condition is satisfied keep running the loop"
   ]
  },
  {
   "cell_type": "code",
   "execution_count": 1,
   "id": "77884b0d",
   "metadata": {},
   "outputs": [
    {
     "name": "stdout",
     "output_type": "stream",
     "text": [
      "Enter your four digit pin: 6545\n",
      "Invalid Input, please try again: 1324\n",
      "Invalid Input, please try again: 1234\n",
      "Pin validation successful.\n"
     ]
    }
   ],
   "source": [
    "#Let's create a pin checker which we generally have in our phones and ATMs\n",
    "\n",
    "pin = input(\"Enter your four digit pin: \")\n",
    "\n",
    "while pin != '1234':\n",
    "    pin = input('Invalid Input, please try again: ')\n",
    "print('Pin validation successful.')"
   ]
  },
  {
   "cell_type": "code",
   "execution_count": 4,
   "id": "20eed40c",
   "metadata": {},
   "outputs": [
    {
     "name": "stdout",
     "output_type": "stream",
     "text": [
      "Enter your four digit pin:4654\n",
      "Invalid input, please try again:65456\n",
      "Invalid input, please try again:6546\n"
     ]
    },
    {
     "ename": "SystemExit",
     "evalue": "Too many invalid attempts",
     "output_type": "error",
     "traceback": [
      "An exception has occurred, use %tb to see the full traceback.\n",
      "\u001b[1;31mSystemExit\u001b[0m\u001b[1;31m:\u001b[0m Too many invalid attempts\n"
     ]
    },
    {
     "name": "stderr",
     "output_type": "stream",
     "text": [
      "C:\\Users\\Jayam Arun\\AppData\\Local\\anaconda3\\lib\\site-packages\\IPython\\core\\interactiveshell.py:3468: UserWarning: To exit: use 'exit', 'quit', or Ctrl-D.\n",
      "  warn(\"To exit: use 'exit', 'quit', or Ctrl-D.\", stacklevel=1)\n"
     ]
    }
   ],
   "source": [
    "#Now if we want to add a maximum number of tries allowed condition we'll use the 'if' loop\n",
    "import sys #required for exiting the code and displaying an error\n",
    "pin = input(\"Enter your four digit pin:\")\n",
    "\n",
    "attempt_count = 1\n",
    "\n",
    "while pin != '1234':\n",
    "    if attempt_count >=3:\n",
    "        sys.exit(\"Too many invalid attempts\") #error code\n",
    "    pin = input('Invalid input, please try again:')\n",
    "    attempt_count += 1\n",
    "print('Print validation successful')\n"
   ]
  },
  {
   "cell_type": "code",
   "execution_count": 5,
   "id": "e7f0927a",
   "metadata": {},
   "outputs": [
    {
     "name": "stdout",
     "output_type": "stream",
     "text": [
      "1\n",
      "2\n",
      "3\n",
      "4\n",
      "5\n"
     ]
    }
   ],
   "source": [
    "#iterate over list of integers\n",
    "\n",
    "l = [1,2,3,4,5,]\n",
    "for var in l:\n",
    "    print(var)"
   ]
  },
  {
   "cell_type": "code",
   "execution_count": 7,
   "id": "22a540f0",
   "metadata": {},
   "outputs": [
    {
     "name": "stdout",
     "output_type": "stream",
     "text": [
      "N\n",
      "e\n",
      "w\n",
      " \n",
      "Y\n",
      "o\n",
      "r\n",
      "k\n"
     ]
    }
   ],
   "source": [
    "#iterate over a string\n",
    "\n",
    "string = \"New York\"\n",
    "for char in string:\n",
    "    print(char)"
   ]
  },
  {
   "cell_type": "code",
   "execution_count": 8,
   "id": "6e70a38a",
   "metadata": {},
   "outputs": [
    {
     "name": "stdout",
     "output_type": "stream",
     "text": [
      "N:e:w: :Y:o:r:k:"
     ]
    }
   ],
   "source": [
    "#iterate over a string - modify print using end\n",
    "string = \"New York\"\n",
    "for char in string:\n",
    "    print(char, end = \":\") #default value of end = \"\\n\""
   ]
  },
  {
   "cell_type": "code",
   "execution_count": 9,
   "id": "dcd70bbb",
   "metadata": {},
   "outputs": [
    {
     "data": {
      "text/plain": [
       "{1: ['Sam', 24],\n",
       " 2: ['Rob', 24],\n",
       " 3: ['Jack', 26],\n",
       " 4: ['Conor', 24],\n",
       " 5: ['Trump', 27]}"
      ]
     },
     "execution_count": 9,
     "metadata": {},
     "output_type": "execute_result"
    }
   ],
   "source": [
    "#iterating over a dictionary\n",
    "\n",
    "students_data = {1:['Sam', 24], 2:['Rob',24], 3:['Jack', 26], 4:['Conor', 24], 5:['Trump', 27]}\n",
    "students_data"
   ]
  },
  {
   "cell_type": "code",
   "execution_count": 25,
   "id": "39b6bde2",
   "metadata": {},
   "outputs": [
    {
     "data": {
      "text/plain": [
       "24"
      ]
     },
     "execution_count": 25,
     "metadata": {},
     "output_type": "execute_result"
    }
   ],
   "source": [
    "students_data[2][1]"
   ]
  },
  {
   "cell_type": "code",
   "execution_count": 26,
   "id": "349d1fed",
   "metadata": {},
   "outputs": [
    {
     "data": {
      "text/plain": [
       "dict_keys([1, 2, 3, 4, 5])"
      ]
     },
     "execution_count": 26,
     "metadata": {},
     "output_type": "execute_result"
    }
   ],
   "source": [
    "students_data.keys()"
   ]
  },
  {
   "cell_type": "code",
   "execution_count": 27,
   "id": "94f068c8",
   "metadata": {},
   "outputs": [
    {
     "data": {
      "text/plain": [
       "dict_values([['Sam', 24], ['Rob', 24], ['Jack', 26], ['Conor', 24], ['Trump', 27]])"
      ]
     },
     "execution_count": 27,
     "metadata": {},
     "output_type": "execute_result"
    }
   ],
   "source": [
    "students_data.values()"
   ]
  },
  {
   "cell_type": "code",
   "execution_count": 28,
   "id": "f9545784",
   "metadata": {},
   "outputs": [
    {
     "name": "stdout",
     "output_type": "stream",
     "text": [
      "1 ['Sam', 24]\n",
      "2 ['Rob', 24]\n",
      "3 ['Jack', 26]\n",
      "4 ['Conor', 24]\n",
      "5 ['Trump', 27]\n"
     ]
    }
   ],
   "source": [
    "for key, val in students_data.items():\n",
    "    print(key,val)"
   ]
  },
  {
   "cell_type": "code",
   "execution_count": 29,
   "id": "8ca8253b",
   "metadata": {},
   "outputs": [
    {
     "name": "stdout",
     "output_type": "stream",
     "text": [
      "1\n",
      "2\n",
      "3\n",
      "4\n",
      "5\n"
     ]
    }
   ],
   "source": [
    "#iterate over keys of a dictionary\n",
    "\n",
    "for key in students_data.keys():\n",
    "    print(key)"
   ]
  },
  {
   "cell_type": "code",
   "execution_count": 30,
   "id": "83ba0234",
   "metadata": {},
   "outputs": [
    {
     "name": "stdout",
     "output_type": "stream",
     "text": [
      "['Sam', 24]\n",
      "['Rob', 24]\n",
      "['Jack', 26]\n",
      "['Conor', 24]\n",
      "['Trump', 27]\n"
     ]
    }
   ],
   "source": [
    "for values in students_data.values():\n",
    "    print(values)"
   ]
  },
  {
   "cell_type": "code",
   "execution_count": 31,
   "id": "c45e143a",
   "metadata": {},
   "outputs": [],
   "source": [
    "L1 = [10,20,30,24,18]\n",
    "L2 = [8,14,15,20,10]\n",
    "L3 = [0,1,2,3,4]\n",
    "\n",
    "for i in L3:\n",
    "    L3[i] = L1[i] - L2[i]"
   ]
  },
  {
   "cell_type": "code",
   "execution_count": 32,
   "id": "621ab048",
   "metadata": {},
   "outputs": [
    {
     "data": {
      "text/plain": [
       "range(1, 5)"
      ]
     },
     "execution_count": 32,
     "metadata": {},
     "output_type": "execute_result"
    }
   ],
   "source": [
    "#generate range of values.\n",
    "range(1,5)"
   ]
  },
  {
   "cell_type": "code",
   "execution_count": 35,
   "id": "7a80b2fb",
   "metadata": {},
   "outputs": [
    {
     "data": {
      "text/plain": [
       "[1, 2, 3, 4]"
      ]
     },
     "execution_count": 35,
     "metadata": {},
     "output_type": "execute_result"
    }
   ],
   "source": [
    "l = list(range(1,5))\n",
    "l"
   ]
  },
  {
   "cell_type": "code",
   "execution_count": 36,
   "id": "215ddba4",
   "metadata": {},
   "outputs": [
    {
     "name": "stdout",
     "output_type": "stream",
     "text": [
      "1\n",
      "2\n",
      "3\n",
      "4\n"
     ]
    }
   ],
   "source": [
    "for i in l:\n",
    "    print(i)"
   ]
  },
  {
   "cell_type": "code",
   "execution_count": 38,
   "id": "9add25b7",
   "metadata": {},
   "outputs": [
    {
     "name": "stdout",
     "output_type": "stream",
     "text": [
      "1,2,3,4,"
     ]
    }
   ],
   "source": [
    "for i in range(1,5):\n",
    "    print(i, end=\",\")"
   ]
  },
  {
   "cell_type": "code",
   "execution_count": 39,
   "id": "54e6938d",
   "metadata": {},
   "outputs": [
    {
     "name": "stdout",
     "output_type": "stream",
     "text": [
      "[1, 3, 5, 7, 9, 11, 13, 15, 17, 19, 21, 23, 25, 27, 29, 31, 33, 35, 37, 39, 41, 43, 45, 47, 49, 51, 53, 55, 57, 59, 61, 63, 65, 67, 69, 71, 73, 75, 77, 79, 81, 83, 85, 87, 89, 91, 93, 95, 97, 99]\n"
     ]
    }
   ],
   "source": [
    "#different variations in range\n",
    "\n",
    "print(list(range(1, 100, 2))) #gives numbers from 1 to 100 with a step count of 2"
   ]
  },
  {
   "cell_type": "code",
   "execution_count": 91,
   "id": "cd05ab91",
   "metadata": {},
   "outputs": [
    {
     "name": "stdout",
     "output_type": "stream",
     "text": [
      "[]\n"
     ]
    }
   ],
   "source": [
    "print(list(range(0, -101, 2)))"
   ]
  },
  {
   "cell_type": "code",
   "execution_count": 83,
   "id": "ac5d22b8",
   "metadata": {},
   "outputs": [
    {
     "name": "stdout",
     "output_type": "stream",
     "text": [
      "[-100, -98, -96, -94, -92, -90, -88, -86, -84, -82, -80, -78, -76, -74, -72, -70, -68, -66, -64, -62, -60, -58, -56, -54, -52, -50, -48, -46, -44, -42, -40, -38, -36, -34, -32, -30, -28, -26, -24, -22, -20, -18, -16, -14, -12, -10, -8, -6, -4, -2]\n"
     ]
    }
   ],
   "source": [
    "print(list(range(-100,-1,2)))"
   ]
  },
  {
   "cell_type": "code",
   "execution_count": 85,
   "id": "16c61e9f",
   "metadata": {},
   "outputs": [
    {
     "name": "stdout",
     "output_type": "stream",
     "text": [
      "[-100, -98, -96, -94, -92, -90, -88, -86, -84, -82, -80, -78, -76, -74, -72, -70, -68, -66, -64, -62, -60, -58, -56, -54, -52, -50, -48, -46, -44, -42, -40, -38, -36, -34, -32, -30, -28, -26, -24, -22, -20, -18, -16, -14, -12, -10, -8, -6, -4, -2]\n"
     ]
    }
   ],
   "source": [
    "print(sorted(set(range(-2,-101,-2))))"
   ]
  },
  {
   "cell_type": "code",
   "execution_count": 97,
   "id": "3eda8460",
   "metadata": {},
   "outputs": [
    {
     "name": "stdout",
     "output_type": "stream",
     "text": [
      "[-100, -98, -96, -94, -92, -90, -88, -86, -84, -82, -80, -78, -76, -74, -72, -70, -68, -66, -64, -62, -60, -58, -56, -54, -52, -50, -48, -46, -44, -42, -40, -38, -36, -34, -32, -30, -28, -26, -24, -22, -20, -18, -16, -14, -12, -10, -8, -6, -4, -2]\n"
     ]
    }
   ],
   "source": [
    "l = []\n",
    "for i in range(-100, 0):\n",
    "    if(i%2 == 0):\n",
    "        l.append(i)\n",
    "print(l)"
   ]
  },
  {
   "cell_type": "code",
   "execution_count": 51,
   "id": "a6f6c25f",
   "metadata": {},
   "outputs": [
    {
     "data": {
      "text/plain": [
       "[2, 6, 15, 4, 8]"
      ]
     },
     "execution_count": 51,
     "metadata": {},
     "output_type": "execute_result"
    }
   ],
   "source": [
    "L1 = [10,20,30,24,18]\n",
    "L2 = [8,14,15,20,10]\n",
    "L3=[]\n",
    "\n",
    "for i in range(len(L2)):\n",
    "    L3.append(L1[i]-L2[i])\n",
    "L3"
   ]
  },
  {
   "cell_type": "code",
   "execution_count": 80,
   "id": "05fd7893",
   "metadata": {},
   "outputs": [
    {
     "name": "stdout",
     "output_type": "stream",
     "text": [
      "1 is prime\n",
      "2 is prime\n",
      "3 is prime\n",
      "4 is not prime 2\n",
      "5 is prime\n",
      "6 is not prime 2\n",
      "7 is prime\n",
      "8 is not prime 2\n",
      "9 is not prime 3\n",
      "10 is not prime 2\n",
      "11 is prime\n",
      "12 is not prime 2\n",
      "13 is prime\n",
      "14 is not prime 2\n",
      "15 is not prime 3\n",
      "16 is not prime 2\n",
      "17 is prime\n",
      "18 is not prime 2\n",
      "19 is prime\n"
     ]
    }
   ],
   "source": [
    "#Ex print prime numbers between 1 to 20\n",
    "\n",
    "for n in range(2,20): # n =7\n",
    "    flag = True\n",
    "    for i in range(2,n): #i = 2,3,4,5,6\n",
    "        if n%i == 0:\n",
    "            #n is not a prime number, it is better to exit the inner forloop\n",
    "            print(n, \"is not prime\", i)\n",
    "            flag = False\n",
    "            break\n",
    "    #whether to print(i) or not\n",
    "    if flag == True: #n is prime\n",
    "        print(n, \"is prime\")\n",
    "        \n",
    "\n"
   ]
  },
  {
   "cell_type": "code",
   "execution_count": 82,
   "id": "8143efbe",
   "metadata": {},
   "outputs": [
    {
     "name": "stdout",
     "output_type": "stream",
     "text": [
      "2 is prime\n",
      "3 is prime\n",
      "4 is not prime 2\n",
      "5 is prime\n",
      "6 is not prime 2\n",
      "7 is prime\n",
      "8 is not prime 2\n",
      "9 is not prime 3\n",
      "10 is not prime 2\n",
      "11 is prime\n",
      "12 is not prime 2\n",
      "13 is prime\n",
      "14 is not prime 2\n",
      "15 is not prime 3\n",
      "16 is not prime 2\n",
      "17 is prime\n",
      "18 is not prime 2\n",
      "19 is prime\n"
     ]
    }
   ],
   "source": [
    "for n in range(2,20):\n",
    "    flag=True\n",
    "    for i in range(2,n):\n",
    "        if n%i == 0:\n",
    "            print(n, \"is not prime\",i)\n",
    "            flag = False\n",
    "            break\n",
    "    if flag == True:\n",
    "        print(n, \"is prime\")"
   ]
  },
  {
   "cell_type": "code",
   "execution_count": 52,
   "id": "c9171cdc",
   "metadata": {},
   "outputs": [
    {
     "name": "stdout",
     "output_type": "stream",
     "text": [
      "['Varma', 'Raj', 'Gupta', 'Sandeep']\n"
     ]
    }
   ],
   "source": [
    "input_str = ['VARMA', 'raj', 'Gupta', 'SaNdeeP']\n",
    "\n",
    "input_list = [s.title() for s in input_str]\n",
    "\n",
    "print (input_list)\n",
    "    "
   ]
  },
  {
   "cell_type": "code",
   "execution_count": 56,
   "id": "a211b2ca",
   "metadata": {},
   "outputs": [
    {
     "data": {
      "text/plain": [
       "'Sandeep'"
      ]
     },
     "execution_count": 56,
     "metadata": {},
     "output_type": "execute_result"
    }
   ],
   "source": [
    "for i in input_str:\n",
    "    i=i.title()\n",
    "    input_list = i\n",
    "i"
   ]
  },
  {
   "cell_type": "code",
   "execution_count": 71,
   "id": "b5b25a78",
   "metadata": {},
   "outputs": [
    {
     "ename": "SyntaxError",
     "evalue": "invalid syntax (<unknown>, line 0)",
     "output_type": "error",
     "traceback": [
      "Traceback \u001b[1;36m(most recent call last)\u001b[0m:\n",
      "\u001b[0m  File \u001b[0;32m~\\AppData\\Local\\anaconda3\\lib\\site-packages\\IPython\\core\\interactiveshell.py:3460\u001b[0m in \u001b[0;35mrun_code\u001b[0m\n    exec(code_obj, self.user_global_ns, self.user_ns)\u001b[0m\n",
      "\u001b[0m  Cell \u001b[0;32mIn[71], line 5\u001b[0m\n    input_list = ast.literal_eval(input_str)\u001b[0m\n",
      "\u001b[0m  File \u001b[0;32m~\\AppData\\Local\\anaconda3\\lib\\ast.py:64\u001b[0m in \u001b[0;35mliteral_eval\u001b[0m\n    node_or_string = parse(node_or_string.lstrip(\" \\t\"), mode='eval')\u001b[0m\n",
      "\u001b[1;36m  File \u001b[1;32m~\\AppData\\Local\\anaconda3\\lib\\ast.py:50\u001b[1;36m in \u001b[1;35mparse\u001b[1;36m\n\u001b[1;33m    return compile(source, filename, mode, flags,\u001b[1;36m\n",
      "\u001b[1;36m  File \u001b[1;32m<unknown>\u001b[1;36m\u001b[0m\n\u001b[1;33m    \u001b[0m\n\u001b[1;37m    ^\u001b[0m\n\u001b[1;31mSyntaxError\u001b[0m\u001b[1;31m:\u001b[0m invalid syntax\n"
     ]
    }
   ],
   "source": [
    "input_str = ['VARMA', 'raj', 'Gupta', 'SaNdeeP']\n",
    "\n",
    "import ast, sys\n",
    "input_str = sys.stdin.read()\n",
    "input_list = ast.literal_eval(input_str)\n",
    "\n",
    "update_list=[]\n",
    "\n",
    "for i in input_list:\n",
    "    update_list.append(i.capitalize())\n",
    "\n",
    "print(update_list)"
   ]
  },
  {
   "cell_type": "code",
   "execution_count": 98,
   "id": "1b2740b0",
   "metadata": {},
   "outputs": [
    {
     "name": "stdout",
     "output_type": "stream",
     "text": [
      "0\n",
      "1\n",
      "2\n"
     ]
    }
   ],
   "source": [
    "d = {0: 'Fish', 1: 'Bird', 2: 'Mammal'}\n",
    "for i in d:\n",
    "    print(i)"
   ]
  },
  {
   "cell_type": "code",
   "execution_count": null,
   "id": "812536ce",
   "metadata": {},
   "outputs": [],
   "source": []
  }
 ],
 "metadata": {
  "kernelspec": {
   "display_name": "Python 3 (ipykernel)",
   "language": "python",
   "name": "python3"
  },
  "language_info": {
   "codemirror_mode": {
    "name": "ipython",
    "version": 3
   },
   "file_extension": ".py",
   "mimetype": "text/x-python",
   "name": "python",
   "nbconvert_exporter": "python",
   "pygments_lexer": "ipython3",
   "version": "3.10.9"
  }
 },
 "nbformat": 4,
 "nbformat_minor": 5
}
