{
 "cells": [
  {
   "cell_type": "markdown",
   "id": "6f3c03f6",
   "metadata": {},
   "source": [
    "# Control Structures and Functions\n",
    "Control structures are the essence of programming; they help computers do what they do best: automate repetitive tasks intelligently. The most common control structures are if-else statements, for and while loops, and list and dictionary comprehensions. This session will cover all these concepts."
   ]
  },
  {
   "cell_type": "code",
   "execution_count": 1,
   "id": "5950b7b0",
   "metadata": {},
   "outputs": [
    {
     "data": {
      "text/plain": [
       "True"
      ]
     },
     "execution_count": 1,
     "metadata": {},
     "output_type": "execute_result"
    }
   ],
   "source": [
    "10 == 10"
   ]
  },
  {
   "cell_type": "code",
   "execution_count": 2,
   "id": "a595797b",
   "metadata": {},
   "outputs": [],
   "source": [
    "a = 5"
   ]
  },
  {
   "cell_type": "markdown",
   "id": "0bb62677",
   "metadata": {},
   "source": [
    "### Equal to\n",
    "\n",
    "a == 5"
   ]
  },
  {
   "cell_type": "code",
   "execution_count": 3,
   "id": "fca186d3",
   "metadata": {},
   "outputs": [
    {
     "data": {
      "text/plain": [
       "True"
      ]
     },
     "execution_count": 3,
     "metadata": {},
     "output_type": "execute_result"
    }
   ],
   "source": [
    "a == 5"
   ]
  },
  {
   "cell_type": "markdown",
   "id": "70308433",
   "metadata": {},
   "source": [
    "### Not equal to"
   ]
  },
  {
   "cell_type": "code",
   "execution_count": 4,
   "id": "bf6788c7",
   "metadata": {},
   "outputs": [
    {
     "data": {
      "text/plain": [
       "True"
      ]
     },
     "execution_count": 4,
     "metadata": {},
     "output_type": "execute_result"
    }
   ],
   "source": [
    "10 != 5"
   ]
  },
  {
   "cell_type": "markdown",
   "id": "f448fc0a",
   "metadata": {},
   "source": [
    "### Greater than"
   ]
  },
  {
   "cell_type": "code",
   "execution_count": 7,
   "id": "f503d593",
   "metadata": {},
   "outputs": [
    {
     "data": {
      "text/plain": [
       "True"
      ]
     },
     "execution_count": 7,
     "metadata": {},
     "output_type": "execute_result"
    }
   ],
   "source": [
    "10 > 5"
   ]
  },
  {
   "cell_type": "markdown",
   "id": "624fc4dd",
   "metadata": {},
   "source": [
    "### Less than"
   ]
  },
  {
   "cell_type": "code",
   "execution_count": null,
   "id": "2f207f2d",
   "metadata": {},
   "outputs": [],
   "source": []
  },
  {
   "cell_type": "code",
   "execution_count": 5,
   "id": "4cc74496",
   "metadata": {},
   "outputs": [
    {
     "data": {
      "text/plain": [
       "True"
      ]
     },
     "execution_count": 5,
     "metadata": {},
     "output_type": "execute_result"
    }
   ],
   "source": [
    "10 > 5"
   ]
  },
  {
   "cell_type": "markdown",
   "id": "34baec31",
   "metadata": {},
   "source": [
    "### Greater than equal to"
   ]
  },
  {
   "cell_type": "code",
   "execution_count": null,
   "id": "60bcff7b",
   "metadata": {},
   "outputs": [],
   "source": [
    "### Greater than\n",
    "\n",
    "10 > 5"
   ]
  },
  {
   "cell_type": "code",
   "execution_count": 8,
   "id": "5ae42a65",
   "metadata": {},
   "outputs": [
    {
     "data": {
      "text/plain": [
       "True"
      ]
     },
     "execution_count": 8,
     "metadata": {},
     "output_type": "execute_result"
    }
   ],
   "source": [
    "10 >= 5"
   ]
  },
  {
   "cell_type": "markdown",
   "id": "90109f1e",
   "metadata": {},
   "source": [
    "#### Less than equal to"
   ]
  },
  {
   "cell_type": "code",
   "execution_count": null,
   "id": "c24fcae7",
   "metadata": {},
   "outputs": [],
   "source": [
    "10 <= 5"
   ]
  },
  {
   "cell_type": "markdown",
   "id": "fa198dbe",
   "metadata": {},
   "source": [
    "### Decision making\n",
    "Now lets get back to  writing a condidtional statements with the 'if' condition\n",
    "To do that we would write it 'if' followed by an expression."
   ]
  },
  {
   "cell_type": "code",
   "execution_count": 11,
   "id": "6e76e66c",
   "metadata": {},
   "outputs": [
    {
     "name": "stdout",
     "output_type": "stream",
     "text": [
      "0654\n"
     ]
    },
    {
     "ename": "TypeError",
     "evalue": "'>' not supported between instances of 'str' and 'int'",
     "output_type": "error",
     "traceback": [
      "\u001b[1;31m---------------------------------------------------------------------------\u001b[0m",
      "\u001b[1;31mTypeError\u001b[0m                                 Traceback (most recent call last)",
      "Cell \u001b[1;32mIn[11], line 3\u001b[0m\n\u001b[0;32m      1\u001b[0m \u001b[38;5;66;03m#Write a program to check value in variable x is less than 99\u001b[39;00m\n\u001b[0;32m      2\u001b[0m x\u001b[38;5;241m=\u001b[39m\u001b[38;5;28minput\u001b[39m(\u001b[38;5;28mint\u001b[39m())\n\u001b[1;32m----> 3\u001b[0m \u001b[38;5;28;01mif\u001b[39;00m \u001b[43mx\u001b[49m\u001b[43m \u001b[49m\u001b[38;5;241;43m>\u001b[39;49m\u001b[43m \u001b[49m\u001b[38;5;241;43m99\u001b[39;49m:\n\u001b[0;32m      4\u001b[0m     \u001b[38;5;28mprint\u001b[39m(\u001b[38;5;124m\"\u001b[39m\u001b[38;5;124mTrue\u001b[39m\u001b[38;5;124m\"\u001b[39m)\n\u001b[0;32m      5\u001b[0m \u001b[38;5;28;01melse\u001b[39;00m:\n",
      "\u001b[1;31mTypeError\u001b[0m: '>' not supported between instances of 'str' and 'int'"
     ]
    }
   ],
   "source": [
    "#Write a program to check value in variable x is less than 99\n",
    "x=input()\n",
    "if x > 99:\n",
    "    print(\"True\")\n",
    "else:\n",
    "    print(\"False\")"
   ]
  },
  {
   "cell_type": "markdown",
   "id": "f2b93960",
   "metadata": {},
   "source": [
    "##### !pip install openai"
   ]
  },
  {
   "cell_type": "code",
   "execution_count": 14,
   "id": "61b49847",
   "metadata": {},
   "outputs": [
    {
     "name": "stdout",
     "output_type": "stream",
     "text": [
      "small\n"
     ]
    }
   ],
   "source": [
    "x = 45\n",
    "if x<99:\n",
    "    print(\"small\")\n",
    "else:\n",
    "    print(\"big\")"
   ]
  },
  {
   "cell_type": "code",
   "execution_count": 15,
   "id": "1d474a5f",
   "metadata": {},
   "outputs": [
    {
     "name": "stdout",
     "output_type": "stream",
     "text": [
      "big\n"
     ]
    }
   ],
   "source": [
    "x = 450\n",
    "if x<99:\n",
    "    print(\"small\")\n",
    "else:\n",
    "    print(\"big\")"
   ]
  },
  {
   "cell_type": "code",
   "execution_count": null,
   "id": "c00df311",
   "metadata": {},
   "outputs": [],
   "source": [
    "#Logical operators We use logical operators in situations where we have multiple conditions\n",
    "\n",
    "### AND\n",
    "### OR\n",
    "### NOR\n",
    "#### XOR\n",
    "\n",
    "#Are some of the common and most widely used logical operations You can learn more about them from this link: pylessons.net\n"
   ]
  },
  {
   "cell_type": "code",
   "execution_count": 1,
   "id": "c95e4431",
   "metadata": {},
   "outputs": [
    {
     "data": {
      "text/plain": [
       "\"#Write a program to record the age of visitor and allows him to an exclusive children's day party hosted by Mr Obama \\nonly if he or she is above 60 years or below 18 years of age.\""
      ]
     },
     "execution_count": 1,
     "metadata": {},
     "output_type": "execute_result"
    }
   ],
   "source": [
    "\"\"\"#Write a program to record the age of visitor and allows him to an exclusive children's day party hosted by Mr Obama \n",
    "only if he or she is above 60 years or below 18 years of age.\"\"\""
   ]
  },
  {
   "cell_type": "code",
   "execution_count": 12,
   "id": "d133fb30",
   "metadata": {},
   "outputs": [
    {
     "name": "stdout",
     "output_type": "stream",
     "text": [
      "Enter your age:35\n",
      "Not allowed\n"
     ]
    }
   ],
   "source": [
    "age = int(input(\"Enter your age:\"))\n",
    "if age<=18 or age>=60:\n",
    "    print(\"You are allowed\")\n",
    "else:\n",
    "    print(\"Not allowed\")"
   ]
  },
  {
   "cell_type": "code",
   "execution_count": 16,
   "id": "81288949",
   "metadata": {},
   "outputs": [
    {
     "name": "stdout",
     "output_type": "stream",
     "text": [
      "300\n",
      "You won a 500 discount on your next purchase\n"
     ]
    }
   ],
   "source": [
    "shopping_total = int(input())\n",
    "\n",
    "if shopping_total >=500:\n",
    "    print(\"You won a 1000 discount on your next purchase\")\n",
    "elif shopping_total >=250:\n",
    "    print(\"You won a 500 discount on your next purchase\")\n",
    "else:\n",
    "    print(\"You won 50 discount on your next purchase\")"
   ]
  },
  {
   "cell_type": "code",
   "execution_count": 57,
   "id": "950c7df4",
   "metadata": {},
   "outputs": [
    {
     "name": "stdout",
     "output_type": "stream",
     "text": [
      "No discount\n"
     ]
    }
   ],
   "source": [
    "x = 5000\n",
    "if (x>1000 and x<1050):\n",
    "    print(\"You won\")\n",
    "else:\n",
    "    print(\"No discount\")"
   ]
  },
  {
   "cell_type": "code",
   "execution_count": 53,
   "id": "b6ff116c",
   "metadata": {},
   "outputs": [
    {
     "name": "stdout",
     "output_type": "stream",
     "text": [
      "Yes\n"
     ]
    }
   ],
   "source": [
    "X = 1005\n",
    "if (X >= 1000 and X <=1100):\n",
    "    print('Yes')\n",
    "else:\n",
    "    print('No')"
   ]
  },
  {
   "cell_type": "code",
   "execution_count": 42,
   "id": "bfcb80a9",
   "metadata": {},
   "outputs": [
    {
     "ename": "SyntaxError",
     "evalue": "'return' outside function (550258095.py, line 3)",
     "output_type": "error",
     "traceback": [
      "\u001b[1;36m  Cell \u001b[1;32mIn[42], line 3\u001b[1;36m\u001b[0m\n\u001b[1;33m    return i\u001b[0m\n\u001b[1;37m    ^\u001b[0m\n\u001b[1;31mSyntaxError\u001b[0m\u001b[1;31m:\u001b[0m 'return' outside function\n"
     ]
    }
   ],
   "source": [
    "for i in range(1000,1101):\n",
    "    print(\"Yes\")\n",
    "    return i"
   ]
  },
  {
   "cell_type": "code",
   "execution_count": 66,
   "id": "83f62f34",
   "metadata": {},
   "outputs": [],
   "source": [
    "world_cups = {2019 : ['England', 'New Zealand'], 2015:[\"Australia\", \"New Zealand\"], 2011 : [\"India\", \"Sri Lanka\"], 2007: [\"Australia\", \"Sri Lanka\"], 2003: [\"Australia\", \"India\"]}"
   ]
  },
  {
   "cell_type": "code",
   "execution_count": 75,
   "id": "dac33bb2",
   "metadata": {},
   "outputs": [
    {
     "data": {
      "text/plain": [
       "{2019: ['England', 'New Zealand'],\n",
       " 2015: ['Australia', 'New Zealand'],\n",
       " 2011: ['India', 'Sri Lanka'],\n",
       " 2007: ['Australia', 'Sri Lanka'],\n",
       " 2003: ['Australia', 'India']}"
      ]
     },
     "execution_count": 75,
     "metadata": {},
     "output_type": "execute_result"
    }
   ],
   "source": [
    "world_cups"
   ]
  },
  {
   "cell_type": "code",
   "execution_count": 76,
   "id": "b84be995",
   "metadata": {},
   "outputs": [
    {
     "data": {
      "text/plain": [
       "dict_keys([2019, 2015, 2011, 2007, 2003])"
      ]
     },
     "execution_count": 76,
     "metadata": {},
     "output_type": "execute_result"
    }
   ],
   "source": [
    "world_cups.keys()"
   ]
  },
  {
   "cell_type": "code",
   "execution_count": 77,
   "id": "b8da425e",
   "metadata": {},
   "outputs": [
    {
     "data": {
      "text/plain": [
       "['Australia', 'India']"
      ]
     },
     "execution_count": 77,
     "metadata": {},
     "output_type": "execute_result"
    }
   ],
   "source": [
    "world_cups[2003]"
   ]
  },
  {
   "cell_type": "code",
   "execution_count": 96,
   "id": "201762d4",
   "metadata": {},
   "outputs": [
    {
     "name": "stdout",
     "output_type": "stream",
     "text": [
      "Enter the year to check New zealand made it to finals in 20th centure: 2025\n"
     ]
    }
   ],
   "source": [
    "year = int(input(\"Enter the year to check New zealand made it to finals in 20th centure: \"))"
   ]
  },
  {
   "cell_type": "code",
   "execution_count": 97,
   "id": "bc444f8f",
   "metadata": {},
   "outputs": [
    {
     "data": {
      "text/plain": [
       "2025"
      ]
     },
     "execution_count": 97,
     "metadata": {},
     "output_type": "execute_result"
    }
   ],
   "source": [
    "year"
   ]
  },
  {
   "cell_type": "code",
   "execution_count": 101,
   "id": "a6266c10",
   "metadata": {},
   "outputs": [
    {
     "name": "stdout",
     "output_type": "stream",
     "text": [
      "you entered future date\n"
     ]
    }
   ],
   "source": [
    "if year in world_cups:\n",
    "    #do some stuff\n",
    "    if \"New Zealand\" in world_cups[year]:\n",
    "        print(\"Yes New zealand made it\")\n",
    "    else:\n",
    "        print(\"New zealand didnt make it\")\n",
    "elif year>2023:\n",
    "    print(\"you entered future date\")\n",
    "else:\n",
    "    print(\"world cup was not played in\", year)"
   ]
  },
  {
   "cell_type": "code",
   "execution_count": 107,
   "id": "c723a70e",
   "metadata": {},
   "outputs": [
    {
     "ename": "IndentationError",
     "evalue": "expected an indented block after 'if' statement on line 3 (1825208694.py, line 4)",
     "output_type": "error",
     "traceback": [
      "\u001b[1;36m  Cell \u001b[1;32mIn[107], line 4\u001b[1;36m\u001b[0m\n\u001b[1;33m    print('YES')\u001b[0m\n\u001b[1;37m    ^\u001b[0m\n\u001b[1;31mIndentationError\u001b[0m\u001b[1;31m:\u001b[0m expected an indented block after 'if' statement on line 3\n"
     ]
    }
   ],
   "source": [
    "X = 12\n",
    "\n",
    "if (X > 10 & X < 15):\n",
    "print('YES')\n",
    "else:\n",
    "print('No')"
   ]
  },
  {
   "cell_type": "code",
   "execution_count": 119,
   "id": "1f9d7266",
   "metadata": {},
   "outputs": [
    {
     "name": "stdout",
     "output_type": "stream",
     "text": [
      "c\n"
     ]
    }
   ],
   "source": [
    "a=10\n",
    "b=16\n",
    "c=20\n",
    "\n",
    "if( a>b and a>c ):\n",
    "    print(\"a\")\n",
    "elif( b>c and b>a):\n",
    "    print(\"b\")\n",
    "else:\n",
    "     print(\"c\")"
   ]
  },
  {
   "cell_type": "code",
   "execution_count": 126,
   "id": "d09588af",
   "metadata": {},
   "outputs": [
    {
     "name": "stdout",
     "output_type": "stream",
     "text": [
      "B\n"
     ]
    }
   ],
   "source": [
    "#Given the code below, the output obtained in several runs is 'C' 'A' 'D' 'B'.\n",
    "\n",
    "score = 88\n",
    "\n",
    "if score >= 90:\n",
    "   print('A')\n",
    "elif score >=80:\n",
    "   print('B')\n",
    "elif score >= 70:\n",
    "   print('C')\n",
    "elif score >= 60:\n",
    "   print('D')\n",
    "else:\n",
    "   print('F')"
   ]
  },
  {
   "cell_type": "code",
   "execution_count": 127,
   "id": "5d4e4dc9",
   "metadata": {},
   "outputs": [
    {
     "name": "stdout",
     "output_type": "stream",
     "text": [
      "B\n"
     ]
    }
   ],
   "source": [
    "if (10 < 0) and (0 < -10):\n",
    "    print(\"A\")\n",
    "elif (10 > 0) or False:\n",
    "    print(\"B\")\n",
    "else:\n",
    "    print(\"C\")"
   ]
  },
  {
   "cell_type": "code",
   "execution_count": 128,
   "id": "972acb6d",
   "metadata": {},
   "outputs": [
    {
     "name": "stdout",
     "output_type": "stream",
     "text": [
      "B\n"
     ]
    }
   ],
   "source": [
    "if True or True:\n",
    "    if False and True or False:\n",
    "        print('A')\n",
    "    elif False and False or True and True:\n",
    "        print('B')\n",
    "    else:\n",
    "        print('C')\n",
    "else:\n",
    "    print('D')"
   ]
  },
  {
   "cell_type": "code",
   "execution_count": 134,
   "id": "1777ae48",
   "metadata": {},
   "outputs": [
    {
     "name": "stdout",
     "output_type": "stream",
     "text": [
      "YES\n"
     ]
    }
   ],
   "source": [
    "input_str = 'alpha'\n",
    "first_char=input_str[0]\n",
    "vowels = ['A','E','I','O','U','a','e','i','o','u']\n",
    "if first_char in vowels:\n",
    "    print('YES')\n",
    "else:\n",
    "    print('NO')"
   ]
  },
  {
   "cell_type": "code",
   "execution_count": null,
   "id": "c8ac9ca5",
   "metadata": {},
   "outputs": [],
   "source": []
  }
 ],
 "metadata": {
  "kernelspec": {
   "display_name": "Python 3 (ipykernel)",
   "language": "python",
   "name": "python3"
  },
  "language_info": {
   "codemirror_mode": {
    "name": "ipython",
    "version": 3
   },
   "file_extension": ".py",
   "mimetype": "text/x-python",
   "name": "python",
   "nbconvert_exporter": "python",
   "pygments_lexer": "ipython3",
   "version": "3.10.9"
  }
 },
 "nbformat": 4,
 "nbformat_minor": 5
}
