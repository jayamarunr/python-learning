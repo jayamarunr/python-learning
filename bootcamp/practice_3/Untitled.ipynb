{
 "cells": [
  {
   "cell_type": "code",
   "execution_count": 1,
   "id": "450350ec",
   "metadata": {},
   "outputs": [
    {
     "data": {
      "text/plain": [
       "['poojaapoojaa', 'tarinitarinitarini', 'ankitaankitaankita']"
      ]
     },
     "execution_count": 1,
     "metadata": {},
     "output_type": "execute_result"
    }
   ],
   "source": [
    "l= [('poojaa',2),('tarini',3),('ankita',3)]\n",
    "\n",
    "l2 = list(map(lambda x: x[0]*int(x[1]), l))\n",
    "l2"
   ]
  },
  {
   "cell_type": "code",
   "execution_count": 8,
   "id": "4891ffb7",
   "metadata": {},
   "outputs": [
    {
     "name": "stdout",
     "output_type": "stream",
     "text": [
      "{1, 2, 3, 4, 7, 9}\n"
     ]
    }
   ],
   "source": [
    "#Write a function that takes a list of sets and returns a new set containing only the elements \n",
    "#that are in exactly one of the sets.\n",
    "\n",
    "from functools import reduce\n",
    "l12 = [{1,2,3},{4,5,6},{6,7,8},{5,8,9}] \n",
    "l13 = set(reduce(lambda x,y:x.union(y)-x.intersection(y), l12)) \n",
    "print(l13)"
   ]
  },
  {
   "cell_type": "code",
   "execution_count": 9,
   "id": "74b419e8",
   "metadata": {},
   "outputs": [
    {
     "name": "stdout",
     "output_type": "stream",
     "text": [
      "['listen', 'silent', 'enlist', 'tinsel']\n"
     ]
    }
   ],
   "source": [
    "def find_anagrams(word, word_list):\n",
    "    anagrams = filter(lambda x: sorted(x.lower()) == sorted(word.lower()), word_list)\n",
    "    return list(anagrams)\n",
    "\n",
    "words = ['listen', 'silent', 'hello', 'potato', 'enlist', 'tinsel']\n",
    "anagrams = find_anagrams('silent', words)\n",
    "print(anagrams)\n",
    "\n",
    "\n",
    "def find_anagrams(word, word_list)\n"
   ]
  },
  {
   "cell_type": "code",
   "execution_count": 10,
   "id": "0ba34716",
   "metadata": {},
   "outputs": [
    {
     "name": "stdout",
     "output_type": "stream",
     "text": [
      "Find word you want to check anagram for: tea\n",
      "['ate', 'tea', 'eat']\n"
     ]
    }
   ],
   "source": [
    "l1=['ate','tea','eat','tear','rate','are'] \n",
    "word = input('Find word you want to check anagram for: ') \n",
    "l2=list(filter(lambda x:sorted(x.lower())==sorted(word.lower()),l1)) \n",
    "print (l2)"
   ]
  },
  {
   "cell_type": "code",
   "execution_count": 11,
   "id": "c939f9c8",
   "metadata": {},
   "outputs": [
    {
     "name": "stdout",
     "output_type": "stream",
     "text": [
      "Find anagram for: tea\n"
     ]
    }
   ],
   "source": [
    "l1=['ate','tea','eat','tear','rate','are'] \n",
    "word = input(\"Find anagram for: \")\n",
    "anagrams = list(filter(lambda x: sorted(x.lower()) == sorted(word.lower()), l1))\n"
   ]
  },
  {
   "cell_type": "code",
   "execution_count": 12,
   "id": "bc0f6eb1",
   "metadata": {},
   "outputs": [
    {
     "data": {
      "text/plain": [
       "184"
      ]
     },
     "execution_count": 12,
     "metadata": {},
     "output_type": "execute_result"
    }
   ],
   "source": [
    "from functools import reduce\n",
    "\n",
    "sentence = \"Given a sentence, write a program that uses the reduce function and a lambda function to calculate the total number of words, average word length, and the longest word in the sentence.\"\n",
    "max = len(sentence)\n",
    "max"
   ]
  },
  {
   "cell_type": "code",
   "execution_count": null,
   "id": "1c3d3f44",
   "metadata": {},
   "outputs": [],
   "source": [
    "from functools import reduce\n"
   ]
  }
 ],
 "metadata": {
  "kernelspec": {
   "display_name": "Python 3 (ipykernel)",
   "language": "python",
   "name": "python3"
  },
  "language_info": {
   "codemirror_mode": {
    "name": "ipython",
    "version": 3
   },
   "file_extension": ".py",
   "mimetype": "text/x-python",
   "name": "python",
   "nbconvert_exporter": "python",
   "pygments_lexer": "ipython3",
   "version": "3.10.9"
  }
 },
 "nbformat": 4,
 "nbformat_minor": 5
}
