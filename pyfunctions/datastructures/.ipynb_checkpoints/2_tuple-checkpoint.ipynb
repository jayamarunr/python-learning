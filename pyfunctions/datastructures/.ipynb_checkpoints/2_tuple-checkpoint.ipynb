{
 "cells": [
  {
   "cell_type": "code",
   "execution_count": null,
   "id": "8870dbc9",
   "metadata": {},
   "outputs": [],
   "source": [
    "#Exercise 1:\n",
    "#Create a tuple named \"numbers\" with the numbers 1 to 5 in it. Then, print the first and last element of the tuple.\n",
    "\n",
    "numbers=(1,2,3,4,5)\n",
    "print(numbers[0])\n",
    "print(numbers[])"
   ]
  }
 ],
 "metadata": {
  "kernelspec": {
   "display_name": "Python 3 (ipykernel)",
   "language": "python",
   "name": "python3"
  },
  "language_info": {
   "codemirror_mode": {
    "name": "ipython",
    "version": 3
   },
   "file_extension": ".py",
   "mimetype": "text/x-python",
   "name": "python",
   "nbconvert_exporter": "python",
   "pygments_lexer": "ipython3",
   "version": "3.10.9"
  }
 },
 "nbformat": 4,
 "nbformat_minor": 5
}
