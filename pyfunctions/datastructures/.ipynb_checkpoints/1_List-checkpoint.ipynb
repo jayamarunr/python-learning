{
 "cells": [
  {
   "cell_type": "code",
   "execution_count": 3,
   "id": "d76a5d1c",
   "metadata": {},
   "outputs": [
    {
     "name": "stdout",
     "output_type": "stream",
     "text": [
      "150\n"
     ]
    }
   ],
   "source": [
    "#Sum all items in a list\n",
    "list_1= [10, 20, 30, 40, 50] #assigned list to a variable\n",
    "list_sum=sum(list_1) #use sum function to add the list and pass it to the variable list_sum\n",
    "print(list_sum) #print the sum result from assigned variable"
   ]
  },
  {
   "cell_type": "code",
   "execution_count": 4,
   "id": "15026a56",
   "metadata": {},
   "outputs": [
    {
     "name": "stdout",
     "output_type": "stream",
     "text": [
      "50\n"
     ]
    }
   ],
   "source": [
    "# Find the largest number in a list\n",
    "list_max=[10, 20, 30, 40, 50] #assigned list to a variable\n",
    "max_total = max(list_max) #use max function to find the max in the list\n",
    "print(max_total) #print result from the assigned variable"
   ]
  },
  {
   "cell_type": "code",
   "execution_count": 6,
   "id": "d6b800b6",
   "metadata": {},
   "outputs": [
    {
     "name": "stdout",
     "output_type": "stream",
     "text": [
      "40\n"
     ]
    }
   ],
   "source": [
    "#Find the second largest number in a list\n",
    "list_max.sort() #sort the existing variable\n",
    "second_largest = list_max[-2] #print -2 indice from the sorted list\n",
    "print(second_largest) #print the second largest number"
   ]
  },
  {
   "cell_type": "code",
   "execution_count": 7,
   "id": "51cbe243",
   "metadata": {},
   "outputs": [
    {
     "name": "stdout",
     "output_type": "stream",
     "text": [
      "[1, 2, 3, 4, 5]\n"
     ]
    }
   ],
   "source": [
    "#Remove duplicates from a list\n",
    "list_2=[1, 2, 3, 3, 4, 4, 5] #assign list to a variable\n",
    "new_list_2=list(set(list_2)) #use set function to remove duplicates\n",
    "print(new_list_2) #print the new variable for result"
   ]
  },
  {
   "cell_type": "code",
   "execution_count": 10,
   "id": "b23eec00",
   "metadata": {},
   "outputs": [
    {
     "name": "stdout",
     "output_type": "stream",
     "text": [
      "[4, 5]\n"
     ]
    }
   ],
   "source": [
    "#Find the intersection of two lists\n",
    "lst1 = [1, 2, 3, 4, 5]\n",
    "lst2 = [4, 5, 6, 7, 8]\n",
    "\n",
    "intersection = list(set(lst1)& set(lst2)) #use set & function to find the common elements in two lists i.e intersections\n",
    "print(intersection)\n"
   ]
  }
 ],
 "metadata": {
  "kernelspec": {
   "display_name": "Python 3 (ipykernel)",
   "language": "python",
   "name": "python3"
  },
  "language_info": {
   "codemirror_mode": {
    "name": "ipython",
    "version": 3
   },
   "file_extension": ".py",
   "mimetype": "text/x-python",
   "name": "python",
   "nbconvert_exporter": "python",
   "pygments_lexer": "ipython3",
   "version": "3.10.9"
  }
 },
 "nbformat": 4,
 "nbformat_minor": 5
}
