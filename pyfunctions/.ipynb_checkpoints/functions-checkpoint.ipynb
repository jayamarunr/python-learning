{
 "cells": [
  {
   "cell_type": "markdown",
   "id": "13166af2",
   "metadata": {},
   "source": [
    "https://pynative.com/python-functions-exercise-with-solutions/\n",
    "#Write a program to create a function that takes two arguments, name and age, and print their value.\n",
    "https://pynative.com/python-basic-exercise-for-beginners/"
   ]
  },
  {
   "cell_type": "markdown",
   "id": "827a6fb0",
   "metadata": {},
   "source": [
    "https://pythonlobby.com/python-loop-exercises-with-solution-for-loop-while-loop/\n",
    "https://www.w3resource.com/python-exercises/lambda/index.php"
   ]
  },
  {
   "cell_type": "markdown",
   "id": "e44a19d4",
   "metadata": {},
   "source": [
    "https://holypython.com/beginner-python-exercises/exercise-1-print/\n",
    "https://www.practicepython.org/exercises/\n",
    "https://www.geeksforgeeks.org/python-program-to-interchange-first-and-last-elements-in-a-list/"
   ]
  },
  {
   "cell_type": "code",
   "execution_count": 4,
   "id": "f56865f0",
   "metadata": {},
   "outputs": [
    {
     "name": "stdout",
     "output_type": "stream",
     "text": [
      "Ben 44\n",
      "<function demo at 0x000002476E6F57E0>\n"
     ]
    }
   ],
   "source": [
    "def demo(user_name, age):\n",
    "    print(user_name, age)\n",
    "    \n",
    "    \n",
    "demo(\"Ben\", 44)\n",
    "print(demo)\n",
    "    "
   ]
  },
  {
   "cell_type": "code",
   "execution_count": 5,
   "id": "aaae218f",
   "metadata": {},
   "outputs": [
    {
     "name": "stdout",
     "output_type": "stream",
     "text": [
      "20\n",
      "40\n",
      "60\n",
      "80\n",
      "100\n",
      "<function func1 at 0x000002476CD91510>\n"
     ]
    }
   ],
   "source": [
    "def func1(*args):\n",
    "    for i in args:\n",
    "        print(i)\n",
    "func1(20, 40, 60)\n",
    "func1(80,100)\n",
    "print(func1)"
   ]
  },
  {
   "cell_type": "markdown",
   "id": "57dae4d0",
   "metadata": {},
   "source": [
    "Write a program to create function calculation() such that it can accept two variables and calculate addition and subtraction. Also, it must return both addition and subtraction in a single return call."
   ]
  },
  {
   "cell_type": "code",
   "execution_count": 7,
   "id": "50c5aabd",
   "metadata": {},
   "outputs": [
    {
     "name": "stdout",
     "output_type": "stream",
     "text": [
      "(50, 40)\n"
     ]
    }
   ],
   "source": [
    "def calculation(add_1, sub_1):\n",
    "    add_1=add_1+sub_1\n",
    "    sub_1=add_1-sub_1\n",
    "    return add_1, sub_1\n",
    "res = calculation(40,10)\n",
    "print(res)"
   ]
  },
  {
   "cell_type": "code",
   "execution_count": 8,
   "id": "0e4737cc",
   "metadata": {},
   "outputs": [
    {
     "name": "stdout",
     "output_type": "stream",
     "text": [
      "50 30\n"
     ]
    }
   ],
   "source": [
    "def calculation(a,b):\n",
    "    return a+b, a-b\n",
    "\n",
    "add, sub = calculation(40,10)\n",
    "print(add, sub)"
   ]
  },
  {
   "cell_type": "code",
   "execution_count": 9,
   "id": "25ef2b4d",
   "metadata": {},
   "outputs": [
    {
     "name": "stdout",
     "output_type": "stream",
     "text": [
      "Name:  ben Salary:  154000\n",
      "<function show_employee at 0x000002476E6F6B90>\n",
      "Name:  jessa Salary:  9000\n",
      "<function show_employee at 0x000002476E6F6B90>\n"
     ]
    }
   ],
   "source": [
    "def show_employee(name, salary=9000):\n",
    "    print(\"Name: \", name, \"Salary: \", salary)\n",
    "    \n",
    "show_employee(\"ben\", 154000)\n",
    "print(show_employee)\n",
    "show_employee(\"jessa\")\n",
    "print(show_employee)"
   ]
  },
  {
   "cell_type": "code",
   "execution_count": 10,
   "id": "aa6eb684",
   "metadata": {},
   "outputs": [
    {
     "name": "stdout",
     "output_type": "stream",
     "text": [
      "12\n"
     ]
    }
   ],
   "source": [
    "#outer function\n",
    "def outer_fun(a,b):\n",
    "    square = a**2\n",
    "    #inner function\n",
    "    def addition(a,b):\n",
    "        return a+b\n",
    "    #call inner function from outerfunction\n",
    "    add = addition(a,b)\n",
    "    #add 5 to the result\n",
    "    return add + 5\n",
    "\n",
    "result = outer_fun(5,2)\n",
    "print(result)\n",
    "    \n",
    "    "
   ]
  },
  {
   "cell_type": "code",
   "execution_count": 12,
   "id": "351700dd",
   "metadata": {},
   "outputs": [
    {
     "name": "stdout",
     "output_type": "stream",
     "text": [
      "55\n"
     ]
    }
   ],
   "source": [
    "def addition(num):\n",
    "    if num:\n",
    "    #call same function by reducing number by 1\n",
    "        return num + addition(num-1)\n",
    "    else:\n",
    "        return 0\n",
    "res = addition(10)\n",
    "\n",
    "print(res)"
   ]
  },
  {
   "cell_type": "code",
   "execution_count": 13,
   "id": "e71291ea",
   "metadata": {},
   "outputs": [
    {
     "name": "stdout",
     "output_type": "stream",
     "text": [
      "emma 26\n",
      "('emma', 26)\n"
     ]
    }
   ],
   "source": [
    "def display_student(name,age):\n",
    "    print(name,age)\n",
    "    \n",
    "display_student(\"emma\", 26)\n",
    "\n",
    "show_student = display_student\n",
    "\n",
    "show_student = (\"emma\", 26)\n",
    "print(show_student)"
   ]
  },
  {
   "cell_type": "code",
   "execution_count": 14,
   "id": "4ab43e67",
   "metadata": {},
   "outputs": [
    {
     "name": "stdout",
     "output_type": "stream",
     "text": [
      "[4, 6, 8, 10, 12, 14, 16, 18, 20, 22, 24, 26, 28]\n"
     ]
    }
   ],
   "source": [
    "print(list(range(4,30,2)))"
   ]
  },
  {
   "cell_type": "code",
   "execution_count": 15,
   "id": "c09bfd48",
   "metadata": {},
   "outputs": [
    {
     "name": "stdout",
     "output_type": "stream",
     "text": [
      "24\n"
     ]
    }
   ],
   "source": [
    "x = [4, 6, 8, 24, 12, 2]\n",
    "\n",
    "print(max(x))"
   ]
  }
 ],
 "metadata": {
  "kernelspec": {
   "display_name": "Python 3 (ipykernel)",
   "language": "python",
   "name": "python3"
  },
  "language_info": {
   "codemirror_mode": {
    "name": "ipython",
    "version": 3
   },
   "file_extension": ".py",
   "mimetype": "text/x-python",
   "name": "python",
   "nbconvert_exporter": "python",
   "pygments_lexer": "ipython3",
   "version": "3.10.9"
  }
 },
 "nbformat": 4,
 "nbformat_minor": 5
}
