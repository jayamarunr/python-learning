{
 "cells": [
  {
   "cell_type": "code",
   "execution_count": 1,
   "id": "6d560e0f",
   "metadata": {},
   "outputs": [],
   "source": [
    "#Write a program to create a function that takes two arguments, name and age, and print their value."
   ]
  },
  {
   "cell_type": "code",
   "execution_count": 4,
   "id": "69d30659",
   "metadata": {},
   "outputs": [
    {
     "name": "stdout",
     "output_type": "stream",
     "text": [
      "Ben 44\n",
      "<function demo at 0x000002476E6F57E0>\n"
     ]
    }
   ],
   "source": [
    "def demo(user_name, age):\n",
    "    print(user_name, age)\n",
    "    \n",
    "    \n",
    "demo(\"Ben\", 44)\n",
    "print(demo)\n",
    "    "
   ]
  },
  {
   "cell_type": "code",
   "execution_count": 5,
   "id": "ef8192de",
   "metadata": {},
   "outputs": [
    {
     "name": "stdout",
     "output_type": "stream",
     "text": [
      "20\n",
      "40\n",
      "60\n",
      "80\n",
      "100\n",
      "<function func1 at 0x000002476CD91510>\n"
     ]
    }
   ],
   "source": [
    "def func1(*args):\n",
    "    for i in args:\n",
    "        print(i)\n",
    "func1(20, 40, 60)\n",
    "func1(80,100)\n",
    "print(func1)"
   ]
  },
  {
   "cell_type": "markdown",
   "id": "96801279",
   "metadata": {},
   "source": [
    "Write a program to create function calculation() such that it can accept two variables and calculate addition and subtraction. Also, it must return both addition and subtraction in a single return call."
   ]
  },
  {
   "cell_type": "code",
   "execution_count": 7,
   "id": "16e97b63",
   "metadata": {},
   "outputs": [
    {
     "name": "stdout",
     "output_type": "stream",
     "text": [
      "(50, 40)\n"
     ]
    }
   ],
   "source": [
    "def calculation(add_1, sub_1):\n",
    "    add_1=add_1+sub_1\n",
    "    sub_1=add_1-sub_1\n",
    "    return add_1, sub_1\n",
    "res = calculation(40,10)\n",
    "print(res)"
   ]
  }
 ],
 "metadata": {
  "kernelspec": {
   "display_name": "Python 3 (ipykernel)",
   "language": "python",
   "name": "python3"
  },
  "language_info": {
   "codemirror_mode": {
    "name": "ipython",
    "version": 3
   },
   "file_extension": ".py",
   "mimetype": "text/x-python",
   "name": "python",
   "nbconvert_exporter": "python",
   "pygments_lexer": "ipython3",
   "version": "3.10.9"
  }
 },
 "nbformat": 4,
 "nbformat_minor": 5
}
