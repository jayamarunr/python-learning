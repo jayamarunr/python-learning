{
 "cells": [
  {
   "cell_type": "code",
   "execution_count": 1,
   "id": "db554152",
   "metadata": {},
   "outputs": [],
   "source": [
    "#Write a program to create a function that takes two arguments, name and age, and print their value."
   ]
  },
  {
   "cell_type": "code",
   "execution_count": 4,
   "id": "60282184",
   "metadata": {},
   "outputs": [
    {
     "name": "stdout",
     "output_type": "stream",
     "text": [
      "Ben 44\n",
      "<function demo at 0x000002476E6F57E0>\n"
     ]
    }
   ],
   "source": [
    "def demo(user_name, age):\n",
    "    print(user_name, age)\n",
    "    \n",
    "    \n",
    "demo(\"Ben\", 44)\n",
    "print(demo)\n",
    "    "
   ]
  }
 ],
 "metadata": {
  "kernelspec": {
   "display_name": "Python 3 (ipykernel)",
   "language": "python",
   "name": "python3"
  },
  "language_info": {
   "codemirror_mode": {
    "name": "ipython",
    "version": 3
   },
   "file_extension": ".py",
   "mimetype": "text/x-python",
   "name": "python",
   "nbconvert_exporter": "python",
   "pygments_lexer": "ipython3",
   "version": "3.10.9"
  }
 },
 "nbformat": 4,
 "nbformat_minor": 5
}
