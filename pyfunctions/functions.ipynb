{
 "cells": [
  {
   "cell_type": "code",
   "execution_count": 1,
   "id": "f159a7e4",
   "metadata": {},
   "outputs": [],
   "source": [
    "#Write a program to create a function that takes two arguments, name and age, and print their value."
   ]
  },
  {
   "cell_type": "code",
   "execution_count": 4,
   "id": "815d3450",
   "metadata": {},
   "outputs": [
    {
     "name": "stdout",
     "output_type": "stream",
     "text": [
      "Ben 44\n",
      "<function demo at 0x000002476E6F57E0>\n"
     ]
    }
   ],
   "source": [
    "def demo(user_name, age):\n",
    "    print(user_name, age)\n",
    "    \n",
    "    \n",
    "demo(\"Ben\", 44)\n",
    "print(demo)\n",
    "    "
   ]
  },
  {
   "cell_type": "code",
   "execution_count": 5,
   "id": "d8d79b4c",
   "metadata": {},
   "outputs": [
    {
     "name": "stdout",
     "output_type": "stream",
     "text": [
      "20\n",
      "40\n",
      "60\n",
      "80\n",
      "100\n",
      "<function func1 at 0x000002476CD91510>\n"
     ]
    }
   ],
   "source": [
    "def func1(*args):\n",
    "    for i in args:\n",
    "        print(i)\n",
    "func1(20, 40, 60)\n",
    "func1(80,100)\n",
    "print(func1)"
   ]
  },
  {
   "cell_type": "markdown",
   "id": "4b73cfcf",
   "metadata": {},
   "source": [
    "Write a program to create function calculation() such that it can accept two variables and calculate addition and subtraction. Also, it must return both addition and subtraction in a single return call."
   ]
  },
  {
   "cell_type": "code",
   "execution_count": 7,
   "id": "971ad051",
   "metadata": {},
   "outputs": [
    {
     "name": "stdout",
     "output_type": "stream",
     "text": [
      "(50, 40)\n"
     ]
    }
   ],
   "source": [
    "def calculation(add_1, sub_1):\n",
    "    add_1=add_1+sub_1\n",
    "    sub_1=add_1-sub_1\n",
    "    return add_1, sub_1\n",
    "res = calculation(40,10)\n",
    "print(res)"
   ]
  },
  {
   "cell_type": "code",
   "execution_count": 8,
   "id": "091d2403",
   "metadata": {},
   "outputs": [
    {
     "name": "stdout",
     "output_type": "stream",
     "text": [
      "50 30\n"
     ]
    }
   ],
   "source": [
    "def calculation(a,b):\n",
    "    return a+b, a-b\n",
    "\n",
    "add, sub = calculation(40,10)\n",
    "print(add, sub)"
   ]
  },
  {
   "cell_type": "code",
   "execution_count": 9,
   "id": "d28875db",
   "metadata": {},
   "outputs": [
    {
     "name": "stdout",
     "output_type": "stream",
     "text": [
      "Name:  ben Salary:  154000\n",
      "<function show_employee at 0x000002476E6F6B90>\n",
      "Name:  jessa Salary:  9000\n",
      "<function show_employee at 0x000002476E6F6B90>\n"
     ]
    }
   ],
   "source": [
    "def show_employee(name, salary=9000):\n",
    "    print(\"Name: \", name, \"Salary: \", salary)\n",
    "    \n",
    "show_employee(\"ben\", 154000)\n",
    "print(show_employee)\n",
    "show_employee(\"jessa\")\n",
    "print(show_employee)"
   ]
  }
 ],
 "metadata": {
  "kernelspec": {
   "display_name": "Python 3 (ipykernel)",
   "language": "python",
   "name": "python3"
  },
  "language_info": {
   "codemirror_mode": {
    "name": "ipython",
    "version": 3
   },
   "file_extension": ".py",
   "mimetype": "text/x-python",
   "name": "python",
   "nbconvert_exporter": "python",
   "pygments_lexer": "ipython3",
   "version": "3.10.9"
  }
 },
 "nbformat": 4,
 "nbformat_minor": 5
}
